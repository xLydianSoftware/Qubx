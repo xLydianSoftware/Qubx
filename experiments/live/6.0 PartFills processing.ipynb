{
 "cells": [
  {
   "cell_type": "code",
   "execution_count": 1,
   "metadata": {},
   "outputs": [
    {
     "name": "stdout",
     "output_type": "stream",
     "text": [
      "\n",
      "⠀⠀⡰⡖⠒⠒⢒⢦⠀⠀   \n",
      "⠀⢠⠃⠈⢆⣀⣎⣀⣱⡀  \u001b[31mQUBX\u001b[0m | \u001b[36mQuantitative Backtesting Environment\u001b[0m \n",
      "⠀⢳⠒⠒⡞⠚⡄⠀⡰⠁         (c) 2025, ver. \u001b[35m0.6.10\u001b[0m\n",
      "⠀⠀⠱⣜⣀⣀⣈⣦⠃⠀⠀⠀ \n",
      "        \n"
     ]
    },
    {
     "data": {
      "text/html": [
       "<style> .cell-output-ipywidget-background { background-color: transparent !important; } :root { --jp-widgets-color: var(--vscode-editor-foreground); --jp-widgets-font-size: var(--vscode-editor-font-size); } .widget-hprogress, .jupyter-widget-hprogress { height: 16px; align-self: center; kj} table.dataframe, .dataframe td, .dataframe tr { border: 1px solid #55554a85; border-collapse: collapse; color: #859548d9 !important; } .dataframe th { border: 1px solid #55554a85; border-collapse: collapse; background-color: #010101 !important; color: #177 !important; } </style>"
      ],
      "text/plain": [
       "<IPython.core.display.HTML object>"
      ]
     },
     "metadata": {},
     "output_type": "display_data"
    }
   ],
   "source": [
    "# import sys, os, re; sys.path = ([\"../src/\", \"../\"] if re.match(r'^(\\w\\:\\\\)|(/)', os.getcwd()) else [])+ sys.path \n",
    "\n",
    "import qubx\n",
    "%qubxd\n",
    "\n",
    "%load_ext autoreload\n",
    "%autoreload 2\n",
    "\n",
    "from qubx.connectors.ccxt.utils import ccxt_convert_deal_info"
   ]
  },
  {
   "cell_type": "code",
   "execution_count": null,
   "metadata": {},
   "outputs": [],
   "source": [
    "{'27283823387': ['1002968908', '1002968909', '1002968910', '1002968911', '1002968912', '1002968913']})"
   ]
  },
  {
   "cell_type": "code",
   "execution_count": 2,
   "metadata": {},
   "outputs": [],
   "source": [
    "deals = [\n",
    "    { # - Report 1\n",
    "        \"info\": {\n",
    "            \"s\": \"DOTUSDT\", \"c\": \"qubx_DOTUSDT_17424567042\", \"S\": \"BUY\", \"o\": \"MARKET\", \"f\": \"GTC\",\n",
    "            \"q\": \"52.3\", \"p\": \"0\", \"ap\": \"4.465\", \"sp\": \"0\",\n",
    "            \"x\": \"TRADE\", \"X\": \"PARTIALLY_FILLED\",\n",
    "            \"i\": 27283438093, \"l\": \"32.8\", \"z\": \"32.8\", \"L\": \"4.465\", \"n\": \"0.073226\", \"N\": \"USDT\",\n",
    "            \"T\": 1742456841238, \"t\": 1002957674, \n",
    "            \"b\": \"0\", \"a\": \"0\", \"m\": False, \"R\": False, \"wt\": \"CONTRACT_PRICE\", \"ot\": \"MARKET\", \"ps\": \"BOTH\", \"cp\": False, \"rp\": \"0\", \"pP\": False, \"si\": 0, \"ss\": 0, \"V\": \"EXPIRE_MAKER\", \"pm\": \"NONE\", \"gtd\": 0,\n",
    "        },\n",
    "        \"timestamp\": 1742456841238, \"datetime\": \"2025-03-20T07:47:21.238Z\", \"symbol\": \"DOT/USDT:USDT\",\n",
    "        \"id\": \"1002957674\", \"order\": \"27283438093\", \"type\": \"market\", \"takerOrMaker\": \"taker\", \"side\": \"buy\", \n",
    "        \"price\": 4.465, \"amount\": 32.8, \"cost\": 146.452,\n",
    "        \"fee\": {\"currency\": \"USDT\", \"cost\": 0.073226}, \"fees\": [{\"currency\": \"USDT\", \"cost\": 0.073226}],\n",
    "    },\n",
    "    {# - Report 2\n",
    "        \"info\": {\n",
    "            \"s\": \"DOTUSDT\", \"c\": \"qubx_DOTUSDT_17424567042\", \"S\": \"BUY\", \"o\": \"MARKET\", \"f\": \"GTC\",\n",
    "            \"q\": \"52.3\", \"p\": \"0\", \"ap\": \"4.465\", \"sp\": \"0\",\n",
    "            \"x\": \"TRADE\", \"X\": \"PARTIALLY_FILLED\",\n",
    "            \"i\": 27283438093, \"l\": \"32.8\", \"z\": \"32.8\", \"L\": \"4.465\", \"n\": \"0.073226\", \"N\": \"USDT\",\n",
    "            \"T\": 1742456841238, \"t\": 1002957674,\n",
    "            \"b\": \"0\", \"a\": \"0\", \"m\": False, \"R\": False, \"wt\": \"CONTRACT_PRICE\", \"ot\": \"MARKET\", \"ps\": \"BOTH\", \"cp\": False, \"rp\": \"0\", \"pP\": False, \"si\": 0, \"ss\": 0, \"V\": \"EXPIRE_MAKER\", \"pm\": \"NONE\", \"gtd\": 0,\n",
    "        },\n",
    "        \"timestamp\": 1742456841238, \"datetime\": \"2025-03-20T07:47:21.238Z\", \"symbol\": \"DOT/USDT:USDT\",\n",
    "        \"id\": \"1002957674\", \"order\": \"27283438093\", \"type\": \"market\", \"takerOrMaker\": \"taker\", \"side\": \"buy\",\n",
    "        \"price\": 4.465, \"amount\": 32.8, \"cost\": 146.452,\n",
    "        \"fee\": {\"currency\": \"USDT\", \"cost\": 0.073226}, \"fees\": [{\"currency\": \"USDT\", \"cost\": 0.073226}],\n",
    "    },\n",
    "    { # - Report 3\n",
    "        \"info\": {\n",
    "            \"s\": \"DOTUSDT\", \"c\": \"qubx_DOTUSDT_17424567042\", \"S\": \"BUY\", \"o\": \"MARKET\", \"f\": \"GTC\",\n",
    "            \"q\": \"52.3\", \"p\": \"0\", \"ap\": \"4.465\", \"sp\": \"0\",\n",
    "            \"x\": \"TRADE\", \"X\": \"FILLED\", \"i\": 27283438093,\n",
    "            \"l\": \"19.5\", \"z\": \"52.3\", \"L\": \"4.465\", \"n\": \"0.04353375\", \"N\": \"USDT\",\n",
    "            \"T\": 1742456841238, \"t\": 1002957675,\n",
    "            \"b\": \"0\", \"a\": \"0\", \"m\": False, \"R\": False, \"wt\": \"CONTRACT_PRICE\", \"ot\": \"MARKET\", \"ps\": \"BOTH\", \"cp\": False, \"rp\": \"0\", \"pP\": False, \"si\": 0, \"ss\": 0, \"V\": \"EXPIRE_MAKER\", \"pm\": \"NONE\", \"gtd\": 0,\n",
    "        },\n",
    "        \"timestamp\": 1742456841238, \"datetime\": \"2025-03-20T07:47:21.238Z\", \"symbol\": \"DOT/USDT:USDT\", \n",
    "        \"id\": \"1002957675\", \"order\": \"27283438093\", \"type\": \"market\", \"takerOrMaker\": \"taker\", \"side\": \"buy\", \n",
    "        \"price\": 4.465, \"amount\": 19.5, \"cost\": 87.0675,\n",
    "        \"fee\": {\"currency\": \"USDT\", \"cost\": 0.04353375}, \"fees\": [{\"currency\": \"USDT\", \"cost\": 0.04353375}],\n",
    "    },\n",
    "]"
   ]
  },
  {
   "cell_type": "code",
   "execution_count": 4,
   "metadata": {},
   "outputs": [
    {
     "name": "stdout",
     "output_type": "stream",
     "text": [
      "Deal(id='1002957674', order_id='27283438093', time=Timestamp('2025-03-20 07:47:21.238000'), amount=32.8, price=4.465, aggressive=True, fee_amount=0.073226, fee_currency='USDT')\n",
      "Deal(id='1002957674', order_id='27283438093', time=Timestamp('2025-03-20 07:47:21.238000'), amount=32.8, price=4.465, aggressive=True, fee_amount=0.073226, fee_currency='USDT')\n",
      "Deal(id='1002957675', order_id='27283438093', time=Timestamp('2025-03-20 07:47:21.238000'), amount=19.5, price=4.465, aggressive=True, fee_amount=0.04353375, fee_currency='USDT')\n"
     ]
    }
   ],
   "source": [
    "for d in deals:\n",
    "    print(ccxt_convert_deal_info(d))"
   ]
  },
  {
   "cell_type": "code",
   "execution_count": null,
   "metadata": {},
   "outputs": [],
   "source": []
  },
  {
   "cell_type": "code",
   "execution_count": 11,
   "metadata": {},
   "outputs": [],
   "source": [
    "deals = [\n",
    "\t{'info': {'s': 'DOTUSDT', 'c': 'qubx_DOTUSDT_17424603827', 'S': 'BUY', 'o': 'MARKET', 'f': 'GTC', 'q': '23.6', 'p': '0', 'ap': '4.492', 'sp': '0', 'x': 'TRADE', 'X': 'PARTIALLY_FILLED', 'i': 27283823387, 'l': '2.3', 'z': '2.3', 'L': '4.492', 'n': '0.0051658', 'N': 'USDT', 'T': 1742460383938, 't': 1002968908, 'b': '0', 'a': '0', 'm': False, 'R': False, 'wt': 'CONTRACT_PRICE', 'ot': 'MARKET', 'ps': 'BOTH', 'cp': False, 'rp': '0', 'pP': False, 'si': 0, 'ss': 0, 'V': 'EXPIRE_MAKER', 'pm': 'NONE', 'gtd': 0}, 'timestamp': 1742460383938, 'datetime': '2025-03-20T08:46:23.938Z', 'symbol': 'DOT/USDT:USDT', 'id': '1002968908', 'order': '27283823387', 'type': 'market', 'takerOrMaker': 'taker', 'side': 'buy', 'price': 4.492, 'amount': 2.3, 'cost': 10.3316, 'fee': {'currency': 'USDT', 'cost': 0.0051658}, 'fees': [{'currency': 'USDT', 'cost': 0.0051658}]},\n",
    "\t{'info': {'s': 'DOTUSDT', 'c': 'qubx_DOTUSDT_17424603827', 'S': 'BUY', 'o': 'MARKET', 'f': 'GTC', 'q': '23.6', 'p': '0', 'ap': '4.492', 'sp': '0', 'x': 'TRADE', 'X': 'PARTIALLY_FILLED', 'i': 27283823387, 'l': '2.3', 'z': '2.3', 'L': '4.492', 'n': '0.0051658', 'N': 'USDT', 'T': 1742460383938, 't': 1002968908, 'b': '0', 'a': '0', 'm': False, 'R': False, 'wt': 'CONTRACT_PRICE', 'ot': 'MARKET', 'ps': 'BOTH', 'cp': False, 'rp': '0', 'pP': False, 'si': 0, 'ss': 0, 'V': 'EXPIRE_MAKER', 'pm': 'NONE', 'gtd': 0}, 'timestamp': 1742460383938, 'datetime': '2025-03-20T08:46:23.938Z', 'symbol': 'DOT/USDT:USDT', 'id': '1002968908', 'order': '27283823387', 'type': 'market', 'takerOrMaker': 'taker', 'side': 'buy', 'price': 4.492, 'amount': 2.3, 'cost': 10.3316, 'fee': {'currency': 'USDT', 'cost': 0.0051658}, 'fees': [{'currency': 'USDT', 'cost': 0.0051658}]},\n",
    "\t{'info': {'s': 'DOTUSDT', 'c': 'qubx_DOTUSDT_17424603827', 'S': 'BUY', 'o': 'MARKET', 'f': 'GTC', 'q': '23.6', 'p': '0', 'ap': '4.492', 'sp': '0', 'x': 'TRADE', 'X': 'PARTIALLY_FILLED', 'i': 27283823387, 'l': '1.4', 'z': '3.7', 'L': '4.492', 'n': '0.0031444', 'N': 'USDT', 'T': 1742460383938, 't': 1002968909, 'b': '0', 'a': '0', 'm': False, 'R': False, 'wt': 'CONTRACT_PRICE', 'ot': 'MARKET', 'ps': 'BOTH', 'cp': False, 'rp': '0', 'pP': False, 'si': 0, 'ss': 0, 'V': 'EXPIRE_MAKER', 'pm': 'NONE', 'gtd': 0}, 'timestamp': 1742460383938, 'datetime': '2025-03-20T08:46:23.938Z', 'symbol': 'DOT/USDT:USDT', 'id': '1002968909', 'order': '27283823387', 'type': 'market', 'takerOrMaker': 'taker', 'side': 'buy', 'price': 4.492, 'amount': 1.4, 'cost': 6.2888, 'fee': {'currency': 'USDT', 'cost': 0.0031444}, 'fees': [{'currency': 'USDT', 'cost': 0.0031444}]},\n",
    "\t{'info': {'s': 'DOTUSDT', 'c': 'qubx_DOTUSDT_17424603827', 'S': 'BUY', 'o': 'MARKET', 'f': 'GTC', 'q': '23.6', 'p': '0', 'ap': '4.492', 'sp': '0', 'x': 'TRADE', 'X': 'PARTIALLY_FILLED', 'i': 27283823387, 'l': '2.3', 'z': '2.3', 'L': '4.492', 'n': '0.0051658', 'N': 'USDT', 'T': 1742460383938, 't': 1002968908, 'b': '0', 'a': '0', 'm': False, 'R': False, 'wt': 'CONTRACT_PRICE', 'ot': 'MARKET', 'ps': 'BOTH', 'cp': False, 'rp': '0', 'pP': False, 'si': 0, 'ss': 0, 'V': 'EXPIRE_MAKER', 'pm': 'NONE', 'gtd': 0}, 'timestamp': 1742460383938, 'datetime': '2025-03-20T08:46:23.938Z', 'symbol': 'DOT/USDT:USDT', 'id': '1002968908', 'order': '27283823387', 'type': 'market', 'takerOrMaker': 'taker', 'side': 'buy', 'price': 4.492, 'amount': 2.3, 'cost': 10.3316, 'fee': {'currency': 'USDT', 'cost': 0.0051658}, 'fees': [{'currency': 'USDT', 'cost': 0.0051658}]},\n",
    "\t{'info': {'s': 'DOTUSDT', 'c': 'qubx_DOTUSDT_17424603827', 'S': 'BUY', 'o': 'MARKET', 'f': 'GTC', 'q': '23.6', 'p': '0', 'ap': '4.492', 'sp': '0', 'x': 'TRADE', 'X': 'PARTIALLY_FILLED', 'i': 27283823387, 'l': '1.4', 'z': '3.7', 'L': '4.492', 'n': '0.0031444', 'N': 'USDT', 'T': 1742460383938, 't': 1002968909, 'b': '0', 'a': '0', 'm': False, 'R': False, 'wt': 'CONTRACT_PRICE', 'ot': 'MARKET', 'ps': 'BOTH', 'cp': False, 'rp': '0', 'pP': False, 'si': 0, 'ss': 0, 'V': 'EXPIRE_MAKER', 'pm': 'NONE', 'gtd': 0}, 'timestamp': 1742460383938, 'datetime': '2025-03-20T08:46:23.938Z', 'symbol': 'DOT/USDT:USDT', 'id': '1002968909', 'order': '27283823387', 'type': 'market', 'takerOrMaker': 'taker', 'side': 'buy', 'price': 4.492, 'amount': 1.4, 'cost': 6.2888, 'fee': {'currency': 'USDT', 'cost': 0.0031444}, 'fees': [{'currency': 'USDT', 'cost': 0.0031444}]},\n",
    "\t{'info': {'s': 'DOTUSDT', 'c': 'qubx_DOTUSDT_17424603827', 'S': 'BUY', 'o': 'MARKET', 'f': 'GTC', 'q': '23.6', 'p': '0', 'ap': '4.492', 'sp': '0', 'x': 'TRADE', 'X': 'PARTIALLY_FILLED', 'i': 27283823387, 'l': '4.5', 'z': '8.2', 'L': '4.492', 'n': '0.010107', 'N': 'USDT', 'T': 1742460383938, 't': 1002968910, 'b': '0', 'a': '0', 'm': False, 'R': False, 'wt': 'CONTRACT_PRICE', 'ot': 'MARKET', 'ps': 'BOTH', 'cp': False, 'rp': '0', 'pP': False, 'si': 0, 'ss': 0, 'V': 'EXPIRE_MAKER', 'pm': 'NONE', 'gtd': 0}, 'timestamp': 1742460383938, 'datetime': '2025-03-20T08:46:23.938Z', 'symbol': 'DOT/USDT:USDT', 'id': '1002968910', 'order': '27283823387', 'type': 'market', 'takerOrMaker': 'taker', 'side': 'buy', 'price': 4.492, 'amount': 4.5, 'cost': 20.214, 'fee': {'currency': 'USDT', 'cost': 0.010107}, 'fees': [{'currency': 'USDT', 'cost': 0.010107}]},\n",
    "\t{'info': {'s': 'DOTUSDT', 'c': 'qubx_DOTUSDT_17424603827', 'S': 'BUY', 'o': 'MARKET', 'f': 'GTC', 'q': '23.6', 'p': '0', 'ap': '4.492', 'sp': '0', 'x': 'TRADE', 'X': 'PARTIALLY_FILLED', 'i': 27283823387, 'l': '2.3', 'z': '2.3', 'L': '4.492', 'n': '0.0051658', 'N': 'USDT', 'T': 1742460383938, 't': 1002968908, 'b': '0', 'a': '0', 'm': False, 'R': False, 'wt': 'CONTRACT_PRICE', 'ot': 'MARKET', 'ps': 'BOTH', 'cp': False, 'rp': '0', 'pP': False, 'si': 0, 'ss': 0, 'V': 'EXPIRE_MAKER', 'pm': 'NONE', 'gtd': 0}, 'timestamp': 1742460383938, 'datetime': '2025-03-20T08:46:23.938Z', 'symbol': 'DOT/USDT:USDT', 'id': '1002968908', 'order': '27283823387', 'type': 'market', 'takerOrMaker': 'taker', 'side': 'buy', 'price': 4.492, 'amount': 2.3, 'cost': 10.3316, 'fee': {'currency': 'USDT', 'cost': 0.0051658}, 'fees': [{'currency': 'USDT', 'cost': 0.0051658}]},\n",
    "\t{'info': {'s': 'DOTUSDT', 'c': 'qubx_DOTUSDT_17424603827', 'S': 'BUY', 'o': 'MARKET', 'f': 'GTC', 'q': '23.6', 'p': '0', 'ap': '4.492', 'sp': '0', 'x': 'TRADE', 'X': 'PARTIALLY_FILLED', 'i': 27283823387, 'l': '1.4', 'z': '3.7', 'L': '4.492', 'n': '0.0031444', 'N': 'USDT', 'T': 1742460383938, 't': 1002968909, 'b': '0', 'a': '0', 'm': False, 'R': False, 'wt': 'CONTRACT_PRICE', 'ot': 'MARKET', 'ps': 'BOTH', 'cp': False, 'rp': '0', 'pP': False, 'si': 0, 'ss': 0, 'V': 'EXPIRE_MAKER', 'pm': 'NONE', 'gtd': 0}, 'timestamp': 1742460383938, 'datetime': '2025-03-20T08:46:23.938Z', 'symbol': 'DOT/USDT:USDT', 'id': '1002968909', 'order': '27283823387', 'type': 'market', 'takerOrMaker': 'taker', 'side': 'buy', 'price': 4.492, 'amount': 1.4, 'cost': 6.2888, 'fee': {'currency': 'USDT', 'cost': 0.0031444}, 'fees': [{'currency': 'USDT', 'cost': 0.0031444}]},\n",
    "\t{'info': {'s': 'DOTUSDT', 'c': 'qubx_DOTUSDT_17424603827', 'S': 'BUY', 'o': 'MARKET', 'f': 'GTC', 'q': '23.6', 'p': '0', 'ap': '4.492', 'sp': '0', 'x': 'TRADE', 'X': 'PARTIALLY_FILLED', 'i': 27283823387, 'l': '4.5', 'z': '8.2', 'L': '4.492', 'n': '0.010107', 'N': 'USDT', 'T': 1742460383938, 't': 1002968910, 'b': '0', 'a': '0', 'm': False, 'R': False, 'wt': 'CONTRACT_PRICE', 'ot': 'MARKET', 'ps': 'BOTH', 'cp': False, 'rp': '0', 'pP': False, 'si': 0, 'ss': 0, 'V': 'EXPIRE_MAKER', 'pm': 'NONE', 'gtd': 0}, 'timestamp': 1742460383938, 'datetime': '2025-03-20T08:46:23.938Z', 'symbol': 'DOT/USDT:USDT', 'id': '1002968910', 'order': '27283823387', 'type': 'market', 'takerOrMaker': 'taker', 'side': 'buy', 'price': 4.492, 'amount': 4.5, 'cost': 20.214, 'fee': {'currency': 'USDT', 'cost': 0.010107}, 'fees': [{'currency': 'USDT', 'cost': 0.010107}]},\n",
    "\t{'info': {'s': 'DOTUSDT', 'c': 'qubx_DOTUSDT_17424603827', 'S': 'BUY', 'o': 'MARKET', 'f': 'GTC', 'q': '23.6', 'p': '0', 'ap': '4.492', 'sp': '0', 'x': 'TRADE', 'X': 'PARTIALLY_FILLED', 'i': 27283823387, 'l': '8.5', 'z': '16.7', 'L': '4.492', 'n': '0.019091', 'N': 'USDT', 'T': 1742460383938, 't': 1002968911, 'b': '0', 'a': '0', 'm': False, 'R': False, 'wt': 'CONTRACT_PRICE', 'ot': 'MARKET', 'ps': 'BOTH', 'cp': False, 'rp': '0', 'pP': False, 'si': 0, 'ss': 0, 'V': 'EXPIRE_MAKER', 'pm': 'NONE', 'gtd': 0}, 'timestamp': 1742460383938, 'datetime': '2025-03-20T08:46:23.938Z', 'symbol': 'DOT/USDT:USDT', 'id': '1002968911', 'order': '27283823387', 'type': 'market', 'takerOrMaker': 'taker', 'side': 'buy', 'price': 4.492, 'amount': 8.5, 'cost': 38.182, 'fee': {'currency': 'USDT', 'cost': 0.019091}, 'fees': [{'currency': 'USDT', 'cost': 0.019091}]},\n",
    "\t{'info': {'s': 'DOTUSDT', 'c': 'qubx_DOTUSDT_17424603827', 'S': 'BUY', 'o': 'MARKET', 'f': 'GTC', 'q': '23.6', 'p': '0', 'ap': '4.492', 'sp': '0', 'x': 'TRADE', 'X': 'PARTIALLY_FILLED', 'i': 27283823387, 'l': '2.3', 'z': '2.3', 'L': '4.492', 'n': '0.0051658', 'N': 'USDT', 'T': 1742460383938, 't': 1002968908, 'b': '0', 'a': '0', 'm': False, 'R': False, 'wt': 'CONTRACT_PRICE', 'ot': 'MARKET', 'ps': 'BOTH', 'cp': False, 'rp': '0', 'pP': False, 'si': 0, 'ss': 0, 'V': 'EXPIRE_MAKER', 'pm': 'NONE', 'gtd': 0}, 'timestamp': 1742460383938, 'datetime': '2025-03-20T08:46:23.938Z', 'symbol': 'DOT/USDT:USDT', 'id': '1002968908', 'order': '27283823387', 'type': 'market', 'takerOrMaker': 'taker', 'side': 'buy', 'price': 4.492, 'amount': 2.3, 'cost': 10.3316, 'fee': {'currency': 'USDT', 'cost': 0.0051658}, 'fees': [{'currency': 'USDT', 'cost': 0.0051658}]},\n",
    "\t{'info': {'s': 'DOTUSDT', 'c': 'qubx_DOTUSDT_17424603827', 'S': 'BUY', 'o': 'MARKET', 'f': 'GTC', 'q': '23.6', 'p': '0', 'ap': '4.492', 'sp': '0', 'x': 'TRADE', 'X': 'PARTIALLY_FILLED', 'i': 27283823387, 'l': '1.4', 'z': '3.7', 'L': '4.492', 'n': '0.0031444', 'N': 'USDT', 'T': 1742460383938, 't': 1002968909, 'b': '0', 'a': '0', 'm': False, 'R': False, 'wt': 'CONTRACT_PRICE', 'ot': 'MARKET', 'ps': 'BOTH', 'cp': False, 'rp': '0', 'pP': False, 'si': 0, 'ss': 0, 'V': 'EXPIRE_MAKER', 'pm': 'NONE', 'gtd': 0}, 'timestamp': 1742460383938, 'datetime': '2025-03-20T08:46:23.938Z', 'symbol': 'DOT/USDT:USDT', 'id': '1002968909', 'order': '27283823387', 'type': 'market', 'takerOrMaker': 'taker', 'side': 'buy', 'price': 4.492, 'amount': 1.4, 'cost': 6.2888, 'fee': {'currency': 'USDT', 'cost': 0.0031444}, 'fees': [{'currency': 'USDT', 'cost': 0.0031444}]},\n",
    "\t{'info': {'s': 'DOTUSDT', 'c': 'qubx_DOTUSDT_17424603827', 'S': 'BUY', 'o': 'MARKET', 'f': 'GTC', 'q': '23.6', 'p': '0', 'ap': '4.492', 'sp': '0', 'x': 'TRADE', 'X': 'PARTIALLY_FILLED', 'i': 27283823387, 'l': '4.5', 'z': '8.2', 'L': '4.492', 'n': '0.010107', 'N': 'USDT', 'T': 1742460383938, 't': 1002968910, 'b': '0', 'a': '0', 'm': False, 'R': False, 'wt': 'CONTRACT_PRICE', 'ot': 'MARKET', 'ps': 'BOTH', 'cp': False, 'rp': '0', 'pP': False, 'si': 0, 'ss': 0, 'V': 'EXPIRE_MAKER', 'pm': 'NONE', 'gtd': 0}, 'timestamp': 1742460383938, 'datetime': '2025-03-20T08:46:23.938Z', 'symbol': 'DOT/USDT:USDT', 'id': '1002968910', 'order': '27283823387', 'type': 'market', 'takerOrMaker': 'taker', 'side': 'buy', 'price': 4.492, 'amount': 4.5, 'cost': 20.214, 'fee': {'currency': 'USDT', 'cost': 0.010107}, 'fees': [{'currency': 'USDT', 'cost': 0.010107}]},\n",
    "\t{'info': {'s': 'DOTUSDT', 'c': 'qubx_DOTUSDT_17424603827', 'S': 'BUY', 'o': 'MARKET', 'f': 'GTC', 'q': '23.6', 'p': '0', 'ap': '4.492', 'sp': '0', 'x': 'TRADE', 'X': 'PARTIALLY_FILLED', 'i': 27283823387, 'l': '8.5', 'z': '16.7', 'L': '4.492', 'n': '0.019091', 'N': 'USDT', 'T': 1742460383938, 't': 1002968911, 'b': '0', 'a': '0', 'm': False, 'R': False, 'wt': 'CONTRACT_PRICE', 'ot': 'MARKET', 'ps': 'BOTH', 'cp': False, 'rp': '0', 'pP': False, 'si': 0, 'ss': 0, 'V': 'EXPIRE_MAKER', 'pm': 'NONE', 'gtd': 0}, 'timestamp': 1742460383938, 'datetime': '2025-03-20T08:46:23.938Z', 'symbol': 'DOT/USDT:USDT', 'id': '1002968911', 'order': '27283823387', 'type': 'market', 'takerOrMaker': 'taker', 'side': 'buy', 'price': 4.492, 'amount': 8.5, 'cost': 38.182, 'fee': {'currency': 'USDT', 'cost': 0.019091}, 'fees': [{'currency': 'USDT', 'cost': 0.019091}]},\n",
    "\t{'info': {'s': 'DOTUSDT', 'c': 'qubx_DOTUSDT_17424603827', 'S': 'BUY', 'o': 'MARKET', 'f': 'GTC', 'q': '23.6', 'p': '0', 'ap': '4.492', 'sp': '0', 'x': 'TRADE', 'X': 'PARTIALLY_FILLED', 'i': 27283823387, 'l': '4.8', 'z': '21.5', 'L': '4.492', 'n': '0.0107808', 'N': 'USDT', 'T': 1742460383938, 't': 1002968912, 'b': '0', 'a': '0', 'm': False, 'R': False, 'wt': 'CONTRACT_PRICE', 'ot': 'MARKET', 'ps': 'BOTH', 'cp': False, 'rp': '0', 'pP': False, 'si': 0, 'ss': 0, 'V': 'EXPIRE_MAKER', 'pm': 'NONE', 'gtd': 0}, 'timestamp': 1742460383938, 'datetime': '2025-03-20T08:46:23.938Z', 'symbol': 'DOT/USDT:USDT', 'id': '1002968912', 'order': '27283823387', 'type': 'market', 'takerOrMaker': 'taker', 'side': 'buy', 'price': 4.492, 'amount': 4.8, 'cost': 21.5616, 'fee': {'currency': 'USDT', 'cost': 0.0107808}, 'fees': [{'currency': 'USDT', 'cost': 0.0107808}]},\n",
    "\t{'info': {'s': 'DOTUSDT', 'c': 'qubx_DOTUSDT_17424603827', 'S': 'BUY', 'o': 'MARKET', 'f': 'GTC', 'q': '23.6', 'p': '0', 'ap': '4.492', 'sp': '0', 'x': 'TRADE', 'X': 'PARTIALLY_FILLED', 'i': 27283823387, 'l': '2.3', 'z': '2.3', 'L': '4.492', 'n': '0.0051658', 'N': 'USDT', 'T': 1742460383938, 't': 1002968908, 'b': '0', 'a': '0', 'm': False, 'R': False, 'wt': 'CONTRACT_PRICE', 'ot': 'MARKET', 'ps': 'BOTH', 'cp': False, 'rp': '0', 'pP': False, 'si': 0, 'ss': 0, 'V': 'EXPIRE_MAKER', 'pm': 'NONE', 'gtd': 0}, 'timestamp': 1742460383938, 'datetime': '2025-03-20T08:46:23.938Z', 'symbol': 'DOT/USDT:USDT', 'id': '1002968908', 'order': '27283823387', 'type': 'market', 'takerOrMaker': 'taker', 'side': 'buy', 'price': 4.492, 'amount': 2.3, 'cost': 10.3316, 'fee': {'currency': 'USDT', 'cost': 0.0051658}, 'fees': [{'currency': 'USDT', 'cost': 0.0051658}]},\n",
    "\t{'info': {'s': 'DOTUSDT', 'c': 'qubx_DOTUSDT_17424603827', 'S': 'BUY', 'o': 'MARKET', 'f': 'GTC', 'q': '23.6', 'p': '0', 'ap': '4.492', 'sp': '0', 'x': 'TRADE', 'X': 'PARTIALLY_FILLED', 'i': 27283823387, 'l': '1.4', 'z': '3.7', 'L': '4.492', 'n': '0.0031444', 'N': 'USDT', 'T': 1742460383938, 't': 1002968909, 'b': '0', 'a': '0', 'm': False, 'R': False, 'wt': 'CONTRACT_PRICE', 'ot': 'MARKET', 'ps': 'BOTH', 'cp': False, 'rp': '0', 'pP': False, 'si': 0, 'ss': 0, 'V': 'EXPIRE_MAKER', 'pm': 'NONE', 'gtd': 0}, 'timestamp': 1742460383938, 'datetime': '2025-03-20T08:46:23.938Z', 'symbol': 'DOT/USDT:USDT', 'id': '1002968909', 'order': '27283823387', 'type': 'market', 'takerOrMaker': 'taker', 'side': 'buy', 'price': 4.492, 'amount': 1.4, 'cost': 6.2888, 'fee': {'currency': 'USDT', 'cost': 0.0031444}, 'fees': [{'currency': 'USDT', 'cost': 0.0031444}]},\n",
    "\t{'info': {'s': 'DOTUSDT', 'c': 'qubx_DOTUSDT_17424603827', 'S': 'BUY', 'o': 'MARKET', 'f': 'GTC', 'q': '23.6', 'p': '0', 'ap': '4.492', 'sp': '0', 'x': 'TRADE', 'X': 'PARTIALLY_FILLED', 'i': 27283823387, 'l': '4.5', 'z': '8.2', 'L': '4.492', 'n': '0.010107', 'N': 'USDT', 'T': 1742460383938, 't': 1002968910, 'b': '0', 'a': '0', 'm': False, 'R': False, 'wt': 'CONTRACT_PRICE', 'ot': 'MARKET', 'ps': 'BOTH', 'cp': False, 'rp': '0', 'pP': False, 'si': 0, 'ss': 0, 'V': 'EXPIRE_MAKER', 'pm': 'NONE', 'gtd': 0}, 'timestamp': 1742460383938, 'datetime': '2025-03-20T08:46:23.938Z', 'symbol': 'DOT/USDT:USDT', 'id': '1002968910', 'order': '27283823387', 'type': 'market', 'takerOrMaker': 'taker', 'side': 'buy', 'price': 4.492, 'amount': 4.5, 'cost': 20.214, 'fee': {'currency': 'USDT', 'cost': 0.010107}, 'fees': [{'currency': 'USDT', 'cost': 0.010107}]},\n",
    "\t{'info': {'s': 'DOTUSDT', 'c': 'qubx_DOTUSDT_17424603827', 'S': 'BUY', 'o': 'MARKET', 'f': 'GTC', 'q': '23.6', 'p': '0', 'ap': '4.492', 'sp': '0', 'x': 'TRADE', 'X': 'PARTIALLY_FILLED', 'i': 27283823387, 'l': '8.5', 'z': '16.7', 'L': '4.492', 'n': '0.019091', 'N': 'USDT', 'T': 1742460383938, 't': 1002968911, 'b': '0', 'a': '0', 'm': False, 'R': False, 'wt': 'CONTRACT_PRICE', 'ot': 'MARKET', 'ps': 'BOTH', 'cp': False, 'rp': '0', 'pP': False, 'si': 0, 'ss': 0, 'V': 'EXPIRE_MAKER', 'pm': 'NONE', 'gtd': 0}, 'timestamp': 1742460383938, 'datetime': '2025-03-20T08:46:23.938Z', 'symbol': 'DOT/USDT:USDT', 'id': '1002968911', 'order': '27283823387', 'type': 'market', 'takerOrMaker': 'taker', 'side': 'buy', 'price': 4.492, 'amount': 8.5, 'cost': 38.182, 'fee': {'currency': 'USDT', 'cost': 0.019091}, 'fees': [{'currency': 'USDT', 'cost': 0.019091}]},\n",
    "\t{'info': {'s': 'DOTUSDT', 'c': 'qubx_DOTUSDT_17424603827', 'S': 'BUY', 'o': 'MARKET', 'f': 'GTC', 'q': '23.6', 'p': '0', 'ap': '4.492', 'sp': '0', 'x': 'TRADE', 'X': 'PARTIALLY_FILLED', 'i': 27283823387, 'l': '4.8', 'z': '21.5', 'L': '4.492', 'n': '0.0107808', 'N': 'USDT', 'T': 1742460383938, 't': 1002968912, 'b': '0', 'a': '0', 'm': False, 'R': False, 'wt': 'CONTRACT_PRICE', 'ot': 'MARKET', 'ps': 'BOTH', 'cp': False, 'rp': '0', 'pP': False, 'si': 0, 'ss': 0, 'V': 'EXPIRE_MAKER', 'pm': 'NONE', 'gtd': 0}, 'timestamp': 1742460383938, 'datetime': '2025-03-20T08:46:23.938Z', 'symbol': 'DOT/USDT:USDT', 'id': '1002968912', 'order': '27283823387', 'type': 'market', 'takerOrMaker': 'taker', 'side': 'buy', 'price': 4.492, 'amount': 4.8, 'cost': 21.5616, 'fee': {'currency': 'USDT', 'cost': 0.0107808}, 'fees': [{'currency': 'USDT', 'cost': 0.0107808}]},\n",
    "\t{'info': {'s': 'DOTUSDT', 'c': 'qubx_DOTUSDT_17424603827', 'S': 'BUY', 'o': 'MARKET', 'f': 'GTC', 'q': '23.6', 'p': '0', 'ap': '4.492', 'sp': '0', 'x': 'TRADE', 'X': 'FILLED', 'i': 27283823387, 'l': '2.1', 'z': '23.6', 'L': '4.492', 'n': '0.00471659', 'N': 'USDT', 'T': 1742460383938, 't': 1002968913, 'b': '0', 'a': '0', 'm': False, 'R': False, 'wt': 'CONTRACT_PRICE', 'ot': 'MARKET', 'ps': 'BOTH', 'cp': False, 'rp': '0', 'pP': False, 'si': 0, 'ss': 0, 'V': 'EXPIRE_MAKER', 'pm': 'NONE', 'gtd': 0}, 'timestamp': 1742460383938, 'datetime': '2025-03-20T08:46:23.938Z', 'symbol': 'DOT/USDT:USDT', 'id': '1002968913', 'order': '27283823387', 'type': 'market', 'takerOrMaker': 'taker', 'side': 'buy', 'price': 4.492, 'amount': 2.1, 'cost': 9.4332, 'fee': {'currency': 'USDT', 'cost': 0.00471659}, 'fees': [{'currency': 'USDT', 'cost': 0.00471659}]},\n",
    " ]"
   ]
  },
  {
   "cell_type": "code",
   "execution_count": null,
   "metadata": {},
   "outputs": [],
   "source": [
    "{'27283823387': ['1002968908', '1002968909', '1002968910', '1002968911', '1002968912', '1002968913']}"
   ]
  },
  {
   "cell_type": "code",
   "execution_count": 15,
   "metadata": {},
   "outputs": [
    {
     "name": "stdout",
     "output_type": "stream",
     "text": [
      "Deal(id='1002968908', order_id='27283823387', time=Timestamp('2025-03-20 08:46:23.938000'), amount=2.3, price=4.492, aggressive=True, fee_amount=0.0051658, fee_currency='USDT')\n",
      "Deal(id='1002968908', order_id='27283823387', time=Timestamp('2025-03-20 08:46:23.938000'), amount=2.3, price=4.492, aggressive=True, fee_amount=0.0051658, fee_currency='USDT')\n",
      "Deal(id='1002968909', order_id='27283823387', time=Timestamp('2025-03-20 08:46:23.938000'), amount=1.4, price=4.492, aggressive=True, fee_amount=0.0031444, fee_currency='USDT')\n",
      "Deal(id='1002968908', order_id='27283823387', time=Timestamp('2025-03-20 08:46:23.938000'), amount=2.3, price=4.492, aggressive=True, fee_amount=0.0051658, fee_currency='USDT')\n",
      "Deal(id='1002968909', order_id='27283823387', time=Timestamp('2025-03-20 08:46:23.938000'), amount=1.4, price=4.492, aggressive=True, fee_amount=0.0031444, fee_currency='USDT')\n",
      "Deal(id='1002968910', order_id='27283823387', time=Timestamp('2025-03-20 08:46:23.938000'), amount=4.5, price=4.492, aggressive=True, fee_amount=0.010107, fee_currency='USDT')\n",
      "Deal(id='1002968908', order_id='27283823387', time=Timestamp('2025-03-20 08:46:23.938000'), amount=2.3, price=4.492, aggressive=True, fee_amount=0.0051658, fee_currency='USDT')\n",
      "Deal(id='1002968909', order_id='27283823387', time=Timestamp('2025-03-20 08:46:23.938000'), amount=1.4, price=4.492, aggressive=True, fee_amount=0.0031444, fee_currency='USDT')\n",
      "Deal(id='1002968910', order_id='27283823387', time=Timestamp('2025-03-20 08:46:23.938000'), amount=4.5, price=4.492, aggressive=True, fee_amount=0.010107, fee_currency='USDT')\n",
      "Deal(id='1002968911', order_id='27283823387', time=Timestamp('2025-03-20 08:46:23.938000'), amount=8.5, price=4.492, aggressive=True, fee_amount=0.019091, fee_currency='USDT')\n",
      "Deal(id='1002968908', order_id='27283823387', time=Timestamp('2025-03-20 08:46:23.938000'), amount=2.3, price=4.492, aggressive=True, fee_amount=0.0051658, fee_currency='USDT')\n",
      "Deal(id='1002968909', order_id='27283823387', time=Timestamp('2025-03-20 08:46:23.938000'), amount=1.4, price=4.492, aggressive=True, fee_amount=0.0031444, fee_currency='USDT')\n",
      "Deal(id='1002968910', order_id='27283823387', time=Timestamp('2025-03-20 08:46:23.938000'), amount=4.5, price=4.492, aggressive=True, fee_amount=0.010107, fee_currency='USDT')\n",
      "Deal(id='1002968911', order_id='27283823387', time=Timestamp('2025-03-20 08:46:23.938000'), amount=8.5, price=4.492, aggressive=True, fee_amount=0.019091, fee_currency='USDT')\n",
      "Deal(id='1002968912', order_id='27283823387', time=Timestamp('2025-03-20 08:46:23.938000'), amount=4.8, price=4.492, aggressive=True, fee_amount=0.0107808, fee_currency='USDT')\n",
      "Deal(id='1002968908', order_id='27283823387', time=Timestamp('2025-03-20 08:46:23.938000'), amount=2.3, price=4.492, aggressive=True, fee_amount=0.0051658, fee_currency='USDT')\n",
      "Deal(id='1002968909', order_id='27283823387', time=Timestamp('2025-03-20 08:46:23.938000'), amount=1.4, price=4.492, aggressive=True, fee_amount=0.0031444, fee_currency='USDT')\n",
      "Deal(id='1002968910', order_id='27283823387', time=Timestamp('2025-03-20 08:46:23.938000'), amount=4.5, price=4.492, aggressive=True, fee_amount=0.010107, fee_currency='USDT')\n",
      "Deal(id='1002968911', order_id='27283823387', time=Timestamp('2025-03-20 08:46:23.938000'), amount=8.5, price=4.492, aggressive=True, fee_amount=0.019091, fee_currency='USDT')\n",
      "Deal(id='1002968912', order_id='27283823387', time=Timestamp('2025-03-20 08:46:23.938000'), amount=4.8, price=4.492, aggressive=True, fee_amount=0.0107808, fee_currency='USDT')\n",
      "Deal(id='1002968913', order_id='27283823387', time=Timestamp('2025-03-20 08:46:23.938000'), amount=2.1, price=4.492, aggressive=True, fee_amount=0.00471659, fee_currency='USDT')\n"
     ]
    }
   ],
   "source": [
    "s = 0\n",
    "for d in deals:\n",
    "    print(di:=ccxt_convert_deal_info(d))\n",
    "    s+=di.amount"
   ]
  },
  {
   "cell_type": "code",
   "execution_count": null,
   "metadata": {},
   "outputs": [
    {
     "data": {
      "text/plain": [
       "37.99999999999999"
      ]
     },
     "execution_count": 17,
     "metadata": {},
     "output_type": "execute_result"
    }
   ],
   "source": [
    "s"
   ]
  },
  {
   "cell_type": "markdown",
   "metadata": {},
   "source": [
    "<pre>\n",
    "2025-03-20 08:46:24.067 [🐞]   [SimplePositionGatherer(BINANCE.UM:SWAP:DOTUSDT)] :: Position is adjusted from 0.0 to 23.6 : [27283823387] MARKET BUY 23.6 of BINANCE.UM:SWAP:DOTUSDT @ 4.492 (GTC) [CLOSED]\n",
    "2025-03-20 08:46:24.119 [🐞]   [CcxtAccountProcessor(BINANCE.UM:SWAP:DOTUSDT)] :: New status for order 27283823387 -> OPEN (MARKET BUY 23.6)\n",
    "2025-03-20 08:46:24.127 [🐞]   [CcxtAccountProcessor(BINANCE.UM:SWAP:DOTUSDT)] :: New status for order 27283823387 -> OPEN (MARKET BUY 23.6 @ 4.492)\n",
    "2025-03-20 08:46:24.136 [🐞]   [CcxtAccountProcessor(BINANCE.UM:SWAP:DOTUSDT)] :: traded 2.3 @ 4.492 -> 0.00 USDT realized profit\n",
    "2025-03-20 08:46:24.218 [🐞]   [CcxtAccountProcessor(BINANCE.UM:SWAP:DOTUSDT)] :: traded 1.4 @ 4.492 -> 0.00 USDT realized profit\n",
    "2025-03-20 08:46:24.247 [🐞]   [CcxtAccountProcessor(BINANCE.UM:SWAP:DOTUSDT)] :: traded 4.5 @ 4.492 -> 0.00 USDT realized profit\n",
    "2025-03-20 08:46:24.272 [🐞]   [CcxtAccountProcessor(BINANCE.UM:SWAP:DOTUSDT)] :: traded 8.5 @ 4.492 -> 0.00 USDT realized profit\n",
    "2025-03-20 08:46:24.290 [🐞]   [CcxtAccountProcessor(BINANCE.UM:SWAP:DOTUSDT)] :: traded 4.8 @ 4.492 -> 0.00 USDT realized profit\n",
    "2025-03-20 08:46:24.316 [🐞]   [CcxtAccountProcessor(BINANCE.UM:SWAP:DOTUSDT)] :: traded 2.1 @ 4.492 -> 0.00 USDT realized profit"
   ]
  },
  {
   "cell_type": "code",
   "execution_count": 18,
   "metadata": {},
   "outputs": [
    {
     "data": {
      "text/plain": [
       "23.6"
      ]
     },
     "execution_count": 18,
     "metadata": {},
     "output_type": "execute_result"
    }
   ],
   "source": [
    "2.3 + 1.4 + 4.5 + 8.5 + 4.8 + 2.1"
   ]
  }
 ],
 "metadata": {
  "kernelspec": {
   "display_name": "xincubator",
   "language": "python",
   "name": "xincubator"
  }
 },
 "nbformat": 4,
 "nbformat_minor": 2
}
