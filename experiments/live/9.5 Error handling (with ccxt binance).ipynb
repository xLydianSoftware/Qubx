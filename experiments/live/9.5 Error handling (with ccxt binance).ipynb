{
 "cells": [
  {
   "cell_type": "code",
   "execution_count": 1,
   "metadata": {},
   "outputs": [
    {
     "name": "stdout",
     "output_type": "stream",
     "text": [
      "\n",
      "⠀⠀⡰⡖⠒⠒⢒⢦⠀⠀   \n",
      "⠀⢠⠃⠈⢆⣀⣎⣀⣱⡀  \u001b[31mQUBX\u001b[0m | \u001b[36mQuantitative Backtesting Environment\u001b[0m \n",
      "⠀⢳⠒⠒⡞⠚⡄⠀⡰⠁         (c) 2025, ver. \u001b[35m0.6.5\u001b[0m\n",
      "⠀⠀⠱⣜⣀⣀⣈⣦⠃⠀⠀⠀ \n",
      "        \n"
     ]
    },
    {
     "data": {
      "text/html": [
       "<style> .cell-output-ipywidget-background { background-color: transparent !important; } :root { --jp-widgets-color: var(--vscode-editor-foreground); --jp-widgets-font-size: var(--vscode-editor-font-size); } .widget-hprogress, .jupyter-widget-hprogress { height: 16px; align-self: center; kj} table.dataframe, .dataframe td, .dataframe tr { border: 1px solid #55554a85; border-collapse: collapse; color: #859548d9 !important; } .dataframe th { border: 1px solid #55554a85; border-collapse: collapse; background-color: #010101 !important; color: #177 !important; } </style>"
      ],
      "text/plain": [
       "<IPython.core.display.HTML object>"
      ]
     },
     "metadata": {},
     "output_type": "display_data"
    }
   ],
   "source": [
    "%load_ext autoreload\n",
    "%autoreload 2\n",
    "\n",
    "import qubx\n",
    "%qubxd\n",
    "\n",
    "from pathlib import Path\n",
    "from qubx import logger, QubxLogConfig\n",
    "from qubx.utils.runner.runner import run_strategy, StrategyConfig, AccountConfigurationManager, ExchangeConfig, LoggingConfig\n",
    "from qubx.core.interfaces import IStrategy, IStrategyContext, BaseErrorEvent\n",
    "\n",
    "QubxLogConfig.set_log_level(\"INFO\")"
   ]
  },
  {
   "cell_type": "code",
   "execution_count": 6,
   "metadata": {},
   "outputs": [
    {
     "name": "stdout",
     "output_type": "stream",
     "text": [
      "\u001b[96m2025-03-21 14:43:55.961\u001b[0m [\u001b[1mℹ️\u001b[0m] \u001b[1mInitialized BINANCE.PM\u001b[0m\n",
      "\u001b[96m2025-03-21 14:43:55.990\u001b[0m [\u001b[1mℹ️\u001b[0m] \u001b[1m- Strategy: \u001b[34mTestStrategy\u001b[0m\u001b[1m\n",
      "- Mode: live\n",
      "- Parameters: {}\u001b[0m\n",
      "\u001b[96m2025-03-21 14:43:55.994\u001b[0m [\u001b[1mℹ️\u001b[0m] \u001b[1mWaiting for account polling tasks to be initialized\u001b[0m\n",
      "\u001b[96m2025-03-21 14:43:57.786\u001b[0m [\u001b[1mℹ️\u001b[0m] \u001b[1mbalance polling task has been initialized\u001b[0m\n",
      "\u001b[96m2025-03-21 14:43:58.602\u001b[0m [\u001b[1mℹ️\u001b[0m] \u001b[1mposition polling task has been initialized\u001b[0m\n",
      "\u001b[96m2025-03-21 14:43:58.783\u001b[0m [\u001b[1mℹ️\u001b[0m] \u001b[1mAccount polling tasks have been initialized\u001b[0m\n",
      "\u001b[96m2025-03-21 14:43:58.785\u001b[0m [\u001b[1mℹ️\u001b[0m] \u001b[1mListening to executions\u001b[0m\n",
      "\u001b[96m2025-03-21 14:43:58.786\u001b[0m [\u001b[1mℹ️\u001b[0m] \u001b[1m[StrategyContext] :: Start processing market data\u001b[0m\n",
      "\u001b[96m2025-03-21 14:43:58.787\u001b[0m [\u001b[1mℹ️\u001b[0m] \u001b[1m[StrategyContext] :: strategy is started in thread\u001b[0m\n",
      "\u001b[96m2025-03-21 14:43:58.787\u001b[0m [\u001b[1mℹ️\u001b[0m] \u001b[1mListening to ETH/USDT:USDT orderbook\u001b[0m\n"
     ]
    },
    {
     "name": "stdout",
     "output_type": "stream",
     "text": [
      "\u001b[96m2025-03-21 14:44:00.611\u001b[0m [\u001b[1mℹ️\u001b[0m] \u001b[1mHeartbeat at 2025-03-21T14:40:00\u001b[0m\n",
      "\u001b[96m2025-03-21 14:44:59.783\u001b[0m [\u001b[1mℹ️\u001b[0m] \u001b[1mopen_orders polling task has been initialized\u001b[0m\n",
      "\u001b[96m2025-03-21 14:45:20.969\u001b[0m [\u001b[31m\u001b[1m❌\u001b[0m] \u001b[31m\u001b[1m(::_create_order) buy 0.002 limit for ETHUSDT exception : binanceusdm {\"code\":-4164,\"msg\":\"Order's notional must be greater than 20 (unless you choose reduce only)\"}\u001b[0m\n",
      "\u001b[96m2025-03-21 14:45:20.980\u001b[0m [\u001b[31m\u001b[1m❌\u001b[0m] \u001b[31m\u001b[1mTraceback (most recent call last):\n",
      "  File \"/home/yuriy/devs/Qubx/src/qubx/connectors/ccxt/broker.py\", line 259, in _create_order\n",
      "    r = await self._exchange.create_order(\n",
      "        ^^^^^^^^^^^^^^^^^^^^^^^^^^^^^^^^^^\n",
      "  File \"/home/yuriy/.cache/pypoetry/virtualenvs/qubx-QjLytwEC-py3.12/lib/python3.12/site-packages/ccxt/async_support/binance.py\", line 6201, in create_order\n",
      "    response = await self.papiPostUmOrder(request)\n",
      "               ^^^^^^^^^^^^^^^^^^^^^^^^^^^^^^^^^^^\n",
      "  File \"/home/yuriy/.cache/pypoetry/virtualenvs/qubx-QjLytwEC-py3.12/lib/python3.12/site-packages/ccxt/async_support/binance.py\", line 11500, in request\n",
      "    response = await self.fetch2(path, api, method, params, headers, body, config)\n",
      "               ^^^^^^^^^^^^^^^^^^^^^^^^^^^^^^^^^^^^^^^^^^^^^^^^^^^^^^^^^^^^^^^^^^^\n",
      "  File \"/home/yuriy/.cache/pypoetry/virtualenvs/qubx-QjLytwEC-py3.12/lib/python3.12/site-packages/ccxt/async_support/base/exchange.py\", line 897, in fetch2\n",
      "    raise e\n",
      "  File \"/home/yuriy/.cache/pypoetry/virtualenvs/qubx-QjLytwEC-py3.12/lib/python3.12/site-packages/ccxt/async_support/base/exchange.py\", line 886, in fetch2\n",
      "    return await self.fetch(request['url'], request['method'], request['headers'], request['body'])\n",
      "           ^^^^^^^^^^^^^^^^^^^^^^^^^^^^^^^^^^^^^^^^^^^^^^^^^^^^^^^^^^^^^^^^^^^^^^^^^^^^^^^^^^^^^^^^\n",
      "  File \"/home/yuriy/.cache/pypoetry/virtualenvs/qubx-QjLytwEC-py3.12/lib/python3.12/site-packages/ccxt/async_support/base/exchange.py\", line 256, in fetch\n",
      "    self.handle_errors(http_status_code, http_status_text, url, method, headers, http_response, json_response, request_headers, request_body)\n",
      "  File \"/home/yuriy/.cache/pypoetry/virtualenvs/qubx-QjLytwEC-py3.12/lib/python3.12/site-packages/ccxt/async_support/binance.py\", line 11467, in handle_errors\n",
      "    self.throw_exactly_matched_exception(self.get_exceptions_by_url(url, 'exact'), error, feedback)\n",
      "  File \"/home/yuriy/.cache/pypoetry/virtualenvs/qubx-QjLytwEC-py3.12/lib/python3.12/site-packages/ccxt/base/exchange.py\", line 4757, in throw_exactly_matched_exception\n",
      "    raise exact[string](message)\n",
      "ccxt.base.errors.InvalidOrder: binanceusdm {\"code\":-4164,\"msg\":\"Order's notional must be greater than 20 (unless you choose reduce only)\"}\n",
      "\u001b[0m\n",
      "\u001b[96m2025-03-21 14:45:20.981\u001b[0m [\u001b[31m\u001b[1m❌\u001b[0m] \u001b[31m\u001b[1mError: OrderCreationError(timestamp=numpy.datetime64('2025-03-21T14:45:20.980735232'), message='binanceusdm {\"code\":-4164,\"msg\":\"Order\\'s notional must be greater than 20 (unless you choose reduce only)\"}', instrument=BINANCE.UM:SWAP:ETHUSDT, amount=0.002, price=2446.8, order_type='limit', side='buy')\u001b[0m\n",
      "\u001b[96m2025-03-21 14:46:54.405\u001b[0m [\u001b[31m\u001b[1m❌\u001b[0m] \u001b[31m\u001b[1m(::_create_order) INVALID ORDER for buy 0.001 limit for ETHUSDT : binanceusdm {\"code\":-4164,\"msg\":\"Order's notional must be greater than 20 (unless you choose reduce only)\"}\u001b[0m\n",
      "\u001b[96m2025-03-21 14:46:54.407\u001b[0m [\u001b[31m\u001b[1m❌\u001b[0m] \u001b[31m\u001b[1mError: OrderCreationError(timestamp=numpy.datetime64('2025-03-21T14:46:54.406064640'), message='binanceusdm {\"code\":-4164,\"msg\":\"Order\\'s notional must be greater than 20 (unless you choose reduce only)\"}', instrument=BINANCE.UM:SWAP:ETHUSDT, amount=0.001, price=2447.73, order_type='limit', side='buy')\u001b[0m\n",
      "\u001b[96m2025-03-21 14:47:08.450\u001b[0m [\u001b[1mℹ️\u001b[0m] \u001b[1mNew order [8389765862744239666] LIMIT BUY 0.02 of BINANCE.UM:SWAP:ETHUSDT @ 1946.18 (PO) [NEW]\u001b[0m\n",
      "\u001b[96m2025-03-21 14:48:05.918\u001b[0m [\u001b[1mℹ️\u001b[0m] \u001b[1mNew order [8389765862744809789] LIMIT SELL 0.02 of BINANCE.UM:SWAP:ETHUSDT @ 1946.41 (PO) [NEW]\u001b[0m\n",
      "\u001b[96m2025-03-21 14:49:37.845\u001b[0m [\u001b[1mℹ️\u001b[0m] \u001b[1mNew order [8389765862745557243] LIMIT BUY 0.02 of BINANCE.UM:SWAP:ETHUSDT @ 1946.69 (PO) [NEW]\u001b[0m\n",
      "\u001b[96m2025-03-21 14:49:50.383\u001b[0m [\u001b[1mℹ️\u001b[0m] \u001b[1mNew order [8389765862745597266] LIMIT SELL 0.02 of BINANCE.UM:SWAP:ETHUSDT @ 1946.71 (PO) [NEW]\u001b[0m\n",
      "\u001b[96m2025-03-21 14:50:00.068\u001b[0m [\u001b[1mℹ️\u001b[0m] \u001b[1mHeartbeat at 2025-03-21T14:50:00\u001b[0m\n"
     ]
    }
   ],
   "source": [
    "class TestStrategy(IStrategy):\n",
    "    def on_error(self, ctx: IStrategyContext, error: BaseErrorEvent) -> None:\n",
    "        logger.error(f\"Error: {error}\")\n",
    "\n",
    "    def on_stop(self, ctx: IStrategyContext):\n",
    "        logger.info(\"Stopping test strategy\")\n",
    "\n",
    "\n",
    "ctx = run_strategy(\n",
    "    config=StrategyConfig(\n",
    "        name=\"TestStrategy\",\n",
    "        strategy=TestStrategy,\n",
    "        exchanges={\n",
    "            \"BINANCE.PM\": ExchangeConfig(\n",
    "                connector=\"ccxt\",\n",
    "                universe=[\"ETHUSDT\"],\n",
    "                params={\"enable_price_match\": True, \"price_match_ticks\": 5},\n",
    "            )\n",
    "        },\n",
    "        logging=LoggingConfig(\n",
    "            logger=\"InMemoryLogsWriter\",\n",
    "            position_interval=\"10s\",\n",
    "            portfolio_interval=\"1m\",\n",
    "            heartbeat_interval=\"10m\",\n",
    "        )\n",
    "    ),\n",
    "    account_manager=AccountConfigurationManager(\n",
    "        Path(\"~/releases/R_MM_olereon/accounts.toml\").expanduser()\n",
    "    ),\n",
    "    paper=False,\n",
    ")"
   ]
  },
  {
   "cell_type": "code",
   "execution_count": 7,
   "metadata": {},
   "outputs": [
    {
     "data": {
      "text/plain": [
       "{'USDT': AssetBalance(free=19993.91813323, locked=0.0, total=19993.91813323)}"
      ]
     },
     "execution_count": 7,
     "metadata": {},
     "output_type": "execute_result"
    }
   ],
   "source": [
    "ctx.get_balances()"
   ]
  },
  {
   "cell_type": "code",
   "execution_count": 8,
   "metadata": {},
   "outputs": [
    {
     "data": {
      "text/plain": [
       "BINANCE.UM:SWAP:ETHUSDT"
      ]
     },
     "execution_count": 8,
     "metadata": {},
     "output_type": "execute_result"
    }
   ],
   "source": [
    "instr = ctx.instruments[0]\n",
    "instr"
   ]
  },
  {
   "cell_type": "code",
   "execution_count": 10,
   "metadata": {},
   "outputs": [
    {
     "data": {
      "text/plain": [
       "0.001"
      ]
     },
     "execution_count": 10,
     "metadata": {},
     "output_type": "execute_result"
    }
   ],
   "source": [
    "instr.min_size"
   ]
  },
  {
   "cell_type": "code",
   "execution_count": 16,
   "metadata": {},
   "outputs": [
    {
     "name": "stdout",
     "output_type": "stream",
     "text": [
      "[2025-03-21T14:49:49.867000000]\t1946.70000 (42.3) | 1946.71000 (418.1)\n"
     ]
    }
   ],
   "source": [
    "q = ctx.quote(instr)\n",
    "assert q is not None\n",
    "print(q)\n",
    "\n",
    "# ctx.trade_async(instr, amount=0.02, price=q.bid + instr.tick_size, time_in_force=\"gtx\")\n",
    "ctx.trade_async(instr, amount=-0.02, price=q.ask - instr.tick_size, time_in_force=\"gtx\")\n",
    "# ctx.trade(instr, amount=0.002, price=q.bid + 500, time_in_force=\"gtx\")"
   ]
  },
  {
   "cell_type": "code",
   "execution_count": null,
   "metadata": {},
   "outputs": [],
   "source": []
  },
  {
   "cell_type": "code",
   "execution_count": 7,
   "metadata": {},
   "outputs": [
    {
     "data": {
      "text/plain": [
       "{}"
      ]
     },
     "execution_count": 7,
     "metadata": {},
     "output_type": "execute_result"
    }
   ],
   "source": [
    "ctx.get_orders()"
   ]
  },
  {
   "cell_type": "code",
   "execution_count": 24,
   "metadata": {},
   "outputs": [],
   "source": [
    "ctx.cancel_order(\"632039574280\")"
   ]
  },
  {
   "cell_type": "code",
   "execution_count": null,
   "metadata": {},
   "outputs": [],
   "source": []
  },
  {
   "cell_type": "code",
   "execution_count": 5,
   "metadata": {},
   "outputs": [],
   "source": [
    "ctx.stop()"
   ]
  },
  {
   "cell_type": "code",
   "execution_count": null,
   "metadata": {},
   "outputs": [],
   "source": []
  }
 ],
 "metadata": {
  "kernelspec": {
   "display_name": "qubx",
   "language": "python",
   "name": "qubx"
  },
  "language_info": {
   "codemirror_mode": {
    "name": "ipython",
    "version": 3
   },
   "file_extension": ".py",
   "mimetype": "text/x-python",
   "name": "python",
   "nbconvert_exporter": "python",
   "pygments_lexer": "ipython3",
   "version": "3.12.7"
  }
 },
 "nbformat": 4,
 "nbformat_minor": 2
}
