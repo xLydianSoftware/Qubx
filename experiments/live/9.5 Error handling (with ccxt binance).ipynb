{
 "cells": [
  {
   "cell_type": "code",
   "execution_count": 1,
   "metadata": {},
   "outputs": [
    {
     "name": "stdout",
     "output_type": "stream",
     "text": [
      "\n",
      "⠀⠀⡰⡖⠒⠒⢒⢦⠀⠀   \n",
      "⠀⢠⠃⠈⢆⣀⣎⣀⣱⡀  \u001b[31mQUBX\u001b[0m | \u001b[36mQuantitative Backtesting Environment\u001b[0m \n",
      "⠀⢳⠒⠒⡞⠚⡄⠀⡰⠁         (c) 2025, ver. \u001b[35m0.6.5\u001b[0m\n",
      "⠀⠀⠱⣜⣀⣀⣈⣦⠃⠀⠀⠀ \n",
      "        \n"
     ]
    },
    {
     "data": {
      "text/html": [
       "<style> .cell-output-ipywidget-background { background-color: transparent !important; } :root { --jp-widgets-color: var(--vscode-editor-foreground); --jp-widgets-font-size: var(--vscode-editor-font-size); } .widget-hprogress, .jupyter-widget-hprogress { height: 16px; align-self: center; kj} table.dataframe, .dataframe td, .dataframe tr { border: 1px solid #55554a85; border-collapse: collapse; color: #859548d9 !important; } .dataframe th { border: 1px solid #55554a85; border-collapse: collapse; background-color: #010101 !important; color: #177 !important; } </style>"
      ],
      "text/plain": [
       "<IPython.core.display.HTML object>"
      ]
     },
     "metadata": {},
     "output_type": "display_data"
    }
   ],
   "source": [
    "%load_ext autoreload\n",
    "%autoreload 2\n",
    "\n",
    "import qubx\n",
    "%qubxd\n",
    "\n",
    "from pathlib import Path\n",
    "from qubx import logger, QubxLogConfig\n",
    "from qubx.utils.runner.runner import run_strategy, StrategyConfig, AccountConfigurationManager, ExchangeConfig, LoggingConfig\n",
    "from qubx.core.interfaces import IStrategy, IStrategyContext, BaseErrorEvent\n",
    "\n",
    "QubxLogConfig.set_log_level(\"INFO\")"
   ]
  },
  {
   "cell_type": "code",
   "execution_count": null,
   "metadata": {},
   "outputs": [],
   "source": [
    "class TestStrategy(IStrategy):\n",
    "    def on_error(self, ctx: IStrategyContext, error: BaseErrorEvent) -> None:\n",
    "        logger.error(f\"Error: {error}\")\n",
    "\n",
    "    def on_stop(self, ctx: IStrategyContext):\n",
    "        logger.info(\"Stopping test strategy\")\n",
    "\n",
    "\n",
    "ctx = run_strategy(\n",
    "    config=StrategyConfig(\n",
    "        name=\"TestStrategy\",\n",
    "        strategy=TestStrategy,\n",
    "        exchanges={\n",
    "            \"BINANCE.PM\": ExchangeConfig(\n",
    "                connector=\"ccxt\",\n",
    "                universe=[\"ETHUSDT\"],\n",
    "                params={\"enable_price_match\": True, \"price_match_ticks\": 20},\n",
    "                # params={\"enable_price_match\": False},\n",
    "            )\n",
    "        },\n",
    "        logging=LoggingConfig(\n",
    "            logger=\"InMemoryLogsWriter\",\n",
    "            position_interval=\"10s\",\n",
    "            portfolio_interval=\"1m\",\n",
    "            heartbeat_interval=\"10m\",\n",
    "        )\n",
    "    ),\n",
    "    account_manager=AccountConfigurationManager(\n",
    "        Path(\"~/releases/R_MM_olereon/accounts.toml\").expanduser()\n",
    "    ),\n",
    "    paper=False,\n",
    ")"
   ]
  },
  {
   "cell_type": "code",
   "execution_count": 3,
   "metadata": {},
   "outputs": [
    {
     "data": {
      "text/plain": [
       "BINANCE.UM:SWAP:ETHUSDT"
      ]
     },
     "execution_count": 3,
     "metadata": {},
     "output_type": "execute_result"
    }
   ],
   "source": [
    "instr = ctx.instruments[0]\n",
    "instr"
   ]
  },
  {
   "cell_type": "code",
   "execution_count": 11,
   "metadata": {},
   "outputs": [
    {
     "name": "stdout",
     "output_type": "stream",
     "text": [
      "[2025-03-21T15:09:45.692000000]\t1950.73000 (322.5) | 1950.74000 (121.5)\n"
     ]
    }
   ],
   "source": [
    "q = ctx.quote(instr)\n",
    "assert q is not None\n",
    "print(q)\n",
    "\n",
    "ctx.trade_async(instr, amount=-0.02, price=q.bid, time_in_force=\"gtx\")\n",
    "# ctx.trade_async(instr, amount=0.02, price=q.bid + instr.tick_size, time_in_force=\"gtx\")\n",
    "# ctx.trade_async(instr, amount=-0.02, price=q.ask, time_in_force=\"gtx\")\n",
    "# ctx.trade(instr, amount=0.002, price=q.bid + 500, time_in_force=\"gtx\")"
   ]
  },
  {
   "cell_type": "code",
   "execution_count": null,
   "metadata": {},
   "outputs": [],
   "source": []
  },
  {
   "cell_type": "code",
   "execution_count": 12,
   "metadata": {},
   "outputs": [
    {
     "data": {
      "text/plain": [
       "{}"
      ]
     },
     "execution_count": 12,
     "metadata": {},
     "output_type": "execute_result"
    }
   ],
   "source": [
    "ctx.get_orders()"
   ]
  },
  {
   "cell_type": "code",
   "execution_count": null,
   "metadata": {},
   "outputs": [],
   "source": []
  },
  {
   "cell_type": "code",
   "execution_count": 13,
   "metadata": {},
   "outputs": [],
   "source": [
    "ctx.stop()"
   ]
  },
  {
   "cell_type": "code",
   "execution_count": null,
   "metadata": {},
   "outputs": [],
   "source": []
  }
 ],
 "metadata": {
  "kernelspec": {
   "display_name": "qubx",
   "language": "python",
   "name": "qubx"
  },
  "language_info": {
   "codemirror_mode": {
    "name": "ipython",
    "version": 3
   },
   "file_extension": ".py",
   "mimetype": "text/x-python",
   "name": "python",
   "nbconvert_exporter": "python",
   "pygments_lexer": "ipython3",
   "version": "3.12.7"
  }
 },
 "nbformat": 4,
 "nbformat_minor": 2
}
