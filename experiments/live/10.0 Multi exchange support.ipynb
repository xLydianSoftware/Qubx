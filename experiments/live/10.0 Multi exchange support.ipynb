{
 "cells": [
  {
   "cell_type": "code",
   "execution_count": 1,
   "metadata": {},
   "outputs": [
    {
     "name": "stdout",
     "output_type": "stream",
     "text": [
      "\n",
      "⠀⠀⡰⡖⠒⠒⢒⢦⠀⠀   \n",
      "⠀⢠⠃⠈⢆⣀⣎⣀⣱⡀  \u001b[31mQUBX\u001b[0m | \u001b[36mQuantitative Backtesting Environment\u001b[0m \n",
      "⠀⢳⠒⠒⡞⠚⡄⠀⡰⠁         (c) 2025, ver. \u001b[35m0.6.24\u001b[0m\n",
      "⠀⠀⠱⣜⣀⣀⣈⣦⠃⠀⠀⠀ \n",
      "        \n"
     ]
    },
    {
     "data": {
      "text/html": [
       "<style> .cell-output-ipywidget-background { background-color: transparent !important; } :root { --jp-widgets-color: var(--vscode-editor-foreground); --jp-widgets-font-size: var(--vscode-editor-font-size); } .widget-hprogress, .jupyter-widget-hprogress { height: 16px; align-self: center; kj} table.dataframe, .dataframe td, .dataframe tr { border: 1px solid #55554a85; border-collapse: collapse; color: #859548d9 !important; } .dataframe th { border: 1px solid #55554a85; border-collapse: collapse; background-color: #010101 !important; color: #177 !important; } </style>"
      ],
      "text/plain": [
       "<IPython.core.display.HTML object>"
      ]
     },
     "metadata": {},
     "output_type": "display_data"
    }
   ],
   "source": [
    "%load_ext autoreload\n",
    "%autoreload 2\n",
    "\n",
    "import qubx\n",
    "%qubxd\n",
    "\n",
    "from pathlib import Path\n",
    "from qubx.core.lookups import lookup\n",
    "from qubx.core.basics import DataType\n",
    "from qubx import logger, QubxLogConfig\n",
    "from qubx.utils.runner.runner import run_strategy, StrategyConfig, AccountConfigurationManager, ExchangeConfig, LoggingConfig\n",
    "from qubx.core.interfaces import IStrategy, IStrategyContext, BaseErrorEvent, IStrategyInitializer\n",
    "from qubx.connectors.ccxt.utils import instrument_to_ccxt_symbol, ccxt_convert_orderbook\n",
    "\n",
    "QubxLogConfig.set_log_level(\"INFO\")"
   ]
  },
  {
   "cell_type": "code",
   "execution_count": 2,
   "metadata": {},
   "outputs": [
    {
     "data": {
      "text/plain": [
       "BITFINEX.F:SWAP:BTCUSDT"
      ]
     },
     "execution_count": 2,
     "metadata": {},
     "output_type": "execute_result"
    }
   ],
   "source": [
    "instr = lookup.find_symbol(\"BITFINEX.F\", \"BTCUSDT\")\n",
    "# instr = lookup.find_symbol(\"BINANCE.UM\", \"BTCUSDT\")\n",
    "assert instr is not None, \"Got wrong instrument\"\n",
    "instr"
   ]
  },
  {
   "cell_type": "code",
   "execution_count": null,
   "metadata": {},
   "outputs": [],
   "source": [
    "class TestStrategy(IStrategy):\n",
    "    def on_init(self, initializer: IStrategyInitializer) -> None:\n",
    "        initializer.subscribe(DataType.ORDERBOOK[0.1, 10])\n",
    "        pass\n",
    "\n",
    "    def on_error(self, ctx: IStrategyContext, error: BaseErrorEvent) -> None:\n",
    "        logger.error(f\"Error: {error}\")\n",
    "\n",
    "    def on_stop(self, ctx: IStrategyContext):\n",
    "        logger.info(\"Stopping test strategy\")\n",
    "\n",
    "\n",
    "ctx = run_strategy(\n",
    "    config=StrategyConfig(\n",
    "        name=\"TestStrategy\",\n",
    "        strategy=TestStrategy,\n",
    "        exchanges={\n",
    "            \"BINANCE.UM\": ExchangeConfig(\n",
    "                connector=\"ccxt\",\n",
    "                universe=[\"BTCUSDT\"],\n",
    "            ),\n",
    "            \"BITMEX\": ExchangeConfig(\n",
    "                connector=\"ccxt\",\n",
    "                universe=[\"BTCUSD\"],\n",
    "            ),\n",
    "            \"KRAKEN.F\": ExchangeConfig(\n",
    "                connector=\"ccxt\",\n",
    "                universe=[\"BTCUSD\"],\n",
    "            ),\n",
    "            \"BITFINEX.F\": ExchangeConfig(\n",
    "                connector=\"tardis\",\n",
    "                universe=[\"BTCUSDT\"],\n",
    "                params={\n",
    "                    \"host\": \"quantlab\",\n",
    "                    \"port\": 8011,\n",
    "                },\n",
    "            ),\n",
    "        },\n",
    "        logging=LoggingConfig(\n",
    "            logger=\"InMemoryLogsWriter\",\n",
    "            position_interval=\"10s\",\n",
    "            portfolio_interval=\"1m\",\n",
    "            heartbeat_interval=\"10m\",\n",
    "        )\n",
    "    ),\n",
    "    account_manager=AccountConfigurationManager(),\n",
    "    paper=True,\n",
    "    blocking=False,\n",
    ")"
   ]
  },
  {
   "cell_type": "code",
   "execution_count": 6,
   "metadata": {},
   "outputs": [],
   "source": [
    "# ctx.subscribe(DataType.QUOTE)\n",
    "ctx.unsubscribe(DataType.QUOTE)"
   ]
  },
  {
   "cell_type": "code",
   "execution_count": 5,
   "metadata": {},
   "outputs": [
    {
     "data": {
      "text/plain": [
       "[quote, orderbook]"
      ]
     },
     "execution_count": 5,
     "metadata": {},
     "output_type": "execute_result"
    }
   ],
   "source": [
    "ctx.get_subscriptions()"
   ]
  },
  {
   "cell_type": "code",
   "execution_count": 7,
   "metadata": {},
   "outputs": [],
   "source": [
    "ctx.stop()"
   ]
  },
  {
   "cell_type": "code",
   "execution_count": 6,
   "metadata": {},
   "outputs": [
    {
     "data": {
      "text/plain": [
       "[2025-04-04T08:04:04.600000000]\t84314.00000 (9.5) | 84315.00000 (6.3)"
      ]
     },
     "execution_count": 6,
     "metadata": {},
     "output_type": "execute_result"
    }
   ],
   "source": [
    "ctx.quote(ctx.instruments[-1])"
   ]
  },
  {
   "cell_type": "code",
   "execution_count": 20,
   "metadata": {},
   "outputs": [
    {
     "data": {
      "text/plain": [
       "[2025-04-03T22:09:31.900000000] 82706.0 (8.03503304) | 82707.0 (4.2405230099999995)"
      ]
     },
     "execution_count": 20,
     "metadata": {},
     "output_type": "execute_result"
    }
   ],
   "source": [
    "import pandas as pd\n",
    "ob = ctx.get_data(ctx.instruments[0], DataType.ORDERBOOK)[-1]\n",
    "# pd.Series(ob.bids).cumsum().plot();\n",
    "ob"
   ]
  },
  {
   "cell_type": "code",
   "execution_count": 3,
   "metadata": {},
   "outputs": [
    {
     "name": "stdout",
     "output_type": "stream",
     "text": [
      "BINANCE.UM:SWAP:BTCUSDT: [2025-04-04T09:34:16.713000000]\t84337.20000 (168.0) | 84337.30000 (239.9)\n",
      "BITMEX:SWAP:BTCUSD: [2025-04-04T09:34:16.812000000]\t84324.90000 (1916600.0) | 84333.90000 (2654400.0)\n",
      "KRAKEN.F:SWAP:BTCUSD: [2025-04-04T09:34:16.813000000]\t84383.00000 (51.7) | 84385.00000 (52.3)\n",
      "BITFINEX.F:SWAP:BTCUSDT: [2025-04-04T09:34:16.600000000]\t84447.00000 (7.4) | 84448.00000 (4.3)\n",
      "--------------------------------\n",
      "BINANCE.UM:SWAP:BTCUSDT: [2025-04-04T09:34:17.732000000]\t84337.20000 (183.6) | 84337.30000 (229.7)\n",
      "BITMEX:SWAP:BTCUSD: [2025-04-04T09:34:17.841000000]\t84334.10000 (2675300.0) | 84334.20000 (3296700.0)\n",
      "KRAKEN.F:SWAP:BTCUSD: [2025-04-04T09:34:17.885000000]\t84389.00000 (54.7) | 84396.00000 (62.2)\n",
      "BITFINEX.F:SWAP:BTCUSDT: [2025-04-04T09:34:17.400000000]\t84447.00000 (5.1) | 84448.00000 (4.3)\n",
      "--------------------------------\n",
      "BINANCE.UM:SWAP:BTCUSDT: [2025-04-04T09:34:18.748000000]\t84344.50000 (175.9) | 84344.60000 (275.1)\n",
      "BITMEX:SWAP:BTCUSD: [2025-04-04T09:34:18.870000000]\t84334.10000 (1884200.0) | 84334.20000 (2511400.0)\n",
      "KRAKEN.F:SWAP:BTCUSD: [2025-04-04T09:34:18.870000000]\t84388.00000 (57.4) | 84393.00000 (59.6)\n",
      "BITFINEX.F:SWAP:BTCUSDT: [2025-04-04T09:34:18.700000000]\t84447.00000 (7.5) | 84448.00000 (3.5)\n",
      "--------------------------------\n",
      "BINANCE.UM:SWAP:BTCUSDT: [2025-04-04T09:34:19.763000000]\t84338.60000 (165.4) | 84338.70000 (244.1)\n",
      "BITMEX:SWAP:BTCUSD: [2025-04-04T09:34:19.862000000]\t84334.10000 (2495200.0) | 84334.20000 (2703100.0)\n",
      "KRAKEN.F:SWAP:BTCUSD: [2025-04-04T09:34:19.878000000]\t84380.00000 (63.0) | 84382.00000 (52.8)\n",
      "BITFINEX.F:SWAP:BTCUSDT: [2025-04-04T09:34:19.700000000]\t84447.00000 (9.8) | 84448.00000 (4.3)\n",
      "--------------------------------\n",
      "BINANCE.UM:SWAP:BTCUSDT: [2025-04-04T09:34:20.685000000]\t84338.60000 (171.0) | 84338.70000 (239.4)\n",
      "BITMEX:SWAP:BTCUSD: [2025-04-04T09:34:20.863000000]\t84334.10000 (2372200.0) | 84334.20000 (3230600.0)\n",
      "KRAKEN.F:SWAP:BTCUSD: [2025-04-04T09:34:20.892000000]\t84384.00000 (60.5) | 84385.00000 (51.9)\n",
      "BITFINEX.F:SWAP:BTCUSDT: [2025-04-04T09:34:20.700000000]\t84447.00000 (10.0) | 84448.00000 (4.3)\n",
      "--------------------------------\n",
      "BINANCE.UM:SWAP:BTCUSDT: [2025-04-04T09:34:21.700000000]\t84319.90000 (190.6) | 84320.00000 (210.1)\n",
      "BITMEX:SWAP:BTCUSD: [2025-04-04T09:34:21.843000000]\t84306.70000 (2759000.0) | 84312.90000 (1850200.0)\n",
      "KRAKEN.F:SWAP:BTCUSD: [2025-04-04T09:34:21.890000000]\t84364.00000 (59.7) | 84366.00000 (60.2)\n",
      "BITFINEX.F:SWAP:BTCUSDT: [2025-04-04T09:34:21.600000000]\t84439.00000 (9.4) | 84440.00000 (4.4)\n",
      "--------------------------------\n",
      "BINANCE.UM:SWAP:BTCUSDT: [2025-04-04T09:34:22.718000000]\t84319.90000 (173.7) | 84320.00000 (218.2)\n",
      "BITMEX:SWAP:BTCUSD: [2025-04-04T09:34:22.872000000]\t84313.80000 (2643700.0) | 84316.10000 (2701600.0)\n",
      "KRAKEN.F:SWAP:BTCUSD: [2025-04-04T09:34:22.902000000]\t84367.00000 (66.4) | 84369.00000 (59.7)\n",
      "BITFINEX.F:SWAP:BTCUSDT: [2025-04-04T09:34:22.500000000]\t84426.00000 (10.2) | 84427.00000 (4.4)\n",
      "--------------------------------\n",
      "BINANCE.UM:SWAP:BTCUSDT: [2025-04-04T09:34:23.731000000]\t84304.80000 (200.7) | 84304.90000 (201.2)\n",
      "BITMEX:SWAP:BTCUSD: [2025-04-04T09:34:23.861000000]\t84295.80000 (3608600.0) | 84302.70000 (3172000.0)\n",
      "KRAKEN.F:SWAP:BTCUSD: [2025-04-04T09:34:23.876000000]\t84351.00000 (58.4) | 84358.00000 (60.9)\n",
      "BITFINEX.F:SWAP:BTCUSDT: [2025-04-04T09:34:23.700000000]\t84418.00000 (11.4) | 84419.00000 (4.3)\n",
      "--------------------------------\n",
      "BINANCE.UM:SWAP:BTCUSDT: [2025-04-04T09:34:24.747000000]\t84304.80000 (198.9) | 84304.90000 (204.6)\n",
      "BITMEX:SWAP:BTCUSD: [2025-04-04T09:34:24.841000000]\t84299.00000 (3024400.0) | 84299.10000 (3335700.0)\n",
      "KRAKEN.F:SWAP:BTCUSD: [2025-04-04T09:34:24.887000000]\t84350.00000 (61.4) | 84357.00000 (58.9)\n",
      "BITFINEX.F:SWAP:BTCUSDT: [2025-04-04T09:34:24.700000000]\t84418.00000 (11.1) | 84419.00000 (4.3)\n",
      "--------------------------------\n"
     ]
    }
   ],
   "source": [
    "import time\n",
    "\n",
    "instr1 = ctx.instruments[0]\n",
    "instr2 = ctx.instruments[1]\n",
    "instr3 = ctx.instruments[2]\n",
    "instr4 = ctx.instruments[3]\n",
    "\n",
    "try:\n",
    "    while True:\n",
    "        q1 = ctx.quote(instr1)\n",
    "        q2 = ctx.quote(instr2)\n",
    "        q3 = ctx.quote(instr3)\n",
    "        q4 = ctx.quote(instr4)\n",
    "\n",
    "        print(f\"{instr1}: {q1}\")\n",
    "        print(f\"{instr2}: {q2}\")\n",
    "        print(f\"{instr3}: {q3}\")\n",
    "        print(f\"{instr4}: {q4}\")\n",
    "\n",
    "        print(\"--------------------------------\")\n",
    "\n",
    "        time.sleep(1.0)\n",
    "except KeyboardInterrupt:\n",
    "    pass"
   ]
  },
  {
   "cell_type": "code",
   "execution_count": 15,
   "metadata": {},
   "outputs": [
    {
     "data": {
      "image/png": "[encoded data removed]",
      "text/plain": [
       "<Figure size 960x400 with 1 Axes>"
      ]
     },
     "metadata": {},
     "output_type": "display_data"
    }
   ],
   "source": [
    "ctx.ohlc(ctx.instruments[0]).pd().close.plot();\n",
    "ctx.ohlc(ctx.instruments[1]).pd().close.plot();"
   ]
  },
  {
   "cell_type": "code",
   "execution_count": 62,
   "metadata": {},
   "outputs": [
    {
     "data": {
      "text/plain": [
       "{'USDT': AssetBalance(free=100000.0, locked=0.0, total=100000.0)}"
      ]
     },
     "execution_count": 62,
     "metadata": {},
     "output_type": "execute_result"
    }
   ],
   "source": [
    "ctx.get_balances(exchange=\"KRAKEN.F\")"
   ]
  },
  {
   "cell_type": "code",
   "execution_count": 74,
   "metadata": {},
   "outputs": [
    {
     "data": {
      "text/plain": [
       "Order(id='SIM-ORDER-BTCUSD-100004', type='MARKET', instrument=KRAKEN.F:SWAP:BTCUSD, time=numpy.datetime64('2025-04-03T13:42:42.282391296'), quantity=1.0, price=0, side='BUY', status='CLOSED', time_in_force='gtc', client_id='qubx_BTCUSD_17436875922', cost=0.0, options={})"
      ]
     },
     "execution_count": 74,
     "metadata": {},
     "output_type": "execute_result"
    }
   ],
   "source": [
    "ctx.trade(instr3, 1.0)"
   ]
  },
  {
   "cell_type": "code",
   "execution_count": 75,
   "metadata": {},
   "outputs": [
    {
     "data": {
      "text/plain": [
       "{KRAKEN.F:SWAP:BTCUSD: 0.0}"
      ]
     },
     "execution_count": 75,
     "metadata": {},
     "output_type": "execute_result"
    }
   ],
   "source": [
    "ctx.get_leverages(exchange=\"KRAKEN.F\")"
   ]
  },
  {
   "cell_type": "code",
   "execution_count": 76,
   "metadata": {},
   "outputs": [
    {
     "data": {
      "text/plain": [
       "{BINANCE.UM:SWAP:BTCUSDT: 2025-04-03 13:42:46 [BINANCE.UM:SWAP:BTCUSDT] qty=0.000 entryPrice=0.0 price=82340.1 PNL: (unrealized=0.00 realized=0.00 pnl=0.00) value=0.00,\n",
       " BITMEX:SWAP:BTCUSD: 2025-04-03 13:42:46 [BITMEX:SWAP:BTCUSD] qty=0.00 entryPrice=0.0 price=82312.7 PNL: (unrealized=0.00 realized=0.00 pnl=0.00) value=0.00,\n",
       " KRAKEN.F:SWAP:BTCUSD: 2025-04-03 13:42:46 [KRAKEN.F:SWAP:BTCUSD] qty=0.0000 entryPrice=0 price=82352 PNL: (unrealized=0.00 realized=-308.00 pnl=-308.00) value=0.00}"
      ]
     },
     "execution_count": 76,
     "metadata": {},
     "output_type": "execute_result"
    }
   ],
   "source": [
    "ctx.positions"
   ]
  },
  {
   "cell_type": "code",
   "execution_count": 58,
   "metadata": {},
   "outputs": [],
   "source": [
    "ctx.subscribe(DataType.TRADE)"
   ]
  },
  {
   "cell_type": "code",
   "execution_count": 59,
   "metadata": {},
   "outputs": [
    {
     "data": {
      "text/plain": [
       "[[2025-04-03T13:37:51.151000000]\t82320.00000 (0.06) buy ,\n",
       " [2025-04-03T13:37:51.183000000]\t82320.00000 (0.07) buy ,\n",
       " [2025-04-03T13:37:51.193000000]\t82320.00000 (0.06) buy ,\n",
       " [2025-04-03T13:37:54.408000000]\t82304.00000 (0.06) sell ,\n",
       " [2025-04-03T13:37:54.427000000]\t82299.00000 (0.06) sell ,\n",
       " [2025-04-03T13:37:54.929000000]\t82289.00000 (0.04) sell ,\n",
       " [2025-04-03T13:37:54.984000000]\t82278.00000 (0.01) sell ,\n",
       " [2025-04-03T13:37:55.061000000]\t82275.00000 (0.01) sell ,\n",
       " [2025-04-03T13:37:55.061000000]\t82275.00000 (0.01) sell ,\n",
       " [2025-04-03T13:37:55.235000000]\t82257.00000 (0.01) sell ]"
      ]
     },
     "execution_count": 59,
     "metadata": {},
     "output_type": "execute_result"
    }
   ],
   "source": [
    "ctx.get_data(instr3, DataType.TRADE)[-10:]"
   ]
  },
  {
   "cell_type": "code",
   "execution_count": 14,
   "metadata": {},
   "outputs": [],
   "source": [
    "ctx.stop()"
   ]
  },
  {
   "cell_type": "code",
   "execution_count": 16,
   "metadata": {},
   "outputs": [],
   "source": [
    "import ccxt.pro as cxp\n",
    "\n",
    "bitfinex = cxp.bitfinex()\n",
    "await bitfinex.load_markets();"
   ]
  },
  {
   "cell_type": "code",
   "execution_count": 17,
   "metadata": {},
   "outputs": [],
   "source": [
    "res = bitfinex.has.get(\"watchOrderBookForSymbols\", False)\n",
    "if res:\n",
    "    print(\"support\")"
   ]
  },
  {
   "cell_type": "code",
   "execution_count": null,
   "metadata": {},
   "outputs": [],
   "source": [
    "bitfinex.market(\"BTC/USDT:USDT\")"
   ]
  },
  {
   "cell_type": "code",
   "execution_count": 10,
   "metadata": {},
   "outputs": [
    {
     "data": {
      "text/plain": [
       "{'BTC/USD:USD': {'info': {'premium': 0.0,\n",
       "   'product_id': 'PF_XBTUSD',\n",
       "   'feed': 'ticker_lite',\n",
       "   'bid': 82101.0,\n",
       "   'ask': 82106.0,\n",
       "   'change': -5.64,\n",
       "   'volume': 7919.6894,\n",
       "   'tag': 'perpetual',\n",
       "   'pair': 'XBT:USD',\n",
       "   'dtm': 0,\n",
       "   'maturityTime': 0,\n",
       "   'volumeQuote': 667229839.6259},\n",
       "  'symbol': 'BTC/USD:USD',\n",
       "  'timestamp': None,\n",
       "  'datetime': None,\n",
       "  'high': None,\n",
       "  'low': None,\n",
       "  'bid': 82101.0,\n",
       "  'bidVolume': None,\n",
       "  'ask': 82106.0,\n",
       "  'askVolume': None,\n",
       "  'vwap': 84249.49589890482,\n",
       "  'open': None,\n",
       "  'close': None,\n",
       "  'last': None,\n",
       "  'previousClose': None,\n",
       "  'change': -5.64,\n",
       "  'percentage': None,\n",
       "  'average': None,\n",
       "  'baseVolume': 7919.6894,\n",
       "  'quoteVolume': 667229839.6259,\n",
       "  'markPrice': None,\n",
       "  'indexPrice': None}}"
      ]
     },
     "execution_count": 10,
     "metadata": {},
     "output_type": "execute_result"
    }
   ],
   "source": [
    "await bitfinex.watch_bids_asks([\"BTC/USD:USD\"])"
   ]
  },
  {
   "cell_type": "code",
   "execution_count": 17,
   "metadata": {},
   "outputs": [
    {
     "name": "stdout",
     "output_type": "stream",
     "text": [
      "ob: [[81946.0, 0.00048812, 1.0], [81940.0, 0.0323, 1.0], [81938.0, 0.3608, 1.0], [81936.0, 0.0610402, 1.0], [81931.0, 0.0652, 2.0], [81930.0, 0.00048822, 1.0], [81929.0, 0.21905611, 1.0], [81928.0, 0.3608, 1.0], [81923.0, 0.29207481, 1.0], [81921.0, 0.1467712, 2.0], [81920.0, 0.14030226, 1.0], [81914.0, 0.36626672, 2.0], [81905.0, 0.4389341, 1.0], [81903.0, 0.6106457, 1.0], [81900.0, 0.24030226, 2.0], [81898.0, 0.00048841, 1.0], [81896.0, 0.98444, 1.0], [81892.0, 0.6107308, 1.0], [81888.0, 1.18934667, 2.0], [81887.0, 9.142e-05, 1.0], [81884.0, 0.6107854, 1.0], [81882.0, 0.0004885, 1.0], [81879.0, 0.58524546, 1.0], [81871.0, 0.65840115, 1.0], [81868.0, 1.68124482, 2.0]]\n",
      "ob: [[81946.0, 0.00048812, 1.0], [81940.0, 0.0323, 1.0], [81936.0, 0.0610402, 1.0], [81931.0, 0.0652, 2.0], [81930.0, 0.00048822, 1.0], [81929.0, 0.21905611, 1.0], [81928.0, 0.3608, 1.0], [81923.0, 0.29207481, 1.0], [81921.0, 0.1467712, 2.0], [81920.0, 0.14030226, 1.0], [81914.0, 0.36626672, 2.0], [81905.0, 0.4389341, 1.0], [81903.0, 0.6106457, 1.0], [81900.0, 0.24030226, 2.0], [81898.0, 0.00048841, 1.0], [81896.0, 0.98444, 1.0], [81892.0, 0.6107308, 1.0], [81888.0, 1.18934667, 2.0], [81887.0, 9.142e-05, 1.0], [81884.0, 0.6107854, 1.0], [81882.0, 0.0004885, 1.0], [81879.0, 0.58524546, 1.0], [81871.0, 0.65840115, 1.0], [81868.0, 1.68124482, 2.0]]\n",
      "ob: [[81946.0, 0.00048812, 1.0], [81940.0, 0.0323, 1.0], [81931.0, 0.0652, 2.0], [81930.0, 0.00048822, 1.0], [81929.0, 0.21905611, 1.0], [81928.0, 0.3608, 1.0], [81923.0, 0.29207481, 1.0], [81921.0, 0.1467712, 2.0], [81920.0, 0.14030226, 1.0], [81914.0, 0.36626672, 2.0], [81905.0, 0.4389341, 1.0], [81903.0, 0.6106457, 1.0], [81900.0, 0.24030226, 2.0], [81898.0, 0.00048841, 1.0], [81896.0, 0.98444, 1.0], [81892.0, 0.6107308, 1.0], [81888.0, 1.18934667, 2.0], [81887.0, 9.142e-05, 1.0], [81884.0, 0.6107854, 1.0], [81882.0, 0.0004885, 1.0], [81879.0, 0.58524546, 1.0], [81871.0, 0.65840115, 1.0], [81868.0, 1.68124482, 2.0]]\n",
      "ob: [[81946.0, 0.00048812, 1.0], [81940.0, 0.0323, 1.0], [81931.0, 0.0652, 2.0], [81930.0, 0.00048822, 1.0], [81929.0, 0.21905611, 1.0], [81928.0, 0.3608, 1.0], [81923.0, 0.29207481, 1.0], [81921.0, 0.1467712, 2.0], [81920.0, 0.14030226, 1.0], [81914.0, 0.36626672, 2.0], [81905.0, 0.4389341, 1.0], [81903.0, 0.6106457, 1.0], [81900.0, 0.24030226, 2.0], [81898.0, 0.00048841, 1.0], [81896.0, 0.98444, 1.0], [81892.0, 0.6107308, 1.0], [81888.0, 1.18934667, 2.0], [81887.0, 9.142e-05, 1.0], [81884.0, 0.6107854, 1.0], [81882.0, 0.0004885, 1.0], [81879.0, 0.58524546, 1.0], [81871.0, 0.65840115, 1.0]]\n",
      "ob: [[81946.0, 0.00048812, 1.0], [81940.0, 0.0323, 1.0], [81931.0, 0.0652, 2.0], [81930.0, 0.00048822, 1.0], [81929.0, 0.21905611, 1.0], [81928.0, 0.3608, 1.0], [81923.0, 0.29207481, 1.0], [81921.0, 0.1467712, 2.0], [81920.0, 0.14030226, 1.0], [81914.0, 0.36626672, 2.0], [81905.0, 0.4389341, 1.0], [81903.0, 0.6106457, 1.0], [81900.0, 0.24030226, 2.0], [81898.0, 0.00048841, 1.0], [81896.0, 0.98444, 1.0], [81892.0, 0.6107308, 1.0], [81888.0, 1.18934667, 2.0], [81887.0, 9.142e-05, 1.0], [81884.0, 0.6107854, 1.0], [81882.0, 0.0004885, 1.0], [81879.0, 0.58524546, 1.0], [81871.0, 0.65840115, 1.0]]\n",
      "ob: [[81946.0, 0.00048812, 1.0], [81940.0, 0.0323, 1.0], [81937.0, 0.1220789, 1.0], [81931.0, 0.0652, 2.0], [81930.0, 0.00048822, 1.0], [81929.0, 0.21905611, 1.0], [81928.0, 0.3608, 1.0], [81923.0, 0.29207481, 1.0], [81921.0, 0.1467712, 2.0], [81920.0, 0.14030226, 1.0], [81914.0, 0.36626672, 2.0], [81905.0, 0.4389341, 1.0], [81903.0, 0.6106457, 1.0], [81900.0, 0.24030226, 2.0], [81898.0, 0.00048841, 1.0], [81896.0, 0.98444, 1.0], [81892.0, 0.6107308, 1.0], [81888.0, 1.18934667, 2.0], [81887.0, 9.142e-05, 1.0], [81884.0, 0.6107854, 1.0], [81882.0, 0.0004885, 1.0], [81879.0, 0.58524546, 1.0], [81871.0, 0.65840115, 1.0]]\n"
     ]
    }
   ],
   "source": [
    "count = 0\n",
    "try:\n",
    "    while True:\n",
    "        # quote = await bitfinex.watch_ticker(\"BTC/USDT:USDT\")\n",
    "        # print(f\"Quote: {quote['bid']} ({quote['bidVolume']}) - {quote['ask']} ({quote['askVolume']})\")\n",
    "        ob = await bitfinex.watch_order_book(\"BTC/USDT:USDT\")\n",
    "        print(f\"ob: {ob['bids']}\")\n",
    "        # quote = await bitfinex.watch_bids_asks([\"BTC/USDT:USDT\"])\n",
    "        # print(f\"Quote: {quote['bid']} ({quote['bidVolume']}) - {quote['ask']} ({quote['askVolume']})\")\n",
    "        count += 1\n",
    "        if count > 5:\n",
    "            break\n",
    "except KeyboardInterrupt:\n",
    "    pass\n"
   ]
  },
  {
   "cell_type": "code",
   "execution_count": 8,
   "metadata": {},
   "outputs": [],
   "source": [
    "ob = await bitfinex.watch_order_book(\"BTC/USDT:USDT\")"
   ]
  },
  {
   "cell_type": "code",
   "execution_count": 9,
   "metadata": {},
   "outputs": [
    {
     "data": {
      "text/plain": [
       "{'bids': [[81847.0, 0.1516, 2.0], [81844.0, 0.3608, 1.0], [81841.0, 0.0001833, 1.0], [81840.0, 0.3608, 1.0], [81838.0, 0.16435388, 1.0], [81836.0, 0.09492, 1.0], [81835.0, 0.1278, 1.0], [81834.0, 0.00048879, 1.0], [81827.0, 0.6112723, 1.0], [81826.0, 1.5, 1.0], [81824.0, 0.00927511, 1.0], [81818.0, 0.69208889, 2.0], [81815.0, 0.6113653, 1.0], [81806.0, 0.005, 1.0], [81804.0, 0.98616, 1.0], [81802.0, 0.00048898, 1.0], [81800.0, 0.16435388, 1.0], [81798.0, 0.28931293, 1.0], [81795.0, 0.00183391, 1.0], [81789.0, 0.3620895, 1.0], [81786.0, 0.00048908, 1.0], [81783.0, 0.00932277, 1.0], [81780.0, 2.88156237, 2.0], [81770.0, 0.00048917, 1.0], [81765.0, 0.52619836, 2.0]],\n",
       " 'asks': [[81875.0, 0.0004, 1.0], [81876.0, 0.00132, 1.0], [81880.0, 0.00895081, 1.0], [81881.0, 0.3608, 1.0], [81882.0, 0.09488, 1.0], [81888.0, 0.25445825, 1.0], [81891.0, 0.0004, 1.0], [81893.0, 0.3608, 1.0], [81895.0, 0.4176, 1.0], [81896.0, 0.29080943, 1.0], [81898.0, 0.98628, 1.0], [81900.0, 0.26435388, 2.0], [81907.0, 0.0004, 1.0], [81920.0, 0.16435388, 1.0], [81923.0, 0.0004, 1.0], [81924.0, 0.32463122, 1.0], [81929.0, 0.19718266, 2.0], [81932.0, 0.36474106, 1.0], [81933.0, 0.0012, 1.0], [81939.0, 0.0004, 1.0], [81940.0, 0.40121516, 1.0], [81941.0, 0.2031, 1.0], [81949.0, 0.10921356, 1.0], [81955.0, 0.0004, 1.0], [81968.0, 0.18922269, 1.0]],\n",
       " 'timestamp': None,\n",
       " 'datetime': None,\n",
       " 'nonce': None,\n",
       " 'symbol': 'BTC/USDT:USDT'}"
      ]
     },
     "execution_count": 9,
     "metadata": {},
     "output_type": "execute_result"
    }
   ],
   "source": [
    "ob"
   ]
  },
  {
   "cell_type": "code",
   "execution_count": null,
   "metadata": {},
   "outputs": [],
   "source": [
    "bitmex.market(instrument_to_ccxt_symbol(instr))"
   ]
  },
  {
   "cell_type": "code",
   "execution_count": 18,
   "metadata": {},
   "outputs": [],
   "source": [
    "await bitfinex.close()"
   ]
  },
  {
   "cell_type": "code",
   "execution_count": 18,
   "metadata": {},
   "outputs": [
    {
     "name": "stdout",
     "output_type": "stream",
     "text": [
      "{'info': {'timestamp': '2025-04-03T13:25:24.568Z', 'symbol': 'XBTUSDT', 'side': 'Buy', 'size': 58500, 'price': 81949.9, 'tickDirection': 'PlusTick', 'trdMatchID': '00000000-006d-1000-0000-0015cc7cedb2', 'grossValue': 4794069150, 'homeNotional': 0.0585, 'foreignNotional': 4794.06915, 'trdType': 'Regular'}, 'timestamp': 1743686724568, 'datetime': '2025-04-03T13:25:24.568Z', 'symbol': 'BTC/USDT:USDT', 'id': '00000000-006d-1000-0000-0015cc7cedb2', 'order': None, 'type': None, 'takerOrMaker': None, 'side': 'buy', 'price': 81949.9, 'cost': 4794.06915, 'amount': 58500.0, 'fee': {'cost': None, 'currency': None}, 'fees': []}\n",
      "{'info': {'timestamp': '2025-04-03T13:25:36.051Z', 'symbol': 'XBTUSDT', 'side': 'Buy', 'size': 400, 'price': 81942.0, 'tickDirection': 'MinusTick', 'trdMatchID': '00000000-006d-1000-0000-0015cc7dae27', 'grossValue': 32776800, 'homeNotional': 0.0004, 'foreignNotional': 32.7768, 'trdType': 'Regular'}, 'timestamp': 1743686736051, 'datetime': '2025-04-03T13:25:36.051Z', 'symbol': 'BTC/USDT:USDT', 'id': '00000000-006d-1000-0000-0015cc7dae27', 'order': None, 'type': None, 'takerOrMaker': None, 'side': 'buy', 'price': 81942.0, 'cost': 32.7768, 'amount': 400.0, 'fee': {'cost': None, 'currency': None}, 'fees': []}\n",
      "{'info': {'timestamp': '2025-04-03T13:25:40.034Z', 'symbol': 'XBTUSDT', 'side': 'Sell', 'size': 5800, 'price': 81938.3, 'tickDirection': 'MinusTick', 'trdMatchID': '00000000-006d-1000-0000-0015cc7dee2a', 'grossValue': 475242140, 'homeNotional': 0.0058, 'foreignNotional': 475.24214, 'trdType': 'Regular'}, 'timestamp': 1743686740034, 'datetime': '2025-04-03T13:25:40.034Z', 'symbol': 'BTC/USDT:USDT', 'id': '00000000-006d-1000-0000-0015cc7dee2a', 'order': None, 'type': None, 'takerOrMaker': None, 'side': 'sell', 'price': 81938.3, 'cost': 475.24214, 'amount': 5800.0, 'fee': {'cost': None, 'currency': None}, 'fees': []}\n",
      "{'info': {'timestamp': '2025-04-03T13:25:48.693Z', 'symbol': 'XBTUSDT', 'side': 'Buy', 'size': 100, 'price': 81974.6, 'tickDirection': 'PlusTick', 'trdMatchID': '00000000-006d-1000-0000-0015cc7e6d69', 'grossValue': 8197460, 'homeNotional': 0.0001, 'foreignNotional': 8.19746, 'trdType': 'Regular'}, 'timestamp': 1743686748693, 'datetime': '2025-04-03T13:25:48.693Z', 'symbol': 'BTC/USDT:USDT', 'id': '00000000-006d-1000-0000-0015cc7e6d69', 'order': None, 'type': None, 'takerOrMaker': None, 'side': 'buy', 'price': 81974.6, 'cost': 8.19746, 'amount': 100.0, 'fee': {'cost': None, 'currency': None}, 'fees': []}\n",
      "{'info': {'timestamp': '2025-04-03T13:25:48.693Z', 'symbol': 'XBTUSDT', 'side': 'Buy', 'size': 400, 'price': 81982.0, 'tickDirection': 'PlusTick', 'trdMatchID': '00000000-006d-1000-0000-0015cc7e6d6c', 'grossValue': 32792800, 'homeNotional': 0.0004, 'foreignNotional': 32.7928, 'trdType': 'Regular'}, 'timestamp': 1743686748693, 'datetime': '2025-04-03T13:25:48.693Z', 'symbol': 'BTC/USDT:USDT', 'id': '00000000-006d-1000-0000-0015cc7e6d6c', 'order': None, 'type': None, 'takerOrMaker': None, 'side': 'buy', 'price': 81982.0, 'cost': 32.7928, 'amount': 400.0, 'fee': {'cost': None, 'currency': None}, 'fees': []}\n",
      "{'info': {'timestamp': '2025-04-03T13:25:48.693Z', 'symbol': 'XBTUSDT', 'side': 'Buy', 'size': 500, 'price': 81995.1, 'tickDirection': 'PlusTick', 'trdMatchID': '00000000-006d-1000-0000-0015cc7e6d6f', 'grossValue': 40997550, 'homeNotional': 0.0005, 'foreignNotional': 40.99755, 'trdType': 'Regular'}, 'timestamp': 1743686748693, 'datetime': '2025-04-03T13:25:48.693Z', 'symbol': 'BTC/USDT:USDT', 'id': '00000000-006d-1000-0000-0015cc7e6d6f', 'order': None, 'type': None, 'takerOrMaker': None, 'side': 'buy', 'price': 81995.1, 'cost': 40.99755, 'amount': 500.0, 'fee': {'cost': None, 'currency': None}, 'fees': []}\n",
      "{'info': {'timestamp': '2025-04-03T13:26:00.218Z', 'symbol': 'XBTUSDT', 'side': 'Sell', 'size': 1000, 'price': 81951.2, 'tickDirection': 'MinusTick', 'trdMatchID': '00000000-006d-1000-0000-0015cc7f1ef0', 'grossValue': 81951200, 'homeNotional': 0.001, 'foreignNotional': 81.9512, 'trdType': 'Regular'}, 'timestamp': 1743686760218, 'datetime': '2025-04-03T13:26:00.218Z', 'symbol': 'BTC/USDT:USDT', 'id': '00000000-006d-1000-0000-0015cc7f1ef0', 'order': None, 'type': None, 'takerOrMaker': None, 'side': 'sell', 'price': 81951.2, 'cost': 81.9512, 'amount': 1000.0, 'fee': {'cost': None, 'currency': None}, 'fees': []}\n",
      "{'info': {'timestamp': '2025-04-03T13:26:00.294Z', 'symbol': 'XBTUSDT', 'side': 'Sell', 'size': 1000, 'price': 81946.3, 'tickDirection': 'MinusTick', 'trdMatchID': '00000000-006d-1000-0000-0015cc7f2370', 'grossValue': 81946300, 'homeNotional': 0.001, 'foreignNotional': 81.9463, 'trdType': 'Regular'}, 'timestamp': 1743686760294, 'datetime': '2025-04-03T13:26:00.294Z', 'symbol': 'BTC/USDT:USDT', 'id': '00000000-006d-1000-0000-0015cc7f2370', 'order': None, 'type': None, 'takerOrMaker': None, 'side': 'sell', 'price': 81946.3, 'cost': 81.9463, 'amount': 1000.0, 'fee': {'cost': None, 'currency': None}, 'fees': []}\n",
      "{'info': {'timestamp': '2025-04-03T13:26:01.874Z', 'symbol': 'XBTUSDT', 'side': 'Sell', 'size': 40000, 'price': 81931.8, 'tickDirection': 'MinusTick', 'trdMatchID': '00000000-006d-1000-0000-0015cc7f47c5', 'grossValue': 3277272000, 'homeNotional': 0.04, 'foreignNotional': 3277.272, 'trdType': 'Regular'}, 'timestamp': 1743686761874, 'datetime': '2025-04-03T13:26:01.874Z', 'symbol': 'BTC/USDT:USDT', 'id': '00000000-006d-1000-0000-0015cc7f47c5', 'order': None, 'type': None, 'takerOrMaker': None, 'side': 'sell', 'price': 81931.8, 'cost': 3277.272, 'amount': 40000.0, 'fee': {'cost': None, 'currency': None}, 'fees': []}\n",
      "{'info': {'timestamp': '2025-04-03T13:26:01.892Z', 'symbol': 'XBTUSDT', 'side': 'Sell', 'size': 40000, 'price': 81931.8, 'tickDirection': 'ZeroMinusTick', 'trdMatchID': '00000000-006d-1000-0000-0015cc7f48fc', 'grossValue': 3277272000, 'homeNotional': 0.04, 'foreignNotional': 3277.272, 'trdType': 'Regular'}, 'timestamp': 1743686761892, 'datetime': '2025-04-03T13:26:01.892Z', 'symbol': 'BTC/USDT:USDT', 'id': '00000000-006d-1000-0000-0015cc7f48fc', 'order': None, 'type': None, 'takerOrMaker': None, 'side': 'sell', 'price': 81931.8, 'cost': 3277.272, 'amount': 40000.0, 'fee': {'cost': None, 'currency': None}, 'fees': []}\n",
      "{'info': {'timestamp': '2025-04-03T13:26:01.892Z', 'symbol': 'XBTUSDT', 'side': 'Sell', 'size': 20000, 'price': 81931.8, 'tickDirection': 'ZeroMinusTick', 'trdMatchID': '00000000-006d-1000-0000-0015cc7f4909', 'grossValue': 1638636000, 'homeNotional': 0.02, 'foreignNotional': 1638.636, 'trdType': 'Regular'}, 'timestamp': 1743686761892, 'datetime': '2025-04-03T13:26:01.892Z', 'symbol': 'BTC/USDT:USDT', 'id': '00000000-006d-1000-0000-0015cc7f4909', 'order': None, 'type': None, 'takerOrMaker': None, 'side': 'sell', 'price': 81931.8, 'cost': 1638.636, 'amount': 20000.0, 'fee': {'cost': None, 'currency': None}, 'fees': []}\n",
      "{'info': {'timestamp': '2025-04-03T13:26:01.893Z', 'symbol': 'XBTUSDT', 'side': 'Sell', 'size': 39400, 'price': 81931.8, 'tickDirection': 'ZeroMinusTick', 'trdMatchID': '00000000-006d-1000-0000-0015cc7f491e', 'grossValue': 3228112920, 'homeNotional': 0.0394, 'foreignNotional': 3228.11292, 'trdType': 'Regular'}, 'timestamp': 1743686761893, 'datetime': '2025-04-03T13:26:01.893Z', 'symbol': 'BTC/USDT:USDT', 'id': '00000000-006d-1000-0000-0015cc7f491e', 'order': None, 'type': None, 'takerOrMaker': None, 'side': 'sell', 'price': 81931.8, 'cost': 3228.11292, 'amount': 39400.0, 'fee': {'cost': None, 'currency': None}, 'fees': []}\n"
     ]
    },
    {
     "ename": "CancelledError",
     "evalue": "",
     "output_type": "error",
     "traceback": [
      "\u001b[0;31m---------------------------------------------------------------------------\u001b[0m",
      "\u001b[0;31mCancelledError\u001b[0m                            Traceback (most recent call last)",
      "Cell \u001b[0;32mIn[18], line 3\u001b[0m\n\u001b[1;32m      1\u001b[0m \u001b[38;5;28;01mtry\u001b[39;00m:\n\u001b[1;32m      2\u001b[0m     \u001b[38;5;28;01mwhile\u001b[39;00m \u001b[38;5;28;01mTrue\u001b[39;00m:\n\u001b[0;32m----> 3\u001b[0m         trades \u001b[38;5;241m=\u001b[39m \u001b[38;5;28;01mawait\u001b[39;00m bitmex\u001b[38;5;241m.\u001b[39mwatch_trades_for_symbols([\u001b[38;5;124m\"\u001b[39m\u001b[38;5;124mBTC/USDT:USDT\u001b[39m\u001b[38;5;124m\"\u001b[39m])\n\u001b[1;32m      4\u001b[0m         \u001b[38;5;28;01mfor\u001b[39;00m trade \u001b[38;5;129;01min\u001b[39;00m trades:\n\u001b[1;32m      5\u001b[0m             \u001b[38;5;28mprint\u001b[39m(trade)\n",
      "File \u001b[0;32m~/.cache/pypoetry/virtualenvs/qubx-QjLytwEC-py3.12/lib/python3.12/site-packages/ccxt/pro/bitmex.py:1316\u001b[0m, in \u001b[0;36mbitmex.watch_trades_for_symbols\u001b[0;34m(self, symbols, since, limit, params)\u001b[0m\n\u001b[1;32m   1311\u001b[0m url \u001b[38;5;241m=\u001b[39m \u001b[38;5;28mself\u001b[39m\u001b[38;5;241m.\u001b[39murls[\u001b[38;5;124m'\u001b[39m\u001b[38;5;124mapi\u001b[39m\u001b[38;5;124m'\u001b[39m][\u001b[38;5;124m'\u001b[39m\u001b[38;5;124mws\u001b[39m\u001b[38;5;124m'\u001b[39m]\n\u001b[1;32m   1312\u001b[0m request: \u001b[38;5;28mdict\u001b[39m \u001b[38;5;241m=\u001b[39m {\n\u001b[1;32m   1313\u001b[0m     \u001b[38;5;124m'\u001b[39m\u001b[38;5;124mop\u001b[39m\u001b[38;5;124m'\u001b[39m: \u001b[38;5;124m'\u001b[39m\u001b[38;5;124msubscribe\u001b[39m\u001b[38;5;124m'\u001b[39m,\n\u001b[1;32m   1314\u001b[0m     \u001b[38;5;124m'\u001b[39m\u001b[38;5;124margs\u001b[39m\u001b[38;5;124m'\u001b[39m: topics,\n\u001b[1;32m   1315\u001b[0m }\n\u001b[0;32m-> 1316\u001b[0m trades \u001b[38;5;241m=\u001b[39m \u001b[38;5;28;01mawait\u001b[39;00m \u001b[38;5;28mself\u001b[39m\u001b[38;5;241m.\u001b[39mwatch_multiple(url, messageHashes, \u001b[38;5;28mself\u001b[39m\u001b[38;5;241m.\u001b[39mdeep_extend(request, params), topics)\n\u001b[1;32m   1317\u001b[0m \u001b[38;5;28;01mif\u001b[39;00m \u001b[38;5;28mself\u001b[39m\u001b[38;5;241m.\u001b[39mnewUpdates:\n\u001b[1;32m   1318\u001b[0m     first \u001b[38;5;241m=\u001b[39m \u001b[38;5;28mself\u001b[39m\u001b[38;5;241m.\u001b[39msafe_value(trades, \u001b[38;5;241m0\u001b[39m)\n",
      "\u001b[0;31mCancelledError\u001b[0m: "
     ]
    }
   ],
   "source": [
    "try:\n",
    "    while True:\n",
    "        trades = await bitmex.watch_trades_for_symbols([\"BTC/USDT:USDT\"])\n",
    "        for trade in trades:\n",
    "            print(trade)\n",
    "except KeyboardInterrupt:\n",
    "    pass"
   ]
  },
  {
   "cell_type": "code",
   "execution_count": 64,
   "metadata": {},
   "outputs": [
    {
     "data": {
      "text/plain": [
       "[2025-04-03T13:20:38.069000000]\t81863.70000 (10000.00) buy "
      ]
     },
     "execution_count": 64,
     "metadata": {},
     "output_type": "execute_result"
    }
   ],
   "source": [
    "from qubx.connectors.ccxt.utils import ccxt_convert_trade\n",
    "ccxt_convert_trade(trades[0])"
   ]
  },
  {
   "cell_type": "code",
   "execution_count": null,
   "metadata": {},
   "outputs": [],
   "source": []
  }
 ],
 "metadata": {
  "kernelspec": {
   "display_name": "qubx",
   "language": "python",
   "name": "qubx"
  }
 },
 "nbformat": 4,
 "nbformat_minor": 2
}
