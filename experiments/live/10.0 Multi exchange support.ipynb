{
 "cells": [
  {
   "cell_type": "code",
   "execution_count": 22,
   "metadata": {},
   "outputs": [
    {
     "name": "stdout",
     "output_type": "stream",
     "text": [
      "The autoreload extension is already loaded. To reload it, use:\n",
      "  %reload_ext autoreload\n"
     ]
    },
    {
     "data": {
      "text/html": [
       "<style> .cell-output-ipywidget-background { background-color: transparent !important; } :root { --jp-widgets-color: var(--vscode-editor-foreground); --jp-widgets-font-size: var(--vscode-editor-font-size); } .widget-hprogress, .jupyter-widget-hprogress { height: 16px; align-self: center; kj} table.dataframe, .dataframe td, .dataframe tr { border: 1px solid #55554a85; border-collapse: collapse; color: #859548d9 !important; } .dataframe th { border: 1px solid #55554a85; border-collapse: collapse; background-color: #010101 !important; color: #177 !important; } </style>"
      ],
      "text/plain": [
       "<IPython.core.display.HTML object>"
      ]
     },
     "metadata": {},
     "output_type": "display_data"
    }
   ],
   "source": [
    "%load_ext autoreload\n",
    "%autoreload 2\n",
    "\n",
    "import qubx\n",
    "%qubxd\n",
    "\n",
    "from pathlib import Path\n",
    "from qubx.core.lookups import lookup\n",
    "from qubx.core.basics import DataType\n",
    "from qubx import logger, QubxLogConfig\n",
    "from qubx.utils.runner.runner import run_strategy, StrategyConfig, AccountConfigurationManager, ExchangeConfig, LoggingConfig\n",
    "from qubx.core.interfaces import IStrategy, IStrategyContext, BaseErrorEvent\n",
    "from qubx.connectors.ccxt.utils import instrument_to_ccxt_symbol, ccxt_convert_orderbook\n",
    "\n",
    "QubxLogConfig.set_log_level(\"INFO\")"
   ]
  },
  {
   "cell_type": "code",
   "execution_count": 40,
   "metadata": {},
   "outputs": [
    {
     "data": {
      "text/plain": [
       "BITMEX:SWAP:BTCUSD"
      ]
     },
     "execution_count": 40,
     "metadata": {},
     "output_type": "execute_result"
    }
   ],
   "source": [
    "instr = lookup.find_symbol(\"BITMEX\", \"BTCUSD\")\n",
    "assert instr is not None, \"Got wrong instrument\"\n",
    "instr"
   ]
  },
  {
   "cell_type": "code",
   "execution_count": 42,
   "metadata": {},
   "outputs": [
    {
     "data": {
      "text/plain": [
       "'BTC/USD:BTC'"
      ]
     },
     "execution_count": 42,
     "metadata": {},
     "output_type": "execute_result"
    }
   ],
   "source": [
    "instrument_to_ccxt_symbol(instr)"
   ]
  },
  {
   "cell_type": "code",
   "execution_count": 41,
   "metadata": {},
   "outputs": [
    {
     "data": {
      "text/plain": [
       "'XBTUSD'"
      ]
     },
     "execution_count": 41,
     "metadata": {},
     "output_type": "execute_result"
    }
   ],
   "source": [
    "instr.exchange_symbol"
   ]
  },
  {
   "cell_type": "code",
   "execution_count": 55,
   "metadata": {},
   "outputs": [
    {
     "name": "stdout",
     "output_type": "stream",
     "text": [
      "\u001b[96m2025-04-03 13:36:59.202\u001b[0m [\u001b[1mℹ️\u001b[0m] \u001b[1m\u001b[33mBINANCE.UM\u001b[0m\u001b[1m Initialized\u001b[0m\n",
      "\u001b[96m2025-04-03 13:36:59.208\u001b[0m [\u001b[1mℹ️\u001b[0m] \u001b[1m\u001b[33mBITMEX\u001b[0m\u001b[1m Initialized\u001b[0m\n",
      "\u001b[96m2025-04-03 13:36:59.213\u001b[0m [\u001b[1mℹ️\u001b[0m] \u001b[1m\u001b[33mKRAKEN.F\u001b[0m\u001b[1m Initialized\u001b[0m\n",
      "\u001b[96m2025-04-03 13:36:59.213\u001b[0m [\u001b[1mℹ️\u001b[0m] \u001b[1m- Strategy: \u001b[34mTestStrategy\u001b[0m\u001b[1m\n",
      "- Mode: paper\n",
      "- Parameters: {}\u001b[0m\n",
      "\u001b[96m2025-04-03 13:36:59.217\u001b[0m [\u001b[1mℹ️\u001b[0m] \u001b[1m\u001b[33mKRAKEN.F\u001b[0m\u001b[1m Listening to BTC/USD:USD orderbook\u001b[0m\n",
      "\u001b[96m2025-04-03 13:36:59.218\u001b[0m [\u001b[1mℹ️\u001b[0m] \u001b[1m\u001b[33mBINANCE.UM\u001b[0m\u001b[1m Listening to BTC/USDT:USDT orderbook\u001b[0m\n",
      "\u001b[96m2025-04-03 13:36:59.218\u001b[0m [\u001b[1mℹ️\u001b[0m] \u001b[1m[StrategyContext] :: Start processing market data\u001b[0m\n",
      "\u001b[96m2025-04-03 13:36:59.218\u001b[0m [\u001b[1mℹ️\u001b[0m] \u001b[1m\u001b[33mBITMEX\u001b[0m\u001b[1m Listening to BTC/USD:BTC orderbook\u001b[0m\n",
      "\u001b[96m2025-04-03 13:36:59.219\u001b[0m [\u001b[1mℹ️\u001b[0m] \u001b[1m[StrategyContext] :: strategy is started in thread\u001b[0m\n"
     ]
    },
    {
     "name": "stdout",
     "output_type": "stream",
     "text": [
      "\u001b[96m2025-04-03 13:36:59.758\u001b[0m [\u001b[1mℹ️\u001b[0m] \u001b[1mHeartbeat at 2025-04-03T13:30:00\u001b[0m\n",
      "\u001b[96m2025-04-03 13:37:47.310\u001b[0m [\u001b[1mℹ️\u001b[0m] \u001b[1m\u001b[33mBITMEX\u001b[0m\u001b[1m Listening to BTC/USD:BTC trade\u001b[0m\n",
      "\u001b[96m2025-04-03 13:37:47.312\u001b[0m [\u001b[1mℹ️\u001b[0m] \u001b[1m\u001b[33mKRAKEN.F\u001b[0m\u001b[1m Listening to BTC/USD:USD trade\u001b[0m\n",
      "\u001b[96m2025-04-03 13:37:47.313\u001b[0m [\u001b[1mℹ️\u001b[0m] \u001b[1m\u001b[33mBINANCE.UM\u001b[0m\u001b[1m Listening to BTC/USDT:USDT trade\u001b[0m\n",
      "\u001b[96m2025-04-03 13:40:00.006\u001b[0m [\u001b[1mℹ️\u001b[0m] \u001b[1mHeartbeat at 2025-04-03T13:40:00\u001b[0m\n",
      "\u001b[96m2025-04-03 13:43:57.162\u001b[0m [\u001b[1mℹ️\u001b[0m] \u001b[1mStopping test strategy\u001b[0m\n",
      "\u001b[96m2025-04-03 13:43:57.182\u001b[0m [\u001b[1mℹ️\u001b[0m] \u001b[1m\u001b[33mBINANCE.UM\u001b[0m\u001b[1m BTC/USDT:USDT orderbook listening has been stopped\u001b[0m\n",
      "\u001b[96m2025-04-03 13:43:57.194\u001b[0m [\u001b[1mℹ️\u001b[0m] \u001b[1m\u001b[33mBINANCE.UM\u001b[0m\u001b[1m BTC/USDT:USDT trade listening has been stopped\u001b[0m\n",
      "\u001b[96m2025-04-03 13:43:57.441\u001b[0m [\u001b[1mℹ️\u001b[0m] \u001b[1m\u001b[33mBITMEX\u001b[0m\u001b[1m BTC/USD:BTC trade listening has been stopped\u001b[0m\n",
      "\u001b[96m2025-04-03 13:43:57.443\u001b[0m [\u001b[1mℹ️\u001b[0m] \u001b[1m\u001b[33mBITMEX\u001b[0m\u001b[1m BTC/USD:BTC orderbook listening has been stopped\u001b[0m\n",
      "\u001b[96m2025-04-03 13:43:57.693\u001b[0m [\u001b[1mℹ️\u001b[0m] \u001b[1m\u001b[33mKRAKEN.F\u001b[0m\u001b[1m BTC/USD:USD trade listening has been stopped\u001b[0m\n",
      "\u001b[96m2025-04-03 13:43:57.694\u001b[0m [\u001b[1mℹ️\u001b[0m] \u001b[1m\u001b[33mKRAKEN.F\u001b[0m\u001b[1m BTC/USD:USD orderbook listening has been stopped\u001b[0m\n",
      "\u001b[96m2025-04-03 13:43:57.944\u001b[0m [\u001b[1mℹ️\u001b[0m] \u001b[1m[StrategyContext] :: Market data processing stopped\u001b[0m\n"
     ]
    }
   ],
   "source": [
    "class TestStrategy(IStrategy):\n",
    "    def on_error(self, ctx: IStrategyContext, error: BaseErrorEvent) -> None:\n",
    "        logger.error(f\"Error: {error}\")\n",
    "\n",
    "    def on_stop(self, ctx: IStrategyContext):\n",
    "        logger.info(\"Stopping test strategy\")\n",
    "\n",
    "\n",
    "ctx = run_strategy(\n",
    "    config=StrategyConfig(\n",
    "        name=\"TestStrategy\",\n",
    "        strategy=TestStrategy,\n",
    "        exchanges={\n",
    "            \"BINANCE.UM\": ExchangeConfig(\n",
    "                connector=\"ccxt\",\n",
    "                universe=[\"BTCUSDT\"],\n",
    "            ),\n",
    "            \"BITMEX\": ExchangeConfig(\n",
    "                connector=\"ccxt\",\n",
    "                universe=[\"BTCUSD\"],\n",
    "            ),\n",
    "            \"KRAKEN.F\": ExchangeConfig(\n",
    "                connector=\"ccxt\",\n",
    "                universe=[\"BTCUSD\"],\n",
    "            ),\n",
    "        },\n",
    "        logging=LoggingConfig(\n",
    "            logger=\"InMemoryLogsWriter\",\n",
    "            position_interval=\"10s\",\n",
    "            portfolio_interval=\"1m\",\n",
    "            heartbeat_interval=\"10m\",\n",
    "        )\n",
    "    ),\n",
    "    account_manager=AccountConfigurationManager(),\n",
    "    paper=True,\n",
    "    blocking=False,\n",
    ")"
   ]
  },
  {
   "cell_type": "code",
   "execution_count": 47,
   "metadata": {},
   "outputs": [
    {
     "data": {
      "text/plain": [
       "[BINANCE.UM:SWAP:BTCUSDT, BITMEX:SWAP:BTCUSD]"
      ]
     },
     "execution_count": 47,
     "metadata": {},
     "output_type": "execute_result"
    }
   ],
   "source": [
    "ctx.instruments"
   ]
  },
  {
   "cell_type": "code",
   "execution_count": 77,
   "metadata": {},
   "outputs": [
    {
     "name": "stdout",
     "output_type": "stream",
     "text": [
      "BINANCE.UM:SWAP:BTCUSDT: [2025-04-03T13:43:49.443000000]\t82265.90000 (9.0) | 82266.00000 (20.6)\n",
      "BITMEX:SWAP:BTCUSD: [2025-04-03T13:43:49.545000000]\t82245.00000 (100.0) | 82245.10000 (98400.0)\n",
      "KRAKEN.F:SWAP:BTCUSD: [2025-04-03T13:43:49.575000000]\t82287.00000 (0.1) | 82288.00000 (1.3)\n"
     ]
    }
   ],
   "source": [
    "instr1 = ctx.instruments[0]\n",
    "instr2 = ctx.instruments[1]\n",
    "instr3 = ctx.instruments[2]\n",
    "\n",
    "q1 = ctx.quote(instr1)\n",
    "q2 = ctx.quote(instr2)\n",
    "q3 = ctx.quote(instr3)\n",
    "\n",
    "print(f\"{instr1}: {q1}\")\n",
    "print(f\"{instr2}: {q2}\")\n",
    "print(f\"{instr3}: {q3}\")\n"
   ]
  },
  {
   "cell_type": "code",
   "execution_count": 62,
   "metadata": {},
   "outputs": [
    {
     "data": {
      "text/plain": [
       "{'USDT': AssetBalance(free=100000.0, locked=0.0, total=100000.0)}"
      ]
     },
     "execution_count": 62,
     "metadata": {},
     "output_type": "execute_result"
    }
   ],
   "source": [
    "ctx.get_balances(exchange=\"KRAKEN.F\")"
   ]
  },
  {
   "cell_type": "code",
   "execution_count": 74,
   "metadata": {},
   "outputs": [
    {
     "data": {
      "text/plain": [
       "Order(id='SIM-ORDER-BTCUSD-100004', type='MARKET', instrument=KRAKEN.F:SWAP:BTCUSD, time=numpy.datetime64('2025-04-03T13:42:42.282391296'), quantity=1.0, price=0, side='BUY', status='CLOSED', time_in_force='gtc', client_id='qubx_BTCUSD_17436875922', cost=0.0, options={})"
      ]
     },
     "execution_count": 74,
     "metadata": {},
     "output_type": "execute_result"
    }
   ],
   "source": [
    "ctx.trade(instr3, 1.0)"
   ]
  },
  {
   "cell_type": "code",
   "execution_count": 75,
   "metadata": {},
   "outputs": [
    {
     "data": {
      "text/plain": [
       "{KRAKEN.F:SWAP:BTCUSD: 0.0}"
      ]
     },
     "execution_count": 75,
     "metadata": {},
     "output_type": "execute_result"
    }
   ],
   "source": [
    "ctx.get_leverages(exchange=\"KRAKEN.F\")"
   ]
  },
  {
   "cell_type": "code",
   "execution_count": 76,
   "metadata": {},
   "outputs": [
    {
     "data": {
      "text/plain": [
       "{BINANCE.UM:SWAP:BTCUSDT: 2025-04-03 13:42:46 [BINANCE.UM:SWAP:BTCUSDT] qty=0.000 entryPrice=0.0 price=82340.1 PNL: (unrealized=0.00 realized=0.00 pnl=0.00) value=0.00,\n",
       " BITMEX:SWAP:BTCUSD: 2025-04-03 13:42:46 [BITMEX:SWAP:BTCUSD] qty=0.00 entryPrice=0.0 price=82312.7 PNL: (unrealized=0.00 realized=0.00 pnl=0.00) value=0.00,\n",
       " KRAKEN.F:SWAP:BTCUSD: 2025-04-03 13:42:46 [KRAKEN.F:SWAP:BTCUSD] qty=0.0000 entryPrice=0 price=82352 PNL: (unrealized=0.00 realized=-308.00 pnl=-308.00) value=0.00}"
      ]
     },
     "execution_count": 76,
     "metadata": {},
     "output_type": "execute_result"
    }
   ],
   "source": [
    "ctx.positions"
   ]
  },
  {
   "cell_type": "code",
   "execution_count": 58,
   "metadata": {},
   "outputs": [],
   "source": [
    "ctx.subscribe(DataType.TRADE)"
   ]
  },
  {
   "cell_type": "code",
   "execution_count": 59,
   "metadata": {},
   "outputs": [
    {
     "data": {
      "text/plain": [
       "[[2025-04-03T13:37:51.151000000]\t82320.00000 (0.06) buy ,\n",
       " [2025-04-03T13:37:51.183000000]\t82320.00000 (0.07) buy ,\n",
       " [2025-04-03T13:37:51.193000000]\t82320.00000 (0.06) buy ,\n",
       " [2025-04-03T13:37:54.408000000]\t82304.00000 (0.06) sell ,\n",
       " [2025-04-03T13:37:54.427000000]\t82299.00000 (0.06) sell ,\n",
       " [2025-04-03T13:37:54.929000000]\t82289.00000 (0.04) sell ,\n",
       " [2025-04-03T13:37:54.984000000]\t82278.00000 (0.01) sell ,\n",
       " [2025-04-03T13:37:55.061000000]\t82275.00000 (0.01) sell ,\n",
       " [2025-04-03T13:37:55.061000000]\t82275.00000 (0.01) sell ,\n",
       " [2025-04-03T13:37:55.235000000]\t82257.00000 (0.01) sell ]"
      ]
     },
     "execution_count": 59,
     "metadata": {},
     "output_type": "execute_result"
    }
   ],
   "source": [
    "ctx.get_data(instr3, DataType.TRADE)[-10:]"
   ]
  },
  {
   "cell_type": "code",
   "execution_count": 78,
   "metadata": {},
   "outputs": [],
   "source": [
    "ctx.stop()"
   ]
  },
  {
   "cell_type": "code",
   "execution_count": 17,
   "metadata": {},
   "outputs": [],
   "source": [
    "import ccxt.pro as cxp\n",
    "\n",
    "bitmex = cxp.bitmex()\n",
    "await bitmex.load_markets();"
   ]
  },
  {
   "cell_type": "code",
   "execution_count": 38,
   "metadata": {},
   "outputs": [],
   "source": [
    "ob = await bitmex.watch_order_book_for_symbols([\"BTC/USDT:USDT\"])"
   ]
  },
  {
   "cell_type": "code",
   "execution_count": 44,
   "metadata": {},
   "outputs": [
    {
     "data": {
      "text/plain": [
       "{'id': 'XBTUSD',\n",
       " 'lowercaseId': None,\n",
       " 'symbol': 'BTC/USD:BTC',\n",
       " 'base': 'BTC',\n",
       " 'quote': 'USD',\n",
       " 'settle': 'BTC',\n",
       " 'baseId': 'XBT',\n",
       " 'quoteId': 'USD',\n",
       " 'settleId': 'XBt',\n",
       " 'type': 'swap',\n",
       " 'spot': False,\n",
       " 'margin': False,\n",
       " 'swap': True,\n",
       " 'future': False,\n",
       " 'option': False,\n",
       " 'index': None,\n",
       " 'active': True,\n",
       " 'contract': True,\n",
       " 'linear': False,\n",
       " 'inverse': True,\n",
       " 'subType': 'inverse',\n",
       " 'taker': 0.0005,\n",
       " 'maker': 0.0005,\n",
       " 'contractSize': 100000000.0,\n",
       " 'expiry': None,\n",
       " 'expiryDatetime': None,\n",
       " 'strike': None,\n",
       " 'optionType': None,\n",
       " 'precision': {'amount': 100.0,\n",
       "  'price': 0.1,\n",
       "  'cost': None,\n",
       "  'base': None,\n",
       "  'quote': None},\n",
       " 'limits': {'leverage': {'min': 1.0, 'max': 100.0},\n",
       "  'amount': {'min': None, 'max': None},\n",
       "  'price': {'min': None, 'max': 1000000.0},\n",
       "  'cost': {'min': None, 'max': 10000000.0}},\n",
       " 'marginModes': {'cross': None, 'isolated': None},\n",
       " 'created': 1463140800000,\n",
       " 'info': {'symbol': 'XBTUSD',\n",
       "  'rootSymbol': 'XBT',\n",
       "  'state': 'Open',\n",
       "  'typ': 'FFWCSX',\n",
       "  'listing': '2016-05-13T12:00:00.000Z',\n",
       "  'front': '2016-05-13T12:00:00.000Z',\n",
       "  'positionCurrency': 'USD',\n",
       "  'underlying': 'XBT',\n",
       "  'quoteCurrency': 'USD',\n",
       "  'underlyingSymbol': 'XBT=',\n",
       "  'reference': 'BMEX',\n",
       "  'referenceSymbol': '.BXBT',\n",
       "  'maxOrderQty': 10000000,\n",
       "  'maxPrice': 1000000,\n",
       "  'lotSize': 100,\n",
       "  'tickSize': 0.1,\n",
       "  'multiplier': -100000000,\n",
       "  'settlCurrency': 'XBt',\n",
       "  'underlyingToSettleMultiplier': -100000000,\n",
       "  'isQuanto': False,\n",
       "  'isInverse': True,\n",
       "  'initMargin': 0.01,\n",
       "  'maintMargin': 0.005,\n",
       "  'riskLimit': 20000000000,\n",
       "  'riskStep': 15000000000,\n",
       "  'taxed': True,\n",
       "  'deleverage': True,\n",
       "  'makerFee': 0.0005,\n",
       "  'takerFee': 0.0005,\n",
       "  'settlementFee': 0,\n",
       "  'fundingBaseSymbol': '.XBTBON8H',\n",
       "  'fundingQuoteSymbol': '.USDBON8H',\n",
       "  'fundingPremiumSymbol': '.XBTUSDPI8H',\n",
       "  'fundingTimestamp': '2025-04-03T20:00:00.000Z',\n",
       "  'fundingInterval': '2000-01-01T08:00:00.000Z',\n",
       "  'fundingRate': 0.0001,\n",
       "  'indicativeFundingRate': 0.0001,\n",
       "  'prevClosePrice': 83074.27,\n",
       "  'limitDownPrice': None,\n",
       "  'limitUpPrice': None,\n",
       "  'prevTotalVolume': 3938274883289,\n",
       "  'totalVolume': 3938288070689,\n",
       "  'volume': 13187400,\n",
       "  'volume24h': 697107600,\n",
       "  'prevTotalTurnover': 37741219080412056,\n",
       "  'totalTurnover': 37741235180173538,\n",
       "  'turnover': 16099761482,\n",
       "  'turnover24h': 819325179189,\n",
       "  'homeNotional24h': 8193.251791889998,\n",
       "  'foreignNotional24h': 697107600,\n",
       "  'prevPrice24h': 84733,\n",
       "  'vwap': 85083.9353,\n",
       "  'highPrice': 88573.1,\n",
       "  'lowPrice': 81721.1,\n",
       "  'lastPrice': 81763.7,\n",
       "  'lastPriceProtected': 81750,\n",
       "  'lastTickDirection': 'PlusTick',\n",
       "  'lastChangePcnt': -0.035,\n",
       "  'bidPrice': 81749.6,\n",
       "  'midPrice': 81749.85,\n",
       "  'askPrice': 81750.1,\n",
       "  'impactBidPrice': 81749.4,\n",
       "  'impactMidPrice': 81749.75,\n",
       "  'impactAskPrice': 81750.1063,\n",
       "  'hasLiquidity': True,\n",
       "  'openInterest': 247527400,\n",
       "  'openValue': 302631949788,\n",
       "  'fairMethod': 'FundingRate',\n",
       "  'fairBasisRate': 0.1095,\n",
       "  'fairBasis': 6.75,\n",
       "  'fairPrice': 81791.25,\n",
       "  'markMethod': 'FairPrice',\n",
       "  'markPrice': 81791.25,\n",
       "  'indicativeSettlePrice': 81784.5,\n",
       "  'instantPnl': True,\n",
       "  'timestamp': '2025-04-03T13:24:59.052Z',\n",
       "  'minTick': 0.01,\n",
       "  'fundingBaseRate': 0.0003,\n",
       "  'fundingQuoteRate': 0.0006,\n",
       "  'capped': False},\n",
       " 'tierBased': None,\n",
       " 'percentage': None,\n",
       " 'quanto': False}"
      ]
     },
     "execution_count": 44,
     "metadata": {},
     "output_type": "execute_result"
    }
   ],
   "source": [
    "bitmex.market(instrument_to_ccxt_symbol(instr))"
   ]
  },
  {
   "cell_type": "code",
   "execution_count": 42,
   "metadata": {},
   "outputs": [],
   "source": [
    "await bitmex.close()"
   ]
  },
  {
   "cell_type": "code",
   "execution_count": 18,
   "metadata": {},
   "outputs": [
    {
     "name": "stdout",
     "output_type": "stream",
     "text": [
      "{'info': {'timestamp': '2025-04-03T13:25:24.568Z', 'symbol': 'XBTUSDT', 'side': 'Buy', 'size': 58500, 'price': 81949.9, 'tickDirection': 'PlusTick', 'trdMatchID': '00000000-006d-1000-0000-0015cc7cedb2', 'grossValue': 4794069150, 'homeNotional': 0.0585, 'foreignNotional': 4794.06915, 'trdType': 'Regular'}, 'timestamp': 1743686724568, 'datetime': '2025-04-03T13:25:24.568Z', 'symbol': 'BTC/USDT:USDT', 'id': '00000000-006d-1000-0000-0015cc7cedb2', 'order': None, 'type': None, 'takerOrMaker': None, 'side': 'buy', 'price': 81949.9, 'cost': 4794.06915, 'amount': 58500.0, 'fee': {'cost': None, 'currency': None}, 'fees': []}\n",
      "{'info': {'timestamp': '2025-04-03T13:25:36.051Z', 'symbol': 'XBTUSDT', 'side': 'Buy', 'size': 400, 'price': 81942.0, 'tickDirection': 'MinusTick', 'trdMatchID': '00000000-006d-1000-0000-0015cc7dae27', 'grossValue': 32776800, 'homeNotional': 0.0004, 'foreignNotional': 32.7768, 'trdType': 'Regular'}, 'timestamp': 1743686736051, 'datetime': '2025-04-03T13:25:36.051Z', 'symbol': 'BTC/USDT:USDT', 'id': '00000000-006d-1000-0000-0015cc7dae27', 'order': None, 'type': None, 'takerOrMaker': None, 'side': 'buy', 'price': 81942.0, 'cost': 32.7768, 'amount': 400.0, 'fee': {'cost': None, 'currency': None}, 'fees': []}\n",
      "{'info': {'timestamp': '2025-04-03T13:25:40.034Z', 'symbol': 'XBTUSDT', 'side': 'Sell', 'size': 5800, 'price': 81938.3, 'tickDirection': 'MinusTick', 'trdMatchID': '00000000-006d-1000-0000-0015cc7dee2a', 'grossValue': 475242140, 'homeNotional': 0.0058, 'foreignNotional': 475.24214, 'trdType': 'Regular'}, 'timestamp': 1743686740034, 'datetime': '2025-04-03T13:25:40.034Z', 'symbol': 'BTC/USDT:USDT', 'id': '00000000-006d-1000-0000-0015cc7dee2a', 'order': None, 'type': None, 'takerOrMaker': None, 'side': 'sell', 'price': 81938.3, 'cost': 475.24214, 'amount': 5800.0, 'fee': {'cost': None, 'currency': None}, 'fees': []}\n",
      "{'info': {'timestamp': '2025-04-03T13:25:48.693Z', 'symbol': 'XBTUSDT', 'side': 'Buy', 'size': 100, 'price': 81974.6, 'tickDirection': 'PlusTick', 'trdMatchID': '00000000-006d-1000-0000-0015cc7e6d69', 'grossValue': 8197460, 'homeNotional': 0.0001, 'foreignNotional': 8.19746, 'trdType': 'Regular'}, 'timestamp': 1743686748693, 'datetime': '2025-04-03T13:25:48.693Z', 'symbol': 'BTC/USDT:USDT', 'id': '00000000-006d-1000-0000-0015cc7e6d69', 'order': None, 'type': None, 'takerOrMaker': None, 'side': 'buy', 'price': 81974.6, 'cost': 8.19746, 'amount': 100.0, 'fee': {'cost': None, 'currency': None}, 'fees': []}\n",
      "{'info': {'timestamp': '2025-04-03T13:25:48.693Z', 'symbol': 'XBTUSDT', 'side': 'Buy', 'size': 400, 'price': 81982.0, 'tickDirection': 'PlusTick', 'trdMatchID': '00000000-006d-1000-0000-0015cc7e6d6c', 'grossValue': 32792800, 'homeNotional': 0.0004, 'foreignNotional': 32.7928, 'trdType': 'Regular'}, 'timestamp': 1743686748693, 'datetime': '2025-04-03T13:25:48.693Z', 'symbol': 'BTC/USDT:USDT', 'id': '00000000-006d-1000-0000-0015cc7e6d6c', 'order': None, 'type': None, 'takerOrMaker': None, 'side': 'buy', 'price': 81982.0, 'cost': 32.7928, 'amount': 400.0, 'fee': {'cost': None, 'currency': None}, 'fees': []}\n",
      "{'info': {'timestamp': '2025-04-03T13:25:48.693Z', 'symbol': 'XBTUSDT', 'side': 'Buy', 'size': 500, 'price': 81995.1, 'tickDirection': 'PlusTick', 'trdMatchID': '00000000-006d-1000-0000-0015cc7e6d6f', 'grossValue': 40997550, 'homeNotional': 0.0005, 'foreignNotional': 40.99755, 'trdType': 'Regular'}, 'timestamp': 1743686748693, 'datetime': '2025-04-03T13:25:48.693Z', 'symbol': 'BTC/USDT:USDT', 'id': '00000000-006d-1000-0000-0015cc7e6d6f', 'order': None, 'type': None, 'takerOrMaker': None, 'side': 'buy', 'price': 81995.1, 'cost': 40.99755, 'amount': 500.0, 'fee': {'cost': None, 'currency': None}, 'fees': []}\n",
      "{'info': {'timestamp': '2025-04-03T13:26:00.218Z', 'symbol': 'XBTUSDT', 'side': 'Sell', 'size': 1000, 'price': 81951.2, 'tickDirection': 'MinusTick', 'trdMatchID': '00000000-006d-1000-0000-0015cc7f1ef0', 'grossValue': 81951200, 'homeNotional': 0.001, 'foreignNotional': 81.9512, 'trdType': 'Regular'}, 'timestamp': 1743686760218, 'datetime': '2025-04-03T13:26:00.218Z', 'symbol': 'BTC/USDT:USDT', 'id': '00000000-006d-1000-0000-0015cc7f1ef0', 'order': None, 'type': None, 'takerOrMaker': None, 'side': 'sell', 'price': 81951.2, 'cost': 81.9512, 'amount': 1000.0, 'fee': {'cost': None, 'currency': None}, 'fees': []}\n",
      "{'info': {'timestamp': '2025-04-03T13:26:00.294Z', 'symbol': 'XBTUSDT', 'side': 'Sell', 'size': 1000, 'price': 81946.3, 'tickDirection': 'MinusTick', 'trdMatchID': '00000000-006d-1000-0000-0015cc7f2370', 'grossValue': 81946300, 'homeNotional': 0.001, 'foreignNotional': 81.9463, 'trdType': 'Regular'}, 'timestamp': 1743686760294, 'datetime': '2025-04-03T13:26:00.294Z', 'symbol': 'BTC/USDT:USDT', 'id': '00000000-006d-1000-0000-0015cc7f2370', 'order': None, 'type': None, 'takerOrMaker': None, 'side': 'sell', 'price': 81946.3, 'cost': 81.9463, 'amount': 1000.0, 'fee': {'cost': None, 'currency': None}, 'fees': []}\n",
      "{'info': {'timestamp': '2025-04-03T13:26:01.874Z', 'symbol': 'XBTUSDT', 'side': 'Sell', 'size': 40000, 'price': 81931.8, 'tickDirection': 'MinusTick', 'trdMatchID': '00000000-006d-1000-0000-0015cc7f47c5', 'grossValue': 3277272000, 'homeNotional': 0.04, 'foreignNotional': 3277.272, 'trdType': 'Regular'}, 'timestamp': 1743686761874, 'datetime': '2025-04-03T13:26:01.874Z', 'symbol': 'BTC/USDT:USDT', 'id': '00000000-006d-1000-0000-0015cc7f47c5', 'order': None, 'type': None, 'takerOrMaker': None, 'side': 'sell', 'price': 81931.8, 'cost': 3277.272, 'amount': 40000.0, 'fee': {'cost': None, 'currency': None}, 'fees': []}\n",
      "{'info': {'timestamp': '2025-04-03T13:26:01.892Z', 'symbol': 'XBTUSDT', 'side': 'Sell', 'size': 40000, 'price': 81931.8, 'tickDirection': 'ZeroMinusTick', 'trdMatchID': '00000000-006d-1000-0000-0015cc7f48fc', 'grossValue': 3277272000, 'homeNotional': 0.04, 'foreignNotional': 3277.272, 'trdType': 'Regular'}, 'timestamp': 1743686761892, 'datetime': '2025-04-03T13:26:01.892Z', 'symbol': 'BTC/USDT:USDT', 'id': '00000000-006d-1000-0000-0015cc7f48fc', 'order': None, 'type': None, 'takerOrMaker': None, 'side': 'sell', 'price': 81931.8, 'cost': 3277.272, 'amount': 40000.0, 'fee': {'cost': None, 'currency': None}, 'fees': []}\n",
      "{'info': {'timestamp': '2025-04-03T13:26:01.892Z', 'symbol': 'XBTUSDT', 'side': 'Sell', 'size': 20000, 'price': 81931.8, 'tickDirection': 'ZeroMinusTick', 'trdMatchID': '00000000-006d-1000-0000-0015cc7f4909', 'grossValue': 1638636000, 'homeNotional': 0.02, 'foreignNotional': 1638.636, 'trdType': 'Regular'}, 'timestamp': 1743686761892, 'datetime': '2025-04-03T13:26:01.892Z', 'symbol': 'BTC/USDT:USDT', 'id': '00000000-006d-1000-0000-0015cc7f4909', 'order': None, 'type': None, 'takerOrMaker': None, 'side': 'sell', 'price': 81931.8, 'cost': 1638.636, 'amount': 20000.0, 'fee': {'cost': None, 'currency': None}, 'fees': []}\n",
      "{'info': {'timestamp': '2025-04-03T13:26:01.893Z', 'symbol': 'XBTUSDT', 'side': 'Sell', 'size': 39400, 'price': 81931.8, 'tickDirection': 'ZeroMinusTick', 'trdMatchID': '00000000-006d-1000-0000-0015cc7f491e', 'grossValue': 3228112920, 'homeNotional': 0.0394, 'foreignNotional': 3228.11292, 'trdType': 'Regular'}, 'timestamp': 1743686761893, 'datetime': '2025-04-03T13:26:01.893Z', 'symbol': 'BTC/USDT:USDT', 'id': '00000000-006d-1000-0000-0015cc7f491e', 'order': None, 'type': None, 'takerOrMaker': None, 'side': 'sell', 'price': 81931.8, 'cost': 3228.11292, 'amount': 39400.0, 'fee': {'cost': None, 'currency': None}, 'fees': []}\n"
     ]
    },
    {
     "ename": "CancelledError",
     "evalue": "",
     "output_type": "error",
     "traceback": [
      "\u001b[0;31m---------------------------------------------------------------------------\u001b[0m",
      "\u001b[0;31mCancelledError\u001b[0m                            Traceback (most recent call last)",
      "Cell \u001b[0;32mIn[18], line 3\u001b[0m\n\u001b[1;32m      1\u001b[0m \u001b[38;5;28;01mtry\u001b[39;00m:\n\u001b[1;32m      2\u001b[0m     \u001b[38;5;28;01mwhile\u001b[39;00m \u001b[38;5;28;01mTrue\u001b[39;00m:\n\u001b[0;32m----> 3\u001b[0m         trades \u001b[38;5;241m=\u001b[39m \u001b[38;5;28;01mawait\u001b[39;00m bitmex\u001b[38;5;241m.\u001b[39mwatch_trades_for_symbols([\u001b[38;5;124m\"\u001b[39m\u001b[38;5;124mBTC/USDT:USDT\u001b[39m\u001b[38;5;124m\"\u001b[39m])\n\u001b[1;32m      4\u001b[0m         \u001b[38;5;28;01mfor\u001b[39;00m trade \u001b[38;5;129;01min\u001b[39;00m trades:\n\u001b[1;32m      5\u001b[0m             \u001b[38;5;28mprint\u001b[39m(trade)\n",
      "File \u001b[0;32m~/.cache/pypoetry/virtualenvs/qubx-QjLytwEC-py3.12/lib/python3.12/site-packages/ccxt/pro/bitmex.py:1316\u001b[0m, in \u001b[0;36mbitmex.watch_trades_for_symbols\u001b[0;34m(self, symbols, since, limit, params)\u001b[0m\n\u001b[1;32m   1311\u001b[0m url \u001b[38;5;241m=\u001b[39m \u001b[38;5;28mself\u001b[39m\u001b[38;5;241m.\u001b[39murls[\u001b[38;5;124m'\u001b[39m\u001b[38;5;124mapi\u001b[39m\u001b[38;5;124m'\u001b[39m][\u001b[38;5;124m'\u001b[39m\u001b[38;5;124mws\u001b[39m\u001b[38;5;124m'\u001b[39m]\n\u001b[1;32m   1312\u001b[0m request: \u001b[38;5;28mdict\u001b[39m \u001b[38;5;241m=\u001b[39m {\n\u001b[1;32m   1313\u001b[0m     \u001b[38;5;124m'\u001b[39m\u001b[38;5;124mop\u001b[39m\u001b[38;5;124m'\u001b[39m: \u001b[38;5;124m'\u001b[39m\u001b[38;5;124msubscribe\u001b[39m\u001b[38;5;124m'\u001b[39m,\n\u001b[1;32m   1314\u001b[0m     \u001b[38;5;124m'\u001b[39m\u001b[38;5;124margs\u001b[39m\u001b[38;5;124m'\u001b[39m: topics,\n\u001b[1;32m   1315\u001b[0m }\n\u001b[0;32m-> 1316\u001b[0m trades \u001b[38;5;241m=\u001b[39m \u001b[38;5;28;01mawait\u001b[39;00m \u001b[38;5;28mself\u001b[39m\u001b[38;5;241m.\u001b[39mwatch_multiple(url, messageHashes, \u001b[38;5;28mself\u001b[39m\u001b[38;5;241m.\u001b[39mdeep_extend(request, params), topics)\n\u001b[1;32m   1317\u001b[0m \u001b[38;5;28;01mif\u001b[39;00m \u001b[38;5;28mself\u001b[39m\u001b[38;5;241m.\u001b[39mnewUpdates:\n\u001b[1;32m   1318\u001b[0m     first \u001b[38;5;241m=\u001b[39m \u001b[38;5;28mself\u001b[39m\u001b[38;5;241m.\u001b[39msafe_value(trades, \u001b[38;5;241m0\u001b[39m)\n",
      "\u001b[0;31mCancelledError\u001b[0m: "
     ]
    }
   ],
   "source": [
    "try:\n",
    "    while True:\n",
    "        trades = await bitmex.watch_trades_for_symbols([\"BTC/USDT:USDT\"])\n",
    "        for trade in trades:\n",
    "            print(trade)\n",
    "except KeyboardInterrupt:\n",
    "    pass"
   ]
  },
  {
   "cell_type": "code",
   "execution_count": 64,
   "metadata": {},
   "outputs": [
    {
     "data": {
      "text/plain": [
       "[2025-04-03T13:20:38.069000000]\t81863.70000 (10000.00) buy "
      ]
     },
     "execution_count": 64,
     "metadata": {},
     "output_type": "execute_result"
    }
   ],
   "source": [
    "from qubx.connectors.ccxt.utils import ccxt_convert_trade\n",
    "ccxt_convert_trade(trades[0])"
   ]
  },
  {
   "cell_type": "code",
   "execution_count": null,
   "metadata": {},
   "outputs": [],
   "source": []
  }
 ],
 "metadata": {
  "kernelspec": {
   "display_name": "qubx",
   "language": "python",
   "name": "qubx"
  },
  "language_info": {
   "codemirror_mode": {
    "name": "ipython",
    "version": 3
   },
   "file_extension": ".py",
   "mimetype": "text/x-python",
   "name": "python",
   "nbconvert_exporter": "python",
   "pygments_lexer": "ipython3",
   "version": "3.12.7"
  }
 },
 "nbformat": 4,
 "nbformat_minor": 2
}
