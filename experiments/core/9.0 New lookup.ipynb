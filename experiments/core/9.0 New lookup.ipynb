{
 "cells": [
  {
   "cell_type": "code",
   "execution_count": 1,
   "metadata": {},
   "outputs": [
    {
     "name": "stdout",
     "output_type": "stream",
     "text": [
      "\n",
      "⠀⠀⡰⡖⠒⠒⢒⢦⠀⠀   \n",
      "⠀⢠⠃⠈⢆⣀⣎⣀⣱⡀  \u001b[31mQUBX\u001b[0m | \u001b[36mQuantitative Backtesting Environment\u001b[0m \n",
      "⠀⢳⠒⠒⡞⠚⡄⠀⡰⠁         (c) 2025, ver. \u001b[35m0.6.37\u001b[0m\n",
      "⠀⠀⠱⣜⣀⣀⣈⣦⠃⠀⠀⠀ \n",
      "        \n"
     ]
    },
    {
     "data": {
      "text/html": [
       "<style> .cell-output-ipywidget-background { background-color: transparent !important; } :root { --jp-widgets-color: var(--vscode-editor-foreground); --jp-widgets-font-size: var(--vscode-editor-font-size); } .widget-hprogress, .jupyter-widget-hprogress { height: 16px; align-self: center; kj} table.dataframe, .dataframe td, .dataframe tr { border: 1px solid #55554a85; border-collapse: collapse; color: #859548d9 !important; } .dataframe th { border: 1px solid #55554a85; border-collapse: collapse; background-color: #010101 !important; color: #177 !important; } </style>"
      ],
      "text/plain": [
       "<IPython.core.display.HTML object>"
      ]
     },
     "metadata": {},
     "output_type": "display_data"
    }
   ],
   "source": [
    "import sys, os, re\n",
    "\n",
    "sys.path = ([\"../src/\", \"../\"] if re.match(r\"^(\\w\\:\\\\)|(/)\", os.getcwd()) else []) + sys.path\n",
    "import dataclasses\n",
    "import qubx\n",
    "\n",
    "import configparser\n",
    "from pathlib import Path\n",
    "\n",
    "%qubxd \n",
    "\n",
    "%load_ext autoreload\n",
    "%autoreload 2\n",
    "\n",
    "from qubx.core.interfaces import InstrumentsLookup, FeesLookup\n",
    "from qubx.core.lookups import InstrumentsLookupFile, FeesLookupFile, InstrumentsLookupMongo \n",
    "\n",
    "from qubx.core.basics import Instrument, MarketType, TransactionCostsCalculator\n",
    "\n",
    "from qubx.utils.misc import get_local_qubx_folder, load_qubx_resources_as_json, makedirs"
   ]
  },
  {
   "cell_type": "code",
   "execution_count": 67,
   "metadata": {},
   "outputs": [
    {
     "data": {
      "text/plain": [
       "['/home/quant0/.qubx/settings.ini']"
      ]
     },
     "execution_count": 67,
     "metadata": {},
     "output_type": "execute_result"
    }
   ],
   "source": [
    "parser = configparser.ConfigParser()\n",
    "parser.read(Path(get_local_qubx_folder()) / \"settings.ini\")"
   ]
  },
  {
   "cell_type": "code",
   "execution_count": 75,
   "metadata": {},
   "outputs": [
    {
     "ename": "TypeError",
     "evalue": "RawConfigParser.get() missing 1 required positional argument: 'option'",
     "output_type": "error",
     "traceback": [
      "\u001b[31m---------------------------------------------------------------------------\u001b[39m",
      "\u001b[31mTypeError\u001b[39m                                 Traceback (most recent call last)",
      "\u001b[36mCell\u001b[39m\u001b[36m \u001b[39m\u001b[32mIn[75]\u001b[39m\u001b[32m, line 1\u001b[39m\n\u001b[32m----> \u001b[39m\u001b[32m1\u001b[39m \u001b[43mparser\u001b[49m\u001b[43m.\u001b[49m\u001b[43mget\u001b[49m\u001b[43m(\u001b[49m\u001b[33;43m'\u001b[39;49m\u001b[33;43minstrument-lookup\u001b[39;49m\u001b[33;43m'\u001b[39;49m\u001b[43m)\u001b[49m\n",
      "\u001b[31mTypeError\u001b[39m: RawConfigParser.get() missing 1 required positional argument: 'option'"
     ]
    }
   ],
   "source": [
    "# parser.get('instrument-lookup')"
   ]
  },
  {
   "cell_type": "code",
   "execution_count": 76,
   "metadata": {},
   "outputs": [
    {
     "data": {
      "text/plain": [
       "{'type': 'mongo', 'mongo_url': 'mongodb://localhost:27017/'}"
      ]
     },
     "execution_count": 76,
     "metadata": {},
     "output_type": "execute_result"
    }
   ],
   "source": [
    "dict(parser['instrument-lookup'])"
   ]
  },
  {
   "cell_type": "code",
   "execution_count": 69,
   "metadata": {},
   "outputs": [
    {
     "data": {
      "text/plain": [
       "{'type': 'file'}"
      ]
     },
     "execution_count": 69,
     "metadata": {},
     "output_type": "execute_result"
    }
   ],
   "source": [
    "dict(parser['fees-lookup'])"
   ]
  },
  {
   "cell_type": "code",
   "execution_count": 2,
   "metadata": {},
   "outputs": [],
   "source": [
    "class LookupsManager(InstrumentsLookup, FeesLookup):\n",
    "    _i_lookup: InstrumentsLookup\n",
    "    _t_lookup: FeesLookup\n",
    "\n",
    "    def __new__(cls):\n",
    "        if not hasattr(cls, 'instance'):\n",
    "            cls.instance = super(LookupsManager, cls).__new__(cls)\n",
    "            cls.instance._i_lookup = InstrumentsLookupFile()\n",
    "            cls.instance._t_lookup = FeesLookupFile()\n",
    "\n",
    "            # - load settings\n",
    "            parser = configparser.ConfigParser()\n",
    "            parser.read(Path(get_local_qubx_folder()) / \"settings.ini\")\n",
    "\n",
    "            if 'instrument-lookup' in parser:\n",
    "                cls.instance._i_lookup = LookupsManager.get_instrument_lookup(**dict(parser['instrument-lookup']))\n",
    "            else:\n",
    "                cls.instance._i_lookup = InstrumentsLookupFile()\n",
    "\n",
    "            if 'fees-lookup' in parser:\n",
    "                cls.instance._t_lookup = LookupsManager.get_fees_lookup(**dict(parser['fees-lookup']))\n",
    "            else:\n",
    "                cls.instance._t_lookup = FeesLookupFile()\n",
    "\n",
    "        return cls.instance\n",
    "\n",
    "    @staticmethod\n",
    "    def get_instrument_lookup(type: str, **kwargs) -> InstrumentsLookup:\n",
    "        match type.lower():\n",
    "            case 'file':\n",
    "                return InstrumentsLookupFile(**kwargs)\n",
    "            case 'mongo':\n",
    "                return InstrumentsLookupMongo(**kwargs)\n",
    "            case _:\n",
    "                raise ValueError(f\"Invalid lookup type: {type}\")\n",
    "\n",
    "    @staticmethod\n",
    "    def get_fees_lookup(type: str, **kwargs) -> FeesLookup:\n",
    "        match type.lower():\n",
    "            case 'file':\n",
    "                return FeesLookupFile(**kwargs)\n",
    "            case _:\n",
    "                raise ValueError(f\"Invalid lookup type: {type}\")\n",
    "\n",
    "    def find_symbol(self, exchange: str, symbol: str, market_type: MarketType | None = None) -> Instrument | None:\n",
    "        return self._i_lookup.find_symbol(exchange, symbol, market_type)\n",
    "\n",
    "    def find_instruments(\n",
    "        self, exchange: str, quote: str | None = None, market_type: MarketType | None = None\n",
    "    ) -> list[Instrument]:\n",
    "        return self._i_lookup.find_instruments(exchange, quote, market_type)\n",
    "\n",
    "    def find_aux_instrument_for(\n",
    "        self, instrument: Instrument, base_currency: str, market_type: MarketType | None = None\n",
    "    ) -> Instrument | None:\n",
    "        return self._i_lookup.find_aux_instrument_for(instrument, base_currency, market_type)\n",
    "\n",
    "    def find(self, exchange: str, spec: str | None) -> TransactionCostsCalculator:\n",
    "        return self._t_lookup.find(exchange, spec)"
   ]
  },
  {
   "cell_type": "code",
   "execution_count": 101,
   "metadata": {},
   "outputs": [],
   "source": [
    "lookup = LookupsManager()"
   ]
  },
  {
   "cell_type": "code",
   "execution_count": null,
   "metadata": {},
   "outputs": [],
   "source": [
    "lookup._i_lookup"
   ]
  },
  {
   "cell_type": "code",
   "execution_count": 91,
   "metadata": {},
   "outputs": [
    {
     "data": {
      "text/plain": [
       "<__main__.LookupsManager at 0x7f7ffbfeea10>"
      ]
     },
     "execution_count": 91,
     "metadata": {},
     "output_type": "execute_result"
    }
   ],
   "source": [
    "LookupsManager()"
   ]
  },
  {
   "cell_type": "code",
   "execution_count": 102,
   "metadata": {},
   "outputs": [
    {
     "data": {
      "text/plain": [
       "BINANCE.UM:SWAP:BTCUSDT"
      ]
     },
     "execution_count": 102,
     "metadata": {},
     "output_type": "execute_result"
    }
   ],
   "source": [
    "lookup.find_symbol(\"BINANCE.UM\", \"BTCUSDT\")"
   ]
  },
  {
   "cell_type": "code",
   "execution_count": null,
   "metadata": {},
   "outputs": [],
   "source": []
  }
 ],
 "metadata": {
  "kernelspec": {
   "display_name": ".venv",
   "language": "python",
   "name": "python3"
  },
  "language_info": {
   "codemirror_mode": {
    "name": "ipython",
    "version": 3
   },
   "file_extension": ".py",
   "mimetype": "text/x-python",
   "name": "python",
   "nbconvert_exporter": "python",
   "pygments_lexer": "ipython3",
   "version": "3.11.9"
  }
 },
 "nbformat": 4,
 "nbformat_minor": 2
}
