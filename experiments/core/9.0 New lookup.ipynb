{
 "cells": [
  {
   "cell_type": "code",
   "execution_count": 1,
   "metadata": {},
   "outputs": [
    {
     "name": "stdout",
     "output_type": "stream",
     "text": [
      "\n",
      "⠀⠀⡰⡖⠒⠒⢒⢦⠀⠀   \n",
      "⠀⢠⠃⠈⢆⣀⣎⣀⣱⡀  \u001b[31mQUBX\u001b[0m | \u001b[36mQuantitative Backtesting Environment\u001b[0m \n",
      "⠀⢳⠒⠒⡞⠚⡄⠀⡰⠁         (c) 2025, ver. \u001b[35m0.6.37\u001b[0m\n",
      "⠀⠀⠱⣜⣀⣀⣈⣦⠃⠀⠀⠀ \n",
      "        \n"
     ]
    },
    {
     "data": {
      "text/html": [
       "<style> .cell-output-ipywidget-background { background-color: transparent !important; } :root { --jp-widgets-color: var(--vscode-editor-foreground); --jp-widgets-font-size: var(--vscode-editor-font-size); } .widget-hprogress, .jupyter-widget-hprogress { height: 16px; align-self: center; kj} table.dataframe, .dataframe td, .dataframe tr { border: 1px solid #55554a85; border-collapse: collapse; color: #859548d9 !important; } .dataframe th { border: 1px solid #55554a85; border-collapse: collapse; background-color: #010101 !important; color: #177 !important; } </style>"
      ],
      "text/plain": [
       "<IPython.core.display.HTML object>"
      ]
     },
     "metadata": {},
     "output_type": "display_data"
    }
   ],
   "source": [
    "import sys, os, re\n",
    "\n",
    "sys.path = ([\"../src/\", \"../\"] if re.match(r\"^(\\w\\:\\\\)|(/)\", os.getcwd()) else []) + sys.path\n",
    "import qubx\n",
    "\n",
    "from pathlib import Path\n",
    "\n",
    "%qubxd \n",
    "\n",
    "%load_ext autoreload\n",
    "%autoreload 2\n",
    "\n",
    "from qubx.core.lookups import FileInstrumentsLookupWithCCXT, FeesLookupFile, InstrumentsLookupMongo \n",
    "\n",
    "from qubx.core.basics import Instrument, MarketType, TransactionCostsCalculator\n",
    "\n",
    "from qubx.utils.misc import get_local_qubx_folder, load_qubx_resources_as_json, makedirs\n",
    "\n",
    "from qubx.core.lookups import lookup\n",
    "from qubx.utils.marketdata.ccxt import ccxt_fetch_instruments"
   ]
  },
  {
   "cell_type": "code",
   "execution_count": null,
   "metadata": {},
   "outputs": [
    {
     "data": {
      "text/plain": [
       "<binance.um_vip0_usdt: 0.0200 / 0.0500>"
      ]
     },
     "execution_count": 2,
     "metadata": {},
     "output_type": "execute_result"
    }
   ],
   "source": [
    "lookup.find_fees(\"binance.um\", \"vip0_usdt\")"
   ]
  },
  {
   "cell_type": "code",
   "execution_count": 4,
   "metadata": {},
   "outputs": [
    {
     "data": {
      "text/plain": [
       "[BINANCE.UM:SWAP:BTCUSDT,\n",
       " BINANCE.UM:SWAP:BTCUSDC,\n",
       " BINANCE.UM:SWAP:BTCDOMUSDT,\n",
       " BINANCE.UM:SWAP:BTCBUSD,\n",
       " BINANCE.UM:SWAP:BTCSTUSDT,\n",
       " BINANCE.UM:FUTURE:BTCUSDT.20250627,\n",
       " BINANCE.UM:FUTURE:BTCUSDT.20250926,\n",
       " BINANCE.UM:FUTURE:BTCUSDT.20250328,\n",
       " BINANCE.UM:FUTURE:BTCUSDT.20241227,\n",
       " BINANCE.UM:FUTURE:BTCUSDT.20240927,\n",
       " BINANCE.UM:FUTURE:BTCUSDT.20240628,\n",
       " BINANCE.UM:FUTURE:BTCUSDT.20240329,\n",
       " BINANCE.UM:FUTURE:BTCUSDT.20231229,\n",
       " BINANCE.UM:FUTURE:BTCUSDT.20230929,\n",
       " BINANCE.UM:FUTURE:BTCUSDT.20230630,\n",
       " BINANCE.UM:FUTURE:BTCUSDT.20230331,\n",
       " BINANCE.UM:FUTURE:BTCUSDT.20221230,\n",
       " BINANCE.UM:FUTURE:BTCUSDT.20220930,\n",
       " BINANCE.UM:FUTURE:BTCUSDT.20220624,\n",
       " BINANCE.UM:FUTURE:BTCUSDT.20220325,\n",
       " BINANCE.UM:FUTURE:BTCUSDT.20211231,\n",
       " BINANCE.UM:FUTURE:BTCUSDT.20210924,\n",
       " BINANCE.UM:FUTURE:BTCUSDT.20210625,\n",
       " BINANCE.UM:FUTURE:BTCUSDT.20210326,\n",
       " BINANCE.UM:FUTURE:BTCBUSD.20210226,\n",
       " BINANCE.UM:FUTURE:BTCBUSD.20210129]"
      ]
     },
     "execution_count": 4,
     "metadata": {},
     "output_type": "execute_result"
    }
   ],
   "source": [
    "lookup[\"BINANCE.UM:.*:BTC\"]"
   ]
  },
  {
   "cell_type": "code",
   "execution_count": 7,
   "metadata": {},
   "outputs": [
    {
     "data": {
      "text/plain": [
       "[DUKAS:SPOT:EURUSD,\n",
       " DUKAS:SPOT:GBPUSD,\n",
       " DUKAS:SPOT:USDJPY,\n",
       " DUKAS:SPOT:USDCAD,\n",
       " DUKAS:SPOT:AUDUSD,\n",
       " DUKAS:SPOT:USDPLN,\n",
       " DUKAS:SPOT:EURGBP]"
      ]
     },
     "execution_count": 7,
     "metadata": {},
     "output_type": "execute_result"
    }
   ],
   "source": [
    "lookup[\"DUKAS:.*\"]"
   ]
  },
  {
   "cell_type": "code",
   "execution_count": 2,
   "metadata": {},
   "outputs": [
    {
     "data": {
      "text/plain": [
       "6230"
      ]
     },
     "execution_count": 2,
     "metadata": {},
     "output_type": "execute_result"
    }
   ],
   "source": [
    "len(lookup._i_lookup.get_lookup())"
   ]
  },
  {
   "cell_type": "code",
   "execution_count": null,
   "metadata": {},
   "outputs": [],
   "source": [
    "lookup.find_instruments(\"HYPERLIQUID\", None)"
   ]
  },
  {
   "cell_type": "code",
   "execution_count": 20,
   "metadata": {},
   "outputs": [
    {
     "data": {
      "text/plain": [
       "HYPERLIQUID:SWAP:BTCUSDC"
      ]
     },
     "execution_count": 20,
     "metadata": {},
     "output_type": "execute_result"
    }
   ],
   "source": [
    "lookup.find_symbol(\"HYPERLIQUID\", \"BTCUSDC\")"
   ]
  },
  {
   "cell_type": "code",
   "execution_count": 15,
   "metadata": {},
   "outputs": [
    {
     "data": {
      "text/plain": [
       "Timestamp('2024-09-28 00:00:00+0000', tz='UTC')"
      ]
     },
     "execution_count": 15,
     "metadata": {},
     "output_type": "execute_result"
    }
   ],
   "source": [
    "lookup.find_symbol(\"BINANCE.UM\", \"BTCUSDT.20240927\").delist_date"
   ]
  },
  {
   "cell_type": "code",
   "execution_count": 10,
   "metadata": {},
   "outputs": [],
   "source": [
    "lookup.find_instruments(\"BINANCE.UM\", None)[-1].delist_date #, MarketType.SWAP)"
   ]
  },
  {
   "cell_type": "code",
   "execution_count": 5,
   "metadata": {},
   "outputs": [],
   "source": [
    "r = ccxt_fetch_instruments({\"binance.cm\": \"binancecoinm\"}, keep_types=[MarketType.SWAP, MarketType.FUTURE])"
   ]
  },
  {
   "cell_type": "code",
   "execution_count": 9,
   "metadata": {},
   "outputs": [
    {
     "data": {
      "text/plain": [
       "{'BINANCE.CM:SWAP:BTCUSD': BINANCE.CM:SWAP:BTCUSD,\n",
       " 'BINANCE.CM:FUTURE:BTCUSD.20250627': BINANCE.CM:FUTURE:BTCUSD.20250627,\n",
       " 'BINANCE.CM:FUTURE:BTCUSD.20250926': BINANCE.CM:FUTURE:BTCUSD.20250926,\n",
       " 'BINANCE.CM:SWAP:ETHUSD': BINANCE.CM:SWAP:ETHUSD,\n",
       " 'BINANCE.CM:FUTURE:ETHUSD.20250627': BINANCE.CM:FUTURE:ETHUSD.20250627,\n",
       " 'BINANCE.CM:FUTURE:ETHUSD.20250926': BINANCE.CM:FUTURE:ETHUSD.20250926,\n",
       " 'BINANCE.CM:SWAP:LINKUSD': BINANCE.CM:SWAP:LINKUSD,\n",
       " 'BINANCE.CM:SWAP:BNBUSD': BINANCE.CM:SWAP:BNBUSD,\n",
       " 'BINANCE.CM:SWAP:TRXUSD': BINANCE.CM:SWAP:TRXUSD,\n",
       " 'BINANCE.CM:SWAP:DOTUSD': BINANCE.CM:SWAP:DOTUSD,\n",
       " 'BINANCE.CM:SWAP:ADAUSD': BINANCE.CM:SWAP:ADAUSD,\n",
       " 'BINANCE.CM:SWAP:LTCUSD': BINANCE.CM:SWAP:LTCUSD,\n",
       " 'BINANCE.CM:SWAP:BCHUSD': BINANCE.CM:SWAP:BCHUSD,\n",
       " 'BINANCE.CM:SWAP:XRPUSD': BINANCE.CM:SWAP:XRPUSD,\n",
       " 'BINANCE.CM:SWAP:ETCUSD': BINANCE.CM:SWAP:ETCUSD,\n",
       " 'BINANCE.CM:SWAP:FILUSD': BINANCE.CM:SWAP:FILUSD,\n",
       " 'BINANCE.CM:SWAP:EGLDUSD': BINANCE.CM:SWAP:EGLDUSD,\n",
       " 'BINANCE.CM:SWAP:DOGEUSD': BINANCE.CM:SWAP:DOGEUSD,\n",
       " 'BINANCE.CM:SWAP:UNIUSD': BINANCE.CM:SWAP:UNIUSD,\n",
       " 'BINANCE.CM:SWAP:THETAUSD': BINANCE.CM:SWAP:THETAUSD,\n",
       " 'BINANCE.CM:SWAP:XLMUSD': BINANCE.CM:SWAP:XLMUSD,\n",
       " 'BINANCE.CM:SWAP:SOLUSD': BINANCE.CM:SWAP:SOLUSD,\n",
       " 'BINANCE.CM:SWAP:SANDUSD': BINANCE.CM:SWAP:SANDUSD,\n",
       " 'BINANCE.CM:SWAP:MANAUSD': BINANCE.CM:SWAP:MANAUSD,\n",
       " 'BINANCE.CM:SWAP:AVAXUSD': BINANCE.CM:SWAP:AVAXUSD,\n",
       " 'BINANCE.CM:FUTURE:GALAUSD.20221226': BINANCE.CM:FUTURE:GALAUSD.20221226,\n",
       " 'BINANCE.CM:SWAP:NEARUSD': BINANCE.CM:SWAP:NEARUSD,\n",
       " 'BINANCE.CM:SWAP:ATOMUSD': BINANCE.CM:SWAP:ATOMUSD,\n",
       " 'BINANCE.CM:SWAP:AAVEUSD': BINANCE.CM:SWAP:AAVEUSD,\n",
       " 'BINANCE.CM:SWAP:AXSUSD': BINANCE.CM:SWAP:AXSUSD,\n",
       " 'BINANCE.CM:FUTURE:ROSEUSD.20240521': BINANCE.CM:FUTURE:ROSEUSD.20240521,\n",
       " 'BINANCE.CM:FUTURE:XTZUSD.20240520': BINANCE.CM:FUTURE:XTZUSD.20240520,\n",
       " 'BINANCE.CM:FUTURE:ICXUSD.20240520': BINANCE.CM:FUTURE:ICXUSD.20240520,\n",
       " 'BINANCE.CM:SWAP:ALGOUSD': BINANCE.CM:SWAP:ALGOUSD,\n",
       " 'BINANCE.CM:SWAP:RUNEUSD': BINANCE.CM:SWAP:RUNEUSD,\n",
       " 'BINANCE.CM:FUTURE:APEUSD.20240521': BINANCE.CM:FUTURE:APEUSD.20240521,\n",
       " 'BINANCE.CM:FUTURE:VETUSD.20221226': BINANCE.CM:FUTURE:VETUSD.20221226,\n",
       " 'BINANCE.CM:FUTURE:ZILUSD.20221226': BINANCE.CM:FUTURE:ZILUSD.20221226,\n",
       " 'BINANCE.CM:FUTURE:KNCUSD.20240520': BINANCE.CM:FUTURE:KNCUSD.20240520,\n",
       " 'BINANCE.CM:SWAP:GMTUSD': BINANCE.CM:SWAP:GMTUSD,\n",
       " 'BINANCE.CM:SWAP:OPUSD': BINANCE.CM:SWAP:OPUSD,\n",
       " 'BINANCE.CM:SWAP:ENSUSD': BINANCE.CM:SWAP:ENSUSD,\n",
       " 'BINANCE.CM:SWAP:CHZUSD': BINANCE.CM:SWAP:CHZUSD,\n",
       " 'BINANCE.CM:SWAP:APTUSD': BINANCE.CM:SWAP:APTUSD,\n",
       " 'BINANCE.CM:SWAP:WIFUSD': BINANCE.CM:SWAP:WIFUSD,\n",
       " 'BINANCE.CM:SWAP:DOGSUSD': BINANCE.CM:SWAP:DOGSUSD,\n",
       " 'BINANCE.CM:SWAP:SUIUSD': BINANCE.CM:SWAP:SUIUSD,\n",
       " 'BINANCE.CM:SWAP:WLDUSD': BINANCE.CM:SWAP:WLDUSD,\n",
       " 'BINANCE.CM:FUTURE:ADAUSD.20250627': BINANCE.CM:FUTURE:ADAUSD.20250627,\n",
       " 'BINANCE.CM:FUTURE:LINKUSD.20250627': BINANCE.CM:FUTURE:LINKUSD.20250627,\n",
       " 'BINANCE.CM:FUTURE:BCHUSD.20250627': BINANCE.CM:FUTURE:BCHUSD.20250627,\n",
       " 'BINANCE.CM:FUTURE:DOTUSD.20250627': BINANCE.CM:FUTURE:DOTUSD.20250627,\n",
       " 'BINANCE.CM:FUTURE:XRPUSD.20250627': BINANCE.CM:FUTURE:XRPUSD.20250627,\n",
       " 'BINANCE.CM:FUTURE:LTCUSD.20250627': BINANCE.CM:FUTURE:LTCUSD.20250627,\n",
       " 'BINANCE.CM:FUTURE:BNBUSD.20250627': BINANCE.CM:FUTURE:BNBUSD.20250627,\n",
       " 'BINANCE.CM:FUTURE:SOLUSD.20250627': BINANCE.CM:FUTURE:SOLUSD.20250627,\n",
       " 'BINANCE.CM:FUTURE:ADAUSD.20250926': BINANCE.CM:FUTURE:ADAUSD.20250926,\n",
       " 'BINANCE.CM:FUTURE:LINKUSD.20250926': BINANCE.CM:FUTURE:LINKUSD.20250926,\n",
       " 'BINANCE.CM:FUTURE:BCHUSD.20250926': BINANCE.CM:FUTURE:BCHUSD.20250926,\n",
       " 'BINANCE.CM:FUTURE:DOTUSD.20250926': BINANCE.CM:FUTURE:DOTUSD.20250926,\n",
       " 'BINANCE.CM:FUTURE:XRPUSD.20250926': BINANCE.CM:FUTURE:XRPUSD.20250926,\n",
       " 'BINANCE.CM:FUTURE:LTCUSD.20250926': BINANCE.CM:FUTURE:LTCUSD.20250926,\n",
       " 'BINANCE.CM:FUTURE:BNBUSD.20250926': BINANCE.CM:FUTURE:BNBUSD.20250926,\n",
       " 'BINANCE.CM:FUTURE:SOLUSD.20250926': BINANCE.CM:FUTURE:SOLUSD.20250926}"
      ]
     },
     "execution_count": 9,
     "metadata": {},
     "output_type": "execute_result"
    }
   ],
   "source": [
    "r"
   ]
  },
  {
   "cell_type": "code",
   "execution_count": null,
   "metadata": {},
   "outputs": [],
   "source": [
    "r"
   ]
  },
  {
   "cell_type": "code",
   "execution_count": 3,
   "metadata": {},
   "outputs": [
    {
     "data": {
      "text/plain": [
       "BINANCE.UM:SWAP:BTCUSDT"
      ]
     },
     "execution_count": 3,
     "metadata": {},
     "output_type": "execute_result"
    }
   ],
   "source": [
    "lookup.find_symbol(\"BINANCE.UM\", \"BTCUSDT\")"
   ]
  },
  {
   "cell_type": "code",
   "execution_count": null,
   "metadata": {},
   "outputs": [],
   "source": []
  }
 ],
 "metadata": {
  "kernelspec": {
   "display_name": ".venv",
   "language": "python",
   "name": "python3"
  },
  "language_info": {
   "codemirror_mode": {
    "name": "ipython",
    "version": 3
   },
   "file_extension": ".py",
   "mimetype": "text/x-python",
   "name": "python",
   "nbconvert_exporter": "python",
   "pygments_lexer": "ipython3",
   "version": "3.11.9"
  }
 },
 "nbformat": 4,
 "nbformat_minor": 2
}
