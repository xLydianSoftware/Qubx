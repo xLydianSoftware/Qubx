{
 "cells": [
  {
   "cell_type": "code",
   "execution_count": 2,
   "metadata": {},
   "outputs": [
    {
     "name": "stdout",
     "output_type": "stream",
     "text": [
      "\n",
      "⠀⠀⡰⡖⠒⠒⢒⢦⠀⠀   \n",
      "⠀⢠⠃⠈⢆⣀⣎⣀⣱⡀  \u001b[31mQUBX\u001b[0m | \u001b[36mQuantitative Backtesting Environment\u001b[0m \n",
      "⠀⢳⠒⠒⡞⠚⡄⠀⡰⠁         (c) 2025, ver. \u001b[35m0.6.37\u001b[0m\n",
      "⠀⠀⠱⣜⣀⣀⣈⣦⠃⠀⠀⠀ \n",
      "        \n"
     ]
    },
    {
     "data": {
      "text/html": [
       "<style> .cell-output-ipywidget-background { background-color: transparent !important; } :root { --jp-widgets-color: var(--vscode-editor-foreground); --jp-widgets-font-size: var(--vscode-editor-font-size); } .widget-hprogress, .jupyter-widget-hprogress { height: 16px; align-self: center; kj} table.dataframe, .dataframe td, .dataframe tr { border: 1px solid #55554a85; border-collapse: collapse; color: #859548d9 !important; } .dataframe th { border: 1px solid #55554a85; border-collapse: collapse; background-color: #010101 !important; color: #177 !important; } </style>"
      ],
      "text/plain": [
       "<IPython.core.display.HTML object>"
      ]
     },
     "metadata": {},
     "output_type": "display_data"
    }
   ],
   "source": [
    "import sys, os, re\n",
    "\n",
    "sys.path = ([\"../src/\", \"../\"] if re.match(r\"^(\\w\\:\\\\)|(/)\", os.getcwd()) else []) + sys.path\n",
    "import qubx\n",
    "\n",
    "from pathlib import Path\n",
    "\n",
    "%qubxd \n",
    "\n",
    "%load_ext autoreload\n",
    "%autoreload 2\n",
    "\n",
    "from qubx.core.basics import Instrument, MarketType, TransactionCostsCalculator, Signal, TargetPosition, InitializingSignal\n",
    "from qubx.data.helpers import loader\n",
    "\n",
    "from qubx.core.lookups import lookup"
   ]
  },
  {
   "cell_type": "code",
   "execution_count": 3,
   "metadata": {},
   "outputs": [
    {
     "data": {
      "text/plain": [
       "'/home/quant0/devs/Qubx/experiments/core'"
      ]
     },
     "execution_count": 3,
     "metadata": {},
     "output_type": "execute_result"
    }
   ],
   "source": [
    "pwd"
   ]
  },
  {
   "cell_type": "code",
   "execution_count": 4,
   "metadata": {},
   "outputs": [],
   "source": [
    "ld = loader(\"BINANCE.UM\", \"1h\", source=\"csv::../../tests/data/csv_1h/\", n_jobs=1)"
   ]
  },
  {
   "cell_type": "code",
   "execution_count": 5,
   "metadata": {},
   "outputs": [],
   "source": [
    "data = ld[\"BTCUSDT\", \"2023-06-03 23:00\":\"2023-07-06\"]"
   ]
  },
  {
   "cell_type": "code",
   "execution_count": 6,
   "metadata": {},
   "outputs": [
    {
     "data": {
      "application/vnd.jupyter.widget-view+json": {
       "model_id": "e26b282eeae1471e88bee5c6eb885a83",
       "version_major": 2,
       "version_minor": 0
      },
      "text/plain": [
       "FigureWidget({\n",
       "    'data': [{'close': array([27054.9, 26999.9, 27029.2, ..., 30430.4, 30488.4, 30403.7]),\n",
       "              'high': array([27077.5, 27058.5, 27075. , ..., 30499.4, 30525.1, 30521. ]),\n",
       "              'line': {'width': 1},\n",
       "              'low': array([27033.6, 26991.9, 26935.3, ..., 30382.8, 30381. , 30375.1]),\n",
       "              'name': 'Master_0',\n",
       "              'open': array([27060.4, 27054.9, 26999.9, ..., 30458.9, 30430.3, 30488.4]),\n",
       "              'type': 'candlestick',\n",
       "              'uid': '3909e059-74cf-4aa9-a410-8dd0c612b2a7',\n",
       "              'x': array([datetime.datetime(2023, 6, 3, 23, 0),\n",
       "                          datetime.datetime(2023, 6, 4, 0, 0),\n",
       "                          datetime.datetime(2023, 6, 4, 1, 0), ...,\n",
       "                          datetime.datetime(2023, 7, 5, 22, 0),\n",
       "                          datetime.datetime(2023, 7, 5, 23, 0),\n",
       "                          datetime.datetime(2023, 7, 6, 0, 0)], dtype=object),\n",
       "              'xaxis': 'x',\n",
       "              'yaxis': 'y'}],\n",
       "    'layout': {'dragmode': 'zoom',\n",
       "               'height': 600,\n",
       "               'hoverdistance': 1,\n",
       "               'hoverlabel': {'align': 'auto', 'bgcolor': 'rgba(10, 10, 10, 0.5)'},\n",
       "               'hovermode': 'x unified',\n",
       "               'margin': {'b': 5, 'l': 5, 'r': 5, 't': 35},\n",
       "               'modebar': {'add': ['drawline', 'drawopenpath', 'drawrect', 'eraseshape']},\n",
       "               'newshape': {'line': {'color': 'yellow', 'width': 1.0}},\n",
       "               'showlegend': False,\n",
       "               'template': '...',\n",
       "               'xaxis': {'anchor': 'y',\n",
       "                         'domain': [0.0, 1.0],\n",
       "                         'hoverformat': '%d-%b-%y %H:%M',\n",
       "                         'rangeslider': {'visible': False},\n",
       "                         'showspikes': True,\n",
       "                         'spikecolor': '#306020',\n",
       "                         'spikedash': 'dot',\n",
       "                         'spikemode': 'across',\n",
       "                         'spikesnap': 'cursor',\n",
       "                         'spikethickness': 1},\n",
       "               'yaxis': {'anchor': 'x',\n",
       "                         'domain': [0.0, 1.0],\n",
       "                         'hoverformat': '.2f',\n",
       "                         'spikecolor': '#306020',\n",
       "                         'spikesnap': 'cursor',\n",
       "                         'spikethickness': 1,\n",
       "                         'tickformat': '.2f'}}\n",
       "})"
      ]
     },
     "execution_count": 6,
     "metadata": {},
     "output_type": "execute_result"
    }
   ],
   "source": [
    "LookingGlass(data).look().hover()"
   ]
  },
  {
   "cell_type": "code",
   "execution_count": 2,
   "metadata": {},
   "outputs": [],
   "source": [
    "instr = lookup.find_symbol(\"BINANCE.UM\", \"BTCUSDT\")"
   ]
  },
  {
   "cell_type": "code",
   "execution_count": null,
   "metadata": {},
   "outputs": [
    {
     "name": "stdout",
     "output_type": "stream",
     "text": [
      "[2020-01-01 00:00:00.000000]  +1.00 BINANCE.UM:SWAP:BTCUSDT @ 100.0 take: 150.0\n"
     ]
    }
   ],
   "source": [
    "assert instr is not None\n",
    "\n",
    "s = instr.signal(\"2020-01-01\", 1, price=100.0, take=150.0, is_service=0)\n",
    "print(s)"
   ]
  },
  {
   "cell_type": "code",
   "execution_count": null,
   "metadata": {},
   "outputs": [
    {
     "name": "stdout",
     "output_type": "stream",
     "text": [
      "[2020-01-01 00:00:00.000000] POST-WARMUP-INIT :: +2.00 BINANCE.UM:SWAP:BTCUSDT\n"
     ]
    }
   ],
   "source": [
    "print(InitializingSignal(\"2020-01-01\", instr, 2))"
   ]
  },
  {
   "cell_type": "code",
   "execution_count": 29,
   "metadata": {},
   "outputs": [
    {
     "name": "stdout",
     "output_type": "stream",
     "text": [
      "[2020-01-01 00:00:00.000000] TARGET +0.234500 BTC @ 100.0 stop: 90.0 take: 110.0 for BINANCE.UM:SWAP:BTCUSDT\n"
     ]
    }
   ],
   "source": [
    "assert instr is not None\n",
    "\n",
    "tp = instr.target(\n",
    "    \"2020-01-01\",\n",
    "    0.2345,\n",
    "    entry_price=100.0,\n",
    "    take_price=110.0,\n",
    "    stop_price=90.0,\n",
    ")\n",
    "print(tp)"
   ]
  }
 ],
 "metadata": {
  "kernelspec": {
   "display_name": ".venv",
   "language": "python",
   "name": "python3"
  },
  "language_info": {
   "codemirror_mode": {
    "name": "ipython",
    "version": 3
   },
   "file_extension": ".py",
   "mimetype": "text/x-python",
   "name": "python",
   "nbconvert_exporter": "python",
   "pygments_lexer": "ipython3",
   "version": "3.11.9"
  }
 },
 "nbformat": 4,
 "nbformat_minor": 2
}
