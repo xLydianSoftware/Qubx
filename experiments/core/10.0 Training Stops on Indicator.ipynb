{
 "cells": [
  {
   "cell_type": "code",
   "execution_count": 2,
   "metadata": {},
   "outputs": [
    {
     "name": "stdout",
     "output_type": "stream",
     "text": [
      "\n",
      "⠀⠀⡰⡖⠒⠒⢒⢦⠀⠀   \n",
      "⠀⢠⠃⠈⢆⣀⣎⣀⣱⡀  \u001b[31mQUBX\u001b[0m | \u001b[36mQuantitative Backtesting Environment\u001b[0m \n",
      "⠀⢳⠒⠒⡞⠚⡄⠀⡰⠁         (c) 2025, ver. \u001b[35m0.6.37\u001b[0m\n",
      "⠀⠀⠱⣜⣀⣀⣈⣦⠃⠀⠀⠀ \n",
      "        \n"
     ]
    },
    {
     "data": {
      "text/html": [
       "<style> .cell-output-ipywidget-background { background-color: transparent !important; } :root { --jp-widgets-color: var(--vscode-editor-foreground); --jp-widgets-font-size: var(--vscode-editor-font-size); } .widget-hprogress, .jupyter-widget-hprogress { height: 16px; align-self: center; kj} table.dataframe, .dataframe td, .dataframe tr { border: 1px solid #55554a85; border-collapse: collapse; color: #859548d9 !important; } .dataframe th { border: 1px solid #55554a85; border-collapse: collapse; background-color: #010101 !important; color: #177 !important; } </style>"
      ],
      "text/plain": [
       "<IPython.core.display.HTML object>"
      ]
     },
     "metadata": {},
     "output_type": "display_data"
    }
   ],
   "source": [
    "from collections.abc import Callable\n",
    "from typing import cast\n",
    "import sys, os, re\n",
    "\n",
    "sys.path = ([\"../../src/\", \"../../\"] if re.match(r\"^(\\w\\:\\\\)|(/)\", os.getcwd()) else []) + sys.path\n",
    "import qubx # type: ignore\n",
    "\n",
    "%qubxd \n",
    "\n",
    "%load_ext autoreload\n",
    "%autoreload 2\n",
    "\n",
    "import qubx.ta.indicators as ta # type: ignore\n",
    "import qubx.pandaz.ta as pta # type: ignore\n",
    "from qubx.core.basics import ( # type: ignore\n",
    "    DataType,\n",
    "    Deal,\n",
    "    Instrument,\n",
    "    Order,\n",
    "    Position,\n",
    "    Signal,\n",
    ")\n",
    "from qubx.core.interfaces import ( # type: ignore\n",
    "    IStrategy,\n",
    "    IStrategyContext,\n",
    "    PositionsTracker,\n",
    "    TriggerEvent,\n",
    ")\n",
    "from qubx.trackers.sizers import FixedLeverageSizer\n",
    "from qubx import logger\n",
    "from qubx.core.utils import recognize_time\n",
    "from qubx.data.helpers import loader  # type: ignore\n",
    "from qubx.core.lookups import lookup\n",
    "\n",
    "from qubx.trackers.riskctrl import TrailingStopPositionTracker, SwingsStopLevels\n",
    "import numpy as np\n",
    "import pandas as pd"
   ]
  },
  {
   "cell_type": "code",
   "execution_count": 3,
   "metadata": {},
   "outputs": [],
   "source": [
    "ld = loader(\"BINANCE.UM\", \"1h\", source=\"csv::../../tests/data/csv_1h/\", n_jobs=1)\n",
    "data = ld[\"BTCUSDT\", \"2023-06-01\":\"2023-08-02\"]"
   ]
  },
  {
   "cell_type": "code",
   "execution_count": null,
   "metadata": {},
   "outputs": [],
   "source": [
    "# sw = pta.swings(data, pta.psar, iaf=0.02,maxaf=0.2)\n",
    "# LookingGlass([ data, sw.trends ], backend=\"plotly\").look().hover()"
   ]
  },
  {
   "cell_type": "code",
   "execution_count": 4,
   "metadata": {},
   "outputs": [],
   "source": [
    "class GuineaPig(IStrategy):\n",
    "    tests = {}\n",
    "\n",
    "    def on_init(self, ctx: IStrategyContext) -> None:\n",
    "        ctx.set_base_subscription(DataType.OHLC[\"1Min\"])\n",
    "\n",
    "    def on_fit(self, ctx: IStrategyContext):\n",
    "        self.tests = {recognize_time(k): v for k, v in self.tests.items()}\n",
    "\n",
    "    def on_event(self, ctx: IStrategyContext, event: TriggerEvent) -> list[Signal] | None:\n",
    "        r = []\n",
    "        for k in list(self.tests.keys()):\n",
    "            if event.time >= k:\n",
    "                s = self.tests.pop(k)\n",
    "                match s:\n",
    "                    case Signal():\n",
    "                        r.append(s)\n",
    "                    case (Signal(), Callable()):\n",
    "                        r.append(s[0])\n",
    "                        cast(Callable, s[1])(ctx, s[0])\n",
    "                    case _:\n",
    "                        logger.warning(f\" - - - | {s} | - - - \")\n",
    "        return r"
   ]
  },
  {
   "cell_type": "code",
   "execution_count": 7,
   "metadata": {},
   "outputs": [
    {
     "name": "stdout",
     "output_type": "stream",
     "text": [
      "\u001b[32m2025-08-26 16:32:04.698\u001b[0m [ \u001b[34m\u001b[1m🐞\u001b[0m ] \u001b[36m(runner)\u001b[0m \u001b[34m\u001b[1m[\u001b[33mSimulator\u001b[0m\u001b[34m\u001b[1m] :: Preparing simulated trading on \u001b[32m['BINANCE.UM']\u001b[0m\u001b[34m\u001b[1m for 10000 USDT...\u001b[0m\n",
      "\u001b[32m2025-08-26 16:32:04.698\u001b[0m [ \u001b[1mℹ️\u001b[0m ] \u001b[36m(data)\u001b[0m \u001b[1mSimulatedDataProvider.BINANCE.UM is initialized\u001b[0m\n",
      "\u001b[32m2025-08-26 16:32:04.699\u001b[0m [ \u001b[34m\u001b[1m🐞\u001b[0m ] \u001b[36m(runner)\u001b[0m \u001b[34m\u001b[1m[\u001b[33msimulator\u001b[0m\u001b[34m\u001b[1m] :: Setting default schedule: 0 */1 * * *\u001b[0m\n",
      "\u001b[96m2023-06-01 00:00:00.000\u001b[0m [\u001b[34m\u001b[1m🐞\u001b[0m] \u001b[34m\u001b[1m[\u001b[33mSimulationRunner\u001b[0m\u001b[34m\u001b[1m] :: Running simulation from 2023-06-01 00:00:00 to 2023-08-01 00:00:00\u001b[0m\n",
      "\u001b[96m2023-06-01 00:00:00.000\u001b[0m [\u001b[1mℹ️\u001b[0m] \u001b[1mSimulationRunner ::: Simulation started at 2023-06-01 00:00:00 :::\u001b[0m\n",
      "\u001b[96m2023-06-01 00:00:00.000\u001b[0m [\u001b[34m\u001b[1m🐞\u001b[0m] \u001b[34m\u001b[1m  [\u001b[36mIteratedDataStreamsSlicer\u001b[0m\u001b[34m\u001b[1m] :: Preloading initial data for ohlc.1Min 2023-06-01 00:00:00 : 2023-08-01 00:00:00 ...\u001b[0m\n"
     ]
    },
    {
     "name": "stdout",
     "output_type": "stream",
     "text": [
      "\u001b[96m2023-06-01 00:00:05.000\u001b[0m [\u001b[1mℹ️\u001b[0m] \u001b[1mAll 1 instruments have data - strategy ready to start\u001b[0m\n",
      "\u001b[96m2023-06-01 00:00:05.000\u001b[0m [\u001b[34m\u001b[1m🐞\u001b[0m] \u001b[34m\u001b[1m[\u001b[33mProcessingManager\u001b[0m\u001b[34m\u001b[1m] :: Invoking \u001b[32mSwingsLevels\u001b[0m\u001b[34m\u001b[1m on_fit\u001b[0m\n",
      "\u001b[96m2023-06-01 00:00:05.000\u001b[0m [\u001b[34m\u001b[1m🐞\u001b[0m] \u001b[34m\u001b[1m[\u001b[33mProcessingManager\u001b[0m\u001b[34m\u001b[1m] :: \u001b[32mSwingsLevels\u001b[0m\u001b[34m\u001b[1m is fitted\u001b[0m\n",
      "\u001b[96m2023-06-01 23:30:00.000\u001b[0m [\u001b[34m\u001b[1m🐞\u001b[0m] \u001b[34m\u001b[1mPerforming daily delisting check\u001b[0m\n",
      "\u001b[96m2023-06-02 23:30:00.000\u001b[0m [\u001b[34m\u001b[1m🐞\u001b[0m] \u001b[34m\u001b[1mPerforming daily delisting check\u001b[0m\n",
      "\u001b[96m2023-06-03 23:30:00.000\u001b[0m [\u001b[34m\u001b[1m🐞\u001b[0m] \u001b[34m\u001b[1mPerforming daily delisting check\u001b[0m\n",
      "\u001b[96m2023-06-04 23:30:00.000\u001b[0m [\u001b[34m\u001b[1m🐞\u001b[0m] \u001b[34m\u001b[1mPerforming daily delisting check\u001b[0m\n",
      "\u001b[96m2023-06-05 23:30:00.000\u001b[0m [\u001b[34m\u001b[1m🐞\u001b[0m] \u001b[34m\u001b[1mPerforming daily delisting check\u001b[0m\n",
      "\u001b[96m2023-06-06 23:30:00.000\u001b[0m [\u001b[34m\u001b[1m🐞\u001b[0m] \u001b[34m\u001b[1mPerforming daily delisting check\u001b[0m\n",
      "\u001b[96m2023-06-07 23:30:00.000\u001b[0m [\u001b[34m\u001b[1m🐞\u001b[0m] \u001b[34m\u001b[1mPerforming daily delisting check\u001b[0m\n",
      "\u001b[96m2023-06-08 23:30:00.000\u001b[0m [\u001b[34m\u001b[1m🐞\u001b[0m] \u001b[34m\u001b[1mPerforming daily delisting check\u001b[0m\n",
      "\u001b[96m2023-06-09 23:30:00.000\u001b[0m [\u001b[34m\u001b[1m🐞\u001b[0m] \u001b[34m\u001b[1mPerforming daily delisting check\u001b[0m\n",
      "\u001b[96m2023-06-10 23:30:00.000\u001b[0m [\u001b[34m\u001b[1m🐞\u001b[0m] \u001b[34m\u001b[1mPerforming daily delisting check\u001b[0m\n",
      "\u001b[96m2023-06-11 23:30:00.000\u001b[0m [\u001b[34m\u001b[1m🐞\u001b[0m] \u001b[34m\u001b[1mPerforming daily delisting check\u001b[0m\n",
      "\u001b[96m2023-06-12 23:30:00.000\u001b[0m [\u001b[34m\u001b[1m🐞\u001b[0m] \u001b[34m\u001b[1mPerforming daily delisting check\u001b[0m\n",
      "\u001b[96m2023-06-13 23:30:00.000\u001b[0m [\u001b[34m\u001b[1m🐞\u001b[0m] \u001b[34m\u001b[1mPerforming daily delisting check\u001b[0m\n",
      "\u001b[96m2023-06-14 23:30:00.000\u001b[0m [\u001b[34m\u001b[1m🐞\u001b[0m] \u001b[34m\u001b[1mPerforming daily delisting check\u001b[0m\n",
      "\u001b[96m2023-06-15 23:30:00.000\u001b[0m [\u001b[34m\u001b[1m🐞\u001b[0m] \u001b[34m\u001b[1mPerforming daily delisting check\u001b[0m\n",
      "\u001b[96m2023-06-16 23:30:00.000\u001b[0m [\u001b[34m\u001b[1m🐞\u001b[0m] \u001b[34m\u001b[1mPerforming daily delisting check\u001b[0m\n",
      "\u001b[96m2023-06-17 23:30:00.000\u001b[0m [\u001b[34m\u001b[1m🐞\u001b[0m] \u001b[34m\u001b[1mPerforming daily delisting check\u001b[0m\n",
      "\u001b[96m2023-06-18 23:30:00.000\u001b[0m [\u001b[34m\u001b[1m🐞\u001b[0m] \u001b[34m\u001b[1mPerforming daily delisting check\u001b[0m\n",
      "\u001b[96m2023-06-19 21:00:00.000\u001b[0m [\u001b[34m\u001b[1m🐞\u001b[0m] \u001b[34m\u001b[1m[\u001b[33mSwingsStopLevels.ClientSideRiskController\u001b[0m\u001b[34m\u001b[1m(\u001b[32mBINANCE.UM:SWAP:BTCUSDT\u001b[0m\u001b[34m\u001b[1m)] :: Processing signal (1) to target: \u001b[36m\u001b[1m[2023-06-19 21:00:00.000000] TARGET +0.374000 BTC stop: 26230.9 for BINANCE.UM:SWAP:BTCUSDT\u001b[0m\u001b[34m\u001b[1m\u001b[36m\u001b[0m\u001b[34m\u001b[1m\u001b[0m\n",
      "\u001b[96m2023-06-19 21:00:00.000\u001b[0m [\u001b[34m\u001b[1m🐞\u001b[0m] \u001b[34m\u001b[1m[\u001b[32mBTCUSDT\u001b[0m\u001b[34m\u001b[1m] :: Sending (blocking) market BUY 0.374  -> (client_id: \u001b[31mqubx_BTCUSDT_16872084001)\u001b[0m\u001b[34m\u001b[1m ...\u001b[0m\n",
      "\u001b[96m2023-06-19 21:00:00.000\u001b[0m [\u001b[34m\u001b[1m🐞\u001b[0m] \u001b[34m\u001b[1m    [\u001b[33mOME\u001b[0m\u001b[34m\u001b[1m(\u001b[32mBINANCE.UM:SWAP:BTCUSDT\u001b[0m\u001b[34m\u001b[1m)] :: \u001b[31mSIM-ORDER-BTCUSDT-100001\u001b[0m\u001b[34m\u001b[1m MARKET BUY 0.374 executed at 26711.55 ::: BBO: [2023-06-19T20:59:55.000000000]\t26711.45000 (0.00) | 26711.55000 (0.00) [CLOSED]\u001b[0m\n",
      "\u001b[96m2023-06-19 21:00:00.000\u001b[0m [\u001b[34m\u001b[1m🐞\u001b[0m] \u001b[34m\u001b[1m  [\u001b[33mSimulatedAccountProcessor\u001b[0m\u001b[34m\u001b[1m(\u001b[32mBINANCE.UM:SWAP:BTCUSDT\u001b[0m\u001b[34m\u001b[1m)] :: New status for order \u001b[31mSIM-ORDER-BTCUSDT-100001\u001b[0m\u001b[34m\u001b[1m -> \u001b[33mCLOSED\u001b[0m\u001b[34m\u001b[1m (MARKET BUY 0.374)\u001b[0m\n",
      "\u001b[96m2023-06-19 21:00:00.000\u001b[0m [\u001b[34m\u001b[1m🐞\u001b[0m] \u001b[34m\u001b[1m  [\u001b[33mSimulatedAccountProcessor\u001b[0m\u001b[34m\u001b[1m(\u001b[32mBINANCE.UM:SWAP:BTCUSDT\u001b[0m\u001b[34m\u001b[1m)] :: traded 0.374 @ 26711.55 -> 0.00 USDT realized profit\u001b[0m\n",
      "\u001b[96m2023-06-19 21:00:00.000\u001b[0m [\u001b[34m\u001b[1m🐞\u001b[0m] \u001b[34m\u001b[1m[\u001b[33mSwingsStopLevels.ClientSideRiskController\u001b[0m\u001b[34m\u001b[1m(\u001b[32mBTCUSDT\u001b[0m\u001b[34m\u001b[1m)] :: Start tracking \u001b[36m\u001b[1m[2023-06-19 21:00:00.000000] TARGET +0.374000 BTC stop: 26230.9 for BINANCE.UM:SWAP:BTCUSDT\u001b[0m\u001b[34m\u001b[1m\u001b[36m\u001b[0m\u001b[34m\u001b[1m\u001b[0m\n",
      "\u001b[96m2023-06-19 21:00:00.000\u001b[0m [\u001b[34m\u001b[1m🐞\u001b[0m] \u001b[34m\u001b[1m[\u001b[33mProcessingManager\u001b[0m\u001b[34m\u001b[1m(\u001b[32mBINANCE.UM:SWAP:BTCUSDT\u001b[0m\u001b[34m\u001b[1m)] :: executed \u001b[31mSIM-ORDER-BTCUSDT-100001\u001b[0m\u001b[34m\u001b[1m | 0.374 @ 26711.55\u001b[0m\n",
      "\u001b[96m2023-06-19 21:00:00.000\u001b[0m [\u001b[34m\u001b[1m🐞\u001b[0m] \u001b[34m\u001b[1m  [\u001b[33mSimplePositionGatherer\u001b[0m\u001b[34m\u001b[1m(\u001b[32mBINANCE.UM:SWAP:BTCUSDT\u001b[0m\u001b[34m\u001b[1m)] :: Position is adjusted from 0.0 to 0.374 : [SIM-ORDER-BTCUSDT-100001] MARKET BUY 0.374 of BINANCE.UM:SWAP:BTCUSDT  (gtc) [CLOSED]\u001b[0m\n",
      "\u001b[96m2023-06-19 23:30:00.000\u001b[0m [\u001b[34m\u001b[1m🐞\u001b[0m] \u001b[34m\u001b[1mPerforming daily delisting check\u001b[0m\n",
      "\u001b[96m2023-06-20 15:36:00.000\u001b[0m [\u001b[34m\u001b[1m🐞\u001b[0m] \u001b[34m\u001b[1m[\u001b[33mSwingsStopLevels.ClientSideRiskController\u001b[0m\u001b[34m\u001b[1m(\u001b[32mBTCUSDT\u001b[0m\u001b[34m\u001b[1m)] :: Move stop level from 26230.9 to 26633.9\u001b[0m\n",
      "\u001b[96m2023-06-20 23:30:00.000\u001b[0m [\u001b[34m\u001b[1m🐞\u001b[0m] \u001b[34m\u001b[1mPerforming daily delisting check\u001b[0m\n",
      "\u001b[96m2023-06-21 13:36:00.000\u001b[0m [\u001b[34m\u001b[1m🐞\u001b[0m] \u001b[34m\u001b[1m[\u001b[33mSwingsStopLevels.ClientSideRiskController\u001b[0m\u001b[34m\u001b[1m(\u001b[32mBTCUSDT\u001b[0m\u001b[34m\u001b[1m)] :: Move stop level from 26633.9 to 28783.0\u001b[0m\n",
      "\u001b[96m2023-06-21 23:30:00.000\u001b[0m [\u001b[34m\u001b[1m🐞\u001b[0m] \u001b[34m\u001b[1mPerforming daily delisting check\u001b[0m\n",
      "\u001b[96m2023-06-22 19:36:00.000\u001b[0m [\u001b[34m\u001b[1m🐞\u001b[0m] \u001b[34m\u001b[1m[\u001b[33mSwingsStopLevels.ClientSideRiskController\u001b[0m\u001b[34m\u001b[1m(\u001b[32mBTCUSDT\u001b[0m\u001b[34m\u001b[1m)] :: Move stop level from 28783.0 to 29500.1\u001b[0m\n",
      "\u001b[96m2023-06-22 23:30:00.000\u001b[0m [\u001b[34m\u001b[1m🐞\u001b[0m] \u001b[34m\u001b[1mPerforming daily delisting check\u001b[0m\n",
      "\u001b[96m2023-06-23 23:30:00.000\u001b[0m [\u001b[34m\u001b[1m🐞\u001b[0m] \u001b[34m\u001b[1mPerforming daily delisting check\u001b[0m\n",
      "\u001b[96m2023-06-24 23:30:00.000\u001b[0m [\u001b[34m\u001b[1m🐞\u001b[0m] \u001b[34m\u001b[1mPerforming daily delisting check\u001b[0m\n",
      "\u001b[96m2023-06-25 01:36:00.000\u001b[0m [\u001b[34m\u001b[1m🐞\u001b[0m] \u001b[34m\u001b[1m[\u001b[33mSwingsStopLevels.ClientSideRiskController\u001b[0m\u001b[34m\u001b[1m(\u001b[32mBTCUSDT\u001b[0m\u001b[34m\u001b[1m)] :: Move stop level from 29500.1 to 30222.0\u001b[0m\n",
      "\u001b[96m2023-06-25 23:30:00.000\u001b[0m [\u001b[34m\u001b[1m🐞\u001b[0m] \u001b[34m\u001b[1mPerforming daily delisting check\u001b[0m\n",
      "\u001b[96m2023-06-26 01:36:00.000\u001b[0m [\u001b[34m\u001b[1m🐞\u001b[0m] \u001b[34m\u001b[1m[\u001b[33mSwingsStopLevels.ClientSideRiskController\u001b[0m\u001b[34m\u001b[1m(\u001b[32mBINANCE.UM:SWAP:BTCUSDT\u001b[0m\u001b[34m\u001b[1m)] :: triggered \u001b[31mSTOP LOSS\u001b[0m\u001b[34m\u001b[1m at 30222.0\u001b[0m\n",
      "\u001b[96m2023-06-26 01:36:00.000\u001b[0m [\u001b[34m\u001b[1m🐞\u001b[0m] \u001b[34m\u001b[1m[\u001b[32mBTCUSDT\u001b[0m\u001b[34m\u001b[1m] :: Sending (blocking) market SELL 0.374  -> (client_id: \u001b[31mqubx_BTCUSDT_16872084002)\u001b[0m\u001b[34m\u001b[1m ...\u001b[0m\n",
      "\u001b[96m2023-06-26 01:36:00.000\u001b[0m [\u001b[34m\u001b[1m🐞\u001b[0m] \u001b[34m\u001b[1m    [\u001b[33mOME\u001b[0m\u001b[34m\u001b[1m(\u001b[32mBINANCE.UM:SWAP:BTCUSDT\u001b[0m\u001b[34m\u001b[1m)] :: \u001b[31mSIM-ORDER-BTCUSDT-100002\u001b[0m\u001b[34m\u001b[1m MARKET SELL 0.374 executed at 30222.0 ::: BBO: [2023-06-26T01:36:00.000000000]\t29919.95000 (0.00) | 29920.05000 (0.00) [CLOSED]\u001b[0m\n",
      "\u001b[96m2023-06-26 01:36:00.000\u001b[0m [\u001b[34m\u001b[1m🐞\u001b[0m] \u001b[34m\u001b[1m  [\u001b[33mSimulatedAccountProcessor\u001b[0m\u001b[34m\u001b[1m(\u001b[32mBINANCE.UM:SWAP:BTCUSDT\u001b[0m\u001b[34m\u001b[1m)] :: New status for order \u001b[31mSIM-ORDER-BTCUSDT-100002\u001b[0m\u001b[34m\u001b[1m -> \u001b[33mCLOSED\u001b[0m\u001b[34m\u001b[1m (MARKET SELL 0.374)\u001b[0m\n",
      "\u001b[96m2023-06-26 01:36:00.000\u001b[0m [\u001b[34m\u001b[1m🐞\u001b[0m] \u001b[34m\u001b[1m  [\u001b[33mSimulatedAccountProcessor\u001b[0m\u001b[34m\u001b[1m(\u001b[32mBINANCE.UM:SWAP:BTCUSDT\u001b[0m\u001b[34m\u001b[1m)] :: traded -0.374 @ 30222.0 -> 1312.93 USDT realized profit\u001b[0m\n",
      "\u001b[96m2023-06-26 01:36:00.000\u001b[0m [\u001b[34m\u001b[1m🐞\u001b[0m] \u001b[34m\u001b[1m[\u001b[33mProcessingManager\u001b[0m\u001b[34m\u001b[1m(\u001b[32mBINANCE.UM:SWAP:BTCUSDT\u001b[0m\u001b[34m\u001b[1m)] :: executed \u001b[31mSIM-ORDER-BTCUSDT-100002\u001b[0m\u001b[34m\u001b[1m | -0.374 @ 30222.0\u001b[0m\n",
      "\u001b[96m2023-06-26 01:36:00.000\u001b[0m [\u001b[34m\u001b[1m🐞\u001b[0m] \u001b[34m\u001b[1m  [\u001b[33mSimplePositionGatherer\u001b[0m\u001b[34m\u001b[1m(\u001b[32mBINANCE.UM:SWAP:BTCUSDT\u001b[0m\u001b[34m\u001b[1m)] :: Position is adjusted from 0.374 to 0.0 : [SIM-ORDER-BTCUSDT-100002] MARKET SELL 0.374 of BINANCE.UM:SWAP:BTCUSDT  (gtc) [CLOSED]\u001b[0m\n",
      "\u001b[96m2023-06-26 01:59:55.000\u001b[0m [\u001b[34m\u001b[1m🐞\u001b[0m] \u001b[34m\u001b[1m[\u001b[33mSwingsStopLevels.ClientSideRiskController\u001b[0m\u001b[34m\u001b[1m(\u001b[32mBINANCE.UM:SWAP:BTCUSDT\u001b[0m\u001b[34m\u001b[1m)] :: \u001b[35mStop tracking\u001b[0m\u001b[34m\u001b[1m\u001b[0m\n",
      "\u001b[96m2023-06-26 23:30:00.000\u001b[0m [\u001b[34m\u001b[1m🐞\u001b[0m] \u001b[34m\u001b[1mPerforming daily delisting check\u001b[0m\n",
      "\u001b[96m2023-06-27 23:30:00.000\u001b[0m [\u001b[34m\u001b[1m🐞\u001b[0m] \u001b[34m\u001b[1mPerforming daily delisting check\u001b[0m\n",
      "\u001b[96m2023-06-28 23:30:00.000\u001b[0m [\u001b[34m\u001b[1m🐞\u001b[0m] \u001b[34m\u001b[1mPerforming daily delisting check\u001b[0m\n",
      "\u001b[96m2023-06-29 23:30:00.000\u001b[0m [\u001b[34m\u001b[1m🐞\u001b[0m] \u001b[34m\u001b[1mPerforming daily delisting check\u001b[0m\n",
      "\u001b[96m2023-06-30 23:30:00.000\u001b[0m [\u001b[34m\u001b[1m🐞\u001b[0m] \u001b[34m\u001b[1mPerforming daily delisting check\u001b[0m\n",
      "\u001b[96m2023-07-01 23:30:00.000\u001b[0m [\u001b[34m\u001b[1m🐞\u001b[0m] \u001b[34m\u001b[1mPerforming daily delisting check\u001b[0m\n",
      "\u001b[96m2023-07-02 23:30:00.000\u001b[0m [\u001b[34m\u001b[1m🐞\u001b[0m] \u001b[34m\u001b[1mPerforming daily delisting check\u001b[0m\n",
      "\u001b[96m2023-07-03 23:30:00.000\u001b[0m [\u001b[34m\u001b[1m🐞\u001b[0m] \u001b[34m\u001b[1mPerforming daily delisting check\u001b[0m\n",
      "\u001b[96m2023-07-04 23:30:00.000\u001b[0m [\u001b[34m\u001b[1m🐞\u001b[0m] \u001b[34m\u001b[1mPerforming daily delisting check\u001b[0m\n",
      "\u001b[96m2023-07-05 01:00:00.000\u001b[0m [\u001b[34m\u001b[1m🐞\u001b[0m] \u001b[34m\u001b[1m[\u001b[33mSwingsStopLevels.ClientSideRiskController\u001b[0m\u001b[34m\u001b[1m(\u001b[32mBINANCE.UM:SWAP:BTCUSDT\u001b[0m\u001b[34m\u001b[1m)] :: Processing signal (-1) to target: \u001b[36m\u001b[1m[2023-07-05 01:00:00.000000] TARGET -0.367000 BTC stop: 31145.0 for BINANCE.UM:SWAP:BTCUSDT\u001b[0m\u001b[34m\u001b[1m\u001b[36m\u001b[0m\u001b[34m\u001b[1m\u001b[0m\n",
      "\u001b[96m2023-07-05 01:00:00.000\u001b[0m [\u001b[34m\u001b[1m🐞\u001b[0m] \u001b[34m\u001b[1m[\u001b[32mBTCUSDT\u001b[0m\u001b[34m\u001b[1m] :: Sending (blocking) market SELL 0.367  -> (client_id: \u001b[31mqubx_BTCUSDT_16872084003)\u001b[0m\u001b[34m\u001b[1m ...\u001b[0m\n",
      "\u001b[96m2023-07-05 01:00:00.000\u001b[0m [\u001b[34m\u001b[1m🐞\u001b[0m] \u001b[34m\u001b[1m    [\u001b[33mOME\u001b[0m\u001b[34m\u001b[1m(\u001b[32mBINANCE.UM:SWAP:BTCUSDT\u001b[0m\u001b[34m\u001b[1m)] :: \u001b[31mSIM-ORDER-BTCUSDT-100003\u001b[0m\u001b[34m\u001b[1m MARKET SELL 0.367 executed at 30751.45 ::: BBO: [2023-07-05T00:59:55.000000000]\t30751.45000 (0.00) | 30751.55000 (0.00) [CLOSED]\u001b[0m\n",
      "\u001b[96m2023-07-05 01:00:00.000\u001b[0m [\u001b[34m\u001b[1m🐞\u001b[0m] \u001b[34m\u001b[1m  [\u001b[33mSimulatedAccountProcessor\u001b[0m\u001b[34m\u001b[1m(\u001b[32mBINANCE.UM:SWAP:BTCUSDT\u001b[0m\u001b[34m\u001b[1m)] :: New status for order \u001b[31mSIM-ORDER-BTCUSDT-100003\u001b[0m\u001b[34m\u001b[1m -> \u001b[33mCLOSED\u001b[0m\u001b[34m\u001b[1m (MARKET SELL 0.367)\u001b[0m\n",
      "\u001b[96m2023-07-05 01:00:00.000\u001b[0m [\u001b[34m\u001b[1m🐞\u001b[0m] \u001b[34m\u001b[1m  [\u001b[33mSimulatedAccountProcessor\u001b[0m\u001b[34m\u001b[1m(\u001b[32mBINANCE.UM:SWAP:BTCUSDT\u001b[0m\u001b[34m\u001b[1m)] :: traded -0.367 @ 30751.45 -> 0.00 USDT realized profit\u001b[0m\n",
      "\u001b[96m2023-07-05 01:00:00.000\u001b[0m [\u001b[34m\u001b[1m🐞\u001b[0m] \u001b[34m\u001b[1m[\u001b[33mSwingsStopLevels.ClientSideRiskController\u001b[0m\u001b[34m\u001b[1m(\u001b[32mBTCUSDT\u001b[0m\u001b[34m\u001b[1m)] :: Start tracking \u001b[36m\u001b[1m[2023-07-05 01:00:00.000000] TARGET -0.367000 BTC stop: 31145.0 for BINANCE.UM:SWAP:BTCUSDT\u001b[0m\u001b[34m\u001b[1m\u001b[36m\u001b[0m\u001b[34m\u001b[1m\u001b[0m\n",
      "\u001b[96m2023-07-05 01:00:00.000\u001b[0m [\u001b[34m\u001b[1m🐞\u001b[0m] \u001b[34m\u001b[1m[\u001b[33mProcessingManager\u001b[0m\u001b[34m\u001b[1m(\u001b[32mBINANCE.UM:SWAP:BTCUSDT\u001b[0m\u001b[34m\u001b[1m)] :: executed \u001b[31mSIM-ORDER-BTCUSDT-100003\u001b[0m\u001b[34m\u001b[1m | -0.367 @ 30751.45\u001b[0m\n",
      "\u001b[96m2023-07-05 01:00:00.000\u001b[0m [\u001b[34m\u001b[1m🐞\u001b[0m] \u001b[34m\u001b[1m  [\u001b[33mSimplePositionGatherer\u001b[0m\u001b[34m\u001b[1m(\u001b[32mBINANCE.UM:SWAP:BTCUSDT\u001b[0m\u001b[34m\u001b[1m)] :: Position is adjusted from 0.0 to -0.367 : [SIM-ORDER-BTCUSDT-100003] MARKET SELL 0.367 of BINANCE.UM:SWAP:BTCUSDT  (gtc) [CLOSED]\u001b[0m\n",
      "\u001b[96m2023-07-05 23:30:00.000\u001b[0m [\u001b[34m\u001b[1m🐞\u001b[0m] \u001b[34m\u001b[1mPerforming daily delisting check\u001b[0m\n",
      "\u001b[96m2023-07-06 08:36:00.000\u001b[0m [\u001b[34m\u001b[1m🐞\u001b[0m] \u001b[34m\u001b[1m[\u001b[33mSwingsStopLevels.ClientSideRiskController\u001b[0m\u001b[34m\u001b[1m(\u001b[32mBINANCE.UM:SWAP:BTCUSDT\u001b[0m\u001b[34m\u001b[1m)] :: triggered \u001b[31mSTOP LOSS\u001b[0m\u001b[34m\u001b[1m at 31145.0\u001b[0m\n",
      "\u001b[96m2023-07-06 08:36:00.000\u001b[0m [\u001b[34m\u001b[1m🐞\u001b[0m] \u001b[34m\u001b[1m[\u001b[32mBTCUSDT\u001b[0m\u001b[34m\u001b[1m] :: Sending (blocking) market BUY 0.367  -> (client_id: \u001b[31mqubx_BTCUSDT_16872084004)\u001b[0m\u001b[34m\u001b[1m ...\u001b[0m\n",
      "\u001b[96m2023-07-06 08:36:00.000\u001b[0m [\u001b[34m\u001b[1m🐞\u001b[0m] \u001b[34m\u001b[1m    [\u001b[33mOME\u001b[0m\u001b[34m\u001b[1m(\u001b[32mBINANCE.UM:SWAP:BTCUSDT\u001b[0m\u001b[34m\u001b[1m)] :: \u001b[31mSIM-ORDER-BTCUSDT-100004\u001b[0m\u001b[34m\u001b[1m MARKET BUY 0.367 executed at 31145.0 ::: BBO: [2023-07-06T08:36:00.000000000]\t31359.35000 (0.00) | 31359.45000 (0.00) [CLOSED]\u001b[0m\n",
      "\u001b[96m2023-07-06 08:36:00.000\u001b[0m [\u001b[34m\u001b[1m🐞\u001b[0m] \u001b[34m\u001b[1m  [\u001b[33mSimulatedAccountProcessor\u001b[0m\u001b[34m\u001b[1m(\u001b[32mBINANCE.UM:SWAP:BTCUSDT\u001b[0m\u001b[34m\u001b[1m)] :: New status for order \u001b[31mSIM-ORDER-BTCUSDT-100004\u001b[0m\u001b[34m\u001b[1m -> \u001b[33mCLOSED\u001b[0m\u001b[34m\u001b[1m (MARKET BUY 0.367)\u001b[0m\n",
      "\u001b[96m2023-07-06 08:36:00.000\u001b[0m [\u001b[34m\u001b[1m🐞\u001b[0m] \u001b[34m\u001b[1m  [\u001b[33mSimulatedAccountProcessor\u001b[0m\u001b[34m\u001b[1m(\u001b[32mBINANCE.UM:SWAP:BTCUSDT\u001b[0m\u001b[34m\u001b[1m)] :: traded 0.367 @ 31145.0 -> -144.45 USDT realized profit\u001b[0m\n",
      "\u001b[96m2023-07-06 08:36:00.000\u001b[0m [\u001b[34m\u001b[1m🐞\u001b[0m] \u001b[34m\u001b[1m[\u001b[33mProcessingManager\u001b[0m\u001b[34m\u001b[1m(\u001b[32mBINANCE.UM:SWAP:BTCUSDT\u001b[0m\u001b[34m\u001b[1m)] :: executed \u001b[31mSIM-ORDER-BTCUSDT-100004\u001b[0m\u001b[34m\u001b[1m | 0.367 @ 31145.0\u001b[0m\n",
      "\u001b[96m2023-07-06 08:36:00.000\u001b[0m [\u001b[34m\u001b[1m🐞\u001b[0m] \u001b[34m\u001b[1m  [\u001b[33mSimplePositionGatherer\u001b[0m\u001b[34m\u001b[1m(\u001b[32mBINANCE.UM:SWAP:BTCUSDT\u001b[0m\u001b[34m\u001b[1m)] :: Position is adjusted from -0.367 to 0.0 : [SIM-ORDER-BTCUSDT-100004] MARKET BUY 0.367 of BINANCE.UM:SWAP:BTCUSDT  (gtc) [CLOSED]\u001b[0m\n",
      "\u001b[96m2023-07-06 08:59:55.000\u001b[0m [\u001b[34m\u001b[1m🐞\u001b[0m] \u001b[34m\u001b[1m[\u001b[33mSwingsStopLevels.ClientSideRiskController\u001b[0m\u001b[34m\u001b[1m(\u001b[32mBINANCE.UM:SWAP:BTCUSDT\u001b[0m\u001b[34m\u001b[1m)] :: \u001b[35mStop tracking\u001b[0m\u001b[34m\u001b[1m\u001b[0m\n",
      "\u001b[96m2023-07-06 23:30:00.000\u001b[0m [\u001b[34m\u001b[1m🐞\u001b[0m] \u001b[34m\u001b[1mPerforming daily delisting check\u001b[0m\n",
      "\u001b[96m2023-07-07 23:30:00.000\u001b[0m [\u001b[34m\u001b[1m🐞\u001b[0m] \u001b[34m\u001b[1mPerforming daily delisting check\u001b[0m\n",
      "\u001b[96m2023-07-08 23:30:00.000\u001b[0m [\u001b[34m\u001b[1m🐞\u001b[0m] \u001b[34m\u001b[1mPerforming daily delisting check\u001b[0m\n",
      "\u001b[96m2023-07-09 23:30:00.000\u001b[0m [\u001b[34m\u001b[1m🐞\u001b[0m] \u001b[34m\u001b[1mPerforming daily delisting check\u001b[0m\n",
      "\u001b[96m2023-07-10 23:30:00.000\u001b[0m [\u001b[34m\u001b[1m🐞\u001b[0m] \u001b[34m\u001b[1mPerforming daily delisting check\u001b[0m\n",
      "\u001b[96m2023-07-11 23:30:00.000\u001b[0m [\u001b[34m\u001b[1m🐞\u001b[0m] \u001b[34m\u001b[1mPerforming daily delisting check\u001b[0m\n",
      "\u001b[96m2023-07-12 23:30:00.000\u001b[0m [\u001b[34m\u001b[1m🐞\u001b[0m] \u001b[34m\u001b[1mPerforming daily delisting check\u001b[0m\n",
      "\u001b[96m2023-07-13 23:30:00.000\u001b[0m [\u001b[34m\u001b[1m🐞\u001b[0m] \u001b[34m\u001b[1mPerforming daily delisting check\u001b[0m\n",
      "\u001b[96m2023-07-14 23:30:00.000\u001b[0m [\u001b[34m\u001b[1m🐞\u001b[0m] \u001b[34m\u001b[1mPerforming daily delisting check\u001b[0m\n",
      "\u001b[96m2023-07-15 23:30:00.000\u001b[0m [\u001b[34m\u001b[1m🐞\u001b[0m] \u001b[34m\u001b[1mPerforming daily delisting check\u001b[0m\n",
      "\u001b[96m2023-07-16 23:30:00.000\u001b[0m [\u001b[34m\u001b[1m🐞\u001b[0m] \u001b[34m\u001b[1mPerforming daily delisting check\u001b[0m\n",
      "\u001b[96m2023-07-17 23:30:00.000\u001b[0m [\u001b[34m\u001b[1m🐞\u001b[0m] \u001b[34m\u001b[1mPerforming daily delisting check\u001b[0m\n",
      "\u001b[96m2023-07-18 23:30:00.000\u001b[0m [\u001b[34m\u001b[1m🐞\u001b[0m] \u001b[34m\u001b[1mPerforming daily delisting check\u001b[0m\n",
      "\u001b[96m2023-07-19 23:30:00.000\u001b[0m [\u001b[34m\u001b[1m🐞\u001b[0m] \u001b[34m\u001b[1mPerforming daily delisting check\u001b[0m\n",
      "\u001b[96m2023-07-20 23:30:00.000\u001b[0m [\u001b[34m\u001b[1m🐞\u001b[0m] \u001b[34m\u001b[1mPerforming daily delisting check\u001b[0m\n",
      "\u001b[96m2023-07-21 23:30:00.000\u001b[0m [\u001b[34m\u001b[1m🐞\u001b[0m] \u001b[34m\u001b[1mPerforming daily delisting check\u001b[0m\n",
      "\u001b[96m2023-07-22 23:30:00.000\u001b[0m [\u001b[34m\u001b[1m🐞\u001b[0m] \u001b[34m\u001b[1mPerforming daily delisting check\u001b[0m\n",
      "\u001b[96m2023-07-23 23:30:00.000\u001b[0m [\u001b[34m\u001b[1m🐞\u001b[0m] \u001b[34m\u001b[1mPerforming daily delisting check\u001b[0m\n",
      "\u001b[96m2023-07-24 23:30:00.000\u001b[0m [\u001b[34m\u001b[1m🐞\u001b[0m] \u001b[34m\u001b[1mPerforming daily delisting check\u001b[0m\n",
      "\u001b[96m2023-07-25 23:30:00.000\u001b[0m [\u001b[34m\u001b[1m🐞\u001b[0m] \u001b[34m\u001b[1mPerforming daily delisting check\u001b[0m\n",
      "\u001b[96m2023-07-26 23:30:00.000\u001b[0m [\u001b[34m\u001b[1m🐞\u001b[0m] \u001b[34m\u001b[1mPerforming daily delisting check\u001b[0m\n",
      "\u001b[96m2023-07-27 23:30:00.000\u001b[0m [\u001b[34m\u001b[1m🐞\u001b[0m] \u001b[34m\u001b[1mPerforming daily delisting check\u001b[0m\n",
      "\u001b[96m2023-07-28 23:30:00.000\u001b[0m [\u001b[34m\u001b[1m🐞\u001b[0m] \u001b[34m\u001b[1mPerforming daily delisting check\u001b[0m\n",
      "\u001b[96m2023-07-29 23:30:00.000\u001b[0m [\u001b[34m\u001b[1m🐞\u001b[0m] \u001b[34m\u001b[1mPerforming daily delisting check\u001b[0m\n",
      "\u001b[96m2023-07-30 23:30:00.000\u001b[0m [\u001b[34m\u001b[1m🐞\u001b[0m] \u001b[34m\u001b[1mPerforming daily delisting check\u001b[0m\n",
      "\u001b[96m2023-07-31 23:30:00.000\u001b[0m [\u001b[34m\u001b[1m🐞\u001b[0m] \u001b[34m\u001b[1mPerforming daily delisting check\u001b[0m\n",
      "\u001b[96m2023-08-01 00:59:55.000\u001b[0m [\u001b[1mℹ️\u001b[0m] \u001b[1mSimulationRunner ::: Simulation finished at 2023-08-01 00:00:00 :::\u001b[0m\n"
     ]
    }
   ],
   "source": [
    "I = lookup.find_symbol(\"BINANCE.UM\", \"BTCUSDT\")\n",
    "\n",
    "class SwingsLevels(GuineaPig):\n",
    "    def tracker(self, ctx: IStrategyContext) -> PositionsTracker:\n",
    "        return SwingsStopLevels(\"1h\", 0.02, 0.2, FixedLeverageSizer(1.0), risk_controlling_side=\"client\")\n",
    "\n",
    "rep = simulate(\n",
    "    strategies={\n",
    "        \"Trailing.Clent\": SwingsLevels(\n",
    "            tests={\n",
    "                \"2023-06-19 21:00:00\": I.signal(\"2023-06-19 21:00:00\", +1),\n",
    "                \"2023-07-05 01:00:00\": I.signal(\"2023-07-05 01:00:00\", -1),\n",
    "            }\n",
    "        ),\n",
    "    },\n",
    "    data={\"ohlc(1h)\": ld},\n",
    "    capital=10000,\n",
    "    instruments=[\"BINANCE.UM:BTCUSDT\"],\n",
    "    silent=True,\n",
    "    debug=\"DEBUG\",\n",
    "    commissions=\"vip0_usdt\",\n",
    "    start=\"2023-06-01\",\n",
    "    stop=\"2023-08-01\",\n",
    ")"
   ]
  },
  {
   "cell_type": "code",
   "execution_count": null,
   "metadata": {},
   "outputs": [],
   "source": [
    "rep[0].chart_signals(\"BTCUSDT\", ld, start=\"2023-06-18\", end=\"2023-07-10\", \n",
    "                    overlay=[pta.swings(data, pta.psar, iaf=0.02, maxaf=0.2).trends],\n",
    "                     show_signals=True)"
   ]
  },
  {
   "cell_type": "code",
   "execution_count": null,
   "metadata": {},
   "outputs": [],
   "source": []
  },
  {
   "cell_type": "code",
   "execution_count": null,
   "metadata": {},
   "outputs": [],
   "source": []
  }
 ],
 "metadata": {
  "kernelspec": {
   "display_name": ".venv",
   "language": "python",
   "name": "python3"
  },
  "language_info": {
   "codemirror_mode": {
    "name": "ipython",
    "version": 3
   },
   "file_extension": ".py",
   "mimetype": "text/x-python",
   "name": "python",
   "nbconvert_exporter": "python",
   "pygments_lexer": "ipython3",
   "version": "3.11.9"
  }
 },
 "nbformat": 4,
 "nbformat_minor": 2
}
