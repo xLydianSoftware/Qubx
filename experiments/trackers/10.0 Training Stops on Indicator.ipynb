{
 "cells": [
  {
   "cell_type": "code",
   "execution_count": 1,
   "metadata": {},
   "outputs": [
    {
     "name": "stdout",
     "output_type": "stream",
     "text": [
      "\n",
      "⠀⠀⡰⡖⠒⠒⢒⢦⠀⠀   \n",
      "⠀⢠⠃⠈⢆⣀⣎⣀⣱⡀  \u001b[31mQUBX\u001b[0m | \u001b[36mQuantitative Backtesting Environment\u001b[0m \n",
      "⠀⢳⠒⠒⡞⠚⡄⠀⡰⠁         (c) 2025, ver. \u001b[35m0.6.72\u001b[0m\n",
      "⠀⠀⠱⣜⣀⣀⣈⣦⠃⠀⠀⠀ \n",
      "        \n"
     ]
    },
    {
     "data": {
      "text/html": [
       "<style> .cell-output-ipywidget-background { background-color: transparent !important; } :root { --jp-widgets-color: var(--vscode-editor-foreground); --jp-widgets-font-size: var(--vscode-editor-font-size); } .widget-hprogress, .jupyter-widget-hprogress { height: 16px; align-self: center; kj} table.dataframe, .dataframe td, .dataframe tr { border: 1px solid #55554a85; border-collapse: collapse; color: #859548d9 !important; } .dataframe th { border: 1px solid #55554a85; border-collapse: collapse; background-color: #010101 !important; color: #177 !important; } </style>"
      ],
      "text/plain": [
       "<IPython.core.display.HTML object>"
      ]
     },
     "metadata": {},
     "output_type": "display_data"
    }
   ],
   "source": [
    "from collections.abc import Callable\n",
    "from typing import cast\n",
    "import sys, os, re\n",
    "\n",
    "sys.path = ([\"../../src/\", \"../../\"] if re.match(r\"^(\\w\\:\\\\)|(/)\", os.getcwd()) else []) + sys.path\n",
    "import qubx # type: ignore\n",
    "\n",
    "%qubxd \n",
    "\n",
    "%load_ext autoreload\n",
    "%autoreload 2\n",
    "\n",
    "import qubx.ta.indicators as ta # type: ignore\n",
    "import qubx.pandaz.ta as pta # type: ignore\n",
    "from qubx.core.basics import ( # type: ignore\n",
    "    DataType,\n",
    "    Deal,\n",
    "    Instrument,\n",
    "    Order,\n",
    "    Position,\n",
    "    Signal,\n",
    ")\n",
    "from qubx.core.interfaces import ( # type: ignore\n",
    "    IStrategy,\n",
    "    IStrategyContext,\n",
    "    PositionsTracker,\n",
    "    TriggerEvent,\n",
    ")\n",
    "from qubx.trackers.sizers import FixedLeverageSizer\n",
    "from qubx import logger\n",
    "from qubx.core.utils import recognize_time\n",
    "from qubx.data.helpers import loader  # type: ignore\n",
    "from qubx.core.lookups import lookup\n",
    "\n",
    "from qubx.trackers.riskctrl import TrailingStopPositionTracker, SwingsStopLevels\n",
    "import numpy as np\n",
    "import pandas as pd"
   ]
  },
  {
   "cell_type": "code",
   "execution_count": 2,
   "metadata": {},
   "outputs": [],
   "source": [
    "ld = loader(\"BINANCE.UM\", \"1h\", source=\"csv::../../tests/data/csv_1h/\", n_jobs=1)\n",
    "data = ld[\"BTCUSDT\", \"2023-06-01\":\"2023-08-02\"]"
   ]
  },
  {
   "cell_type": "code",
   "execution_count": null,
   "metadata": {},
   "outputs": [],
   "source": [
    "# sw = pta.swings(data, pta.psar, iaf=0.02,maxaf=0.2)\n",
    "# LookingGlass([ data, sw.trends ], backend=\"plotly\").look().hover()"
   ]
  },
  {
   "cell_type": "code",
   "execution_count": 5,
   "metadata": {},
   "outputs": [],
   "source": [
    "class GuineaPig(IStrategy):\n",
    "    tests = {}\n",
    "\n",
    "    def on_init(self, ctx: IStrategyContext) -> None:\n",
    "        ctx.set_base_subscription(DataType.OHLC[\"1Min\"])\n",
    "\n",
    "    def on_fit(self, ctx: IStrategyContext):\n",
    "        self.tests = {recognize_time(k): v for k, v in self.tests.items()}\n",
    "\n",
    "    def on_event(self, ctx: IStrategyContext, event: TriggerEvent) -> list[Signal] | None:\n",
    "        r = []\n",
    "        ohlc = ctx.ohlc(\"BTCUSDT\", self.timeframe, 20)\n",
    "        for k in list(self.tests.keys()):\n",
    "            if event.time >= k:\n",
    "                s = self.tests.pop(k)\n",
    "                match s:\n",
    "                    case Signal():\n",
    "                        r.append(s)\n",
    "                    case (Signal(), Callable()):\n",
    "                        r.append(s[0])\n",
    "                        cast(Callable, s[1])(ctx, s[0])\n",
    "                    case _:\n",
    "                        logger.warning(f\" - - - | {s} | - - - \")\n",
    "        return r"
   ]
  },
  {
   "cell_type": "code",
   "execution_count": 6,
   "metadata": {},
   "outputs": [
    {
     "name": "stdout",
     "output_type": "stream",
     "text": [
      "\u001b[32m2025-08-26 21:35:17.622\u001b[0m [ \u001b[34m\u001b[1m🐞\u001b[0m ] \u001b[36m(runner)\u001b[0m \u001b[34m\u001b[1m[\u001b[33mSimulator\u001b[0m\u001b[34m\u001b[1m] :: Preparing simulated trading on \u001b[32m['BINANCE.UM']\u001b[0m\u001b[34m\u001b[1m for 10000 USDT...\u001b[0m\n",
      "\u001b[32m2025-08-26 21:35:17.623\u001b[0m [ \u001b[1mℹ️\u001b[0m ] \u001b[36m(data)\u001b[0m \u001b[1mSimulatedDataProvider.BINANCE.UM is initialized\u001b[0m\n",
      "\u001b[32m2025-08-26 21:35:17.624\u001b[0m [ \u001b[34m\u001b[1m🐞\u001b[0m ] \u001b[36m(runner)\u001b[0m \u001b[34m\u001b[1m[\u001b[33msimulator\u001b[0m\u001b[34m\u001b[1m] :: Setting default schedule: 0 */1 * * *\u001b[0m\n",
      "\u001b[96m2023-06-01 00:00:00.000\u001b[0m [\u001b[34m\u001b[1m🐞\u001b[0m] \u001b[34m\u001b[1m[\u001b[33mSimulationRunner\u001b[0m\u001b[34m\u001b[1m] :: Running simulation from 2023-06-01 00:00:00 to 2023-08-01 00:00:00\u001b[0m\n",
      "\u001b[96m2023-06-01 00:00:00.000\u001b[0m [\u001b[1mℹ️\u001b[0m] \u001b[1mSimulationRunner ::: Simulation started at 2023-06-01 00:00:00 :::\u001b[0m\n",
      "\u001b[96m2023-06-01 00:00:00.000\u001b[0m [\u001b[34m\u001b[1m🐞\u001b[0m] \u001b[34m\u001b[1m  [\u001b[36mIteratedDataStreamsSlicer\u001b[0m\u001b[34m\u001b[1m] :: Preloading initial data for ohlc.1Min 2023-06-01 00:00:00 : 2023-08-01 00:00:00 ...\u001b[0m\n",
      "\u001b[96m2023-06-01 00:00:05.000\u001b[0m [\u001b[1mℹ️\u001b[0m] \u001b[1mAll 1 instruments have data - strategy ready to start\u001b[0m\n",
      "\u001b[96m2023-06-01 00:00:05.000\u001b[0m [\u001b[34m\u001b[1m🐞\u001b[0m] \u001b[34m\u001b[1m[\u001b[33mProcessingManager\u001b[0m\u001b[34m\u001b[1m] :: Invoking \u001b[32mSwingsLevels\u001b[0m\u001b[34m\u001b[1m on_fit\u001b[0m\n",
      "\u001b[96m2023-06-01 00:00:05.000\u001b[0m [\u001b[34m\u001b[1m🐞\u001b[0m] \u001b[34m\u001b[1m[\u001b[33mProcessingManager\u001b[0m\u001b[34m\u001b[1m] :: \u001b[32mSwingsLevels\u001b[0m\u001b[34m\u001b[1m is fitted\u001b[0m\n",
      "\u001b[96m2023-06-01 01:00:00.000\u001b[0m [\u001b[31m\u001b[1m❌\u001b[0m] \u001b[31m\u001b[1mStrategy SwingsLevels raised an exception: 'SwingsLevels' object has no attribute 'timeframe'\u001b[0m\n",
      "\u001b[96m2023-06-01 01:00:00.000\u001b[0m [\u001b[31m\u001b[1m❌\u001b[0m] \u001b[31m\u001b[1mTraceback (most recent call last):\n",
      "  File \"/home/andrij/devs/Qubx/experiments/trackers/../../src/qubx/core/mixins/processing.py\", line 314, in __process_data\n",
      "    signals.extend(self._as_list(self._strategy.on_event(self._context, _trigger_event)))\n",
      "                                 ^^^^^^^^^^^^^^^^^^^^^^^^^^^^^^^^^^^^^^^^^^^^^^^^^^^^^^\n",
      "  File \"/tmp/ipykernel_3172339/2386609949.py\", line 12, in on_event\n",
      "    ohlc = ctx.ohlc(\"BTCUSDT\", self.timeframe, 20)\n",
      "                               ^^^^^^^^^^^^^^\n",
      "AttributeError: 'SwingsLevels' object has no attribute 'timeframe'\n",
      "\u001b[0m\n",
      "\u001b[96m2023-06-01 02:00:00.000\u001b[0m [\u001b[31m\u001b[1m❌\u001b[0m] \u001b[31m\u001b[1mStrategy SwingsLevels raised an exception: 'SwingsLevels' object has no attribute 'timeframe'\u001b[0m\n",
      "\u001b[96m2023-06-01 02:00:00.000\u001b[0m [\u001b[31m\u001b[1m❌\u001b[0m] \u001b[31m\u001b[1mTraceback (most recent call last):\n",
      "  File \"/home/andrij/devs/Qubx/experiments/trackers/../../src/qubx/core/mixins/processing.py\", line 314, in __process_data\n",
      "    signals.extend(self._as_list(self._strategy.on_event(self._context, _trigger_event)))\n",
      "                                 ^^^^^^^^^^^^^^^^^^^^^^^^^^^^^^^^^^^^^^^^^^^^^^^^^^^^^^\n",
      "  File \"/tmp/ipykernel_3172339/2386609949.py\", line 12, in on_event\n",
      "    ohlc = ctx.ohlc(\"BTCUSDT\", self.timeframe, 20)\n",
      "                               ^^^^^^^^^^^^^^\n",
      "AttributeError: 'SwingsLevels' object has no attribute 'timeframe'\n",
      "\u001b[0m\n",
      "\u001b[96m2023-06-01 03:00:00.000\u001b[0m [\u001b[31m\u001b[1m❌\u001b[0m] \u001b[31m\u001b[1mStrategy SwingsLevels raised an exception: 'SwingsLevels' object has no attribute 'timeframe'\u001b[0m\n",
      "\u001b[96m2023-06-01 03:00:00.000\u001b[0m [\u001b[31m\u001b[1m❌\u001b[0m] \u001b[31m\u001b[1mTraceback (most recent call last):\n",
      "  File \"/home/andrij/devs/Qubx/experiments/trackers/../../src/qubx/core/mixins/processing.py\", line 314, in __process_data\n",
      "    signals.extend(self._as_list(self._strategy.on_event(self._context, _trigger_event)))\n",
      "                                 ^^^^^^^^^^^^^^^^^^^^^^^^^^^^^^^^^^^^^^^^^^^^^^^^^^^^^^\n",
      "  File \"/tmp/ipykernel_3172339/2386609949.py\", line 12, in on_event\n",
      "    ohlc = ctx.ohlc(\"BTCUSDT\", self.timeframe, 20)\n",
      "                               ^^^^^^^^^^^^^^\n",
      "AttributeError: 'SwingsLevels' object has no attribute 'timeframe'\n",
      "\u001b[0m\n"
     ]
    },
    {
     "name": "stdout",
     "output_type": "stream",
     "text": [
      "\u001b[96m2023-06-01 04:00:00.000\u001b[0m [\u001b[31m\u001b[1m❌\u001b[0m] \u001b[31m\u001b[1mStrategy SwingsLevels raised an exception: 'SwingsLevels' object has no attribute 'timeframe'\u001b[0m\n",
      "\u001b[96m2023-06-01 04:00:00.000\u001b[0m [\u001b[31m\u001b[1m❌\u001b[0m] \u001b[31m\u001b[1mTraceback (most recent call last):\n",
      "  File \"/home/andrij/devs/Qubx/experiments/trackers/../../src/qubx/core/mixins/processing.py\", line 314, in __process_data\n",
      "    signals.extend(self._as_list(self._strategy.on_event(self._context, _trigger_event)))\n",
      "                                 ^^^^^^^^^^^^^^^^^^^^^^^^^^^^^^^^^^^^^^^^^^^^^^^^^^^^^^\n",
      "  File \"/tmp/ipykernel_3172339/2386609949.py\", line 12, in on_event\n",
      "    ohlc = ctx.ohlc(\"BTCUSDT\", self.timeframe, 20)\n",
      "                               ^^^^^^^^^^^^^^\n",
      "AttributeError: 'SwingsLevels' object has no attribute 'timeframe'\n",
      "\u001b[0m\n",
      "\u001b[96m2023-06-01 05:00:00.000\u001b[0m [\u001b[31m\u001b[1m❌\u001b[0m] \u001b[31m\u001b[1mStrategy SwingsLevels raised an exception: 'SwingsLevels' object has no attribute 'timeframe'\u001b[0m\n",
      "\u001b[96m2023-06-01 05:00:00.000\u001b[0m [\u001b[31m\u001b[1m❌\u001b[0m] \u001b[31m\u001b[1mTraceback (most recent call last):\n",
      "  File \"/home/andrij/devs/Qubx/experiments/trackers/../../src/qubx/core/mixins/processing.py\", line 314, in __process_data\n",
      "    signals.extend(self._as_list(self._strategy.on_event(self._context, _trigger_event)))\n",
      "                                 ^^^^^^^^^^^^^^^^^^^^^^^^^^^^^^^^^^^^^^^^^^^^^^^^^^^^^^\n",
      "  File \"/tmp/ipykernel_3172339/2386609949.py\", line 12, in on_event\n",
      "    ohlc = ctx.ohlc(\"BTCUSDT\", self.timeframe, 20)\n",
      "                               ^^^^^^^^^^^^^^\n",
      "AttributeError: 'SwingsLevels' object has no attribute 'timeframe'\n",
      "\u001b[0m\n",
      "\u001b[96m2023-06-01 06:00:00.000\u001b[0m [\u001b[31m\u001b[1m❌\u001b[0m] \u001b[31m\u001b[1mStrategy SwingsLevels raised an exception: 'SwingsLevels' object has no attribute 'timeframe'\u001b[0m\n",
      "\u001b[96m2023-06-01 06:00:00.000\u001b[0m [\u001b[31m\u001b[1m❌\u001b[0m] \u001b[31m\u001b[1mTraceback (most recent call last):\n",
      "  File \"/home/andrij/devs/Qubx/experiments/trackers/../../src/qubx/core/mixins/processing.py\", line 314, in __process_data\n",
      "    signals.extend(self._as_list(self._strategy.on_event(self._context, _trigger_event)))\n",
      "                                 ^^^^^^^^^^^^^^^^^^^^^^^^^^^^^^^^^^^^^^^^^^^^^^^^^^^^^^\n",
      "  File \"/tmp/ipykernel_3172339/2386609949.py\", line 12, in on_event\n",
      "    ohlc = ctx.ohlc(\"BTCUSDT\", self.timeframe, 20)\n",
      "                               ^^^^^^^^^^^^^^\n",
      "AttributeError: 'SwingsLevels' object has no attribute 'timeframe'\n",
      "\u001b[0m\n",
      "\u001b[96m2023-06-01 07:00:00.000\u001b[0m [\u001b[31m\u001b[1m❌\u001b[0m] \u001b[31m\u001b[1mStrategy SwingsLevels raised an exception: 'SwingsLevels' object has no attribute 'timeframe'\u001b[0m\n",
      "\u001b[96m2023-06-01 07:00:00.000\u001b[0m [\u001b[31m\u001b[1m❌\u001b[0m] \u001b[31m\u001b[1mTraceback (most recent call last):\n",
      "  File \"/home/andrij/devs/Qubx/experiments/trackers/../../src/qubx/core/mixins/processing.py\", line 314, in __process_data\n",
      "    signals.extend(self._as_list(self._strategy.on_event(self._context, _trigger_event)))\n",
      "                                 ^^^^^^^^^^^^^^^^^^^^^^^^^^^^^^^^^^^^^^^^^^^^^^^^^^^^^^\n",
      "  File \"/tmp/ipykernel_3172339/2386609949.py\", line 12, in on_event\n",
      "    ohlc = ctx.ohlc(\"BTCUSDT\", self.timeframe, 20)\n",
      "                               ^^^^^^^^^^^^^^\n",
      "AttributeError: 'SwingsLevels' object has no attribute 'timeframe'\n",
      "\u001b[0m\n",
      "\u001b[96m2023-06-01 08:00:00.000\u001b[0m [\u001b[31m\u001b[1m❌\u001b[0m] \u001b[31m\u001b[1mStrategy SwingsLevels raised an exception: 'SwingsLevels' object has no attribute 'timeframe'\u001b[0m\n",
      "\u001b[96m2023-06-01 08:00:00.000\u001b[0m [\u001b[31m\u001b[1m❌\u001b[0m] \u001b[31m\u001b[1mTraceback (most recent call last):\n",
      "  File \"/home/andrij/devs/Qubx/experiments/trackers/../../src/qubx/core/mixins/processing.py\", line 314, in __process_data\n",
      "    signals.extend(self._as_list(self._strategy.on_event(self._context, _trigger_event)))\n",
      "                                 ^^^^^^^^^^^^^^^^^^^^^^^^^^^^^^^^^^^^^^^^^^^^^^^^^^^^^^\n",
      "  File \"/tmp/ipykernel_3172339/2386609949.py\", line 12, in on_event\n",
      "    ohlc = ctx.ohlc(\"BTCUSDT\", self.timeframe, 20)\n",
      "                               ^^^^^^^^^^^^^^\n",
      "AttributeError: 'SwingsLevels' object has no attribute 'timeframe'\n",
      "\u001b[0m\n",
      "\u001b[96m2023-06-01 09:00:00.000\u001b[0m [\u001b[31m\u001b[1m❌\u001b[0m] \u001b[31m\u001b[1mStrategy SwingsLevels raised an exception: 'SwingsLevels' object has no attribute 'timeframe'\u001b[0m\n",
      "\u001b[96m2023-06-01 09:00:00.000\u001b[0m [\u001b[31m\u001b[1m❌\u001b[0m] \u001b[31m\u001b[1mTraceback (most recent call last):\n",
      "  File \"/home/andrij/devs/Qubx/experiments/trackers/../../src/qubx/core/mixins/processing.py\", line 314, in __process_data\n",
      "    signals.extend(self._as_list(self._strategy.on_event(self._context, _trigger_event)))\n",
      "                                 ^^^^^^^^^^^^^^^^^^^^^^^^^^^^^^^^^^^^^^^^^^^^^^^^^^^^^^\n",
      "  File \"/tmp/ipykernel_3172339/2386609949.py\", line 12, in on_event\n",
      "    ohlc = ctx.ohlc(\"BTCUSDT\", self.timeframe, 20)\n",
      "                               ^^^^^^^^^^^^^^\n",
      "AttributeError: 'SwingsLevels' object has no attribute 'timeframe'\n",
      "\u001b[0m\n",
      "\u001b[96m2023-06-01 10:00:00.000\u001b[0m [\u001b[31m\u001b[1m❌\u001b[0m] \u001b[31m\u001b[1mStrategy SwingsLevels raised an exception: 'SwingsLevels' object has no attribute 'timeframe'\u001b[0m\n",
      "\u001b[96m2023-06-01 10:00:00.000\u001b[0m [\u001b[31m\u001b[1m❌\u001b[0m] \u001b[31m\u001b[1mTraceback (most recent call last):\n",
      "  File \"/home/andrij/devs/Qubx/experiments/trackers/../../src/qubx/core/mixins/processing.py\", line 314, in __process_data\n",
      "    signals.extend(self._as_list(self._strategy.on_event(self._context, _trigger_event)))\n",
      "                                 ^^^^^^^^^^^^^^^^^^^^^^^^^^^^^^^^^^^^^^^^^^^^^^^^^^^^^^\n",
      "  File \"/tmp/ipykernel_3172339/2386609949.py\", line 12, in on_event\n",
      "    ohlc = ctx.ohlc(\"BTCUSDT\", self.timeframe, 20)\n",
      "                               ^^^^^^^^^^^^^^\n",
      "AttributeError: 'SwingsLevels' object has no attribute 'timeframe'\n",
      "\u001b[0m\n",
      "\u001b[96m2023-06-01 10:00:00.000\u001b[0m [\u001b[31m\u001b[1m❌\u001b[0m] \u001b[31m\u001b[1mSTRATEGY FAILED 10 TIMES IN THE ROW - STOPPING ...\u001b[0m\n",
      "\u001b[96m2023-06-01 10:00:00.000\u001b[0m [\u001b[31m\u001b[1m❌\u001b[0m] \u001b[31m\u001b[1mSimulation setup 0 failed with error: \u001b[0m\n",
      "\u001b[96m2023-06-01 10:00:00.000\u001b[0m [\u001b[33m\u001b[1m⚠️\u001b[0m] \u001b[36mqubx.backtester.simulator\u001b[0m:\u001b[36m_run_setups\u001b[0m:\u001b[36m228\u001b[0m - \u001b[33m\u001b[1mSimulation setup 0 failed - skipping from results\u001b[0m\n"
     ]
    }
   ],
   "source": [
    "I = lookup.find_symbol(\"BINANCE.UM\", \"BTCUSDT\")\n",
    "\n",
    "class SwingsLevels(GuineaPig):\n",
    "    def tracker(self, ctx: IStrategyContext) -> PositionsTracker:\n",
    "        return SwingsStopLevels(\"1h\", 0.02, 0.2, FixedLeverageSizer(1.0), risk_controlling_side=\"client\")\n",
    "\n",
    "rep = simulate(\n",
    "    strategies={\n",
    "        \"Trailing.Clent\": SwingsLevels(\n",
    "            tests={\n",
    "                \"2023-06-19 21:00:00\": I.signal(\"2023-06-19 21:00:00\", +1),\n",
    "                \"2023-07-05 01:00:00\": I.signal(\"2023-07-05 01:00:00\", -1),\n",
    "            }\n",
    "        ),\n",
    "    },\n",
    "    data={\"ohlc(1h)\": ld},\n",
    "    capital=10000,\n",
    "    instruments=[\"BINANCE.UM:BTCUSDT\"],\n",
    "    silent=True,\n",
    "    debug=\"DEBUG\",\n",
    "    commissions=\"vip0_usdt\",\n",
    "    start=\"2023-06-01\",\n",
    "    stop=\"2023-08-01\",\n",
    ")"
   ]
  },
  {
   "cell_type": "code",
   "execution_count": null,
   "metadata": {},
   "outputs": [],
   "source": [
    "rep[0].chart_signals(\"BTCUSDT\", ld, start=\"2023-06-18\", end=\"2023-07-10\", \n",
    "                    overlay=[pta.swings(data, pta.psar, iaf=0.02, maxaf=0.2).trends],\n",
    "                     show_signals=True)"
   ]
  },
  {
   "cell_type": "code",
   "execution_count": null,
   "metadata": {},
   "outputs": [],
   "source": []
  },
  {
   "cell_type": "code",
   "execution_count": null,
   "metadata": {},
   "outputs": [],
   "source": []
  }
 ],
 "metadata": {
  "kernelspec": {
   "display_name": "xincubator-GEUk_G1J-py3.12",
   "language": "python",
   "name": "python3"
  },
  "language_info": {
   "codemirror_mode": {
    "name": "ipython",
    "version": 3
   },
   "file_extension": ".py",
   "mimetype": "text/x-python",
   "name": "python",
   "nbconvert_exporter": "python",
   "pygments_lexer": "ipython3",
   "version": "3.12.7"
  }
 },
 "nbformat": 4,
 "nbformat_minor": 2
}
