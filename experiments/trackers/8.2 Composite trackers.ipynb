{
 "cells": [
  {
   "cell_type": "code",
   "execution_count": 1,
   "metadata": {},
   "outputs": [
    {
     "name": "stdout",
     "output_type": "stream",
     "text": [
      "\n",
      "⠀⠀⡰⡖⠒⠒⢒⢦⠀⠀   \n",
      "⠀⢠⠃⠈⢆⣀⣎⣀⣱⡀  \u001b[31mQUBX\u001b[0m | \u001b[36mQuantitative Backtesting Environment\u001b[0m \n",
      "⠀⢳⠒⠒⡞⠚⡄⠀⡰⠁         (c) 2025, ver. \u001b[35m0.6.1\u001b[0m\n",
      "⠀⠀⠱⣜⣀⣀⣈⣦⠃⠀⠀⠀ \n",
      "        \n"
     ]
    },
    {
     "data": {
      "text/html": [
       "<style> .cell-output-ipywidget-background { background-color: transparent !important; } :root { --jp-widgets-color: var(--vscode-editor-foreground); --jp-widgets-font-size: var(--vscode-editor-font-size); } .widget-hprogress, .jupyter-widget-hprogress { height: 16px; align-self: center; kj} table.dataframe, .dataframe td, .dataframe tr { border: 1px solid #55554a85; border-collapse: collapse; color: #859548d9 !important; } .dataframe th { border: 1px solid #55554a85; border-collapse: collapse; background-color: #010101 !important; color: #177 !important; } </style>"
      ],
      "text/plain": [
       "<IPython.core.display.HTML object>"
      ]
     },
     "metadata": {},
     "output_type": "display_data"
    }
   ],
   "source": [
    "import sys, os, re\n",
    "\n",
    "sys.path = ([\"../../src/\", \"../../\"] if re.match(r\"^(\\w\\:\\\\)|(/)\", os.getcwd()) else []) + sys.path\n",
    "\n",
    "import pandas as pd\n",
    "import qubx\n",
    "\n",
    "%qubxd\n",
    "\n",
    "%load_ext autoreload\n",
    "%autoreload 2\n",
    "\n",
    "from qubx import logger\n",
    "from qubx.core.lookups import lookup\n",
    "from qubx.core.interfaces import TriggerEvent, PositionsTracker, IStrategyContext, IStrategy\n",
    "from qubx.core.basics import DataType, Signal\n",
    "from qubx.ta.indicators import sma\n",
    "\n",
    "\n",
    "# - - - - - - - - - - - - - - - - - - - - - - - -\n",
    "from qubx.trackers.riskctrl import AtrRiskTracker, StopTakePositionTracker\n",
    "from qubx.trackers.sizers import FixedSizer, FixedRiskSizer, FixedLeverageSizer\n",
    "from qubx.trackers.composite import CompositeTrackerPerSide\n",
    "from qubx.data.readers import CsvStorageDataReader, AsPandasFrame\n",
    "from qubx.data.helpers import loader\n",
    "\n",
    "from qubx.backtester.simulator import simulate\n",
    "from qubx.core.metrics import tearsheet, chart_signals\n",
    "\n",
    "# - - - - - - - - - - - - - - - - - - - - - - - -\n",
    "from tests.qubx.trackers.trackers_gathering_test import GuineaPig\n",
    "\n",
    "# - - - - - - - - - - - - - - - - - - - - - - - -\n",
    "I = lookup.find_symbol(\"BINANCE.UM\", \"BTCUSDT\")  # noqa: E741\n",
    "\n",
    "r = CsvStorageDataReader(this_project_root() / \"tests/data/csv_1h\") # type: ignore  # noqa: F821\n",
    "r1 = CsvStorageDataReader(this_project_root() / \"tests/data/csv\")   # type: ignore  # noqa: F821"
   ]
  },
  {
   "cell_type": "markdown",
   "metadata": {},
   "source": [
    "# Strats to test"
   ]
  },
  {
   "cell_type": "code",
   "execution_count": 149,
   "metadata": {},
   "outputs": [],
   "source": [
    "class ComplexCompositeTest(GuineaPig):\n",
    "    def tracker(self, ctx: IStrategyContext) -> PositionsTracker:\n",
    "        sizer, timeframe = FixedLeverageSizer(1.0), \"1h\"\n",
    "        return CompositeTrackerPerSide(\n",
    "            long_trackers=[\n",
    "                AtrRiskTracker(\n",
    "                    take_target=5, stop_risk=3, atr_timeframe=timeframe, atr_period=5, sizer=sizer, risk_controlling_side=\"broker\",\n",
    "                ),\n",
    "                StopTakePositionTracker(stop_risk=11, sizer=sizer),\n",
    "            ],\n",
    "            short_trackers=[\n",
    "                AtrRiskTracker(\n",
    "                    take_target=5, stop_risk=3, atr_timeframe=timeframe, atr_period=5, sizer=sizer, risk_controlling_side=\"broker\",\n",
    "                ),\n",
    "                StopTakePositionTracker(stop_risk=11, sizer=sizer),\n",
    "            ],\n",
    "        )\n",
    "\n",
    "class StrategyForTracking(IStrategy):\n",
    "    timeframe: str = \"1Min\"\n",
    "    fast_period = 5\n",
    "    slow_period = 12\n",
    "    high_low_risk = True\n",
    "\n",
    "    def on_init(self, ctx: IStrategyContext) -> None:\n",
    "        ctx.set_base_subscription(DataType.OHLC[self.timeframe])\n",
    "        self._n_sig = 0\n",
    "\n",
    "    def on_event(self, ctx: IStrategyContext, event: TriggerEvent) -> list[Signal] | None:\n",
    "        signals = []\n",
    "        for i in ctx.instruments:\n",
    "            ohlc = ctx.ohlc(i, self.timeframe)\n",
    "            fast = sma(ohlc.close, self.fast_period)\n",
    "            slow = sma(ohlc.close, self.slow_period)\n",
    "            pos = ctx.positions[i].quantity\n",
    "\n",
    "            if pos <= 0 and (fast[0] > slow[0]) and (fast[1] < slow[1]):\n",
    "                if self.high_low_risk:\n",
    "                    signals.append(i.signal(+1, stop=min(ohlc[0].low, ohlc[1].low)))\n",
    "                else:\n",
    "                    signals.append(i.signal(+1))\n",
    "\n",
    "            if pos >= 0 and (fast[0] < slow[0]) and (fast[1] > slow[1]):\n",
    "                if self.high_low_risk:\n",
    "                    signals.append(i.signal(-1, stop=max(ohlc[0].high, ohlc[1].high)))\n",
    "                else:\n",
    "                    signals.append(i.signal(-1))\n",
    "\n",
    "        return signals\n",
    "\n",
    "    def tracker(self, ctx: IStrategyContext) -> PositionsTracker:\n",
    "        return PositionsTracker(FixedRiskSizer(1, 10_000, reinvest_profit=True))"
   ]
  },
  {
   "cell_type": "markdown",
   "metadata": {},
   "source": [
    "# Broker side composite test"
   ]
  },
  {
   "cell_type": "code",
   "execution_count": 159,
   "metadata": {},
   "outputs": [
    {
     "name": "stdout",
     "output_type": "stream",
     "text": [
      "\u001b[96m2024-01-03 14:00:55.000\u001b[0m [\u001b[34m\u001b[1m🐞\u001b[0m] \u001b[34m\u001b[1m\u001b[33mComplexCompositeTest\u001b[0m\u001b[34m\u001b[1m new parameters:\n",
      "\tset \u001b[32mtests\u001b[0m\u001b[34m\u001b[1m <- \u001b[31m{'2023-07-05 00:00:00': Signal(instrument=BINANCE.UM:FUTURE:BTCUSDT, signal=-1, price=None, stop=None, take=None, reference_price=None, group='', comment='', options={}), '2023-07-10 00:00:00': Signal(instrument=BINANCE.UM:FUTURE:BTCUSDT, signal=1, price=None, stop=None, take=None, reference_price=None, group='', comment='', options={})}\u001b[0m\u001b[34m\u001b[1m\u001b[0m\n"
     ]
    },
    {
     "name": "stdout",
     "output_type": "stream",
     "text": [
      "\u001b[96m2023-07-01 00:00:00.000\u001b[0m [\u001b[34m\u001b[1m🐞\u001b[0m] \u001b[34m\u001b[1m[\u001b[33msimulator\u001b[0m\u001b[34m\u001b[1m] :: Preparing simulated trading on \u001b[32mBINANCE.UM\u001b[0m\u001b[34m\u001b[1m for 10000 USDT...\u001b[0m\n"
     ]
    },
    {
     "data": {
      "application/vnd.jupyter.widget-view+json": {
       "model_id": "0eb4432232d5421cb1be3c923cee956c",
       "version_major": 2,
       "version_minor": 0
      },
      "text/plain": [
       "Simulating:   0%|          | 0/100 [00:00<?, ?%/s]"
      ]
     },
     "metadata": {},
     "output_type": "display_data"
    },
    {
     "name": "stdout",
     "output_type": "stream",
     "text": [
      "\u001b[96m2023-07-01 00:00:00.000\u001b[0m [\u001b[1mℹ️\u001b[0m] \u001b[1mSimulatedDataProvider.binance.um is initialized\u001b[0m\n",
      "\u001b[96m2023-07-01 00:00:00.000\u001b[0m [\u001b[34m\u001b[1m🐞\u001b[0m] \u001b[34m\u001b[1m[\u001b[33msimulator\u001b[0m\u001b[34m\u001b[1m] :: Setting default schedule: 0 */1 * * *\u001b[0m\n",
      "\u001b[96m2023-07-01 00:00:00.000\u001b[0m [\u001b[1mℹ️\u001b[0m] \u001b[1mSimulatedDataProvider ::: Simulation started at 2023-07-01 00:00:00 :::\u001b[0m\n",
      "\u001b[96m2023-07-01 00:00:00.000\u001b[0m [\u001b[34m\u001b[1m🐞\u001b[0m] \u001b[34m\u001b[1m  [\u001b[36mIteratedDataStreamsSlicer\u001b[0m\u001b[34m\u001b[1m] :: Preloading initial data for ohlc.1Min 2023-07-01 00:00:00 : 2023-08-01 00:00:00 ...\u001b[0m\n",
      "\u001b[96m2023-07-01 00:00:05.000\u001b[0m [\u001b[34m\u001b[1m🐞\u001b[0m] \u001b[34m\u001b[1m[\u001b[33mProcessingManager\u001b[0m\u001b[34m\u001b[1m] :: Invoking \u001b[32mComplexCompositeTest\u001b[0m\u001b[34m\u001b[1m on_fit\u001b[0m\n",
      "\u001b[96m2023-07-01 00:00:05.000\u001b[0m [\u001b[34m\u001b[1m🐞\u001b[0m] \u001b[34m\u001b[1m[\u001b[33mProcessingManager\u001b[0m\u001b[34m\u001b[1m] :: \u001b[32mComplexCompositeTest\u001b[0m\u001b[34m\u001b[1m is fitted\u001b[0m\n",
      "\u001b[96m2023-07-05 00:00:00.000\u001b[0m [\u001b[1mℹ️\u001b[0m] \u001b[1m - - - |  -1.000000 BINANCE.UM:FUTURE:BTCUSDT | - - - \u001b[0m\n",
      "\u001b[96m2023-07-05 00:00:00.000\u001b[0m [\u001b[34m\u001b[1m🐞\u001b[0m] \u001b[34m\u001b[1m[\u001b[33mAtrRiskTracker.BrokerSideRiskController\u001b[0m\u001b[34m\u001b[1m(\u001b[32mBINANCE.UM:FUTURE:BTCUSDT\u001b[0m\u001b[34m\u001b[1m)] :: Processing signal (0) to target: \u001b[36m\u001b[1mTarget +0.000000 for ComplexCompositeTest 30756.10 +0.000000 BINANCE.UM:FUTURE:BTCUSDT (Closing opposite signal -1 )\u001b[0m\u001b[34m\u001b[1m\u001b[36m\u001b[0m\u001b[34m\u001b[1m\u001b[0m\n",
      "\u001b[96m2023-07-05 00:00:00.000\u001b[0m [\u001b[34m\u001b[1m🐞\u001b[0m] \u001b[34m\u001b[1m[\u001b[33mStopTakePositionTracker.BrokerSideRiskController\u001b[0m\u001b[34m\u001b[1m(\u001b[32mBINANCE.UM:FUTURE:BTCUSDT\u001b[0m\u001b[34m\u001b[1m)] :: Processing signal (0) to target: \u001b[36m\u001b[1mTarget +0.000000 for ComplexCompositeTest 30756.10 +0.000000 BINANCE.UM:FUTURE:BTCUSDT (Closing opposite signal -1 )\u001b[0m\u001b[34m\u001b[1m\u001b[36m\u001b[0m\u001b[34m\u001b[1m\u001b[0m\n",
      "\u001b[96m2023-07-05 00:00:00.000\u001b[0m [\u001b[34m\u001b[1m🐞\u001b[0m] \u001b[34m\u001b[1m[\u001b[33mAtrRiskTracker.BrokerSideRiskController\u001b[0m\u001b[34m\u001b[1m(\u001b[32mBINANCE.UM:FUTURE:BTCUSDT\u001b[0m\u001b[34m\u001b[1m)] :: Processing signal (-1) to target: \u001b[36m\u001b[1mTarget -0.325000 for ComplexCompositeTest 30756.10 -1.000000 BINANCE.UM:FUTURE:BTCUSDT stop: 31170.59 take: 30065.149999999998\u001b[0m\u001b[34m\u001b[1m\u001b[36m\u001b[0m\u001b[34m\u001b[1m\u001b[0m\n",
      "\u001b[96m2023-07-05 00:00:00.000\u001b[0m [\u001b[34m\u001b[1m🐞\u001b[0m] \u001b[34m\u001b[1m[\u001b[33mStopTakePositionTracker.BrokerSideRiskController\u001b[0m\u001b[34m\u001b[1m(\u001b[32mBINANCE.UM:FUTURE:BTCUSDT\u001b[0m\u001b[34m\u001b[1m)] :: Processing signal (-1) to target: \u001b[36m\u001b[1mTarget -0.325000 for ComplexCompositeTest 30756.10 -1.000000 BINANCE.UM:FUTURE:BTCUSDT stop: 34139.2\u001b[0m\u001b[34m\u001b[1m\u001b[36m\u001b[0m\u001b[34m\u001b[1m\u001b[0m\n",
      "\u001b[96m2023-07-05 00:00:00.000\u001b[0m [\u001b[34m\u001b[1m🐞\u001b[0m] \u001b[34m\u001b[1m  [\u001b[33mTradingManager\u001b[0m\u001b[34m\u001b[1m(\u001b[32mBTCUSDT\u001b[0m\u001b[34m\u001b[1m)] :: Sending market sell 0.325  -> (client_id: \u001b[31mqubx_BTCUSDT_16885152001)\u001b[0m\u001b[34m\u001b[1m ...\u001b[0m\n",
      "\u001b[96m2023-07-05 00:00:00.000\u001b[0m [\u001b[34m\u001b[1m🐞\u001b[0m] \u001b[34m\u001b[1m    [\u001b[33mOME\u001b[0m\u001b[34m\u001b[1m(\u001b[32mBINANCE.UM:FUTURE:BTCUSDT\u001b[0m\u001b[34m\u001b[1m)] :: \u001b[31mSIM-ORDER-BTCUSDT-100001\u001b[0m\u001b[34m\u001b[1m MARKET SELL 0.325 executed at 30756.05\u001b[0m\n",
      "\u001b[96m2023-07-05 00:00:00.000\u001b[0m [\u001b[34m\u001b[1m🐞\u001b[0m] \u001b[34m\u001b[1m  [\u001b[33mSimulatedAccountProcessor\u001b[0m\u001b[34m\u001b[1m(\u001b[32mBINANCE.UM:FUTURE:BTCUSDT\u001b[0m\u001b[34m\u001b[1m)] :: New status for order \u001b[31mSIM-ORDER-BTCUSDT-100001\u001b[0m\u001b[34m\u001b[1m -> \u001b[33mCLOSED\u001b[0m\u001b[34m\u001b[1m (MARKET SELL 0.325)\u001b[0m\n",
      "\u001b[96m2023-07-05 00:00:00.000\u001b[0m [\u001b[34m\u001b[1m🐞\u001b[0m] \u001b[34m\u001b[1m  [\u001b[33mSimulatedAccountProcessor\u001b[0m\u001b[34m\u001b[1m(\u001b[32mBINANCE.UM:FUTURE:BTCUSDT\u001b[0m\u001b[34m\u001b[1m)] :: traded -0.325 @ 30756.05 -> 0.00 USDT realized profit\u001b[0m\n",
      "\u001b[96m2023-07-05 00:00:00.000\u001b[0m [\u001b[34m\u001b[1m🐞\u001b[0m] \u001b[34m\u001b[1m[\u001b[33mAtrRiskTracker.BrokerSideRiskController\u001b[0m\u001b[34m\u001b[1m(\u001b[32mBINANCE.UM:FUTURE:BTCUSDT\u001b[0m\u001b[34m\u001b[1m)] :: \u001b[31mSIM-ORDER-BTCUSDT-100001\u001b[0m\u001b[34m\u001b[1m opened position for \u001b[36mComplexCompositeTest 30756.10 -1.000000 BINANCE.UM:FUTURE:BTCUSDT stop: 31170.59 take: 30065.149999999998\u001b[0m\u001b[34m\u001b[1m\u001b[0m\n",
      "\u001b[96m2023-07-05 00:00:00.000\u001b[0m [\u001b[34m\u001b[1m🐞\u001b[0m] \u001b[34m\u001b[1m[\u001b[33mAtrRiskTracker.BrokerSideRiskController\u001b[0m\u001b[34m\u001b[1m(\u001b[32mBINANCE.UM:FUTURE:BTCUSDT\u001b[0m\u001b[34m\u001b[1m)] :: sending \u001b[32mtake limit\u001b[0m\u001b[34m\u001b[1m order at 30065.149999999998\u001b[0m\n",
      "\u001b[96m2023-07-05 00:00:00.000\u001b[0m [\u001b[34m\u001b[1m🐞\u001b[0m] \u001b[34m\u001b[1m  [\u001b[33mTradingManager\u001b[0m\u001b[34m\u001b[1m(\u001b[32mBTCUSDT\u001b[0m\u001b[34m\u001b[1m)] :: Sending limit buy 0.325  @ 30065.1 -> (client_id: \u001b[31mqubx_BTCUSDT_16885152002)\u001b[0m\u001b[34m\u001b[1m ...\u001b[0m\n",
      "\u001b[96m2023-07-05 00:00:00.000\u001b[0m [\u001b[34m\u001b[1m🐞\u001b[0m] \u001b[34m\u001b[1m    [\u001b[33mOME\u001b[0m\u001b[34m\u001b[1m(\u001b[32mBINANCE.UM:FUTURE:BTCUSDT\u001b[0m\u001b[34m\u001b[1m)] :: registered SIM-ORDER-BTCUSDT-100002 LIMIT BUY 0.325 30065.1\u001b[0m\n",
      "\u001b[96m2023-07-05 00:00:00.000\u001b[0m [\u001b[34m\u001b[1m🐞\u001b[0m] \u001b[34m\u001b[1m  [\u001b[33mSimulatedAccountProcessor\u001b[0m\u001b[34m\u001b[1m(\u001b[32mBINANCE.UM:FUTURE:BTCUSDT\u001b[0m\u001b[34m\u001b[1m)] :: New status for order \u001b[31mSIM-ORDER-BTCUSDT-100002\u001b[0m\u001b[34m\u001b[1m -> \u001b[33mOPEN\u001b[0m\u001b[34m\u001b[1m (LIMIT BUY 0.325 @ 30065.1)\u001b[0m\n",
      "\u001b[96m2023-07-05 00:00:00.000\u001b[0m [\u001b[34m\u001b[1m🐞\u001b[0m] \u001b[34m\u001b[1m[\u001b[33mAtrRiskTracker.BrokerSideRiskController\u001b[0m\u001b[34m\u001b[1m(\u001b[32mBINANCE.UM:FUTURE:BTCUSDT\u001b[0m\u001b[34m\u001b[1m)] :: sending \u001b[32mstop\u001b[0m\u001b[34m\u001b[1m order at 31170.59\u001b[0m\n",
      "\u001b[96m2023-07-05 00:00:00.000\u001b[0m [\u001b[34m\u001b[1m🐞\u001b[0m] \u001b[34m\u001b[1m  [\u001b[33mTradingManager\u001b[0m\u001b[34m\u001b[1m(\u001b[32mBTCUSDT\u001b[0m\u001b[34m\u001b[1m)] :: Sending stop_market buy 0.325  @ 31170.5 -> (client_id: \u001b[31mqubx_BTCUSDT_16885152003)\u001b[0m\u001b[34m\u001b[1m ...\u001b[0m\n",
      "\u001b[96m2023-07-05 00:00:00.000\u001b[0m [\u001b[34m\u001b[1m🐞\u001b[0m] \u001b[34m\u001b[1m    [\u001b[33mOME\u001b[0m\u001b[34m\u001b[1m(\u001b[32mBINANCE.UM:FUTURE:BTCUSDT\u001b[0m\u001b[34m\u001b[1m)] :: registered SIM-ORDER-BTCUSDT-100003 STOP_MARKET BUY 0.325 31170.5\u001b[0m\n",
      "\u001b[96m2023-07-05 00:00:00.000\u001b[0m [\u001b[34m\u001b[1m🐞\u001b[0m] \u001b[34m\u001b[1m  [\u001b[33mSimulatedAccountProcessor\u001b[0m\u001b[34m\u001b[1m(\u001b[32mBINANCE.UM:FUTURE:BTCUSDT\u001b[0m\u001b[34m\u001b[1m)] :: New status for order \u001b[31mSIM-ORDER-BTCUSDT-100003\u001b[0m\u001b[34m\u001b[1m -> \u001b[33mOPEN\u001b[0m\u001b[34m\u001b[1m (STOP_MARKET BUY 0.325 @ 31170.5)\u001b[0m\n",
      "\u001b[96m2023-07-05 00:00:00.000\u001b[0m [\u001b[34m\u001b[1m🐞\u001b[0m] \u001b[34m\u001b[1m[\u001b[33mStopTakePositionTracker.BrokerSideRiskController\u001b[0m\u001b[34m\u001b[1m(\u001b[32mBINANCE.UM:FUTURE:BTCUSDT\u001b[0m\u001b[34m\u001b[1m)] :: \u001b[31mSIM-ORDER-BTCUSDT-100001\u001b[0m\u001b[34m\u001b[1m opened position for \u001b[36mComplexCompositeTest 30756.10 -1.000000 BINANCE.UM:FUTURE:BTCUSDT stop: 34139.2\u001b[0m\u001b[34m\u001b[1m\u001b[0m\n",
      "\u001b[96m2023-07-05 00:00:00.000\u001b[0m [\u001b[34m\u001b[1m🐞\u001b[0m] \u001b[34m\u001b[1m[\u001b[33mStopTakePositionTracker.BrokerSideRiskController\u001b[0m\u001b[34m\u001b[1m(\u001b[32mBINANCE.UM:FUTURE:BTCUSDT\u001b[0m\u001b[34m\u001b[1m)] :: sending \u001b[32mstop\u001b[0m\u001b[34m\u001b[1m order at 34139.2\u001b[0m\n",
      "\u001b[96m2023-07-05 00:00:00.000\u001b[0m [\u001b[34m\u001b[1m🐞\u001b[0m] \u001b[34m\u001b[1m  [\u001b[33mTradingManager\u001b[0m\u001b[34m\u001b[1m(\u001b[32mBTCUSDT\u001b[0m\u001b[34m\u001b[1m)] :: Sending stop_market buy 0.325  @ 34139.2 -> (client_id: \u001b[31mqubx_BTCUSDT_16885152004)\u001b[0m\u001b[34m\u001b[1m ...\u001b[0m\n",
      "\u001b[96m2023-07-05 00:00:00.000\u001b[0m [\u001b[34m\u001b[1m🐞\u001b[0m] \u001b[34m\u001b[1m    [\u001b[33mOME\u001b[0m\u001b[34m\u001b[1m(\u001b[32mBINANCE.UM:FUTURE:BTCUSDT\u001b[0m\u001b[34m\u001b[1m)] :: registered SIM-ORDER-BTCUSDT-100004 STOP_MARKET BUY 0.325 34139.2\u001b[0m\n",
      "\u001b[96m2023-07-05 00:00:00.000\u001b[0m [\u001b[34m\u001b[1m🐞\u001b[0m] \u001b[34m\u001b[1m  [\u001b[33mSimulatedAccountProcessor\u001b[0m\u001b[34m\u001b[1m(\u001b[32mBINANCE.UM:FUTURE:BTCUSDT\u001b[0m\u001b[34m\u001b[1m)] :: New status for order \u001b[31mSIM-ORDER-BTCUSDT-100004\u001b[0m\u001b[34m\u001b[1m -> \u001b[33mOPEN\u001b[0m\u001b[34m\u001b[1m (STOP_MARKET BUY 0.325 @ 34139.2)\u001b[0m\n",
      "\u001b[96m2023-07-05 00:00:00.000\u001b[0m [\u001b[34m\u001b[1m🐞\u001b[0m] \u001b[34m\u001b[1m[\u001b[33mProcessingManager\u001b[0m\u001b[34m\u001b[1m(\u001b[32mBINANCE.UM:FUTURE:BTCUSDT\u001b[0m\u001b[34m\u001b[1m)] :: executed \u001b[31mSIM-ORDER-BTCUSDT-100001\u001b[0m\u001b[34m\u001b[1m | -0.325 @ 30756.05\u001b[0m\n",
      "\u001b[96m2023-07-05 00:00:00.000\u001b[0m [\u001b[34m\u001b[1m🐞\u001b[0m] \u001b[34m\u001b[1m  [\u001b[33mSimplePositionGatherer\u001b[0m\u001b[34m\u001b[1m(\u001b[32mBINANCE.UM:FUTURE:BTCUSDT\u001b[0m\u001b[34m\u001b[1m)] :: Position is adjusted from 0.0 to -0.325 : [SIM-ORDER-BTCUSDT-100001] MARKET SELL 0.325 of BINANCE.UM:FUTURE:BTCUSDT  (gtc) [CLOSED]\u001b[0m\n",
      "\u001b[96m2023-07-06 08:36:00.000\u001b[0m [\u001b[34m\u001b[1m🐞\u001b[0m] \u001b[34m\u001b[1m    [\u001b[33mOME\u001b[0m\u001b[34m\u001b[1m(\u001b[32mBINANCE.UM:FUTURE:BTCUSDT\u001b[0m\u001b[34m\u001b[1m)] :: \u001b[31mSIM-ORDER-BTCUSDT-100003\u001b[0m\u001b[34m\u001b[1m STOP_MARKET BUY 0.325 executed at 31170.5\u001b[0m\n",
      "\u001b[96m2023-07-06 08:36:00.000\u001b[0m [\u001b[34m\u001b[1m🐞\u001b[0m] \u001b[34m\u001b[1m  [\u001b[33mSimulatedAccountProcessor\u001b[0m\u001b[34m\u001b[1m(\u001b[32mBINANCE.UM:FUTURE:BTCUSDT\u001b[0m\u001b[34m\u001b[1m)] :: New status for order \u001b[31mSIM-ORDER-BTCUSDT-100003\u001b[0m\u001b[34m\u001b[1m -> \u001b[33mCLOSED\u001b[0m\u001b[34m\u001b[1m (STOP_MARKET BUY 0.325 @ 31170.5)\u001b[0m\n",
      "\u001b[96m2023-07-06 08:36:00.000\u001b[0m [\u001b[34m\u001b[1m🐞\u001b[0m] \u001b[34m\u001b[1m  [\u001b[33mSimulatedAccountProcessor\u001b[0m\u001b[34m\u001b[1m(\u001b[32mBINANCE.UM:FUTURE:BTCUSDT\u001b[0m\u001b[34m\u001b[1m)] :: traded 0.325 @ 31170.5 -> -134.71 USDT realized profit\u001b[0m\n",
      "\u001b[96m2023-07-06 08:36:00.000\u001b[0m [\u001b[34m\u001b[1m🐞\u001b[0m] \u001b[34m\u001b[1m[\u001b[33mAtrRiskTracker.BrokerSideRiskController\u001b[0m\u001b[34m\u001b[1m(\u001b[32mBINANCE.UM:FUTURE:BTCUSDT\u001b[0m\u001b[34m\u001b[1m)] :: \u001b[31mSIM-ORDER-BTCUSDT-100003\u001b[0m\u001b[34m\u001b[1m opened position for \u001b[36mComplexCompositeTest 30756.10 +0.000000 BINANCE.UM:FUTURE:BTCUSDT (Closing opposite signal -1 )\u001b[0m\u001b[34m\u001b[1m\u001b[0m\n",
      "\u001b[96m2023-07-06 08:36:00.000\u001b[0m [\u001b[34m\u001b[1m🐞\u001b[0m] \u001b[34m\u001b[1m[\u001b[33mStopTakePositionTracker.BrokerSideRiskController\u001b[0m\u001b[34m\u001b[1m(\u001b[32mBINANCE.UM:FUTURE:BTCUSDT\u001b[0m\u001b[34m\u001b[1m)] :: \u001b[31mSIM-ORDER-BTCUSDT-100003\u001b[0m\u001b[34m\u001b[1m opened position for \u001b[36mComplexCompositeTest 30756.10 +0.000000 BINANCE.UM:FUTURE:BTCUSDT (Closing opposite signal -1 )\u001b[0m\u001b[34m\u001b[1m\u001b[0m\n",
      "\u001b[96m2023-07-06 08:36:00.000\u001b[0m [\u001b[34m\u001b[1m🐞\u001b[0m] \u001b[34m\u001b[1m[\u001b[33mAtrRiskTracker.BrokerSideRiskController\u001b[0m\u001b[34m\u001b[1m(\u001b[32mBINANCE.UM:FUTURE:BTCUSDT\u001b[0m\u001b[34m\u001b[1m)] :: triggered \u001b[35mSTOP LOSS\u001b[0m\u001b[34m\u001b[1m (\u001b[31mSIM-ORDER-BTCUSDT-100002\u001b[0m\u001b[34m\u001b[1m) at 31170.5\u001b[0m\n",
      "\u001b[96m2023-07-06 08:36:00.000\u001b[0m [\u001b[34m\u001b[1m🐞\u001b[0m] \u001b[34m\u001b[1m[\u001b[33mAtrRiskTracker.BrokerSideRiskController(\u001b[32mBINANCE.UM:FUTURE:BTCUSDT\u001b[0m\u001b[34m\u001b[1m\u001b[33m)\u001b[0m\u001b[34m\u001b[1m] :: \u001b[35mCanceling take order\u001b[0m\u001b[34m\u001b[1m \u001b[31mSIM-ORDER-BTCUSDT-100002\u001b[0m\u001b[34m\u001b[1m\u001b[0m\n",
      "\u001b[96m2023-07-06 08:36:00.000\u001b[0m [\u001b[34m\u001b[1m🐞\u001b[0m] \u001b[34m\u001b[1m    [\u001b[33mOME\u001b[0m\u001b[34m\u001b[1m(\u001b[32mBINANCE.UM:FUTURE:BTCUSDT\u001b[0m\u001b[34m\u001b[1m)] :: SIM-ORDER-BTCUSDT-100002 LIMIT BUY 0.325 canceled\u001b[0m\n",
      "\u001b[96m2023-07-06 08:36:00.000\u001b[0m [\u001b[34m\u001b[1m🐞\u001b[0m] \u001b[34m\u001b[1m  [\u001b[33mSimulatedAccountProcessor\u001b[0m\u001b[34m\u001b[1m(\u001b[32mBINANCE.UM:FUTURE:BTCUSDT\u001b[0m\u001b[34m\u001b[1m)] :: New status for order \u001b[31mSIM-ORDER-BTCUSDT-100002\u001b[0m\u001b[34m\u001b[1m -> \u001b[33mCANCELED\u001b[0m\u001b[34m\u001b[1m (LIMIT BUY 0.325 @ 30065.1)\u001b[0m\n",
      "\u001b[96m2023-07-06 08:36:00.000\u001b[0m [\u001b[34m\u001b[1m🐞\u001b[0m] \u001b[34m\u001b[1m[\u001b[33mStopTakePositionTracker.BrokerSideRiskController\u001b[0m\u001b[34m\u001b[1m(\u001b[32mBINANCE.UM:FUTURE:BTCUSDT\u001b[0m\u001b[34m\u001b[1m)] :: \u001b[35mCanceling stop order\u001b[0m\u001b[34m\u001b[1m \u001b[31mSIM-ORDER-BTCUSDT-100004\u001b[0m\u001b[34m\u001b[1m\u001b[0m\n",
      "\u001b[96m2023-07-06 08:36:00.000\u001b[0m [\u001b[34m\u001b[1m🐞\u001b[0m] \u001b[34m\u001b[1m    [\u001b[33mOME\u001b[0m\u001b[34m\u001b[1m(\u001b[32mBINANCE.UM:FUTURE:BTCUSDT\u001b[0m\u001b[34m\u001b[1m)] :: SIM-ORDER-BTCUSDT-100004 STOP_MARKET BUY 0.325 canceled\u001b[0m\n",
      "\u001b[96m2023-07-06 08:36:00.000\u001b[0m [\u001b[34m\u001b[1m🐞\u001b[0m] \u001b[34m\u001b[1m  [\u001b[33mSimulatedAccountProcessor\u001b[0m\u001b[34m\u001b[1m(\u001b[32mBINANCE.UM:FUTURE:BTCUSDT\u001b[0m\u001b[34m\u001b[1m)] :: New status for order \u001b[31mSIM-ORDER-BTCUSDT-100004\u001b[0m\u001b[34m\u001b[1m -> \u001b[33mCANCELED\u001b[0m\u001b[34m\u001b[1m (STOP_MARKET BUY 0.325 @ 34139.2)\u001b[0m\n",
      "\u001b[96m2023-07-06 08:36:00.000\u001b[0m [\u001b[34m\u001b[1m🐞\u001b[0m] \u001b[34m\u001b[1m[\u001b[33mProcessingManager\u001b[0m\u001b[34m\u001b[1m(\u001b[32mBINANCE.UM:FUTURE:BTCUSDT\u001b[0m\u001b[34m\u001b[1m)] :: executed \u001b[31mSIM-ORDER-BTCUSDT-100003\u001b[0m\u001b[34m\u001b[1m | 0.325 @ 31170.5\u001b[0m\n",
      "\u001b[96m2023-07-06 08:36:00.000\u001b[0m [\u001b[34m\u001b[1m🐞\u001b[0m] \u001b[34m\u001b[1m[\u001b[33mAtrRiskTracker.BrokerSideRiskController\u001b[0m\u001b[34m\u001b[1m(\u001b[32mBTCUSDT\u001b[0m\u001b[34m\u001b[1m)] state is done - \u001b[35mStop tracking\u001b[0m\u001b[34m\u001b[1m\u001b[0m\n",
      "\u001b[96m2023-07-06 08:36:00.000\u001b[0m [\u001b[34m\u001b[1m🐞\u001b[0m] \u001b[34m\u001b[1m[\u001b[33mStopTakePositionTracker.BrokerSideRiskController\u001b[0m\u001b[34m\u001b[1m(\u001b[32mBTCUSDT\u001b[0m\u001b[34m\u001b[1m)] state is done - \u001b[35mStop tracking\u001b[0m\u001b[34m\u001b[1m\u001b[0m\n",
      "\u001b[96m2023-07-06 08:36:00.000\u001b[0m [\u001b[34m\u001b[1m🐞\u001b[0m] \u001b[34m\u001b[1m[\u001b[33mAtrRiskTracker.BrokerSideRiskController\u001b[0m\u001b[34m\u001b[1m(\u001b[32mBTCUSDT\u001b[0m\u001b[34m\u001b[1m)] :: risk triggered - \u001b[35mStop tracking\u001b[0m\u001b[34m\u001b[1m\u001b[0m\n",
      "\u001b[96m2023-07-06 08:36:00.000\u001b[0m [\u001b[34m\u001b[1m🐞\u001b[0m] \u001b[34m\u001b[1m[\u001b[33mStopTakePositionTracker.BrokerSideRiskController\u001b[0m\u001b[34m\u001b[1m(\u001b[32mBTCUSDT\u001b[0m\u001b[34m\u001b[1m)] state is done - \u001b[35mStop tracking\u001b[0m\u001b[34m\u001b[1m\u001b[0m\n",
      "\u001b[96m2023-07-10 00:00:00.000\u001b[0m [\u001b[1mℹ️\u001b[0m] \u001b[1m - - - |  +1.000000 BINANCE.UM:FUTURE:BTCUSDT | - - - \u001b[0m\n",
      "\u001b[96m2023-07-10 00:00:00.000\u001b[0m [\u001b[34m\u001b[1m🐞\u001b[0m] \u001b[34m\u001b[1m[\u001b[33mAtrRiskTracker.BrokerSideRiskController\u001b[0m\u001b[34m\u001b[1m(\u001b[32mBINANCE.UM:FUTURE:BTCUSDT\u001b[0m\u001b[34m\u001b[1m)] :: Processing signal (1) to target: \u001b[36m\u001b[1mTarget +0.326000 for ComplexCompositeTest 30147.80 +1.000000 BINANCE.UM:FUTURE:BTCUSDT stop: 29847.549999999996 take: 30648.350000000002\u001b[0m\u001b[34m\u001b[1m\u001b[36m\u001b[0m\u001b[34m\u001b[1m\u001b[0m\n",
      "\u001b[96m2023-07-10 00:00:00.000\u001b[0m [\u001b[34m\u001b[1m🐞\u001b[0m] \u001b[34m\u001b[1m[\u001b[33mStopTakePositionTracker.BrokerSideRiskController\u001b[0m\u001b[34m\u001b[1m(\u001b[32mBINANCE.UM:FUTURE:BTCUSDT\u001b[0m\u001b[34m\u001b[1m)] :: Processing signal (1) to target: \u001b[36m\u001b[1mTarget +0.326000 for ComplexCompositeTest 30147.80 +1.000000 BINANCE.UM:FUTURE:BTCUSDT stop: 26831.5\u001b[0m\u001b[34m\u001b[1m\u001b[36m\u001b[0m\u001b[34m\u001b[1m\u001b[0m\n",
      "\u001b[96m2023-07-10 00:00:00.000\u001b[0m [\u001b[34m\u001b[1m🐞\u001b[0m] \u001b[34m\u001b[1m[\u001b[33mAtrRiskTracker.BrokerSideRiskController\u001b[0m\u001b[34m\u001b[1m(\u001b[32mBINANCE.UM:FUTURE:BTCUSDT\u001b[0m\u001b[34m\u001b[1m)] :: Processing signal (0) to target: \u001b[36m\u001b[1mTarget +0.000000 for ComplexCompositeTest 30147.80 +0.000000 BINANCE.UM:FUTURE:BTCUSDT (Closing opposite signal 1 )\u001b[0m\u001b[34m\u001b[1m\u001b[36m\u001b[0m\u001b[34m\u001b[1m\u001b[0m\n",
      "\u001b[96m2023-07-10 00:00:00.000\u001b[0m [\u001b[34m\u001b[1m🐞\u001b[0m] \u001b[34m\u001b[1m[\u001b[33mStopTakePositionTracker.BrokerSideRiskController\u001b[0m\u001b[34m\u001b[1m(\u001b[32mBINANCE.UM:FUTURE:BTCUSDT\u001b[0m\u001b[34m\u001b[1m)] :: Processing signal (0) to target: \u001b[36m\u001b[1mTarget +0.000000 for ComplexCompositeTest 30147.80 +0.000000 BINANCE.UM:FUTURE:BTCUSDT (Closing opposite signal 1 )\u001b[0m\u001b[34m\u001b[1m\u001b[36m\u001b[0m\u001b[34m\u001b[1m\u001b[0m\n",
      "\u001b[96m2023-07-10 00:00:00.000\u001b[0m [\u001b[34m\u001b[1m🐞\u001b[0m] \u001b[34m\u001b[1m  [\u001b[33mTradingManager\u001b[0m\u001b[34m\u001b[1m(\u001b[32mBTCUSDT\u001b[0m\u001b[34m\u001b[1m)] :: Sending market buy 0.326  -> (client_id: \u001b[31mqubx_BTCUSDT_16885152005)\u001b[0m\u001b[34m\u001b[1m ...\u001b[0m\n",
      "\u001b[96m2023-07-10 00:00:00.000\u001b[0m [\u001b[34m\u001b[1m🐞\u001b[0m] \u001b[34m\u001b[1m    [\u001b[33mOME\u001b[0m\u001b[34m\u001b[1m(\u001b[32mBINANCE.UM:FUTURE:BTCUSDT\u001b[0m\u001b[34m\u001b[1m)] :: \u001b[31mSIM-ORDER-BTCUSDT-100005\u001b[0m\u001b[34m\u001b[1m MARKET BUY 0.326 executed at 30147.85\u001b[0m\n",
      "\u001b[96m2023-07-10 00:00:00.000\u001b[0m [\u001b[34m\u001b[1m🐞\u001b[0m] \u001b[34m\u001b[1m  [\u001b[33mSimulatedAccountProcessor\u001b[0m\u001b[34m\u001b[1m(\u001b[32mBINANCE.UM:FUTURE:BTCUSDT\u001b[0m\u001b[34m\u001b[1m)] :: New status for order \u001b[31mSIM-ORDER-BTCUSDT-100005\u001b[0m\u001b[34m\u001b[1m -> \u001b[33mCLOSED\u001b[0m\u001b[34m\u001b[1m (MARKET BUY 0.326)\u001b[0m\n",
      "\u001b[96m2023-07-10 00:00:00.000\u001b[0m [\u001b[34m\u001b[1m🐞\u001b[0m] \u001b[34m\u001b[1m  [\u001b[33mSimulatedAccountProcessor\u001b[0m\u001b[34m\u001b[1m(\u001b[32mBINANCE.UM:FUTURE:BTCUSDT\u001b[0m\u001b[34m\u001b[1m)] :: traded 0.326 @ 30147.85 -> 0.00 USDT realized profit\u001b[0m\n",
      "\u001b[96m2023-07-10 00:00:00.000\u001b[0m [\u001b[34m\u001b[1m🐞\u001b[0m] \u001b[34m\u001b[1m[\u001b[33mAtrRiskTracker.BrokerSideRiskController\u001b[0m\u001b[34m\u001b[1m(\u001b[32mBINANCE.UM:FUTURE:BTCUSDT\u001b[0m\u001b[34m\u001b[1m)] :: \u001b[31mSIM-ORDER-BTCUSDT-100005\u001b[0m\u001b[34m\u001b[1m opened position for \u001b[36mComplexCompositeTest 30147.80 +1.000000 BINANCE.UM:FUTURE:BTCUSDT stop: 29847.549999999996 take: 30648.350000000002\u001b[0m\u001b[34m\u001b[1m\u001b[0m\n",
      "\u001b[96m2023-07-10 00:00:00.000\u001b[0m [\u001b[34m\u001b[1m🐞\u001b[0m] \u001b[34m\u001b[1m[\u001b[33mAtrRiskTracker.BrokerSideRiskController\u001b[0m\u001b[34m\u001b[1m(\u001b[32mBINANCE.UM:FUTURE:BTCUSDT\u001b[0m\u001b[34m\u001b[1m)] :: sending \u001b[32mtake limit\u001b[0m\u001b[34m\u001b[1m order at 30648.350000000002\u001b[0m\n",
      "\u001b[96m2023-07-10 00:00:00.000\u001b[0m [\u001b[34m\u001b[1m🐞\u001b[0m] \u001b[34m\u001b[1m  [\u001b[33mTradingManager\u001b[0m\u001b[34m\u001b[1m(\u001b[32mBTCUSDT\u001b[0m\u001b[34m\u001b[1m)] :: Sending limit sell 0.326  @ 30648.4 -> (client_id: \u001b[31mqubx_BTCUSDT_16885152006)\u001b[0m\u001b[34m\u001b[1m ...\u001b[0m\n",
      "\u001b[96m2023-07-10 00:00:00.000\u001b[0m [\u001b[34m\u001b[1m🐞\u001b[0m] \u001b[34m\u001b[1m    [\u001b[33mOME\u001b[0m\u001b[34m\u001b[1m(\u001b[32mBINANCE.UM:FUTURE:BTCUSDT\u001b[0m\u001b[34m\u001b[1m)] :: registered SIM-ORDER-BTCUSDT-100006 LIMIT SELL 0.326 30648.4\u001b[0m\n",
      "\u001b[96m2023-07-10 00:00:00.000\u001b[0m [\u001b[34m\u001b[1m🐞\u001b[0m] \u001b[34m\u001b[1m  [\u001b[33mSimulatedAccountProcessor\u001b[0m\u001b[34m\u001b[1m(\u001b[32mBINANCE.UM:FUTURE:BTCUSDT\u001b[0m\u001b[34m\u001b[1m)] :: New status for order \u001b[31mSIM-ORDER-BTCUSDT-100006\u001b[0m\u001b[34m\u001b[1m -> \u001b[33mOPEN\u001b[0m\u001b[34m\u001b[1m (LIMIT SELL 0.326 @ 30648.4)\u001b[0m\n",
      "\u001b[96m2023-07-10 00:00:00.000\u001b[0m [\u001b[34m\u001b[1m🐞\u001b[0m] \u001b[34m\u001b[1m[\u001b[33mAtrRiskTracker.BrokerSideRiskController\u001b[0m\u001b[34m\u001b[1m(\u001b[32mBINANCE.UM:FUTURE:BTCUSDT\u001b[0m\u001b[34m\u001b[1m)] :: sending \u001b[32mstop\u001b[0m\u001b[34m\u001b[1m order at 29847.549999999996\u001b[0m\n",
      "\u001b[96m2023-07-10 00:00:00.000\u001b[0m [\u001b[34m\u001b[1m🐞\u001b[0m] \u001b[34m\u001b[1m  [\u001b[33mTradingManager\u001b[0m\u001b[34m\u001b[1m(\u001b[32mBTCUSDT\u001b[0m\u001b[34m\u001b[1m)] :: Sending stop_market sell 0.326  @ 29847.6 -> (client_id: \u001b[31mqubx_BTCUSDT_16885152007)\u001b[0m\u001b[34m\u001b[1m ...\u001b[0m\n",
      "\u001b[96m2023-07-10 00:00:00.000\u001b[0m [\u001b[34m\u001b[1m🐞\u001b[0m] \u001b[34m\u001b[1m    [\u001b[33mOME\u001b[0m\u001b[34m\u001b[1m(\u001b[32mBINANCE.UM:FUTURE:BTCUSDT\u001b[0m\u001b[34m\u001b[1m)] :: registered SIM-ORDER-BTCUSDT-100007 STOP_MARKET SELL 0.326 29847.6\u001b[0m\n",
      "\u001b[96m2023-07-10 00:00:00.000\u001b[0m [\u001b[34m\u001b[1m🐞\u001b[0m] \u001b[34m\u001b[1m  [\u001b[33mSimulatedAccountProcessor\u001b[0m\u001b[34m\u001b[1m(\u001b[32mBINANCE.UM:FUTURE:BTCUSDT\u001b[0m\u001b[34m\u001b[1m)] :: New status for order \u001b[31mSIM-ORDER-BTCUSDT-100007\u001b[0m\u001b[34m\u001b[1m -> \u001b[33mOPEN\u001b[0m\u001b[34m\u001b[1m (STOP_MARKET SELL 0.326 @ 29847.6)\u001b[0m\n",
      "\u001b[96m2023-07-10 00:00:00.000\u001b[0m [\u001b[34m\u001b[1m🐞\u001b[0m] \u001b[34m\u001b[1m[\u001b[33mStopTakePositionTracker.BrokerSideRiskController\u001b[0m\u001b[34m\u001b[1m(\u001b[32mBINANCE.UM:FUTURE:BTCUSDT\u001b[0m\u001b[34m\u001b[1m)] :: \u001b[31mSIM-ORDER-BTCUSDT-100005\u001b[0m\u001b[34m\u001b[1m opened position for \u001b[36mComplexCompositeTest 30147.80 +1.000000 BINANCE.UM:FUTURE:BTCUSDT stop: 26831.5\u001b[0m\u001b[34m\u001b[1m\u001b[0m\n",
      "\u001b[96m2023-07-10 00:00:00.000\u001b[0m [\u001b[34m\u001b[1m🐞\u001b[0m] \u001b[34m\u001b[1m[\u001b[33mStopTakePositionTracker.BrokerSideRiskController\u001b[0m\u001b[34m\u001b[1m(\u001b[32mBINANCE.UM:FUTURE:BTCUSDT\u001b[0m\u001b[34m\u001b[1m)] :: sending \u001b[32mstop\u001b[0m\u001b[34m\u001b[1m order at 26831.5\u001b[0m\n",
      "\u001b[96m2023-07-10 00:00:00.000\u001b[0m [\u001b[34m\u001b[1m🐞\u001b[0m] \u001b[34m\u001b[1m  [\u001b[33mTradingManager\u001b[0m\u001b[34m\u001b[1m(\u001b[32mBTCUSDT\u001b[0m\u001b[34m\u001b[1m)] :: Sending stop_market sell 0.326  @ 26831.5 -> (client_id: \u001b[31mqubx_BTCUSDT_16885152008)\u001b[0m\u001b[34m\u001b[1m ...\u001b[0m\n",
      "\u001b[96m2023-07-10 00:00:00.000\u001b[0m [\u001b[34m\u001b[1m🐞\u001b[0m] \u001b[34m\u001b[1m    [\u001b[33mOME\u001b[0m\u001b[34m\u001b[1m(\u001b[32mBINANCE.UM:FUTURE:BTCUSDT\u001b[0m\u001b[34m\u001b[1m)] :: registered SIM-ORDER-BTCUSDT-100008 STOP_MARKET SELL 0.326 26831.5\u001b[0m\n",
      "\u001b[96m2023-07-10 00:00:00.000\u001b[0m [\u001b[34m\u001b[1m🐞\u001b[0m] \u001b[34m\u001b[1m  [\u001b[33mSimulatedAccountProcessor\u001b[0m\u001b[34m\u001b[1m(\u001b[32mBINANCE.UM:FUTURE:BTCUSDT\u001b[0m\u001b[34m\u001b[1m)] :: New status for order \u001b[31mSIM-ORDER-BTCUSDT-100008\u001b[0m\u001b[34m\u001b[1m -> \u001b[33mOPEN\u001b[0m\u001b[34m\u001b[1m (STOP_MARKET SELL 0.326 @ 26831.5)\u001b[0m\n",
      "\u001b[96m2023-07-10 00:00:00.000\u001b[0m [\u001b[34m\u001b[1m🐞\u001b[0m] \u001b[34m\u001b[1m[\u001b[33mProcessingManager\u001b[0m\u001b[34m\u001b[1m(\u001b[32mBINANCE.UM:FUTURE:BTCUSDT\u001b[0m\u001b[34m\u001b[1m)] :: executed \u001b[31mSIM-ORDER-BTCUSDT-100005\u001b[0m\u001b[34m\u001b[1m | 0.326 @ 30147.85\u001b[0m\n",
      "\u001b[96m2023-07-10 00:00:00.000\u001b[0m [\u001b[34m\u001b[1m🐞\u001b[0m] \u001b[34m\u001b[1m  [\u001b[33mSimplePositionGatherer\u001b[0m\u001b[34m\u001b[1m(\u001b[32mBINANCE.UM:FUTURE:BTCUSDT\u001b[0m\u001b[34m\u001b[1m)] :: Position is adjusted from 0.0 to 0.326 : [SIM-ORDER-BTCUSDT-100005] MARKET BUY 0.326 of BINANCE.UM:FUTURE:BTCUSDT  (gtc) [CLOSED]\u001b[0m\n",
      "\u001b[96m2023-07-10 19:36:00.000\u001b[0m [\u001b[34m\u001b[1m🐞\u001b[0m] \u001b[34m\u001b[1m    [\u001b[33mOME\u001b[0m\u001b[34m\u001b[1m(\u001b[32mBINANCE.UM:FUTURE:BTCUSDT\u001b[0m\u001b[34m\u001b[1m)] :: \u001b[31mSIM-ORDER-BTCUSDT-100006\u001b[0m\u001b[34m\u001b[1m LIMIT SELL 0.326 executed at 30648.4\u001b[0m\n",
      "\u001b[96m2023-07-10 19:36:00.000\u001b[0m [\u001b[34m\u001b[1m🐞\u001b[0m] \u001b[34m\u001b[1m  [\u001b[33mSimulatedAccountProcessor\u001b[0m\u001b[34m\u001b[1m(\u001b[32mBINANCE.UM:FUTURE:BTCUSDT\u001b[0m\u001b[34m\u001b[1m)] :: New status for order \u001b[31mSIM-ORDER-BTCUSDT-100006\u001b[0m\u001b[34m\u001b[1m -> \u001b[33mCLOSED\u001b[0m\u001b[34m\u001b[1m (LIMIT SELL 0.326 @ 30648.4)\u001b[0m\n",
      "\u001b[96m2023-07-10 19:36:00.000\u001b[0m [\u001b[34m\u001b[1m🐞\u001b[0m] \u001b[34m\u001b[1m  [\u001b[33mSimulatedAccountProcessor\u001b[0m\u001b[34m\u001b[1m(\u001b[32mBINANCE.UM:FUTURE:BTCUSDT\u001b[0m\u001b[34m\u001b[1m)] :: traded -0.326 @ 30648.4 -> 163.20 USDT realized profit\u001b[0m\n",
      "\u001b[96m2023-07-10 19:36:00.000\u001b[0m [\u001b[34m\u001b[1m🐞\u001b[0m] \u001b[34m\u001b[1m[\u001b[33mAtrRiskTracker.BrokerSideRiskController\u001b[0m\u001b[34m\u001b[1m(\u001b[32mBINANCE.UM:FUTURE:BTCUSDT\u001b[0m\u001b[34m\u001b[1m)] :: triggered \u001b[32mTAKE PROFIT\u001b[0m\u001b[34m\u001b[1m (\u001b[31mSIM-ORDER-BTCUSDT-100006\u001b[0m\u001b[34m\u001b[1m) at 30648.4\u001b[0m\n",
      "\u001b[96m2023-07-10 19:36:00.000\u001b[0m [\u001b[34m\u001b[1m🐞\u001b[0m] \u001b[34m\u001b[1m[\u001b[33mAtrRiskTracker.BrokerSideRiskController\u001b[0m\u001b[34m\u001b[1m(\u001b[32mBINANCE.UM:FUTURE:BTCUSDT\u001b[0m\u001b[34m\u001b[1m)] :: \u001b[35mCanceling stop order\u001b[0m\u001b[34m\u001b[1m \u001b[31mSIM-ORDER-BTCUSDT-100007\u001b[0m\u001b[34m\u001b[1m\u001b[0m\n",
      "\u001b[96m2023-07-10 19:36:00.000\u001b[0m [\u001b[34m\u001b[1m🐞\u001b[0m] \u001b[34m\u001b[1m    [\u001b[33mOME\u001b[0m\u001b[34m\u001b[1m(\u001b[32mBINANCE.UM:FUTURE:BTCUSDT\u001b[0m\u001b[34m\u001b[1m)] :: SIM-ORDER-BTCUSDT-100007 STOP_MARKET SELL 0.326 canceled\u001b[0m\n",
      "\u001b[96m2023-07-10 19:36:00.000\u001b[0m [\u001b[34m\u001b[1m🐞\u001b[0m] \u001b[34m\u001b[1m  [\u001b[33mSimulatedAccountProcessor\u001b[0m\u001b[34m\u001b[1m(\u001b[32mBINANCE.UM:FUTURE:BTCUSDT\u001b[0m\u001b[34m\u001b[1m)] :: New status for order \u001b[31mSIM-ORDER-BTCUSDT-100007\u001b[0m\u001b[34m\u001b[1m -> \u001b[33mCANCELED\u001b[0m\u001b[34m\u001b[1m (STOP_MARKET SELL 0.326 @ 29847.6)\u001b[0m\n",
      "\u001b[96m2023-07-10 19:36:00.000\u001b[0m [\u001b[34m\u001b[1m🐞\u001b[0m] \u001b[34m\u001b[1m[\u001b[33mStopTakePositionTracker.BrokerSideRiskController\u001b[0m\u001b[34m\u001b[1m(\u001b[32mBINANCE.UM:FUTURE:BTCUSDT\u001b[0m\u001b[34m\u001b[1m)] :: \u001b[35mCanceling stop order\u001b[0m\u001b[34m\u001b[1m \u001b[31mSIM-ORDER-BTCUSDT-100008\u001b[0m\u001b[34m\u001b[1m\u001b[0m\n",
      "\u001b[96m2023-07-10 19:36:00.000\u001b[0m [\u001b[34m\u001b[1m🐞\u001b[0m] \u001b[34m\u001b[1m    [\u001b[33mOME\u001b[0m\u001b[34m\u001b[1m(\u001b[32mBINANCE.UM:FUTURE:BTCUSDT\u001b[0m\u001b[34m\u001b[1m)] :: SIM-ORDER-BTCUSDT-100008 STOP_MARKET SELL 0.326 canceled\u001b[0m\n",
      "\u001b[96m2023-07-10 19:36:00.000\u001b[0m [\u001b[34m\u001b[1m🐞\u001b[0m] \u001b[34m\u001b[1m  [\u001b[33mSimulatedAccountProcessor\u001b[0m\u001b[34m\u001b[1m(\u001b[32mBINANCE.UM:FUTURE:BTCUSDT\u001b[0m\u001b[34m\u001b[1m)] :: New status for order \u001b[31mSIM-ORDER-BTCUSDT-100008\u001b[0m\u001b[34m\u001b[1m -> \u001b[33mCANCELED\u001b[0m\u001b[34m\u001b[1m (STOP_MARKET SELL 0.326 @ 26831.5)\u001b[0m\n",
      "\u001b[96m2023-07-10 19:36:00.000\u001b[0m [\u001b[34m\u001b[1m🐞\u001b[0m] \u001b[34m\u001b[1m[\u001b[33mAtrRiskTracker.BrokerSideRiskController\u001b[0m\u001b[34m\u001b[1m(\u001b[32mBINANCE.UM:FUTURE:BTCUSDT\u001b[0m\u001b[34m\u001b[1m)] :: \u001b[31mSIM-ORDER-BTCUSDT-100006\u001b[0m\u001b[34m\u001b[1m opened position for \u001b[36mComplexCompositeTest 30147.80 +0.000000 BINANCE.UM:FUTURE:BTCUSDT (Closing opposite signal 1 )\u001b[0m\u001b[34m\u001b[1m\u001b[0m\n",
      "\u001b[96m2023-07-10 19:36:00.000\u001b[0m [\u001b[34m\u001b[1m🐞\u001b[0m] \u001b[34m\u001b[1m[\u001b[33mStopTakePositionTracker.BrokerSideRiskController\u001b[0m\u001b[34m\u001b[1m(\u001b[32mBINANCE.UM:FUTURE:BTCUSDT\u001b[0m\u001b[34m\u001b[1m)] :: \u001b[31mSIM-ORDER-BTCUSDT-100006\u001b[0m\u001b[34m\u001b[1m opened position for \u001b[36mComplexCompositeTest 30147.80 +0.000000 BINANCE.UM:FUTURE:BTCUSDT (Closing opposite signal 1 )\u001b[0m\u001b[34m\u001b[1m\u001b[0m\n",
      "\u001b[96m2023-07-10 19:36:00.000\u001b[0m [\u001b[34m\u001b[1m🐞\u001b[0m] \u001b[34m\u001b[1m[\u001b[33mProcessingManager\u001b[0m\u001b[34m\u001b[1m(\u001b[32mBINANCE.UM:FUTURE:BTCUSDT\u001b[0m\u001b[34m\u001b[1m)] :: executed \u001b[31mSIM-ORDER-BTCUSDT-100006\u001b[0m\u001b[34m\u001b[1m | -0.326 @ 30648.4\u001b[0m\n",
      "\u001b[96m2023-07-10 19:36:00.000\u001b[0m [\u001b[34m\u001b[1m🐞\u001b[0m] \u001b[34m\u001b[1m[\u001b[33mAtrRiskTracker.BrokerSideRiskController\u001b[0m\u001b[34m\u001b[1m(\u001b[32mBTCUSDT\u001b[0m\u001b[34m\u001b[1m)] :: risk triggered - \u001b[35mStop tracking\u001b[0m\u001b[34m\u001b[1m\u001b[0m\n",
      "\u001b[96m2023-07-10 19:36:00.000\u001b[0m [\u001b[34m\u001b[1m🐞\u001b[0m] \u001b[34m\u001b[1m[\u001b[33mStopTakePositionTracker.BrokerSideRiskController\u001b[0m\u001b[34m\u001b[1m(\u001b[32mBTCUSDT\u001b[0m\u001b[34m\u001b[1m)] state is done - \u001b[35mStop tracking\u001b[0m\u001b[34m\u001b[1m\u001b[0m\n",
      "\u001b[96m2023-07-10 19:36:00.000\u001b[0m [\u001b[34m\u001b[1m🐞\u001b[0m] \u001b[34m\u001b[1m[\u001b[33mAtrRiskTracker.BrokerSideRiskController\u001b[0m\u001b[34m\u001b[1m(\u001b[32mBTCUSDT\u001b[0m\u001b[34m\u001b[1m)] state is done - \u001b[35mStop tracking\u001b[0m\u001b[34m\u001b[1m\u001b[0m\n",
      "\u001b[96m2023-07-10 19:36:00.000\u001b[0m [\u001b[34m\u001b[1m🐞\u001b[0m] \u001b[34m\u001b[1m[\u001b[33mStopTakePositionTracker.BrokerSideRiskController\u001b[0m\u001b[34m\u001b[1m(\u001b[32mBTCUSDT\u001b[0m\u001b[34m\u001b[1m)] state is done - \u001b[35mStop tracking\u001b[0m\u001b[34m\u001b[1m\u001b[0m\n",
      "\u001b[96m2023-08-01 00:59:55.000\u001b[0m [\u001b[1mℹ️\u001b[0m] \u001b[1mSimulatedDataProvider ::: Simulation finished at 2023-08-01 00:00:00 :::\u001b[0m\n"
     ]
    }
   ],
   "source": [
    "assert I is not None\n",
    "\n",
    "rep_c = simulate(\n",
    "    strategies={\n",
    "        \"Composited\": (\n",
    "            strategy := ComplexCompositeTest(\n",
    "                tests={\n",
    "                    \"2023-07-05 00:00:00\": I.signal(-1),\n",
    "                    \"2023-07-10 00:00:00\": I.signal(+1),\n",
    "                }\n",
    "            ))}, data={\"ohlc(1h)\": r}, capital=10000, instruments=[\"BINANCE.UM:BTCUSDT\"], commissions=\"vip0_usdt\", debug=\"DEBUG\",\n",
    "    start=\"2023-07-01\", stop=\"2023-08-01\",\n",
    ")\n",
    "# tearsheet(rep_c)"
   ]
  },
  {
   "cell_type": "code",
   "execution_count": null,
   "metadata": {},
   "outputs": [],
   "source": [
    "tearsheet(rep_c)"
   ]
  },
  {
   "cell_type": "code",
   "execution_count": 165,
   "metadata": {},
   "outputs": [
    {
     "data": {
      "text/plain": [
       "True"
      ]
     },
     "execution_count": 165,
     "metadata": {},
     "output_type": "execute_result"
    }
   ],
   "source": [
    "abs(rep_c[0].signals_log.iloc[0].stop - rep_c[0].executions_log.iloc[1].price) < I.tick_size"
   ]
  },
  {
   "cell_type": "code",
   "execution_count": 162,
   "metadata": {},
   "outputs": [
    {
     "data": {
      "text/html": [
       "<div>\n",
       "<style scoped>\n",
       "    .dataframe tbody tr th:only-of-type {\n",
       "        vertical-align: middle;\n",
       "    }\n",
       "\n",
       "    .dataframe tbody tr th {\n",
       "        vertical-align: top;\n",
       "    }\n",
       "\n",
       "    .dataframe thead th {\n",
       "        text-align: right;\n",
       "    }\n",
       "</style>\n",
       "<table border=\"1\" class=\"dataframe\">\n",
       "  <thead>\n",
       "    <tr style=\"text-align: right;\">\n",
       "      <th></th>\n",
       "      <th>instrument_id</th>\n",
       "      <th>exchange_id</th>\n",
       "      <th>side</th>\n",
       "      <th>filled_qty</th>\n",
       "      <th>price</th>\n",
       "      <th>commissions</th>\n",
       "      <th>commissions_quoted</th>\n",
       "      <th>order_id</th>\n",
       "    </tr>\n",
       "    <tr>\n",
       "      <th>timestamp</th>\n",
       "      <th></th>\n",
       "      <th></th>\n",
       "      <th></th>\n",
       "      <th></th>\n",
       "      <th></th>\n",
       "      <th></th>\n",
       "      <th></th>\n",
       "      <th></th>\n",
       "    </tr>\n",
       "  </thead>\n",
       "  <tbody>\n",
       "    <tr>\n",
       "      <th>2023-07-05 00:00:00</th>\n",
       "      <td>BTCUSDT</td>\n",
       "      <td>BINANCE.UM</td>\n",
       "      <td>sell</td>\n",
       "      <td>-0.325</td>\n",
       "      <td>30756.05</td>\n",
       "      <td>4.997858</td>\n",
       "      <td>USDT</td>\n",
       "      <td>SIM-ORDER-BTCUSDT-100001</td>\n",
       "    </tr>\n",
       "    <tr>\n",
       "      <th>2023-07-06 08:36:00</th>\n",
       "      <td>BTCUSDT</td>\n",
       "      <td>BINANCE.UM</td>\n",
       "      <td>buy</td>\n",
       "      <td>0.325</td>\n",
       "      <td>31170.50</td>\n",
       "      <td>5.065206</td>\n",
       "      <td>USDT</td>\n",
       "      <td>SIM-ORDER-BTCUSDT-100003</td>\n",
       "    </tr>\n",
       "    <tr>\n",
       "      <th>2023-07-10 00:00:00</th>\n",
       "      <td>BTCUSDT</td>\n",
       "      <td>BINANCE.UM</td>\n",
       "      <td>buy</td>\n",
       "      <td>0.326</td>\n",
       "      <td>30147.85</td>\n",
       "      <td>4.914100</td>\n",
       "      <td>USDT</td>\n",
       "      <td>SIM-ORDER-BTCUSDT-100005</td>\n",
       "    </tr>\n",
       "    <tr>\n",
       "      <th>2023-07-10 19:36:00</th>\n",
       "      <td>BTCUSDT</td>\n",
       "      <td>BINANCE.UM</td>\n",
       "      <td>sell</td>\n",
       "      <td>-0.326</td>\n",
       "      <td>30648.40</td>\n",
       "      <td>1.998276</td>\n",
       "      <td>USDT</td>\n",
       "      <td>SIM-ORDER-BTCUSDT-100006</td>\n",
       "    </tr>\n",
       "  </tbody>\n",
       "</table>\n",
       "</div>"
      ],
      "text/plain": [
       "                    instrument_id exchange_id  side  filled_qty     price  \\\n",
       "timestamp                                                                   \n",
       "2023-07-05 00:00:00       BTCUSDT  BINANCE.UM  sell      -0.325  30756.05   \n",
       "2023-07-06 08:36:00       BTCUSDT  BINANCE.UM   buy       0.325  31170.50   \n",
       "2023-07-10 00:00:00       BTCUSDT  BINANCE.UM   buy       0.326  30147.85   \n",
       "2023-07-10 19:36:00       BTCUSDT  BINANCE.UM  sell      -0.326  30648.40   \n",
       "\n",
       "                     commissions commissions_quoted                  order_id  \n",
       "timestamp                                                                      \n",
       "2023-07-05 00:00:00     4.997858               USDT  SIM-ORDER-BTCUSDT-100001  \n",
       "2023-07-06 08:36:00     5.065206               USDT  SIM-ORDER-BTCUSDT-100003  \n",
       "2023-07-10 00:00:00     4.914100               USDT  SIM-ORDER-BTCUSDT-100005  \n",
       "2023-07-10 19:36:00     1.998276               USDT  SIM-ORDER-BTCUSDT-100006  "
      ]
     },
     "execution_count": 162,
     "metadata": {},
     "output_type": "execute_result"
    }
   ],
   "source": [
    "rep_c[0].executions_log"
   ]
  },
  {
   "cell_type": "code",
   "execution_count": null,
   "metadata": {},
   "outputs": [],
   "source": [
    "data1h = r.read(\"BINANCE.UM:BTCUSDT\", \"2023-07-01\", \"2023-08-01\", AsPandasFrame())\n",
    "chart_signals(rep_c[0], I.symbol, data1h, '1h', show_signals=True, height=500, info=True, show_leverage=False)"
   ]
  },
  {
   "cell_type": "code",
   "execution_count": null,
   "metadata": {},
   "outputs": [],
   "source": []
  },
  {
   "cell_type": "markdown",
   "metadata": {},
   "source": [
    "# ATR tracker test"
   ]
  },
  {
   "cell_type": "code",
   "execution_count": null,
   "metadata": {},
   "outputs": [],
   "source": [
    "rep_atr = simulate(\n",
    "    strategies={\n",
    "        \"Strategy ST client  (0)\": [\n",
    "            StrategyForTracking(timeframe=\"15Min\", fast_period=10, slow_period=25, high_low_risk=True),\n",
    "            t0 := StopTakePositionTracker(\n",
    "                None, None, sizer=FixedRiskSizer(1, 10_000), risk_controlling_side=\"client\"\n",
    "            ),\n",
    "        ],\n",
    "        \"Strategy ST broker  (1)\": [\n",
    "            StrategyForTracking(timeframe=\"15Min\", fast_period=10, slow_period=25, high_low_risk=True),\n",
    "            t1 := StopTakePositionTracker(\n",
    "                None, None, sizer=FixedRiskSizer(1, 10_000), risk_controlling_side=\"broker\"\n",
    "            ),\n",
    "        ],\n",
    "        \"Strategy ATR client (2)\": [\n",
    "            StrategyForTracking(timeframe=\"15Min\", fast_period=10, slow_period=25, high_low_risk=False),\n",
    "            t2 := AtrRiskTracker(\n",
    "                5, 5, \"15Min\", 25, atr_smoother=\"sma\", sizer=FixedRiskSizer(1, 10_000), \n",
    "                risk_controlling_side=\"client\",\n",
    "            ),\n",
    "        ],\n",
    "        \"Strategy ATR broker (3)\": [\n",
    "            StrategyForTracking(timeframe=\"15Min\", fast_period=10, slow_period=25, high_low_risk=False),\n",
    "            t3 := AtrRiskTracker(\n",
    "                5, 5, \"15Min\", 25, atr_smoother=\"sma\", sizer=FixedRiskSizer(1, 10_000), \n",
    "                risk_controlling_side=\"broker\",\n",
    "            ),\n",
    "        ],\n",
    "    }, data={\"ohlc\": r1, \"quote\": r1}, capital=10000, instruments=[I], commissions=\"vip0_usdt\", accurate_stop_orders_execution=True,\n",
    "    debug=\"DEBUG\",\n",
    "    start=\"2024-01-01\", stop=\"2024-01-03 14:00\",\n",
    "    # start=\"2024-01-01\", stop=\"2024-01-02 14:00\",\n",
    ")"
   ]
  },
  {
   "cell_type": "code",
   "execution_count": null,
   "metadata": {},
   "outputs": [],
   "source": [
    "rep_atr[2].executions_log"
   ]
  },
  {
   "cell_type": "code",
   "execution_count": null,
   "metadata": {},
   "outputs": [],
   "source": [
    "rep_atr[3].executions_log"
   ]
  },
  {
   "cell_type": "code",
   "execution_count": 154,
   "metadata": {},
   "outputs": [
    {
     "data": {
      "text/html": [
       "<div>\n",
       "<style scoped>\n",
       "    .dataframe tbody tr th:only-of-type {\n",
       "        vertical-align: middle;\n",
       "    }\n",
       "\n",
       "    .dataframe tbody tr th {\n",
       "        vertical-align: top;\n",
       "    }\n",
       "\n",
       "    .dataframe thead th {\n",
       "        text-align: right;\n",
       "    }\n",
       "</style>\n",
       "<table border=\"1\" class=\"dataframe\">\n",
       "  <thead>\n",
       "    <tr style=\"text-align: right;\">\n",
       "      <th></th>\n",
       "      <th></th>\n",
       "      <th>Gain</th>\n",
       "      <th>Cagr</th>\n",
       "      <th>Sharpe</th>\n",
       "      <th>Qr</th>\n",
       "      <th>Max dd pct</th>\n",
       "      <th>Mdd usd</th>\n",
       "      <th>Sortino</th>\n",
       "      <th>Calmar</th>\n",
       "      <th>Tail ratio</th>\n",
       "      <th>Stability</th>\n",
       "      <th>Var</th>\n",
       "      <th>Avg return</th>\n",
       "      <th>Fees</th>\n",
       "      <th>Execs</th>\n",
       "    </tr>\n",
       "    <tr>\n",
       "      <th>id</th>\n",
       "      <th></th>\n",
       "      <th></th>\n",
       "      <th></th>\n",
       "      <th></th>\n",
       "      <th></th>\n",
       "      <th></th>\n",
       "      <th></th>\n",
       "      <th></th>\n",
       "      <th></th>\n",
       "      <th></th>\n",
       "      <th></th>\n",
       "      <th></th>\n",
       "      <th></th>\n",
       "      <th></th>\n",
       "      <th></th>\n",
       "    </tr>\n",
       "  </thead>\n",
       "  <tbody>\n",
       "    <tr>\n",
       "      <th>1</th>\n",
       "      <th>Strategy ST broker  (1)</th>\n",
       "      <td>260.863369</td>\n",
       "      <td>21.946075</td>\n",
       "      <td>10.578861</td>\n",
       "      <td>-0.010267</td>\n",
       "      <td>4.881127</td>\n",
       "      <td>523.698000</td>\n",
       "      <td>267.614180</td>\n",
       "      <td>16946.930371</td>\n",
       "      <td>21.854599</td>\n",
       "      <td>0.711481</td>\n",
       "      <td>124.041865</td>\n",
       "      <td>0.870205</td>\n",
       "      <td>154.764131</td>\n",
       "      <td>27.0</td>\n",
       "    </tr>\n",
       "    <tr>\n",
       "      <th>0</th>\n",
       "      <th>Strategy ST client  (0)</th>\n",
       "      <td>137.427120</td>\n",
       "      <td>4.262704</td>\n",
       "      <td>6.958802</td>\n",
       "      <td>-0.238009</td>\n",
       "      <td>4.937937</td>\n",
       "      <td>523.698000</td>\n",
       "      <td>47.212418</td>\n",
       "      <td>1306.478587</td>\n",
       "      <td>5.427333</td>\n",
       "      <td>0.599930</td>\n",
       "      <td>123.960546</td>\n",
       "      <td>0.461305</td>\n",
       "      <td>164.720480</td>\n",
       "      <td>30.0</td>\n",
       "    </tr>\n",
       "    <tr>\n",
       "      <th>3</th>\n",
       "      <th>Strategy ATR broker (3)</th>\n",
       "      <td>-197.064234</td>\n",
       "      <td>-0.911216</td>\n",
       "      <td>-10.465948</td>\n",
       "      <td>-0.746084</td>\n",
       "      <td>3.419145</td>\n",
       "      <td>343.747283</td>\n",
       "      <td>-13.444780</td>\n",
       "      <td>-51.831101</td>\n",
       "      <td>0.284884</td>\n",
       "      <td>0.412226</td>\n",
       "      <td>226.574624</td>\n",
       "      <td>-0.656434</td>\n",
       "      <td>73.084384</td>\n",
       "      <td>14.0</td>\n",
       "    </tr>\n",
       "    <tr>\n",
       "      <th>2</th>\n",
       "      <th>Strategy ATR client (2)</th>\n",
       "      <td>-209.314888</td>\n",
       "      <td>-0.923747</td>\n",
       "      <td>-10.930867</td>\n",
       "      <td>-0.825157</td>\n",
       "      <td>3.619242</td>\n",
       "      <td>363.864218</td>\n",
       "      <td>-13.795519</td>\n",
       "      <td>-51.440003</td>\n",
       "      <td>0.270566</td>\n",
       "      <td>0.423288</td>\n",
       "      <td>233.529871</td>\n",
       "      <td>-0.697661</td>\n",
       "      <td>74.635888</td>\n",
       "      <td>14.0</td>\n",
       "    </tr>\n",
       "  </tbody>\n",
       "</table>\n",
       "</div>"
      ],
      "text/plain": [
       "                                  Gain       Cagr     Sharpe        Qr  \\\n",
       "id                                                                       \n",
       "1  Strategy ST broker  (1)  260.863369  21.946075  10.578861 -0.010267   \n",
       "0  Strategy ST client  (0)  137.427120   4.262704   6.958802 -0.238009   \n",
       "3  Strategy ATR broker (3) -197.064234  -0.911216 -10.465948 -0.746084   \n",
       "2  Strategy ATR client (2) -209.314888  -0.923747 -10.930867 -0.825157   \n",
       "\n",
       "                            Max dd pct     Mdd usd     Sortino        Calmar  \\\n",
       "id                                                                             \n",
       "1  Strategy ST broker  (1)    4.881127  523.698000  267.614180  16946.930371   \n",
       "0  Strategy ST client  (0)    4.937937  523.698000   47.212418   1306.478587   \n",
       "3  Strategy ATR broker (3)    3.419145  343.747283  -13.444780    -51.831101   \n",
       "2  Strategy ATR client (2)    3.619242  363.864218  -13.795519    -51.440003   \n",
       "\n",
       "                            Tail ratio  Stability         Var  Avg return  \\\n",
       "id                                                                          \n",
       "1  Strategy ST broker  (1)   21.854599   0.711481  124.041865    0.870205   \n",
       "0  Strategy ST client  (0)    5.427333   0.599930  123.960546    0.461305   \n",
       "3  Strategy ATR broker (3)    0.284884   0.412226  226.574624   -0.656434   \n",
       "2  Strategy ATR client (2)    0.270566   0.423288  233.529871   -0.697661   \n",
       "\n",
       "                                  Fees  Execs  \n",
       "id                                             \n",
       "1  Strategy ST broker  (1)  154.764131   27.0  \n",
       "0  Strategy ST client  (0)  164.720480   30.0  \n",
       "3  Strategy ATR broker (3)   73.084384   14.0  \n",
       "2  Strategy ATR client (2)   74.635888   14.0  "
      ]
     },
     "execution_count": 154,
     "metadata": {},
     "output_type": "execute_result"
    },
    {
     "data": {
      "image/png": "[encoded data removed]",
      "text/plain": [
       "<Figure size 960x400 with 1 Axes>"
      ]
     },
     "metadata": {},
     "output_type": "display_data"
    }
   ],
   "source": [
    "tearsheet(rep_atr)\n",
    "# scols(rep_atr[0].executions_log, rep_atr[1].executions_log, keys=[\"Client\", \"Broker\"])"
   ]
  },
  {
   "cell_type": "code",
   "execution_count": 68,
   "metadata": {},
   "outputs": [],
   "source": [
    "data1m = r1.read(\"BINANCE.UM:BTCUSDT\", \"2024-01-01\", \"2024-01-03 14:00\", AsPandasFrame())"
   ]
  },
  {
   "cell_type": "code",
   "execution_count": null,
   "metadata": {},
   "outputs": [],
   "source": [
    "chart_signals(rep_atr[1], I.symbol, data1m, '15Min', show_signals=True, height=500, info=True, show_leverage=False)"
   ]
  },
  {
   "cell_type": "markdown",
   "metadata": {},
   "source": [
    "# Test trailing"
   ]
  },
  {
   "cell_type": "code",
   "execution_count": 8,
   "metadata": {},
   "outputs": [],
   "source": [
    "data1m = r.read(\"BINANCE.UM:BTCUSDT\", \"2023-01-01\", \"now\", AsPandasFrame())"
   ]
  },
  {
   "cell_type": "code",
   "execution_count": 37,
   "metadata": {},
   "outputs": [
    {
     "data": {
      "text/plain": []
     },
     "execution_count": 37,
     "metadata": {},
     "output_type": "execute_result"
    },
    {
     "data": {
      "image/png": "[encoded data removed]",
      "text/plain": [
       "<Figure size 960x400 with 1 Axes>"
      ]
     },
     "metadata": {},
     "output_type": "display_data"
    }
   ],
   "source": [
    "LookingGlass(data1m, backend=\"mpl\").look(\"2023-07-01\", \"2023-07-10\").hover()"
   ]
  },
  {
   "cell_type": "code",
   "execution_count": null,
   "metadata": {},
   "outputs": [
    {
     "data": {
      "text/plain": [
       "3"
      ]
     },
     "execution_count": 25,
     "metadata": {},
     "output_type": "execute_result"
    }
   ],
   "source": [
    "# int(np.log(31360/E) / np.log(1 + r/100))"
   ]
  },
  {
   "cell_type": "code",
   "execution_count": null,
   "metadata": {},
   "outputs": [],
   "source": []
  }
 ],
 "metadata": {
  "kernelspec": {
   "display_name": ".venv",
   "language": "python",
   "name": "python3"
  },
  "language_info": {
   "codemirror_mode": {
    "name": "ipython",
    "version": 3
   },
   "file_extension": ".py",
   "mimetype": "text/x-python",
   "name": "python",
   "nbconvert_exporter": "python",
   "pygments_lexer": "ipython3",
   "version": "3.11.8"
  }
 },
 "nbformat": 4,
 "nbformat_minor": 2
}
