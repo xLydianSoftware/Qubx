{
 "cells": [
  {
   "cell_type": "code",
   "execution_count": 1,
   "metadata": {},
   "outputs": [
    {
     "name": "stdout",
     "output_type": "stream",
     "text": [
      "\n",
      "⠀⠀⡰⡖⠒⠒⢒⢦⠀⠀   \n",
      "⠀⢠⠃⠈⢆⣀⣎⣀⣱⡀  \u001b[31mQUBX\u001b[0m | \u001b[36mQuantitative Backtesting Environment\u001b[0m \n",
      "⠀⢳⠒⠒⡞⠚⡄⠀⡰⠁         (c) 2025, ver. \u001b[35m0.6.1\u001b[0m\n",
      "⠀⠀⠱⣜⣀⣀⣈⣦⠃⠀⠀⠀ \n",
      "        \n"
     ]
    },
    {
     "data": {
      "text/html": [
       "<style> .cell-output-ipywidget-background { background-color: transparent !important; } :root { --jp-widgets-color: var(--vscode-editor-foreground); --jp-widgets-font-size: var(--vscode-editor-font-size); } .widget-hprogress, .jupyter-widget-hprogress { height: 16px; align-self: center; kj} table.dataframe, .dataframe td, .dataframe tr { border: 1px solid #55554a85; border-collapse: collapse; color: #859548d9 !important; } .dataframe th { border: 1px solid #55554a85; border-collapse: collapse; background-color: #010101 !important; color: #177 !important; } </style>"
      ],
      "text/plain": [
       "<IPython.core.display.HTML object>"
      ]
     },
     "metadata": {},
     "output_type": "display_data"
    }
   ],
   "source": [
    "%load_ext autoreload\n",
    "%autoreload 2\n",
    "\n",
    "import qubx\n",
    "\n",
    "%qubxd\n",
    "import pandas as pd\n",
    "import numpy as np\n",
    "\n",
    "from qubx._nb_magic import *\n",
    "from qubx.data.helpers import loader\n",
    "from qubx.data.hft import HftDataReader\n",
    "\n",
    "from qubx.core.metrics import tearsheet\n",
    "from qubx.backtester.simulator import simulate\n",
    "from qubx.core.metrics import chart_signals\n",
    "from qubx.data.readers import AsTrades\n",
    "\n",
    "from qubx.utils.misc import add_project_to_system_path\n",
    "\n",
    "add_project_to_system_path(\"~/devs/Qubx\")\n",
    "\n",
    "from tests.strategies.obi_trader.models.obi_trader import ObiTraderStrategy\n",
    "from qubx import logger, QubxLogConfig\n",
    "\n",
    "\n",
    "QubxLogConfig.set_log_level(\"DEBUG\")"
   ]
  },
  {
   "cell_type": "markdown",
   "metadata": {},
   "source": [
    "### 1. Check HFT reader separately"
   ]
  },
  {
   "cell_type": "code",
   "execution_count": 2,
   "metadata": {},
   "outputs": [],
   "source": [
    "reader = HftDataReader()"
   ]
  },
  {
   "cell_type": "code",
   "execution_count": 17,
   "metadata": {},
   "outputs": [],
   "source": [
    "iterator = reader.read(\n",
    "    \"BINANCE.UM:BTCUSDT\",\n",
    "    start=\"2025-01-01\",\n",
    "    stop=\"2025-01-02\",\n",
    "    # start=\"2025-01-02\",\n",
    "    # stop=\"2025-01-03\",\n",
    "    data_type=\"orderbook\"\n",
    ")"
   ]
  },
  {
   "cell_type": "code",
   "execution_count": 23,
   "metadata": {},
   "outputs": [],
   "source": [
    "reader.close()"
   ]
  },
  {
   "cell_type": "code",
   "execution_count": 19,
   "metadata": {},
   "outputs": [
    {
     "data": {
      "text/plain": [
       "0"
      ]
     },
     "execution_count": 19,
     "metadata": {},
     "output_type": "execute_result"
    }
   ],
   "source": [
    "list(reader._prefetchers.values())[0].queues[\"orderbook\"].qsize()"
   ]
  },
  {
   "cell_type": "code",
   "execution_count": 21,
   "metadata": {},
   "outputs": [],
   "source": [
    "chunk = next(iterator)"
   ]
  },
  {
   "cell_type": "code",
   "execution_count": 22,
   "metadata": {},
   "outputs": [
    {
     "data": {
      "text/plain": [
       "Timestamp('2025-01-01 01:23:22.999000')"
      ]
     },
     "execution_count": 22,
     "metadata": {},
     "output_type": "execute_result"
    }
   ],
   "source": [
    "pd.Timestamp(chunk[0][0])"
   ]
  },
  {
   "cell_type": "code",
   "execution_count": null,
   "metadata": {},
   "outputs": [],
   "source": [
    "quote_iterator = reader.read(\"BINANCE.UM:BTCUSDT\", start=\"2025-01-01\", stop=\"2025-01-02\", data_type=\"quote\")"
   ]
  },
  {
   "cell_type": "code",
   "execution_count": 12,
   "metadata": {},
   "outputs": [],
   "source": [
    "quote_chunk = next(quote_iterator)"
   ]
  },
  {
   "cell_type": "code",
   "execution_count": 13,
   "metadata": {},
   "outputs": [
    {
     "data": {
      "text/plain": [
       "(1735689601999000000, 93548.7, 93548.8, 0.953, 5.474)"
      ]
     },
     "execution_count": 13,
     "metadata": {},
     "output_type": "execute_result"
    }
   ],
   "source": [
    "quote_chunk[0]"
   ]
  },
  {
   "cell_type": "code",
   "execution_count": 14,
   "metadata": {},
   "outputs": [],
   "source": [
    "trade_iterator = reader.read(\n",
    "    \"BINANCE.UM:BTCUSDT\",\n",
    "    start=\"2025-01-01\",\n",
    "    stop=\"2025-01-02\",\n",
    "    data_type=\"trade\",\n",
    "    transform=AsTrades(),\n",
    ")"
   ]
  },
  {
   "cell_type": "code",
   "execution_count": 16,
   "metadata": {},
   "outputs": [],
   "source": [
    "trade_chunk = next(trade_iterator)"
   ]
  },
  {
   "cell_type": "code",
   "execution_count": 18,
   "metadata": {},
   "outputs": [
    {
     "data": {
      "text/plain": [
       "4882"
      ]
     },
     "execution_count": 18,
     "metadata": {},
     "output_type": "execute_result"
    }
   ],
   "source": [
    "len(trade_chunk)"
   ]
  },
  {
   "cell_type": "code",
   "execution_count": 22,
   "metadata": {},
   "outputs": [
    {
     "data": {
      "text/plain": [
       "[TradeArray(size=2, volume=0.1, buys=0.1, sells=0.0),\n",
       " TradeArray(size=314, volume=20.1, buys=2.1, sells=18.0),\n",
       " TradeArray(size=43, volume=1.0, buys=0.3, sells=0.7),\n",
       " TradeArray(size=36, volume=1.9, buys=0.1, sells=1.8),\n",
       " TradeArray(size=15, volume=1.8, buys=0.0, sells=1.7),\n",
       " TradeArray(size=11, volume=0.8, buys=0.1, sells=0.7),\n",
       " TradeArray(size=5, volume=0.1, buys=0.0, sells=0.0),\n",
       " TradeArray(size=17, volume=0.5, buys=0.1, sells=0.3),\n",
       " TradeArray(size=10, volume=0.1, buys=0.0, sells=0.1),\n",
       " TradeArray(size=8, volume=0.1, buys=0.0, sells=0.1)]"
      ]
     },
     "execution_count": 22,
     "metadata": {},
     "output_type": "execute_result"
    }
   ],
   "source": [
    "trade_chunk[:10]"
   ]
  },
  {
   "cell_type": "markdown",
   "metadata": {},
   "source": [
    "### 2. Run simulation"
   ]
  },
  {
   "cell_type": "code",
   "execution_count": 2,
   "metadata": {},
   "outputs": [
    {
     "name": "stdout",
     "output_type": "stream",
     "text": [
      "\u001b[32m2025-03-05 10:28:19.588\u001b[0m [ \u001b[34m\u001b[1m🐞\u001b[0m ] \u001b[36m(helpers)\u001b[0m \u001b[34m\u001b[1m\u001b[33mObiTraderStrategy\u001b[0m\u001b[34m\u001b[1m new parameters:\n",
      "\tset \u001b[32mtick_size_pct\u001b[0m\u001b[34m\u001b[1m <- \u001b[31m0.1\u001b[0m\u001b[34m\u001b[1m\n",
      "\tset \u001b[32mdepth\u001b[0m\u001b[34m\u001b[1m <- \u001b[31m25\u001b[0m\u001b[34m\u001b[1m\n",
      "\tset \u001b[32mthreshold\u001b[0m\u001b[34m\u001b[1m <- \u001b[31m0.5\u001b[0m\u001b[34m\u001b[1m\u001b[0m\n"
     ]
    },
    {
     "data": {
      "application/vnd.jupyter.widget-view+json": {
       "model_id": "40ee30fe3ebd470581d00feb95a81b53",
       "version_major": 2,
       "version_minor": 0
      },
      "text/plain": [
       "Simulating:   0%|          | 0/100 [00:00<?, ?%/s]"
      ]
     },
     "metadata": {},
     "output_type": "display_data"
    },
    {
     "data": {
      "text/html": [
       "<div>\n",
       "<style scoped>\n",
       "    .dataframe tbody tr th:only-of-type {\n",
       "        vertical-align: middle;\n",
       "    }\n",
       "\n",
       "    .dataframe tbody tr th {\n",
       "        vertical-align: top;\n",
       "    }\n",
       "\n",
       "    .dataframe thead th {\n",
       "        text-align: right;\n",
       "    }\n",
       "</style>\n",
       "<table border=\"1\" class=\"dataframe\">\n",
       "  <thead>\n",
       "    <tr style=\"text-align: right;\">\n",
       "      <th></th>\n",
       "      <th>Gain</th>\n",
       "      <th>Cagr</th>\n",
       "      <th>Sharpe</th>\n",
       "      <th>Qr</th>\n",
       "      <th>Max dd pct</th>\n",
       "      <th>Mdd usd</th>\n",
       "      <th>Sortino</th>\n",
       "      <th>Calmar</th>\n",
       "      <th>Tail ratio</th>\n",
       "      <th>Stability</th>\n",
       "      <th>Var</th>\n",
       "      <th>Avg return</th>\n",
       "      <th>Fees</th>\n",
       "      <th>Execs</th>\n",
       "    </tr>\n",
       "  </thead>\n",
       "  <tbody>\n",
       "    <tr>\n",
       "      <th>Test</th>\n",
       "      <td>1128.992</td>\n",
       "      <td>13503.114</td>\n",
       "      <td>15.065</td>\n",
       "      <td>10.401</td>\n",
       "      <td>9.601</td>\n",
       "      <td>172.039</td>\n",
       "      <td>59.795</td>\n",
       "      <td>317717.972</td>\n",
       "      <td>2.962</td>\n",
       "      <td>0.979</td>\n",
       "      <td>28.284</td>\n",
       "      <td>2.694</td>\n",
       "      <td>0.0</td>\n",
       "      <td>5117.0</td>\n",
       "    </tr>\n",
       "  </tbody>\n",
       "</table>\n",
       "</div>"
      ],
      "text/plain": [
       "          Gain       Cagr  Sharpe      Qr  Max dd pct  Mdd usd  Sortino  \\\n",
       "Test  1128.992  13503.114  15.065  10.401       9.601  172.039   59.795   \n",
       "\n",
       "          Calmar  Tail ratio  Stability     Var  Avg return  Fees   Execs  \n",
       "Test  317717.972       2.962      0.979  28.284       2.694   0.0  5117.0  "
      ]
     },
     "execution_count": 2,
     "metadata": {},
     "output_type": "execute_result"
    },
    {
     "data": {
      "image/png": "[encoded data removed]",
      "text/plain": [
       "<Figure size 960x400 with 3 Axes>"
      ]
     },
     "metadata": {},
     "output_type": "display_data"
    }
   ],
   "source": [
    "r = simulate(\n",
    "    strategies={\"Test\": (stg1 := ObiTraderStrategy(tick_size_pct=0.1, depth=25, threshold=0.5))},\n",
    "    data=HftDataReader(enable_quote=False),\n",
    "    capital=1000,\n",
    "    instruments=[\"BINANCE.UM:BTCUSDT\"],\n",
    "    commissions=None,\n",
    "    start=\"2025-01-01\",\n",
    "    stop=\"2025-01-30\",\n",
    "    portfolio_log_freq=\"1min\",\n",
    "    debug=\"WARNING\",\n",
    ")\n",
    "tearsheet(r, plot_leverage=True)"
   ]
  },
  {
   "cell_type": "code",
   "execution_count": null,
   "metadata": {},
   "outputs": [],
   "source": []
  }
 ],
 "metadata": {
  "kernelspec": {
   "display_name": "qubx",
   "language": "python",
   "name": "qubx"
  },
  "language_info": {
   "codemirror_mode": {
    "name": "ipython",
    "version": 3
   },
   "file_extension": ".py",
   "mimetype": "text/x-python",
   "name": "python",
   "nbconvert_exporter": "python",
   "pygments_lexer": "ipython3",
   "version": "3.12.7"
  }
 },
 "nbformat": 4,
 "nbformat_minor": 2
}
