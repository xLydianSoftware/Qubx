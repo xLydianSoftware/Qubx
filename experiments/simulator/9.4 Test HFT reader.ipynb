{
 "cells": [
  {
   "cell_type": "code",
   "execution_count": 1,
   "metadata": {},
   "outputs": [
    {
     "name": "stdout",
     "output_type": "stream",
     "text": [
      "\n",
      "⠀⠀⡰⡖⠒⠒⢒⢦⠀⠀   \n",
      "⠀⢠⠃⠈⢆⣀⣎⣀⣱⡀  \u001b[31mQUBX\u001b[0m | \u001b[36mQuantitative Backtesting Environment\u001b[0m \n",
      "⠀⢳⠒⠒⡞⠚⡄⠀⡰⠁         (c) 2025, ver. \u001b[35m0.6.1\u001b[0m\n",
      "⠀⠀⠱⣜⣀⣀⣈⣦⠃⠀⠀⠀ \n",
      "        \n"
     ]
    },
    {
     "data": {
      "text/html": [
       "<style> .cell-output-ipywidget-background { background-color: transparent !important; } :root { --jp-widgets-color: var(--vscode-editor-foreground); --jp-widgets-font-size: var(--vscode-editor-font-size); } .widget-hprogress, .jupyter-widget-hprogress { height: 16px; align-self: center; kj} table.dataframe, .dataframe td, .dataframe tr { border: 1px solid #55554a85; border-collapse: collapse; color: #859548d9 !important; } .dataframe th { border: 1px solid #55554a85; border-collapse: collapse; background-color: #010101 !important; color: #177 !important; } </style>"
      ],
      "text/plain": [
       "<IPython.core.display.HTML object>"
      ]
     },
     "metadata": {},
     "output_type": "display_data"
    }
   ],
   "source": [
    "%load_ext autoreload\n",
    "%autoreload 2\n",
    "\n",
    "import qubx\n",
    "\n",
    "%qubxd\n",
    "import pandas as pd\n",
    "import numpy as np\n",
    "\n",
    "from qubx._nb_magic import *\n",
    "from qubx.data.helpers import loader\n",
    "from qubx.data.hft import HftDataReader\n",
    "\n",
    "from qubx.core.metrics import tearsheet\n",
    "from qubx.backtester.simulator import simulate\n",
    "from qubx.core.metrics import chart_signals\n",
    "from qubx.data.readers import AsTrades\n",
    "\n",
    "from qubx.utils.misc import add_project_to_system_path\n",
    "\n",
    "add_project_to_system_path(\"~/devs/Qubx\")\n",
    "\n",
    "from tests.strategies.obi_trader.models.obi_trader import ObiTraderStrategy\n",
    "from qubx import logger, QubxLogConfig\n",
    "\n",
    "\n",
    "QubxLogConfig.set_log_level(\"DEBUG\")"
   ]
  },
  {
   "cell_type": "markdown",
   "metadata": {},
   "source": [
    "### 1. Check HFT reader separately"
   ]
  },
  {
   "cell_type": "code",
   "execution_count": 10,
   "metadata": {},
   "outputs": [],
   "source": [
    "reader = HftDataReader()"
   ]
  },
  {
   "cell_type": "code",
   "execution_count": 11,
   "metadata": {},
   "outputs": [],
   "source": [
    "iterator = reader.read(\n",
    "    \"BINANCE.UM:BTCUSDT\",\n",
    "    start=\"2025-01-01\",\n",
    "    stop=\"2025-01-02\",\n",
    "    # start=\"2025-01-02\",\n",
    "    # stop=\"2025-01-03\",\n",
    "    data_type=\"orderbook\"\n",
    ")"
   ]
  },
  {
   "cell_type": "code",
   "execution_count": 16,
   "metadata": {},
   "outputs": [],
   "source": [
    "reader.close()"
   ]
  },
  {
   "cell_type": "code",
   "execution_count": 4,
   "metadata": {},
   "outputs": [
    {
     "data": {
      "text/plain": [
       "0"
      ]
     },
     "execution_count": 4,
     "metadata": {},
     "output_type": "execute_result"
    }
   ],
   "source": [
    "list(reader._prefetchers.values())[0].queues[\"orderbook\"].qsize()"
   ]
  },
  {
   "cell_type": "code",
   "execution_count": 12,
   "metadata": {},
   "outputs": [],
   "source": [
    "chunk = next(iterator)"
   ]
  },
  {
   "cell_type": "code",
   "execution_count": 13,
   "metadata": {},
   "outputs": [
    {
     "data": {
      "text/plain": [
       "Timestamp('2025-01-01 00:00:01.999000')"
      ]
     },
     "execution_count": 13,
     "metadata": {},
     "output_type": "execute_result"
    }
   ],
   "source": [
    "pd.Timestamp(chunk[0][0])"
   ]
  },
  {
   "cell_type": "code",
   "execution_count": null,
   "metadata": {},
   "outputs": [],
   "source": [
    "quote_iterator = reader.read(\"BINANCE.UM:BTCUSDT\", start=\"2025-01-01\", stop=\"2025-01-02\", data_type=\"quote\")"
   ]
  },
  {
   "cell_type": "code",
   "execution_count": 12,
   "metadata": {},
   "outputs": [],
   "source": [
    "quote_chunk = next(quote_iterator)"
   ]
  },
  {
   "cell_type": "code",
   "execution_count": null,
   "metadata": {},
   "outputs": [],
   "source": [
    "quote_chunk[0]"
   ]
  },
  {
   "cell_type": "code",
   "execution_count": 14,
   "metadata": {},
   "outputs": [],
   "source": [
    "trade_iterator = reader.read(\n",
    "    \"BINANCE.UM:BTCUSDT\",\n",
    "    start=\"2025-01-01\",\n",
    "    stop=\"2025-01-02\",\n",
    "    data_type=\"trade\",\n",
    "    transform=AsTrades(),\n",
    ")"
   ]
  },
  {
   "cell_type": "code",
   "execution_count": 16,
   "metadata": {},
   "outputs": [],
   "source": [
    "trade_chunk = next(trade_iterator)"
   ]
  },
  {
   "cell_type": "code",
   "execution_count": 18,
   "metadata": {},
   "outputs": [
    {
     "data": {
      "text/plain": [
       "4882"
      ]
     },
     "execution_count": 18,
     "metadata": {},
     "output_type": "execute_result"
    }
   ],
   "source": [
    "len(trade_chunk)"
   ]
  },
  {
   "cell_type": "code",
   "execution_count": 22,
   "metadata": {},
   "outputs": [
    {
     "data": {
      "text/plain": [
       "[TradeArray(size=2, volume=0.1, buys=0.1, sells=0.0),\n",
       " TradeArray(size=314, volume=20.1, buys=2.1, sells=18.0),\n",
       " TradeArray(size=43, volume=1.0, buys=0.3, sells=0.7),\n",
       " TradeArray(size=36, volume=1.9, buys=0.1, sells=1.8),\n",
       " TradeArray(size=15, volume=1.8, buys=0.0, sells=1.7),\n",
       " TradeArray(size=11, volume=0.8, buys=0.1, sells=0.7),\n",
       " TradeArray(size=5, volume=0.1, buys=0.0, sells=0.0),\n",
       " TradeArray(size=17, volume=0.5, buys=0.1, sells=0.3),\n",
       " TradeArray(size=10, volume=0.1, buys=0.0, sells=0.1),\n",
       " TradeArray(size=8, volume=0.1, buys=0.0, sells=0.1)]"
      ]
     },
     "execution_count": 22,
     "metadata": {},
     "output_type": "execute_result"
    }
   ],
   "source": [
    "trade_chunk[:10]"
   ]
  },
  {
   "cell_type": "markdown",
   "metadata": {},
   "source": [
    "### 2. Run simulation"
   ]
  },
  {
   "cell_type": "code",
   "execution_count": 21,
   "metadata": {},
   "outputs": [
    {
     "data": {
      "application/vnd.jupyter.widget-view+json": {
       "model_id": "954e17f24e8745858a0def0829a73755",
       "version_major": 2,
       "version_minor": 0
      },
      "text/plain": [
       "Simulating:   0%|          | 0/100 [00:00<?, ?%/s]"
      ]
     },
     "metadata": {},
     "output_type": "display_data"
    },
    {
     "data": {
      "text/html": [
       "<div>\n",
       "<style scoped>\n",
       "    .dataframe tbody tr th:only-of-type {\n",
       "        vertical-align: middle;\n",
       "    }\n",
       "\n",
       "    .dataframe tbody tr th {\n",
       "        vertical-align: top;\n",
       "    }\n",
       "\n",
       "    .dataframe thead th {\n",
       "        text-align: right;\n",
       "    }\n",
       "</style>\n",
       "<table border=\"1\" class=\"dataframe\">\n",
       "  <thead>\n",
       "    <tr style=\"text-align: right;\">\n",
       "      <th></th>\n",
       "      <th>Gain</th>\n",
       "      <th>Cagr</th>\n",
       "      <th>Sharpe</th>\n",
       "      <th>Qr</th>\n",
       "      <th>Max dd pct</th>\n",
       "      <th>Mdd usd</th>\n",
       "      <th>Sortino</th>\n",
       "      <th>Calmar</th>\n",
       "      <th>Tail ratio</th>\n",
       "      <th>Stability</th>\n",
       "      <th>Var</th>\n",
       "      <th>Avg return</th>\n",
       "      <th>Fees</th>\n",
       "      <th>Execs</th>\n",
       "    </tr>\n",
       "  </thead>\n",
       "  <tbody>\n",
       "    <tr>\n",
       "      <th>Test</th>\n",
       "      <td>29.044</td>\n",
       "      <td>34550.497</td>\n",
       "      <td>0.0</td>\n",
       "      <td>1.415</td>\n",
       "      <td>1.201</td>\n",
       "      <td>12.04</td>\n",
       "      <td>0.0</td>\n",
       "      <td>0.0</td>\n",
       "      <td>1.0</td>\n",
       "      <td>0.0</td>\n",
       "      <td>0.0</td>\n",
       "      <td>2.904</td>\n",
       "      <td>0.0</td>\n",
       "      <td>151.0</td>\n",
       "    </tr>\n",
       "  </tbody>\n",
       "</table>\n",
       "</div>"
      ],
      "text/plain": [
       "        Gain       Cagr  Sharpe     Qr  Max dd pct  Mdd usd  Sortino  Calmar  \\\n",
       "Test  29.044  34550.497     0.0  1.415       1.201    12.04      0.0     0.0   \n",
       "\n",
       "      Tail ratio  Stability  Var  Avg return  Fees  Execs  \n",
       "Test         1.0        0.0  0.0       2.904   0.0  151.0  "
      ]
     },
     "execution_count": 21,
     "metadata": {},
     "output_type": "execute_result"
    },
    {
     "data": {
      "image/png": "[encoded data removed]",
      "text/plain": [
       "<Figure size 960x400 with 3 Axes>"
      ]
     },
     "metadata": {},
     "output_type": "display_data"
    }
   ],
   "source": [
    "r = simulate(\n",
    "    strategies={\"Test\": (stg1 := ObiTraderStrategy(tick_size_pct=0.1, depth=25, threshold=0.5))},\n",
    "    data=HftDataReader(\n",
    "        enable_quote=True,\n",
    "        enable_trade=True,\n",
    "        enable_orderbook=True,\n",
    "    ),\n",
    "    capital=1000,\n",
    "    instruments=[\"BINANCE.UM:BTCUSDT\"],\n",
    "    commissions=None,\n",
    "    start=\"2025-01-01\", stop=\"2025-01-02\",\n",
    "    portfolio_log_freq=\"1min\",\n",
    "    debug=\"WARNING\",\n",
    ")\n",
    "tearsheet(r, plot_leverage=True)"
   ]
  },
  {
   "cell_type": "markdown",
   "metadata": {},
   "source": [
    "### 3. Tests"
   ]
  },
  {
   "cell_type": "code",
   "execution_count": 19,
   "metadata": {},
   "outputs": [],
   "source": [
    "from qubx.core.basics import DataType, MarketEvent, Signal, TriggerEvent\n",
    "from qubx.core.interfaces import IStrategy, IStrategyContext\n",
    "\n",
    "\n",
    "class HftTest(IStrategy):\n",
    "    timeframe: str = \"1s\"\n",
    "    tick_size_pct: float = 0.01\n",
    "    depth: int = 1000\n",
    "    _n_secs = 0 \n",
    "\n",
    "    def on_init(self, ctx: IStrategyContext) -> None:\n",
    "        # ctx.set_base_subscription(DataType.ORDERBOOK[self.tick_size_pct, self.depth])\n",
    "        ctx.subscribe(DataType.QUOTE)\n",
    "        ctx.set_event_schedule(\"1s\")\n",
    "        self._n_secs = 0\n",
    "\n",
    "    def on_start(self, ctx: IStrategyContext) -> None:\n",
    "        self._instrument = ctx.instruments[0]\n",
    "\n",
    "    def on_market_data(self, ctx: IStrategyContext, data: MarketEvent):\n",
    "        print(ctx.time(), data.type)\n",
    "        pass\n",
    "\n",
    "    def on_event(self, ctx: IStrategyContext, event: TriggerEvent) -> list[Signal]:\n",
    "        signals = []\n",
    "\n",
    "        # Get current price from orderbook\n",
    "        q = ctx.quote(self._instrument)\n",
    "        assert q is not None\n",
    "        current_price = q.mid_price()\n",
    "\n",
    "        self._n_secs += 1\n",
    "        if self._n_secs > 10:\n",
    "            raise Exception(\"Stopping\")\n",
    "\n",
    "        return signals"
   ]
  },
  {
   "cell_type": "code",
   "execution_count": 20,
   "metadata": {},
   "outputs": [
    {
     "data": {
      "application/vnd.jupyter.widget-view+json": {
       "model_id": "9eb71ecc1b0544b7a6c4999e1cb33a5f",
       "version_major": 2,
       "version_minor": 0
      },
      "text/plain": [
       "Simulating:   0%|          | 0/100 [00:00<?, ?%/s]"
      ]
     },
     "metadata": {},
     "output_type": "display_data"
    },
    {
     "name": "stdout",
     "output_type": "stream",
     "text": [
      "2025-02-18T00:00:01.999000000 orderbook\n",
      "2025-02-18T00:00:02.999000000 orderbook\n",
      "2025-02-18T00:00:02.999000000 quote\n",
      "2025-02-18T00:00:03.999000000 orderbook\n",
      "2025-02-18T00:00:03.999000000 quote\n",
      "2025-02-18T00:00:04.948880000 trade\n",
      "2025-02-18T00:00:04.999000000 orderbook\n",
      "2025-02-18T00:00:04.999000000 quote\n",
      "2025-02-18T00:00:05.976330000 trade\n",
      "2025-02-18T00:00:05.999000000 orderbook\n",
      "2025-02-18T00:00:05.999000000 quote\n",
      "2025-02-18T00:00:06.475506000 trade\n",
      "2025-02-18T00:00:06.999000000 orderbook\n",
      "2025-02-18T00:00:06.999000000 quote\n",
      "2025-02-18T00:00:07.899261000 trade\n",
      "2025-02-18T00:00:07.999000000 orderbook\n",
      "2025-02-18T00:00:07.999000000 quote\n",
      "2025-02-18T00:00:08.955938000 trade\n",
      "2025-02-18T00:00:08.999000000 orderbook\n",
      "2025-02-18T00:00:08.999000000 quote\n",
      "2025-02-18T00:00:09.918584000 trade\n",
      "2025-02-18T00:00:09.999000000 orderbook\n",
      "2025-02-18T00:00:09.999000000 quote\n",
      "2025-02-18T00:00:10.920719000 trade\n",
      "2025-02-18T00:00:10.999000000 orderbook\n",
      "2025-02-18T00:00:10.999000000 quote\n",
      "2025-02-18T00:00:11.819065000 trade\n",
      "2025-02-18T00:00:11.999000000 orderbook\n",
      "2025-02-18T00:00:11.999000000 quote\n",
      "\u001b[96m2025-02-18 00:00:12.000\u001b[0m [\u001b[31m\u001b[1m❌\u001b[0m] \u001b[31m\u001b[1mStrategy HftTest raised an exception: Stopping\u001b[0m\n",
      "2025-02-18T00:00:12.863273000 trade\n",
      "2025-02-18T00:00:12.999000000 orderbook\n",
      "2025-02-18T00:00:12.999000000 quote\n",
      "2025-02-18T00:00:13.941077000 trade\n",
      "2025-02-18T00:00:13.999000000 orderbook\n",
      "2025-02-18T00:00:13.999000000 quote\n",
      "2025-02-18T00:00:14.935988000 trade\n",
      "2025-02-18T00:00:14.999000000 orderbook\n",
      "2025-02-18T00:00:14.999000000 quote\n",
      "2025-02-18T00:00:15.771227000 trade\n",
      "2025-02-18T00:00:15.999000000 orderbook\n",
      "2025-02-18T00:00:15.999000000 quote\n",
      "2025-02-18T00:00:16.966720000 trade\n",
      "2025-02-18T00:00:16.999000000 orderbook\n",
      "2025-02-18T00:00:16.999000000 quote\n",
      "2025-02-18T00:00:17.966254000 trade\n",
      "2025-02-18T00:00:17.999000000 orderbook\n",
      "2025-02-18T00:00:17.999000000 quote\n",
      "2025-02-18T00:00:18.869855000 trade\n",
      "2025-02-18T00:00:18.999000000 orderbook\n",
      "2025-02-18T00:00:18.999000000 quote\n",
      "\u001b[96m2025-02-18 00:00:12.000\u001b[0m [\u001b[31m\u001b[1m❌\u001b[0m] \u001b[31m\u001b[1mTraceback (most recent call last):\n",
      "  File \"/home/quant0/devs/Qubx/src/qubx/core/mixins/processing.py\", line 173, in process_data\n",
      "    _signals = self._wrap_signal_list(self._strategy.on_event(self._context, _trigger_event))\n",
      "                                      ^^^^^^^^^^^^^^^^^^^^^^^^^^^^^^^^^^^^^^^^^^^^^^^^^^^^^^\n",
      "  File \"/tmp/ipykernel_1822860/1315633612.py\", line 34, in on_event\n",
      "    raise Exception(\"Stopping\")\n",
      "Exception: Stopping\n",
      "\u001b[0m\n",
      "2025-02-18T00:00:19.714130000 trade\n",
      "2025-02-18T00:00:19.999000000 orderbook\n",
      "2025-02-18T00:00:19.999000000 quote\n",
      "2025-02-18T00:00:20.893143000 trade\n",
      "2025-02-18T00:00:20.999000000 orderbook\n",
      "2025-02-18T00:00:20.999000000 quote\n",
      "\u001b[96m2025-02-18 00:00:13.000\u001b[0m [\u001b[31m\u001b[1m❌\u001b[0m] \u001b[31m\u001b[1mStrategy HftTest raised an exception: Stopping\u001b[0m\n",
      "\u001b[96m2025-02-18 00:00:13.000\u001b[0m [\u001b[31m\u001b[1m❌\u001b[0m] \u001b[31m\u001b[1mTraceback (most recent call last):\n",
      "  File \"/home/quant0/devs/Qubx/src/qubx/core/mixins/processing.py\", line 173, in process_data\n",
      "    _signals = self._wrap_signal_list(self._strategy.on_event(self._context, _trigger_event))\n",
      "                                      ^^^^^^^^^^^^^^^^^^^^^^^^^^^^^^^^^^^^^^^^^^^^^^^^^^^^^^\n",
      "  File \"/tmp/ipykernel_1822860/1315633612.py\", line 34, in on_event\n",
      "    raise Exception(\"Stopping\")\n",
      "Exception: Stopping\n",
      "\u001b[0m\n",
      "\u001b[96m2025-02-18 00:00:14.000\u001b[0m [\u001b[31m\u001b[1m❌\u001b[0m] \u001b[31m\u001b[1mStrategy HftTest raised an exception: Stopping\u001b[0m\n",
      "\u001b[96m2025-02-18 00:00:14.000\u001b[0m [\u001b[31m\u001b[1m❌\u001b[0m] \u001b[31m\u001b[1mTraceback (most recent call last):\n",
      "  File \"/home/quant0/devs/Qubx/src/qubx/core/mixins/processing.py\", line 173, in process_data\n",
      "    _signals = self._wrap_signal_list(self._strategy.on_event(self._context, _trigger_event))\n",
      "                                      ^^^^^^^^^^^^^^^^^^^^^^^^^^^^^^^^^^^^^^^^^^^^^^^^^^^^^^\n",
      "  File \"/tmp/ipykernel_1822860/1315633612.py\", line 34, in on_event\n",
      "    raise Exception(\"Stopping\")\n",
      "Exception: Stopping\n",
      "\u001b[0m\n",
      "\u001b[96m2025-02-18 00:00:15.000\u001b[0m [\u001b[31m\u001b[1m❌\u001b[0m] \u001b[31m\u001b[1mStrategy HftTest raised an exception: Stopping\u001b[0m\n",
      "\u001b[96m2025-02-18 00:00:15.000\u001b[0m [\u001b[31m\u001b[1m❌\u001b[0m] \u001b[31m\u001b[1mTraceback (most recent call last):\n",
      "  File \"/home/quant0/devs/Qubx/src/qubx/core/mixins/processing.py\", line 173, in process_data\n",
      "    _signals = self._wrap_signal_list(self._strategy.on_event(self._context, _trigger_event))\n",
      "                                      ^^^^^^^^^^^^^^^^^^^^^^^^^^^^^^^^^^^^^^^^^^^^^^^^^^^^^^\n",
      "  File \"/tmp/ipykernel_1822860/1315633612.py\", line 34, in on_event\n",
      "    raise Exception(\"Stopping\")\n",
      "Exception: Stopping\n",
      "\u001b[0m\n",
      "\u001b[96m2025-02-18 00:00:16.000\u001b[0m [\u001b[31m\u001b[1m❌\u001b[0m] \u001b[31m\u001b[1mStrategy HftTest raised an exception: Stopping\u001b[0m\n",
      "\u001b[96m2025-02-18 00:00:16.000\u001b[0m [\u001b[31m\u001b[1m❌\u001b[0m] \u001b[31m\u001b[1mTraceback (most recent call last):\n",
      "  File \"/home/quant0/devs/Qubx/src/qubx/core/mixins/processing.py\", line 173, in process_data\n",
      "    _signals = self._wrap_signal_list(self._strategy.on_event(self._context, _trigger_event))\n",
      "                                      ^^^^^^^^^^^^^^^^^^^^^^^^^^^^^^^^^^^^^^^^^^^^^^^^^^^^^^\n",
      "  File \"/tmp/ipykernel_1822860/1315633612.py\", line 34, in on_event\n",
      "    raise Exception(\"Stopping\")\n",
      "Exception: Stopping\n",
      "\u001b[0m\n",
      "\u001b[96m2025-02-18 00:00:17.000\u001b[0m [\u001b[31m\u001b[1m❌\u001b[0m] \u001b[31m\u001b[1mStrategy HftTest raised an exception: Stopping\u001b[0m\n",
      "\u001b[96m2025-02-18 00:00:17.000\u001b[0m [\u001b[31m\u001b[1m❌\u001b[0m] \u001b[31m\u001b[1mTraceback (most recent call last):\n",
      "  File \"/home/quant0/devs/Qubx/src/qubx/core/mixins/processing.py\", line 173, in process_data\n",
      "    _signals = self._wrap_signal_list(self._strategy.on_event(self._context, _trigger_event))\n",
      "                                      ^^^^^^^^^^^^^^^^^^^^^^^^^^^^^^^^^^^^^^^^^^^^^^^^^^^^^^\n",
      "  File \"/tmp/ipykernel_1822860/1315633612.py\", line 34, in on_event\n",
      "    raise Exception(\"Stopping\")\n",
      "Exception: Stopping\n",
      "\u001b[0m\n",
      "\u001b[96m2025-02-18 00:00:18.000\u001b[0m [\u001b[31m\u001b[1m❌\u001b[0m] \u001b[31m\u001b[1mStrategy HftTest raised an exception: Stopping\u001b[0m\n",
      "\u001b[96m2025-02-18 00:00:18.000\u001b[0m [\u001b[31m\u001b[1m❌\u001b[0m] \u001b[31m\u001b[1mTraceback (most recent call last):\n",
      "  File \"/home/quant0/devs/Qubx/src/qubx/core/mixins/processing.py\", line 173, in process_data\n",
      "    _signals = self._wrap_signal_list(self._strategy.on_event(self._context, _trigger_event))\n",
      "                                      ^^^^^^^^^^^^^^^^^^^^^^^^^^^^^^^^^^^^^^^^^^^^^^^^^^^^^^\n",
      "  File \"/tmp/ipykernel_1822860/1315633612.py\", line 34, in on_event\n",
      "    raise Exception(\"Stopping\")\n",
      "Exception: Stopping\n",
      "\u001b[0m\n",
      "\u001b[96m2025-02-18 00:00:19.000\u001b[0m [\u001b[31m\u001b[1m❌\u001b[0m] \u001b[31m\u001b[1mStrategy HftTest raised an exception: Stopping\u001b[0m\n",
      "\u001b[96m2025-02-18 00:00:19.000\u001b[0m [\u001b[31m\u001b[1m❌\u001b[0m] \u001b[31m\u001b[1mTraceback (most recent call last):\n",
      "  File \"/home/quant0/devs/Qubx/src/qubx/core/mixins/processing.py\", line 173, in process_data\n",
      "    _signals = self._wrap_signal_list(self._strategy.on_event(self._context, _trigger_event))\n",
      "                                      ^^^^^^^^^^^^^^^^^^^^^^^^^^^^^^^^^^^^^^^^^^^^^^^^^^^^^^\n",
      "  File \"/tmp/ipykernel_1822860/1315633612.py\", line 34, in on_event\n",
      "    raise Exception(\"Stopping\")\n",
      "Exception: Stopping\n",
      "\u001b[0m\n",
      "\u001b[96m2025-02-18 00:00:20.000\u001b[0m [\u001b[31m\u001b[1m❌\u001b[0m] \u001b[31m\u001b[1mStrategy HftTest raised an exception: Stopping\u001b[0m\n",
      "\u001b[96m2025-02-18 00:00:20.000\u001b[0m [\u001b[31m\u001b[1m❌\u001b[0m] \u001b[31m\u001b[1mTraceback (most recent call last):\n",
      "  File \"/home/quant0/devs/Qubx/src/qubx/core/mixins/processing.py\", line 173, in process_data\n",
      "    _signals = self._wrap_signal_list(self._strategy.on_event(self._context, _trigger_event))\n",
      "                                      ^^^^^^^^^^^^^^^^^^^^^^^^^^^^^^^^^^^^^^^^^^^^^^^^^^^^^^\n",
      "  File \"/tmp/ipykernel_1822860/1315633612.py\", line 34, in on_event\n",
      "    raise Exception(\"Stopping\")\n",
      "Exception: Stopping\n",
      "\u001b[0m\n",
      "\u001b[96m2025-02-18 00:00:21.000\u001b[0m [\u001b[31m\u001b[1m❌\u001b[0m] \u001b[31m\u001b[1mStrategy HftTest raised an exception: Stopping\u001b[0m\n",
      "\u001b[96m2025-02-18 00:00:21.000\u001b[0m [\u001b[31m\u001b[1m❌\u001b[0m] \u001b[31m\u001b[1mTraceback (most recent call last):\n",
      "  File \"/home/quant0/devs/Qubx/src/qubx/core/mixins/processing.py\", line 173, in process_data\n",
      "    _signals = self._wrap_signal_list(self._strategy.on_event(self._context, _trigger_event))\n",
      "                                      ^^^^^^^^^^^^^^^^^^^^^^^^^^^^^^^^^^^^^^^^^^^^^^^^^^^^^^\n",
      "  File \"/tmp/ipykernel_1822860/1315633612.py\", line 34, in on_event\n",
      "    raise Exception(\"Stopping\")\n",
      "Exception: Stopping\n",
      "\u001b[0m\n"
     ]
    },
    {
     "ename": "StrategyExceededMaxNumberOfRuntimeFailuresError",
     "evalue": "",
     "output_type": "error",
     "traceback": [
      "\u001b[0;31m---------------------------------------------------------------------------\u001b[0m",
      "\u001b[0;31mException\u001b[0m                                 Traceback (most recent call last)",
      "File \u001b[0;32m~/devs/Qubx/src/qubx/core/mixins/processing.py:173\u001b[0m, in \u001b[0;36mProcessingManager.process_data\u001b[0;34m(self, instrument, d_type, data, is_historical)\u001b[0m\n\u001b[1;32m    172\u001b[0m _trigger_event \u001b[38;5;241m=\u001b[39m event\u001b[38;5;241m.\u001b[39mto_trigger() \u001b[38;5;28;01mif\u001b[39;00m \u001b[38;5;28misinstance\u001b[39m(event, MarketEvent) \u001b[38;5;28;01melse\u001b[39;00m event\n\u001b[0;32m--> 173\u001b[0m _signals \u001b[38;5;241m=\u001b[39m \u001b[38;5;28mself\u001b[39m\u001b[38;5;241m.\u001b[39m_wrap_signal_list(\u001b[38;5;28;43mself\u001b[39;49m\u001b[38;5;241;43m.\u001b[39;49m\u001b[43m_strategy\u001b[49m\u001b[38;5;241;43m.\u001b[39;49m\u001b[43mon_event\u001b[49m\u001b[43m(\u001b[49m\u001b[38;5;28;43mself\u001b[39;49m\u001b[38;5;241;43m.\u001b[39;49m\u001b[43m_context\u001b[49m\u001b[43m,\u001b[49m\u001b[43m \u001b[49m\u001b[43m_trigger_event\u001b[49m\u001b[43m)\u001b[49m)\n\u001b[1;32m    174\u001b[0m signals\u001b[38;5;241m.\u001b[39mextend(_signals)\n",
      "Cell \u001b[0;32mIn[19], line 34\u001b[0m, in \u001b[0;36mHftTest.on_event\u001b[0;34m(self, ctx, event)\u001b[0m\n\u001b[1;32m     33\u001b[0m \u001b[38;5;28;01mif\u001b[39;00m \u001b[38;5;28mself\u001b[39m\u001b[38;5;241m.\u001b[39m_n_secs \u001b[38;5;241m>\u001b[39m \u001b[38;5;241m10\u001b[39m:\n\u001b[0;32m---> 34\u001b[0m     \u001b[38;5;28;01mraise\u001b[39;00m \u001b[38;5;167;01mException\u001b[39;00m(\u001b[38;5;124m\"\u001b[39m\u001b[38;5;124mStopping\u001b[39m\u001b[38;5;124m\"\u001b[39m)\n\u001b[1;32m     36\u001b[0m \u001b[38;5;28;01mreturn\u001b[39;00m signals\n",
      "\u001b[0;31mException\u001b[0m: Stopping",
      "\nDuring handling of the above exception, another exception occurred:\n",
      "\u001b[0;31mStrategyExceededMaxNumberOfRuntimeFailuresError\u001b[0mTraceback (most recent call last)",
      "Cell \u001b[0;32mIn[20], line 1\u001b[0m\n\u001b[0;32m----> 1\u001b[0m r \u001b[38;5;241m=\u001b[39m \u001b[43msimulate\u001b[49m\u001b[43m(\u001b[49m\n\u001b[1;32m      2\u001b[0m \u001b[43m    \u001b[49m\u001b[38;5;66;43;03m# strategies={\"Test\": (stg1 := ObiTraderStrategy(tick_size_pct=0.1, depth=25, threshold=0.5))},\u001b[39;49;00m\n\u001b[1;32m      3\u001b[0m \u001b[43m    \u001b[49m\u001b[43mstrategies\u001b[49m\u001b[38;5;241;43m=\u001b[39;49m\u001b[43m{\u001b[49m\u001b[38;5;124;43m\"\u001b[39;49m\u001b[38;5;124;43mTest\u001b[39;49m\u001b[38;5;124;43m\"\u001b[39;49m\u001b[43m:\u001b[49m\u001b[43m \u001b[49m\u001b[43m(\u001b[49m\u001b[43mstg1\u001b[49m\u001b[43m \u001b[49m\u001b[38;5;241;43m:=\u001b[39;49m\u001b[43m \u001b[49m\u001b[43mHftTest\u001b[49m\u001b[43m(\u001b[49m\u001b[43mtick_size_pct\u001b[49m\u001b[38;5;241;43m=\u001b[39;49m\u001b[38;5;241;43m0.1\u001b[39;49m\u001b[43m,\u001b[49m\u001b[43m \u001b[49m\u001b[43mdepth\u001b[49m\u001b[38;5;241;43m=\u001b[39;49m\u001b[38;5;241;43m25\u001b[39;49m\u001b[43m)\u001b[49m\u001b[43m)\u001b[49m\u001b[43m}\u001b[49m\u001b[43m,\u001b[49m\n\u001b[1;32m      4\u001b[0m \u001b[43m    \u001b[49m\u001b[43mdata\u001b[49m\u001b[38;5;241;43m=\u001b[39;49m\u001b[43mHftDataReader\u001b[49m\u001b[43m(\u001b[49m\n\u001b[1;32m      5\u001b[0m \u001b[43m        \u001b[49m\u001b[43menable_quote\u001b[49m\u001b[38;5;241;43m=\u001b[39;49m\u001b[38;5;28;43;01mTrue\u001b[39;49;00m\u001b[43m,\u001b[49m\n\u001b[1;32m      6\u001b[0m \u001b[43m        \u001b[49m\u001b[43menable_trade\u001b[49m\u001b[38;5;241;43m=\u001b[39;49m\u001b[38;5;28;43;01mTrue\u001b[39;49;00m\u001b[43m,\u001b[49m\n\u001b[1;32m      7\u001b[0m \u001b[43m        \u001b[49m\u001b[43menable_orderbook\u001b[49m\u001b[38;5;241;43m=\u001b[39;49m\u001b[38;5;28;43;01mTrue\u001b[39;49;00m\u001b[43m,\u001b[49m\n\u001b[1;32m      8\u001b[0m \u001b[43m        \u001b[49m\u001b[43mdebug\u001b[49m\u001b[38;5;241;43m=\u001b[39;49m\u001b[38;5;28;43;01mTrue\u001b[39;49;00m\u001b[43m,\u001b[49m\n\u001b[1;32m      9\u001b[0m \u001b[43m    \u001b[49m\u001b[43m)\u001b[49m\u001b[43m,\u001b[49m\n\u001b[1;32m     10\u001b[0m \u001b[43m    \u001b[49m\u001b[43mcapital\u001b[49m\u001b[38;5;241;43m=\u001b[39;49m\u001b[38;5;241;43m1000\u001b[39;49m\u001b[43m,\u001b[49m\n\u001b[1;32m     11\u001b[0m \u001b[43m    \u001b[49m\u001b[43minstruments\u001b[49m\u001b[38;5;241;43m=\u001b[39;49m\u001b[43m[\u001b[49m\u001b[38;5;124;43m\"\u001b[39;49m\u001b[38;5;124;43mBINANCE.UM:ADAUSDT\u001b[39;49m\u001b[38;5;124;43m\"\u001b[39;49m\u001b[43m]\u001b[49m\u001b[43m,\u001b[49m\n\u001b[1;32m     12\u001b[0m \u001b[43m    \u001b[49m\u001b[43mcommissions\u001b[49m\u001b[38;5;241;43m=\u001b[39;49m\u001b[38;5;28;43;01mNone\u001b[39;49;00m\u001b[43m,\u001b[49m\n\u001b[1;32m     13\u001b[0m \u001b[43m    \u001b[49m\u001b[43mstart\u001b[49m\u001b[38;5;241;43m=\u001b[39;49m\u001b[38;5;124;43m\"\u001b[39;49m\u001b[38;5;124;43m2025-02-18\u001b[39;49m\u001b[38;5;124;43m\"\u001b[39;49m\u001b[43m,\u001b[49m\u001b[43m \u001b[49m\u001b[43mstop\u001b[49m\u001b[38;5;241;43m=\u001b[39;49m\u001b[38;5;124;43m\"\u001b[39;49m\u001b[38;5;124;43m2025-02-19\u001b[39;49m\u001b[38;5;124;43m\"\u001b[39;49m\u001b[43m,\u001b[49m\n\u001b[1;32m     14\u001b[0m \u001b[43m    \u001b[49m\u001b[43mportfolio_log_freq\u001b[49m\u001b[38;5;241;43m=\u001b[39;49m\u001b[38;5;124;43m\"\u001b[39;49m\u001b[38;5;124;43m1min\u001b[39;49m\u001b[38;5;124;43m\"\u001b[39;49m\u001b[43m,\u001b[49m\n\u001b[1;32m     15\u001b[0m \u001b[43m    \u001b[49m\u001b[43mdebug\u001b[49m\u001b[38;5;241;43m=\u001b[39;49m\u001b[38;5;124;43m\"\u001b[39;49m\u001b[38;5;124;43mWARNING\u001b[39;49m\u001b[38;5;124;43m\"\u001b[39;49m\u001b[43m,\u001b[49m\n\u001b[1;32m     16\u001b[0m \u001b[43m)\u001b[49m\n\u001b[1;32m     17\u001b[0m tearsheet(r, plot_leverage\u001b[38;5;241m=\u001b[39m\u001b[38;5;28;01mTrue\u001b[39;00m)\n",
      "File \u001b[0;32m~/devs/Qubx/src/qubx/backtester/simulator.py:147\u001b[0m, in \u001b[0;36msimulate\u001b[0;34m(strategies, data, capital, instruments, commissions, start, stop, exchange, base_currency, n_jobs, silent, aux_data, accurate_stop_orders_execution, signal_timeframe, open_close_time_indent_secs, debug, show_latency_report, portfolio_log_freq, parallel_backend)\u001b[0m\n\u001b[1;32m    144\u001b[0m \u001b[38;5;28;01massert\u001b[39;00m \u001b[38;5;28misinstance\u001b[39m(_start, pd\u001b[38;5;241m.\u001b[39mTimestamp) \u001b[38;5;129;01mand\u001b[39;00m \u001b[38;5;28misinstance\u001b[39m(_stop, pd\u001b[38;5;241m.\u001b[39mTimestamp), \u001b[38;5;124m\"\u001b[39m\u001b[38;5;124mInvalid start and stop times\u001b[39m\u001b[38;5;124m\"\u001b[39m\n\u001b[1;32m    146\u001b[0m \u001b[38;5;66;03m# - run simulations\u001b[39;00m\n\u001b[0;32m--> 147\u001b[0m \u001b[38;5;28;01mreturn\u001b[39;00m \u001b[43m_run_setups\u001b[49m\u001b[43m(\u001b[49m\n\u001b[1;32m    148\u001b[0m \u001b[43m    \u001b[49m\u001b[43msimulation_setups\u001b[49m\u001b[43m,\u001b[49m\n\u001b[1;32m    149\u001b[0m \u001b[43m    \u001b[49m\u001b[43mdata_setup\u001b[49m\u001b[43m,\u001b[49m\n\u001b[1;32m    150\u001b[0m \u001b[43m    \u001b[49m\u001b[43m_start\u001b[49m\u001b[43m,\u001b[49m\n\u001b[1;32m    151\u001b[0m \u001b[43m    \u001b[49m\u001b[43m_stop\u001b[49m\u001b[43m,\u001b[49m\n\u001b[1;32m    152\u001b[0m \u001b[43m    \u001b[49m\u001b[43mn_jobs\u001b[49m\u001b[38;5;241;43m=\u001b[39;49m\u001b[43mn_jobs\u001b[49m\u001b[43m,\u001b[49m\n\u001b[1;32m    153\u001b[0m \u001b[43m    \u001b[49m\u001b[43msilent\u001b[49m\u001b[38;5;241;43m=\u001b[39;49m\u001b[43msilent\u001b[49m\u001b[43m,\u001b[49m\n\u001b[1;32m    154\u001b[0m \u001b[43m    \u001b[49m\u001b[43mshow_latency_report\u001b[49m\u001b[38;5;241;43m=\u001b[39;49m\u001b[43mshow_latency_report\u001b[49m\u001b[43m,\u001b[49m\n\u001b[1;32m    155\u001b[0m \u001b[43m    \u001b[49m\u001b[43mportfolio_log_freq\u001b[49m\u001b[38;5;241;43m=\u001b[39;49m\u001b[43mportfolio_log_freq\u001b[49m\u001b[43m,\u001b[49m\n\u001b[1;32m    156\u001b[0m \u001b[43m    \u001b[49m\u001b[43mparallel_backend\u001b[49m\u001b[38;5;241;43m=\u001b[39;49m\u001b[43mparallel_backend\u001b[49m\u001b[43m,\u001b[49m\n\u001b[1;32m    157\u001b[0m \u001b[43m\u001b[49m\u001b[43m)\u001b[49m\n",
      "File \u001b[0;32m~/devs/Qubx/src/qubx/backtester/simulator.py:179\u001b[0m, in \u001b[0;36m_run_setups\u001b[0;34m(strategies_setups, data_setup, start, stop, n_jobs, silent, show_latency_report, portfolio_log_freq, parallel_backend)\u001b[0m\n\u001b[1;32m    176\u001b[0m _main_loop_silent \u001b[38;5;241m=\u001b[39m \u001b[38;5;28mlen\u001b[39m(strategies_setups) \u001b[38;5;241m==\u001b[39m \u001b[38;5;241m1\u001b[39m\n\u001b[1;32m    177\u001b[0m n_jobs \u001b[38;5;241m=\u001b[39m \u001b[38;5;241m1\u001b[39m \u001b[38;5;28;01mif\u001b[39;00m _main_loop_silent \u001b[38;5;28;01melse\u001b[39;00m n_jobs\n\u001b[0;32m--> 179\u001b[0m reports \u001b[38;5;241m=\u001b[39m \u001b[43mProgressParallel\u001b[49m\u001b[43m(\u001b[49m\n\u001b[1;32m    180\u001b[0m \u001b[43m    \u001b[49m\u001b[43mn_jobs\u001b[49m\u001b[38;5;241;43m=\u001b[39;49m\u001b[43mn_jobs\u001b[49m\u001b[43m,\u001b[49m\u001b[43m \u001b[49m\u001b[43mtotal\u001b[49m\u001b[38;5;241;43m=\u001b[39;49m\u001b[38;5;28;43mlen\u001b[39;49m\u001b[43m(\u001b[49m\u001b[43mstrategies_setups\u001b[49m\u001b[43m)\u001b[49m\u001b[43m,\u001b[49m\u001b[43m \u001b[49m\u001b[43msilent\u001b[49m\u001b[38;5;241;43m=\u001b[39;49m\u001b[43m_main_loop_silent\u001b[49m\u001b[43m,\u001b[49m\u001b[43m \u001b[49m\u001b[43mbackend\u001b[49m\u001b[38;5;241;43m=\u001b[39;49m\u001b[43mparallel_backend\u001b[49m\n\u001b[1;32m    181\u001b[0m \u001b[43m\u001b[49m\u001b[43m)\u001b[49m\u001b[43m(\u001b[49m\n\u001b[1;32m    182\u001b[0m \u001b[43m    \u001b[49m\u001b[43mdelayed\u001b[49m\u001b[43m(\u001b[49m\u001b[43m_run_setup\u001b[49m\u001b[43m)\u001b[49m\u001b[43m(\u001b[49m\n\u001b[1;32m    183\u001b[0m \u001b[43m        \u001b[49m\u001b[38;5;28;43mid\u001b[39;49m\u001b[43m,\u001b[49m\u001b[43m \u001b[49m\u001b[38;5;124;43mf\u001b[39;49m\u001b[38;5;124;43m\"\u001b[39;49m\u001b[38;5;124;43mSimulated-\u001b[39;49m\u001b[38;5;132;43;01m{\u001b[39;49;00m\u001b[38;5;28;43mid\u001b[39;49m\u001b[38;5;132;43;01m}\u001b[39;49;00m\u001b[38;5;124;43m\"\u001b[39;49m\u001b[43m,\u001b[49m\u001b[43m \u001b[49m\u001b[43msetup\u001b[49m\u001b[43m,\u001b[49m\u001b[43m \u001b[49m\u001b[43mdata_setup\u001b[49m\u001b[43m,\u001b[49m\u001b[43m \u001b[49m\u001b[43mstart\u001b[49m\u001b[43m,\u001b[49m\u001b[43m \u001b[49m\u001b[43mstop\u001b[49m\u001b[43m,\u001b[49m\u001b[43m \u001b[49m\u001b[43msilent\u001b[49m\u001b[43m,\u001b[49m\u001b[43m \u001b[49m\u001b[43mshow_latency_report\u001b[49m\u001b[43m,\u001b[49m\u001b[43m \u001b[49m\u001b[43mportfolio_log_freq\u001b[49m\n\u001b[1;32m    184\u001b[0m \u001b[43m    \u001b[49m\u001b[43m)\u001b[49m\n\u001b[1;32m    185\u001b[0m \u001b[43m    \u001b[49m\u001b[38;5;28;43;01mfor\u001b[39;49;00m\u001b[43m \u001b[49m\u001b[38;5;28;43mid\u001b[39;49m\u001b[43m,\u001b[49m\u001b[43m \u001b[49m\u001b[43msetup\u001b[49m\u001b[43m \u001b[49m\u001b[38;5;129;43;01min\u001b[39;49;00m\u001b[43m \u001b[49m\u001b[38;5;28;43menumerate\u001b[39;49m\u001b[43m(\u001b[49m\u001b[43mstrategies_setups\u001b[49m\u001b[43m)\u001b[49m\n\u001b[1;32m    186\u001b[0m \u001b[43m\u001b[49m\u001b[43m)\u001b[49m\n\u001b[1;32m    187\u001b[0m \u001b[38;5;28;01mreturn\u001b[39;00m reports\n",
      "File \u001b[0;32m~/devs/Qubx/src/qubx/utils/misc.py:406\u001b[0m, in \u001b[0;36mProgressParallel.__call__\u001b[0;34m(self, *args, **kwargs)\u001b[0m\n\u001b[1;32m    404\u001b[0m \u001b[38;5;28;01mdef\u001b[39;00m\u001b[38;5;250m \u001b[39m\u001b[38;5;21m__call__\u001b[39m(\u001b[38;5;28mself\u001b[39m, \u001b[38;5;241m*\u001b[39margs, \u001b[38;5;241m*\u001b[39m\u001b[38;5;241m*\u001b[39mkwargs):\n\u001b[1;32m    405\u001b[0m     \u001b[38;5;28;01mif\u001b[39;00m \u001b[38;5;28mself\u001b[39m\u001b[38;5;241m.\u001b[39msilent:\n\u001b[0;32m--> 406\u001b[0m         \u001b[38;5;28;01mreturn\u001b[39;00m \u001b[43mjoblib\u001b[49m\u001b[38;5;241;43m.\u001b[39;49m\u001b[43mParallel\u001b[49m\u001b[38;5;241;43m.\u001b[39;49m\u001b[38;5;21;43m__call__\u001b[39;49m\u001b[43m(\u001b[49m\u001b[38;5;28;43mself\u001b[39;49m\u001b[43m,\u001b[49m\u001b[43m \u001b[49m\u001b[38;5;241;43m*\u001b[39;49m\u001b[43margs\u001b[49m\u001b[43m,\u001b[49m\u001b[43m \u001b[49m\u001b[38;5;241;43m*\u001b[39;49m\u001b[38;5;241;43m*\u001b[39;49m\u001b[43mkwargs\u001b[49m\u001b[43m)\u001b[49m\n\u001b[1;32m    407\u001b[0m     \u001b[38;5;28;01mwith\u001b[39;00m tqdm(total\u001b[38;5;241m=\u001b[39m\u001b[38;5;28mself\u001b[39m\u001b[38;5;241m.\u001b[39mtotal) \u001b[38;5;28;01mas\u001b[39;00m \u001b[38;5;28mself\u001b[39m\u001b[38;5;241m.\u001b[39m_pbar:\n\u001b[1;32m    408\u001b[0m         \u001b[38;5;28;01mreturn\u001b[39;00m joblib\u001b[38;5;241m.\u001b[39mParallel\u001b[38;5;241m.\u001b[39m\u001b[38;5;21m__call__\u001b[39m(\u001b[38;5;28mself\u001b[39m, \u001b[38;5;241m*\u001b[39margs, \u001b[38;5;241m*\u001b[39m\u001b[38;5;241m*\u001b[39mkwargs)\n",
      "File \u001b[0;32m/usr/local/envs/qubxdev/lib/python3.11/site-packages/joblib/parallel.py:1918\u001b[0m, in \u001b[0;36mParallel.__call__\u001b[0;34m(self, iterable)\u001b[0m\n\u001b[1;32m   1916\u001b[0m     output \u001b[38;5;241m=\u001b[39m \u001b[38;5;28mself\u001b[39m\u001b[38;5;241m.\u001b[39m_get_sequential_output(iterable)\n\u001b[1;32m   1917\u001b[0m     \u001b[38;5;28mnext\u001b[39m(output)\n\u001b[0;32m-> 1918\u001b[0m     \u001b[38;5;28;01mreturn\u001b[39;00m output \u001b[38;5;28;01mif\u001b[39;00m \u001b[38;5;28mself\u001b[39m\u001b[38;5;241m.\u001b[39mreturn_generator \u001b[38;5;28;01melse\u001b[39;00m \u001b[38;5;28;43mlist\u001b[39;49m\u001b[43m(\u001b[49m\u001b[43moutput\u001b[49m\u001b[43m)\u001b[49m\n\u001b[1;32m   1920\u001b[0m \u001b[38;5;66;03m# Let's create an ID that uniquely identifies the current call. If the\u001b[39;00m\n\u001b[1;32m   1921\u001b[0m \u001b[38;5;66;03m# call is interrupted early and that the same instance is immediately\u001b[39;00m\n\u001b[1;32m   1922\u001b[0m \u001b[38;5;66;03m# re-used, this id will be used to prevent workers that were\u001b[39;00m\n\u001b[1;32m   1923\u001b[0m \u001b[38;5;66;03m# concurrently finalizing a task from the previous call to run the\u001b[39;00m\n\u001b[1;32m   1924\u001b[0m \u001b[38;5;66;03m# callback.\u001b[39;00m\n\u001b[1;32m   1925\u001b[0m \u001b[38;5;28;01mwith\u001b[39;00m \u001b[38;5;28mself\u001b[39m\u001b[38;5;241m.\u001b[39m_lock:\n",
      "File \u001b[0;32m/usr/local/envs/qubxdev/lib/python3.11/site-packages/joblib/parallel.py:1847\u001b[0m, in \u001b[0;36mParallel._get_sequential_output\u001b[0;34m(self, iterable)\u001b[0m\n\u001b[1;32m   1845\u001b[0m \u001b[38;5;28mself\u001b[39m\u001b[38;5;241m.\u001b[39mn_dispatched_batches \u001b[38;5;241m+\u001b[39m\u001b[38;5;241m=\u001b[39m \u001b[38;5;241m1\u001b[39m\n\u001b[1;32m   1846\u001b[0m \u001b[38;5;28mself\u001b[39m\u001b[38;5;241m.\u001b[39mn_dispatched_tasks \u001b[38;5;241m+\u001b[39m\u001b[38;5;241m=\u001b[39m \u001b[38;5;241m1\u001b[39m\n\u001b[0;32m-> 1847\u001b[0m res \u001b[38;5;241m=\u001b[39m \u001b[43mfunc\u001b[49m\u001b[43m(\u001b[49m\u001b[38;5;241;43m*\u001b[39;49m\u001b[43margs\u001b[49m\u001b[43m,\u001b[49m\u001b[43m \u001b[49m\u001b[38;5;241;43m*\u001b[39;49m\u001b[38;5;241;43m*\u001b[39;49m\u001b[43mkwargs\u001b[49m\u001b[43m)\u001b[49m\n\u001b[1;32m   1848\u001b[0m \u001b[38;5;28mself\u001b[39m\u001b[38;5;241m.\u001b[39mn_completed_tasks \u001b[38;5;241m+\u001b[39m\u001b[38;5;241m=\u001b[39m \u001b[38;5;241m1\u001b[39m\n\u001b[1;32m   1849\u001b[0m \u001b[38;5;28mself\u001b[39m\u001b[38;5;241m.\u001b[39mprint_progress()\n",
      "File \u001b[0;32m~/devs/Qubx/src/qubx/backtester/simulator.py:339\u001b[0m, in \u001b[0;36m_run_setup\u001b[0;34m(setup_id, account_id, setup, data_setup, start, stop, silent, show_latency_report, portfolio_log_freq)\u001b[0m\n\u001b[1;32m    336\u001b[0m         ctx\u001b[38;5;241m.\u001b[39msubscribe(t, ctx\u001b[38;5;241m.\u001b[39minstruments)\n\u001b[1;32m    338\u001b[0m \u001b[38;5;28;01mtry\u001b[39;00m:\n\u001b[0;32m--> 339\u001b[0m     \u001b[43mdata_provider\u001b[49m\u001b[38;5;241;43m.\u001b[39;49m\u001b[43mrun\u001b[49m\u001b[43m(\u001b[49m\u001b[43mstart\u001b[49m\u001b[43m,\u001b[49m\u001b[43m \u001b[49m\u001b[43m_stop\u001b[49m\u001b[43m,\u001b[49m\u001b[43m \u001b[49m\u001b[43msilent\u001b[49m\u001b[38;5;241;43m=\u001b[39;49m\u001b[43msilent\u001b[49m\u001b[43m)\u001b[49m  \u001b[38;5;66;03m# type: ignore\u001b[39;00m\n\u001b[1;32m    340\u001b[0m \u001b[38;5;28;01mexcept\u001b[39;00m \u001b[38;5;167;01mKeyboardInterrupt\u001b[39;00m:\n\u001b[1;32m    341\u001b[0m     logger\u001b[38;5;241m.\u001b[39merror(\u001b[38;5;124m\"\u001b[39m\u001b[38;5;124mSimulated trading interrupted by user !\u001b[39m\u001b[38;5;124m\"\u001b[39m)\n",
      "File \u001b[0;32m~/devs/Qubx/src/qubx/backtester/data.py:102\u001b[0m, in \u001b[0;36mSimulatedDataProvider.run\u001b[0;34m(self, start, end, silent)\u001b[0m\n\u001b[1;32m    100\u001b[0m \u001b[38;5;28;01mwith\u001b[39;00m tqdm(total\u001b[38;5;241m=\u001b[39m\u001b[38;5;241m100\u001b[39m, desc\u001b[38;5;241m=\u001b[39m\u001b[38;5;124m\"\u001b[39m\u001b[38;5;124mSimulating\u001b[39m\u001b[38;5;124m\"\u001b[39m, unit\u001b[38;5;241m=\u001b[39m\u001b[38;5;124m\"\u001b[39m\u001b[38;5;124m%\u001b[39m\u001b[38;5;124m\"\u001b[39m, leave\u001b[38;5;241m=\u001b[39m\u001b[38;5;28;01mFalse\u001b[39;00m) \u001b[38;5;28;01mas\u001b[39;00m pbar:\n\u001b[1;32m    101\u001b[0m     \u001b[38;5;28;01mfor\u001b[39;00m instrument, data_type, event, is_hist \u001b[38;5;129;01min\u001b[39;00m qiter:\n\u001b[0;32m--> 102\u001b[0m         \u001b[38;5;28;01mif\u001b[39;00m \u001b[38;5;129;01mnot\u001b[39;00m \u001b[43m_run\u001b[49m\u001b[43m(\u001b[49m\u001b[43minstrument\u001b[49m\u001b[43m,\u001b[49m\u001b[43m \u001b[49m\u001b[43mdata_type\u001b[49m\u001b[43m,\u001b[49m\u001b[43m \u001b[49m\u001b[43mevent\u001b[49m\u001b[43m,\u001b[49m\u001b[43m \u001b[49m\u001b[43mis_hist\u001b[49m\u001b[43m)\u001b[49m:\n\u001b[1;32m    103\u001b[0m             \u001b[38;5;28;01mbreak\u001b[39;00m\n\u001b[1;32m    104\u001b[0m         dt \u001b[38;5;241m=\u001b[39m pd\u001b[38;5;241m.\u001b[39mTimestamp(event\u001b[38;5;241m.\u001b[39mtime)\n",
      "File \u001b[0;32m~/devs/Qubx/src/qubx/backtester/data.py:285\u001b[0m, in \u001b[0;36mSimulatedDataProvider._process_strategy\u001b[0;34m(self, instrument, data_type, data, is_hist)\u001b[0m\n\u001b[1;32m    282\u001b[0m \u001b[38;5;28;01mif\u001b[39;00m t \u001b[38;5;241m>\u001b[39m\u001b[38;5;241m=\u001b[39m (_next_exp_time \u001b[38;5;241m:=\u001b[39m \u001b[38;5;28mself\u001b[39m\u001b[38;5;241m.\u001b[39m_scheduler\u001b[38;5;241m.\u001b[39mnext_expected_event_time()):\n\u001b[1;32m    283\u001b[0m     \u001b[38;5;66;03m# - we use exact event's time\u001b[39;00m\n\u001b[1;32m    284\u001b[0m     \u001b[38;5;28mself\u001b[39m\u001b[38;5;241m.\u001b[39mtime_provider\u001b[38;5;241m.\u001b[39mset_time(_next_exp_time)\n\u001b[0;32m--> 285\u001b[0m     \u001b[38;5;28;43mself\u001b[39;49m\u001b[38;5;241;43m.\u001b[39;49m\u001b[43m_scheduler\u001b[49m\u001b[38;5;241;43m.\u001b[39;49m\u001b[43mcheck_and_run_tasks\u001b[49m\u001b[43m(\u001b[49m\u001b[43m)\u001b[49m\n\u001b[1;32m    287\u001b[0m \u001b[38;5;28;01mif\u001b[39;00m q \u001b[38;5;241m:=\u001b[39m \u001b[38;5;28mself\u001b[39m\u001b[38;5;241m.\u001b[39m_account\u001b[38;5;241m.\u001b[39memulate_quote_from_data(instrument, t, data):\n\u001b[1;32m    288\u001b[0m     \u001b[38;5;28mself\u001b[39m\u001b[38;5;241m.\u001b[39m_last_quotes[instrument] \u001b[38;5;241m=\u001b[39m q\n",
      "File \u001b[0;32m~/devs/Qubx/src/qubx/core/helpers.py:380\u001b[0m, in \u001b[0;36mBasicScheduler.check_and_run_tasks\u001b[0;34m(self)\u001b[0m\n\u001b[1;32m    379\u001b[0m \u001b[38;5;28;01mdef\u001b[39;00m\u001b[38;5;250m \u001b[39m\u001b[38;5;21mcheck_and_run_tasks\u001b[39m(\u001b[38;5;28mself\u001b[39m) \u001b[38;5;241m-\u001b[39m\u001b[38;5;241m>\u001b[39m \u001b[38;5;28mfloat\u001b[39m \u001b[38;5;241m|\u001b[39m \u001b[38;5;28;01mNone\u001b[39;00m:\n\u001b[0;32m--> 380\u001b[0m     \u001b[38;5;28;01mreturn\u001b[39;00m \u001b[38;5;28;43mself\u001b[39;49m\u001b[38;5;241;43m.\u001b[39;49m\u001b[43m_scdlr\u001b[49m\u001b[38;5;241;43m.\u001b[39;49m\u001b[43mrun\u001b[49m\u001b[43m(\u001b[49m\u001b[43mblocking\u001b[49m\u001b[38;5;241;43m=\u001b[39;49m\u001b[38;5;28;43;01mFalse\u001b[39;49;00m\u001b[43m)\u001b[49m\n",
      "File \u001b[0;32m/usr/lib/python3.11/sched.py:151\u001b[0m, in \u001b[0;36mscheduler.run\u001b[0;34m(self, blocking)\u001b[0m\n\u001b[1;32m    149\u001b[0m     delayfunc(time \u001b[38;5;241m-\u001b[39m now)\n\u001b[1;32m    150\u001b[0m \u001b[38;5;28;01melse\u001b[39;00m:\n\u001b[0;32m--> 151\u001b[0m     \u001b[43maction\u001b[49m\u001b[43m(\u001b[49m\u001b[38;5;241;43m*\u001b[39;49m\u001b[43margument\u001b[49m\u001b[43m,\u001b[49m\u001b[43m \u001b[49m\u001b[38;5;241;43m*\u001b[39;49m\u001b[38;5;241;43m*\u001b[39;49m\u001b[43mkwargs\u001b[49m\u001b[43m)\u001b[49m\n\u001b[1;32m    152\u001b[0m     delayfunc(\u001b[38;5;241m0\u001b[39m)\n",
      "File \u001b[0;32m~/devs/Qubx/src/qubx/core/helpers.py:374\u001b[0m, in \u001b[0;36mBasicScheduler._trigger\u001b[0;34m(self, event, prev_time_sec, trig_time)\u001b[0m\n\u001b[1;32m    371\u001b[0m now \u001b[38;5;241m=\u001b[39m \u001b[38;5;28mself\u001b[39m\u001b[38;5;241m.\u001b[39mtime_sec()\n\u001b[1;32m    373\u001b[0m \u001b[38;5;66;03m# - send notification to channel\u001b[39;00m\n\u001b[0;32m--> 374\u001b[0m \u001b[38;5;28;43mself\u001b[39;49m\u001b[38;5;241;43m.\u001b[39;49m\u001b[43m_chan\u001b[49m\u001b[38;5;241;43m.\u001b[39;49m\u001b[43msend\u001b[49m\u001b[43m(\u001b[49m\u001b[43m(\u001b[49m\u001b[38;5;28;43;01mNone\u001b[39;49;00m\u001b[43m,\u001b[49m\u001b[43m \u001b[49m\u001b[43mevent\u001b[49m\u001b[43m,\u001b[49m\u001b[43m \u001b[49m\u001b[43m(\u001b[49m\u001b[43mprev_time_sec\u001b[49m\u001b[43m,\u001b[49m\u001b[43m \u001b[49m\u001b[43mtrig_time\u001b[49m\u001b[43m)\u001b[49m\u001b[43m,\u001b[49m\u001b[43m \u001b[49m\u001b[38;5;28;43;01mFalse\u001b[39;49;00m\u001b[43m)\u001b[49m\u001b[43m)\u001b[49m\n\u001b[1;32m    376\u001b[0m \u001b[38;5;66;03m# - try to arm this event again\u001b[39;00m\n\u001b[1;32m    377\u001b[0m \u001b[38;5;28mself\u001b[39m\u001b[38;5;241m.\u001b[39m_arm_schedule(event, now)\n",
      "File \u001b[0;32m~/devs/Qubx/src/qubx/backtester/utils.py:171\u001b[0m, in \u001b[0;36mSimulatedCtrlChannel.send\u001b[0;34m(self, data)\u001b[0m\n\u001b[1;32m    169\u001b[0m \u001b[38;5;28;01mdef\u001b[39;00m\u001b[38;5;250m \u001b[39m\u001b[38;5;21msend\u001b[39m(\u001b[38;5;28mself\u001b[39m, data):\n\u001b[1;32m    170\u001b[0m     \u001b[38;5;66;03m# - when data is sent, invoke callback\u001b[39;00m\n\u001b[0;32m--> 171\u001b[0m     \u001b[38;5;28;01mreturn\u001b[39;00m \u001b[38;5;28;43mself\u001b[39;49m\u001b[38;5;241;43m.\u001b[39;49m\u001b[43m_callback\u001b[49m\u001b[38;5;241;43m.\u001b[39;49m\u001b[43mprocess_data\u001b[49m\u001b[43m(\u001b[49m\u001b[38;5;241;43m*\u001b[39;49m\u001b[43mdata\u001b[49m\u001b[43m)\u001b[49m\n",
      "File \u001b[0;32m~/devs/Qubx/src/qubx/core/context.py:395\u001b[0m, in \u001b[0;36mStrategyContext.process_data\u001b[0;34m(self, instrument, d_type, data, is_historical)\u001b[0m\n\u001b[1;32m    394\u001b[0m \u001b[38;5;28;01mdef\u001b[39;00m\u001b[38;5;250m \u001b[39m\u001b[38;5;21mprocess_data\u001b[39m(\u001b[38;5;28mself\u001b[39m, instrument: Instrument, d_type: \u001b[38;5;28mstr\u001b[39m, data: Any, is_historical: \u001b[38;5;28mbool\u001b[39m):\n\u001b[0;32m--> 395\u001b[0m     \u001b[38;5;28;01mreturn\u001b[39;00m \u001b[38;5;28;43mself\u001b[39;49m\u001b[38;5;241;43m.\u001b[39;49m\u001b[43m_processing_manager\u001b[49m\u001b[38;5;241;43m.\u001b[39;49m\u001b[43mprocess_data\u001b[49m\u001b[43m(\u001b[49m\u001b[43minstrument\u001b[49m\u001b[43m,\u001b[49m\u001b[43m \u001b[49m\u001b[43md_type\u001b[49m\u001b[43m,\u001b[49m\u001b[43m \u001b[49m\u001b[43mdata\u001b[49m\u001b[43m,\u001b[49m\u001b[43m \u001b[49m\u001b[43mis_historical\u001b[49m\u001b[43m)\u001b[49m\n",
      "File \u001b[0;32m~/devs/Qubx/src/qubx/core/mixins/processing.py:196\u001b[0m, in \u001b[0;36mProcessingManager.process_data\u001b[0;34m(self, instrument, d_type, data, is_historical)\u001b[0m\n\u001b[1;32m    192\u001b[0m         \u001b[38;5;28;01mif\u001b[39;00m \u001b[38;5;28mself\u001b[39m\u001b[38;5;241m.\u001b[39m_fails_counter \u001b[38;5;241m>\u001b[39m\u001b[38;5;241m=\u001b[39m \u001b[38;5;28mself\u001b[39m\u001b[38;5;241m.\u001b[39mMAX_NUMBER_OF_STRATEGY_FAILURES:\n\u001b[1;32m    193\u001b[0m             logger\u001b[38;5;241m.\u001b[39merror(\n\u001b[1;32m    194\u001b[0m                 \u001b[38;5;124mf\u001b[39m\u001b[38;5;124m\"\u001b[39m\u001b[38;5;124mSTRATEGY FAILED \u001b[39m\u001b[38;5;132;01m{\u001b[39;00m\u001b[38;5;28mself\u001b[39m\u001b[38;5;241m.\u001b[39mMAX_NUMBER_OF_STRATEGY_FAILURES\u001b[38;5;132;01m}\u001b[39;00m\u001b[38;5;124m TIMES IN THE ROW - STOPPING ...\u001b[39m\u001b[38;5;124m\"\u001b[39m\n\u001b[1;32m    195\u001b[0m             )\n\u001b[0;32m--> 196\u001b[0m             \u001b[38;5;28;01mraise\u001b[39;00m StrategyExceededMaxNumberOfRuntimeFailuresError()\n\u001b[1;32m    198\u001b[0m \u001b[38;5;66;03m# - process and execute signals if they are provided\u001b[39;00m\n\u001b[1;32m    199\u001b[0m \u001b[38;5;28;01mif\u001b[39;00m signals:\n\u001b[1;32m    200\u001b[0m     \u001b[38;5;66;03m# fmt: off\u001b[39;00m\n",
      "\u001b[0;31mStrategyExceededMaxNumberOfRuntimeFailuresError\u001b[0m: "
     ]
    },
    {
     "name": "stdout",
     "output_type": "stream",
     "text": [
      "\u001b[96m2025-02-18 00:00:21.000\u001b[0m [\u001b[31m\u001b[1m❌\u001b[0m] \u001b[31m\u001b[1mSTRATEGY FAILED 10 TIMES IN THE ROW - STOPPING ...\u001b[0m\n"
     ]
    }
   ],
   "source": [
    "r = simulate(\n",
    "    # strategies={\"Test\": (stg1 := ObiTraderStrategy(tick_size_pct=0.1, depth=25, threshold=0.5))},\n",
    "    strategies={\"Test\": (stg1 := HftTest(tick_size_pct=0.1, depth=25))},\n",
    "    data=HftDataReader(\n",
    "        enable_quote=True,\n",
    "        enable_trade=True,\n",
    "        enable_orderbook=True,\n",
    "        debug=True,\n",
    "    ),\n",
    "    capital=1000,\n",
    "    instruments=[\"BINANCE.UM:ADAUSDT\"],\n",
    "    commissions=None,\n",
    "    start=\"2025-02-18\", stop=\"2025-02-19\",\n",
    "    portfolio_log_freq=\"1min\",\n",
    "    debug=\"WARNING\",\n",
    ")\n",
    "tearsheet(r, plot_leverage=True)"
   ]
  },
  {
   "cell_type": "code",
   "execution_count": null,
   "metadata": {},
   "outputs": [],
   "source": []
  }
 ],
 "metadata": {
  "kernelspec": {
   "display_name": "QubxDev",
   "language": "python",
   "name": "qubxdev"
  },
  "language_info": {
   "codemirror_mode": {
    "name": "ipython",
    "version": 3
   },
   "file_extension": ".py",
   "mimetype": "text/x-python",
   "name": "python",
   "nbconvert_exporter": "python",
   "pygments_lexer": "ipython3",
   "version": "3.11.9"
  }
 },
 "nbformat": 4,
 "nbformat_minor": 2
}
