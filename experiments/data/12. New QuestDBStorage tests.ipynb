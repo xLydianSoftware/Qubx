{
 "cells": [
  {
   "cell_type": "code",
   "execution_count": 1,
   "id": "9b7e4b51",
   "metadata": {},
   "outputs": [
    {
     "name": "stdout",
     "output_type": "stream",
     "text": [
      "\n",
      "⠀⠀⡰⡖⠒⠒⢒⢦⠀⠀   \n",
      "⠀⢠⠃⠈⢆⣀⣎⣀⣱⡀  \u001b[31mQUBX\u001b[0m | \u001b[36mQuantitative Backtesting Environment\u001b[0m \n",
      "⠀⢳⠒⠒⡞⠚⡄⠀⡰⠁         (c) 2025, ver. \u001b[35m0.6.84\u001b[0m\n",
      "⠀⠀⠱⣜⣀⣀⣈⣦⠃⠀⠀⠀ \n",
      "        \n"
     ]
    },
    {
     "data": {
      "text/html": [
       "<style> .cell-output-ipywidget-background { background-color: transparent !important; } :root { --jp-widgets-color: var(--vscode-editor-foreground); --jp-widgets-font-size: var(--vscode-editor-font-size); } .widget-hprogress, .jupyter-widget-hprogress { height: 16px; align-self: center; kj} table.dataframe, .dataframe td, .dataframe tr { border: 1px solid #55554a85; border-collapse: collapse; color: #859548d9 !important; } .dataframe th { border: 1px solid #55554a85; border-collapse: collapse; background-color: #010101 !important; color: #177 !important; } </style>"
      ],
      "text/plain": [
       "<IPython.core.display.HTML object>"
      ]
     },
     "metadata": {},
     "output_type": "display_data"
    }
   ],
   "source": [
    "import numpy as np\n",
    "import pandas as pd\n",
    "import qubx  # type: ignore\n",
    "from qubx.core.basics import DataType\n",
    "from pprint import pprint as prn\n",
    "\n",
    "%qubxd\n",
    "\n",
    "%load_ext autoreload\n",
    "%autoreload 2\n",
    "\n",
    "# - - - - - - - - - -\n",
    "from qubx.data.transformers import PandasFrame, TypedRecords, OHLCVSeries, TickSeries\n",
    "from qubx.data.storages.questdb import QuestDBStorage"
   ]
  },
  {
   "cell_type": "code",
   "execution_count": 2,
   "id": "c96297ff",
   "metadata": {},
   "outputs": [],
   "source": [
    "Q = QuestDBStorage(\"quantlab\", synthetic_ohlc_timeframes_types=True)"
   ]
  },
  {
   "cell_type": "code",
   "execution_count": null,
   "id": "e875ee29",
   "metadata": {},
   "outputs": [],
   "source": [
    "# dbm = Q._read_database_meta_structure()\n",
    "# dbm[\"BINANCE.UM\"][\"SWAP\"]"
   ]
  },
  {
   "cell_type": "code",
   "execution_count": 3,
   "id": "6865532b",
   "metadata": {},
   "outputs": [
    {
     "name": "stdout",
     "output_type": "stream",
     "text": [
      "['GATEIO',\n",
      " 'KRAKEN',\n",
      " 'BYBIT',\n",
      " 'HYPERLIQUID',\n",
      " 'BINANCE.UM',\n",
      " 'UNRAVEL',\n",
      " 'BINANCE',\n",
      " 'COINGECKO',\n",
      " 'BINANCE.PM']\n"
     ]
    }
   ],
   "source": [
    "prn(Q.get_exchanges())"
   ]
  },
  {
   "cell_type": "code",
   "execution_count": 4,
   "id": "976a5cfd",
   "metadata": {},
   "outputs": [
    {
     "name": "stdout",
     "output_type": "stream",
     "text": [
      "['UNIVERSE', 'FACTORS']\n"
     ]
    }
   ],
   "source": [
    "prn(Q.get_market_types(\"UNRAVEL\"))"
   ]
  },
  {
   "cell_type": "code",
   "execution_count": 8,
   "id": "b366b7f7",
   "metadata": {},
   "outputs": [],
   "source": [
    "r = Q.get_reader(\"UNRAVEL\", \"UNIVERSE\")"
   ]
  },
  {
   "cell_type": "code",
   "execution_count": 11,
   "id": "eb392568",
   "metadata": {},
   "outputs": [
    {
     "data": {
      "text/plain": [
       "['1INCHUSDT',\n",
       " 'AAVEUSDT',\n",
       " 'ACHUSDT',\n",
       " 'ADAUSDT',\n",
       " 'ALGOUSDT',\n",
       " 'AMPUSDT',\n",
       " 'ANKRUSDT',\n",
       " 'APEUSDT',\n",
       " 'APTUSDT',\n",
       " 'ARBUSDT',\n",
       " 'ARUSDT',\n",
       " 'ATOMUSDT',\n",
       " 'AVAXUSDT',\n",
       " 'AXSUSDT',\n",
       " 'BALUSDT',\n",
       " 'BANDUSDT',\n",
       " 'BATUSDT',\n",
       " 'BCHUSDT',\n",
       " 'BEAMUSDT',\n",
       " 'BLURUSDT',\n",
       " 'BNBUSDT',\n",
       " 'BNTUSDT',\n",
       " 'BONKUSDT',\n",
       " 'BSVUSDT',\n",
       " 'BTCUSDT',\n",
       " 'CAKEUSDT',\n",
       " 'CELOUSDT',\n",
       " 'CFXUSDT',\n",
       " 'CHZUSDT',\n",
       " 'COMPUSDT',\n",
       " 'COREUSDT',\n",
       " 'CRVUSDT',\n",
       " 'CVCUSDT',\n",
       " 'DASHUSDT',\n",
       " 'DOGEUSDT',\n",
       " 'DOTUSDT',\n",
       " 'EGLDUSDT',\n",
       " 'ENAUSDT',\n",
       " 'ENJUSDT',\n",
       " 'ENSUSDT',\n",
       " 'EOSUSDT',\n",
       " 'ETCUSDT',\n",
       " 'ETHUSDT',\n",
       " 'ETHWUSDT',\n",
       " 'FETUSDT',\n",
       " 'FILUSDT',\n",
       " 'FLOKIUSDT',\n",
       " 'FLOWUSDT',\n",
       " 'GALAUSDT',\n",
       " 'GMTUSDT',\n",
       " 'GRTUSDT',\n",
       " 'HBARUSDT',\n",
       " 'HFTUSDT',\n",
       " 'HNTUSDT',\n",
       " 'HOTUSDT',\n",
       " 'ICPUSDT',\n",
       " 'ICXUSDT',\n",
       " 'IMXUSDT',\n",
       " 'INJUSDT',\n",
       " 'IOSTUSDT',\n",
       " 'IOTAUSDT',\n",
       " 'IPUSDT',\n",
       " 'JASMYUSDT',\n",
       " 'JSTUSDT',\n",
       " 'JUPUSDT',\n",
       " 'KAVAUSDT',\n",
       " 'KSMUSDT',\n",
       " 'LDOUSDT',\n",
       " 'LINKUSDT',\n",
       " 'LRCUSDT',\n",
       " 'LTCUSDT',\n",
       " 'LUNAUSDT',\n",
       " 'LUNCUSDT',\n",
       " 'MANAUSDT',\n",
       " 'MASKUSDT',\n",
       " 'MINAUSDT',\n",
       " 'MKRUSDT',\n",
       " 'MOVEUSDT',\n",
       " 'NEARUSDT',\n",
       " 'NEOUSDT',\n",
       " 'NOTUSDT',\n",
       " 'OGNUSDT',\n",
       " 'OMUSDT',\n",
       " 'ONDOUSDT',\n",
       " 'ONEUSDT',\n",
       " 'ONTUSDT',\n",
       " 'OPUSDT',\n",
       " 'ORDIUSDT',\n",
       " 'OXTUSDT',\n",
       " 'PAXGUSDT',\n",
       " 'PEOPLEUSDT',\n",
       " 'PEPEUSDT',\n",
       " 'POLUSDT',\n",
       " 'POWRUSDT',\n",
       " 'PYTHUSDT',\n",
       " 'QNTUSDT',\n",
       " 'QTUMUSDT',\n",
       " 'RAYUSDT',\n",
       " 'RENDERUSDT',\n",
       " 'RSRUSDT',\n",
       " 'RUNEUSDT',\n",
       " 'RVNUSDT',\n",
       " 'SANDUSDT',\n",
       " 'SEIUSDT',\n",
       " 'SHIBUSDT',\n",
       " 'SNTUSDT',\n",
       " 'SNXUSDT',\n",
       " 'SOLUSDT',\n",
       " 'SPXUSDT',\n",
       " 'STORJUSDT',\n",
       " 'STRKUSDT',\n",
       " 'STXUSDT',\n",
       " 'SUIUSDT',\n",
       " 'SUSDT',\n",
       " 'SUSHIUSDT',\n",
       " 'SXPUSDT',\n",
       " 'TAOUSDT',\n",
       " 'THETAUSDT',\n",
       " 'TIAUSDT',\n",
       " 'TONUSDT',\n",
       " 'TRBUSDT',\n",
       " 'TRUMPUSDT',\n",
       " 'TRXUSDT',\n",
       " 'TUSDT',\n",
       " 'TWTUSDT',\n",
       " 'UMAUSDT',\n",
       " 'UNIUSDT',\n",
       " 'VETUSDT',\n",
       " 'VICUSDT',\n",
       " 'VIRTUALUSDT',\n",
       " 'WAVESUSDT',\n",
       " 'WIFUSDT',\n",
       " 'WLDUSDT',\n",
       " 'XCNUSDT',\n",
       " 'XLMUSDT',\n",
       " 'XRPUSDT',\n",
       " 'XTZUSDT',\n",
       " 'YFIUSDT',\n",
       " 'ZECUSDT',\n",
       " 'ZENUSDT',\n",
       " 'ZILUSDT',\n",
       " 'ZRXUSDT']"
      ]
     },
     "execution_count": 11,
     "metadata": {},
     "output_type": "execute_result"
    }
   ],
   "source": [
    "r.get_data_id(\"universe\")"
   ]
  },
  {
   "cell_type": "code",
   "execution_count": 12,
   "id": "05bd044a",
   "metadata": {},
   "outputs": [],
   "source": [
    "r = Q.get_reader(\"BINANCE.UM\", \"SWAP\")"
   ]
  },
  {
   "cell_type": "code",
   "execution_count": null,
   "id": "4d3a060c",
   "metadata": {},
   "outputs": [],
   "source": [
    "r.get_data_id()"
   ]
  },
  {
   "cell_type": "code",
   "execution_count": 15,
   "id": "8b739942",
   "metadata": {},
   "outputs": [
    {
     "name": "stdout",
     "output_type": "stream",
     "text": [
      "[funding_payment,\n",
      " funding_rate,\n",
      " liquidation,\n",
      " 'metrics',\n",
      " 'ohlc(10min)',\n",
      " 'ohlc(12h)',\n",
      " 'ohlc(15min)',\n",
      " 'ohlc(1d)',\n",
      " 'ohlc(1h)',\n",
      " 'ohlc(1min)',\n",
      " 'ohlc(1w)',\n",
      " 'ohlc(2h)',\n",
      " 'ohlc(2min)',\n",
      " 'ohlc(30min)',\n",
      " 'ohlc(3h)',\n",
      " 'ohlc(3min)',\n",
      " 'ohlc(4h)',\n",
      " 'ohlc(5min)',\n",
      " 'ohlc(6h)',\n",
      " 'ohlc(8h)',\n",
      " open_interest,\n",
      " orderbook]\n"
     ]
    }
   ],
   "source": [
    "prn(r.get_data_types(\"BTCUSDT\"))"
   ]
  },
  {
   "cell_type": "code",
   "execution_count": null,
   "id": "c56fb905",
   "metadata": {},
   "outputs": [],
   "source": []
  }
 ],
 "metadata": {
  "kernelspec": {
   "display_name": ".venv",
   "language": "python",
   "name": "python3"
  },
  "language_info": {
   "codemirror_mode": {
    "name": "ipython",
    "version": 3
   },
   "file_extension": ".py",
   "mimetype": "text/x-python",
   "name": "python",
   "nbconvert_exporter": "python",
   "pygments_lexer": "ipython3",
   "version": "3.11.9"
  }
 },
 "nbformat": 4,
 "nbformat_minor": 5
}
