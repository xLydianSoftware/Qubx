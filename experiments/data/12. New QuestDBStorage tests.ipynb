{
 "cells": [
  {
   "cell_type": "code",
   "execution_count": 17,
   "id": "9b7e4b51",
   "metadata": {},
   "outputs": [
    {
     "data": {
      "text/html": [
       "<style> .cell-output-ipywidget-background { background-color: transparent !important; } :root { --jp-widgets-color: var(--vscode-editor-foreground); --jp-widgets-font-size: var(--vscode-editor-font-size); } .widget-hprogress, .jupyter-widget-hprogress { height: 16px; align-self: center; kj} table.dataframe, .dataframe td, .dataframe tr { border: 1px solid #55554a85; border-collapse: collapse; color: #859548d9 !important; } .dataframe th { border: 1px solid #55554a85; border-collapse: collapse; background-color: #010101 !important; color: #177 !important; } </style>"
      ],
      "text/plain": [
       "<IPython.core.display.HTML object>"
      ]
     },
     "metadata": {},
     "output_type": "display_data"
    },
    {
     "name": "stdout",
     "output_type": "stream",
     "text": [
      "The autoreload extension is already loaded. To reload it, use:\n",
      "  %reload_ext autoreload\n"
     ]
    }
   ],
   "source": [
    "import numpy as np\n",
    "import pandas as pd\n",
    "import qubx  # type: ignore\n",
    "from qubx.core.basics import DataType\n",
    "\n",
    "%qubxd\n",
    "\n",
    "%load_ext autoreload\n",
    "%autoreload 2\n",
    "\n",
    "# - - - - - - - - - -\n",
    "from qubx.data.transformers import PandasFrame, TypedRecords, OHLCVSeries, TickSeries\n",
    "from qubx.data.storages.questdb import QuestDBStorage"
   ]
  },
  {
   "cell_type": "code",
   "execution_count": 18,
   "id": "c96297ff",
   "metadata": {},
   "outputs": [],
   "source": [
    "Q = QuestDBStorage(\"quantlab\", synthetic_ohlc_timeframes_types=False)"
   ]
  },
  {
   "cell_type": "code",
   "execution_count": 19,
   "id": "e875ee29",
   "metadata": {},
   "outputs": [
    {
     "data": {
      "text/plain": [
       "[xLTableInfo(exchange='BINANCE.UM', market_type='SWAP', dtype=funding_rate, data_timeframe=None, table_name='binance.umswap.funding_rate', alias_for_record_type=None),\n",
       " xLTableInfo(exchange='BINANCE.UM', market_type='SWAP', dtype=open_interest, data_timeframe=None, table_name='binance.umswap.open_interest', alias_for_record_type=None),\n",
       " xLTableInfo(exchange='BINANCE.UM', market_type='SWAP', dtype=funding_payment, data_timeframe=None, table_name='binance.umswap.funding_payment', alias_for_record_type=None),\n",
       " xLTableInfo(exchange='BINANCE.UM', market_type='SWAP', dtype=ohlc, data_timeframe='1m', table_name='binance.umswap.candles_1m', alias_for_record_type=None),\n",
       " xLTableInfo(exchange='BINANCE.UM', market_type='SWAP', dtype=orderbook, data_timeframe='1m', table_name='binance.umswap.orderbook_1m', alias_for_record_type=None),\n",
       " xLTableInfo(exchange='BINANCE.UM', market_type='SWAP', dtype=liquidation, data_timeframe='1m', table_name='binance.umswap.liquidations_1m', alias_for_record_type=None),\n",
       " xLTableInfo(exchange='BINANCE.UM', market_type='SWAP', dtype=record, data_timeframe=None, table_name='binance.umswap.metrics', alias_for_record_type='metrics')]"
      ]
     },
     "execution_count": 19,
     "metadata": {},
     "output_type": "execute_result"
    }
   ],
   "source": [
    "dbm = Q._get_database_meta_structure()\n",
    "dbm[\"BINANCE.UM\"][\"SWAP\"]"
   ]
  },
  {
   "cell_type": "code",
   "execution_count": 20,
   "id": "6865532b",
   "metadata": {},
   "outputs": [
    {
     "data": {
      "text/plain": [
       "['GATEIO',\n",
       " 'KRAKEN',\n",
       " 'BYBIT',\n",
       " 'HYPERLIQUID',\n",
       " 'BINANCE.UM',\n",
       " 'UNRAVEL',\n",
       " 'BINANCE',\n",
       " 'COINGECKO',\n",
       " 'BINANCE.PM']"
      ]
     },
     "execution_count": 20,
     "metadata": {},
     "output_type": "execute_result"
    }
   ],
   "source": [
    "Q.get_exchanges()"
   ]
  },
  {
   "cell_type": "code",
   "execution_count": 21,
   "id": "976a5cfd",
   "metadata": {},
   "outputs": [
    {
     "data": {
      "text/plain": [
       "['UNIVERSE', 'FACTORS']"
      ]
     },
     "execution_count": 21,
     "metadata": {},
     "output_type": "execute_result"
    }
   ],
   "source": [
    "Q.get_market_types(\"UNRAVEL\")"
   ]
  },
  {
   "cell_type": "code",
   "execution_count": 22,
   "id": "b366b7f7",
   "metadata": {},
   "outputs": [],
   "source": [
    "r = Q.get_reader(\"UNRAVEL\", \"FACTORS\")"
   ]
  },
  {
   "cell_type": "code",
   "execution_count": null,
   "id": "eb392568",
   "metadata": {},
   "outputs": [],
   "source": [
    "r.get_data_id(\"factors\")"
   ]
  },
  {
   "cell_type": "code",
   "execution_count": 24,
   "id": "05bd044a",
   "metadata": {},
   "outputs": [],
   "source": [
    "r = Q.get_reader(\"BINANCE.UM\", \"SWAP\")"
   ]
  },
  {
   "cell_type": "code",
   "execution_count": null,
   "id": "715eda3a",
   "metadata": {},
   "outputs": [],
   "source": [
    "# %%time\n",
    "# r._get_symbols_info()[\"UNRAVEL\"]"
   ]
  },
  {
   "cell_type": "code",
   "execution_count": null,
   "id": "4d3a060c",
   "metadata": {},
   "outputs": [],
   "source": [
    "r.get_data_id()"
   ]
  },
  {
   "cell_type": "code",
   "execution_count": 29,
   "id": "8b739942",
   "metadata": {},
   "outputs": [
    {
     "data": {
      "text/plain": [
       "[funding_rate,\n",
       " open_interest,\n",
       " funding_payment,\n",
       " 'ohlc(1m)',\n",
       " orderbook,\n",
       " liquidation,\n",
       " 'metrics']"
      ]
     },
     "execution_count": 29,
     "metadata": {},
     "output_type": "execute_result"
    }
   ],
   "source": [
    "r.get_data_types(\"BTCUSDT\")"
   ]
  },
  {
   "cell_type": "code",
   "execution_count": null,
   "id": "c56fb905",
   "metadata": {},
   "outputs": [],
   "source": []
  }
 ],
 "metadata": {
  "kernelspec": {
   "display_name": ".venv",
   "language": "python",
   "name": "python3"
  },
  "language_info": {
   "codemirror_mode": {
    "name": "ipython",
    "version": 3
   },
   "file_extension": ".py",
   "mimetype": "text/x-python",
   "name": "python",
   "nbconvert_exporter": "python",
   "pygments_lexer": "ipython3",
   "version": "3.11.9"
  }
 },
 "nbformat": 4,
 "nbformat_minor": 5
}
