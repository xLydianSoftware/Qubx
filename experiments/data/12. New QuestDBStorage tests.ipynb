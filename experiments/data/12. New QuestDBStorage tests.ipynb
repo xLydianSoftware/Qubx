{
 "cells": [
  {
   "cell_type": "code",
   "execution_count": 1,
   "id": "9b7e4b51",
   "metadata": {},
   "outputs": [
    {
     "name": "stdout",
     "output_type": "stream",
     "text": [
      "\n",
      "⠀⠀⡰⡖⠒⠒⢒⢦⠀⠀   \n",
      "⠀⢠⠃⠈⢆⣀⣎⣀⣱⡀  \u001b[31mQUBX\u001b[0m | \u001b[36mQuantitative Backtesting Environment\u001b[0m \n",
      "⠀⢳⠒⠒⡞⠚⡄⠀⡰⠁         (c) 2025, ver. \u001b[35m0.6.84\u001b[0m\n",
      "⠀⠀⠱⣜⣀⣀⣈⣦⠃⠀⠀⠀ \n",
      "        \n"
     ]
    },
    {
     "data": {
      "text/html": [
       "<style> .cell-output-ipywidget-background { background-color: transparent !important; } :root { --jp-widgets-color: var(--vscode-editor-foreground); --jp-widgets-font-size: var(--vscode-editor-font-size); } .widget-hprogress, .jupyter-widget-hprogress { height: 16px; align-self: center; kj} table.dataframe, .dataframe td, .dataframe tr { border: 1px solid #55554a85; border-collapse: collapse; color: #859548d9 !important; } .dataframe th { border: 1px solid #55554a85; border-collapse: collapse; background-color: #010101 !important; color: #177 !important; } </style>"
      ],
      "text/plain": [
       "<IPython.core.display.HTML object>"
      ]
     },
     "metadata": {},
     "output_type": "display_data"
    }
   ],
   "source": [
    "import numpy as np\n",
    "import pandas as pd\n",
    "import qubx  # type: ignore\n",
    "from qubx.core.basics import DataType\n",
    "\n",
    "%qubxd\n",
    "\n",
    "%load_ext autoreload\n",
    "%autoreload 2\n",
    "\n",
    "# - - - - - - - - - -\n",
    "from qubx.data.transformers import PandasFrame, TypedRecords, OHLCVSeries, TickSeries\n",
    "from qubx.data.storages.questdb import QuestDBStorage"
   ]
  },
  {
   "cell_type": "code",
   "execution_count": 5,
   "id": "c96297ff",
   "metadata": {},
   "outputs": [],
   "source": [
    "Q = QuestDBStorage(\"quantlab\")"
   ]
  },
  {
   "cell_type": "code",
   "execution_count": 6,
   "id": "6865532b",
   "metadata": {},
   "outputs": [
    {
     "data": {
      "text/plain": [
       "['GATEIO',\n",
       " 'KRAKEN',\n",
       " 'BYBIT',\n",
       " 'HYPERLIQUID',\n",
       " 'BINANCE.UM',\n",
       " 'UNRAVEL',\n",
       " 'BINANCE',\n",
       " 'COINGECKO',\n",
       " 'BINANCE.PM']"
      ]
     },
     "execution_count": 6,
     "metadata": {},
     "output_type": "execute_result"
    }
   ],
   "source": [
    "Q.get_exchanges()"
   ]
  },
  {
   "cell_type": "code",
   "execution_count": 7,
   "id": "976a5cfd",
   "metadata": {},
   "outputs": [
    {
     "data": {
      "text/plain": [
       "['FUNDAMENTAL']"
      ]
     },
     "execution_count": 7,
     "metadata": {},
     "output_type": "execute_result"
    }
   ],
   "source": [
    "Q.get_market_types(\"COINGECKO\")"
   ]
  },
  {
   "cell_type": "code",
   "execution_count": null,
   "id": "05bd044a",
   "metadata": {},
   "outputs": [
    {
     "ename": "ValueError",
     "evalue": "Can't provide data reader for exchange BINANCE.UM and market SWAP1",
     "output_type": "error",
     "traceback": [
      "\u001b[0;31m---------------------------------------------------------------------------\u001b[0m",
      "\u001b[0;31mValueError\u001b[0m                                Traceback (most recent call last)",
      "Cell \u001b[0;32mIn[9], line 1\u001b[0m\n\u001b[0;32m----> 1\u001b[0m \u001b[43mQ\u001b[49m\u001b[38;5;241;43m.\u001b[39;49m\u001b[43mget_reader\u001b[49m\u001b[43m(\u001b[49m\u001b[38;5;124;43m\"\u001b[39;49m\u001b[38;5;124;43mBINANCE.UM\u001b[39;49m\u001b[38;5;124;43m\"\u001b[39;49m\u001b[43m,\u001b[49m\u001b[43m \u001b[49m\u001b[38;5;124;43m\"\u001b[39;49m\u001b[38;5;124;43mSWAP1\u001b[39;49m\u001b[38;5;124;43m\"\u001b[39;49m\u001b[43m)\u001b[49m\n",
      "File \u001b[0;32m~/devs/Qubx/src/qubx/data/storages/questdb.py:149\u001b[0m, in \u001b[0;36mQuestDBStorage.get_reader\u001b[0;34m(self, exchange, market)\u001b[0m\n\u001b[1;32m    147\u001b[0m \u001b[38;5;28;01mif\u001b[39;00m exchange \u001b[38;5;129;01min\u001b[39;00m e_info \u001b[38;5;129;01mand\u001b[39;00m market \u001b[38;5;129;01min\u001b[39;00m e_info[exchange]:\n\u001b[1;32m    148\u001b[0m     \u001b[38;5;28;01mreturn\u001b[39;00m QuestDBReader(exchange, market, \u001b[38;5;28mself\u001b[39m\u001b[38;5;241m.\u001b[39mpgc)\n\u001b[0;32m--> 149\u001b[0m \u001b[38;5;28;01mraise\u001b[39;00m \u001b[38;5;167;01mValueError\u001b[39;00m(\u001b[38;5;124mf\u001b[39m\u001b[38;5;124m\"\u001b[39m\u001b[38;5;124mCan\u001b[39m\u001b[38;5;124m'\u001b[39m\u001b[38;5;124mt provide data reader for exchange \u001b[39m\u001b[38;5;132;01m{\u001b[39;00mexchange\u001b[38;5;132;01m}\u001b[39;00m\u001b[38;5;124m and market \u001b[39m\u001b[38;5;132;01m{\u001b[39;00mmarket\u001b[38;5;132;01m}\u001b[39;00m\u001b[38;5;124m\"\u001b[39m)\n",
      "\u001b[0;31mValueError\u001b[0m: Can't provide data reader for exchange BINANCE.UM and market SWAP1"
     ]
    }
   ],
   "source": [
    "Q.get_reader(\"BINANCE.UM\", \"SWA\")"
   ]
  },
  {
   "cell_type": "code",
   "execution_count": null,
   "id": "a5977739",
   "metadata": {},
   "outputs": [],
   "source": [
    "Q.pgc.execute(\n",
    "    \"select table_name as name from tables()\"\n",
    ")"
   ]
  }
 ],
 "metadata": {
  "kernelspec": {
   "display_name": ".venv",
   "language": "python",
   "name": "python3"
  },
  "language_info": {
   "codemirror_mode": {
    "name": "ipython",
    "version": 3
   },
   "file_extension": ".py",
   "mimetype": "text/x-python",
   "name": "python",
   "nbconvert_exporter": "python",
   "pygments_lexer": "ipython3",
   "version": "3.11.9"
  }
 },
 "nbformat": 4,
 "nbformat_minor": 5
}
