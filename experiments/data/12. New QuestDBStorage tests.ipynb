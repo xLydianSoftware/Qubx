{
 "cells": [
  {
   "cell_type": "code",
   "execution_count": 1,
   "id": "9b7e4b51",
   "metadata": {},
   "outputs": [
    {
     "name": "stdout",
     "output_type": "stream",
     "text": [
      "\n",
      "⠀⠀⡰⡖⠒⠒⢒⢦⠀⠀   \n",
      "⠀⢠⠃⠈⢆⣀⣎⣀⣱⡀  \u001b[31mQUBX\u001b[0m | \u001b[36mQuantitative Backtesting Environment\u001b[0m \n",
      "⠀⢳⠒⠒⡞⠚⡄⠀⡰⠁         (c) 2025, ver. \u001b[35m0.6.84\u001b[0m\n",
      "⠀⠀⠱⣜⣀⣀⣈⣦⠃⠀⠀⠀ \n",
      "        \n"
     ]
    },
    {
     "data": {
      "text/html": [
       "<style> .cell-output-ipywidget-background { background-color: transparent !important; } :root { --jp-widgets-color: var(--vscode-editor-foreground); --jp-widgets-font-size: var(--vscode-editor-font-size); } .widget-hprogress, .jupyter-widget-hprogress { height: 16px; align-self: center; kj} table.dataframe, .dataframe td, .dataframe tr { border: 1px solid #55554a85; border-collapse: collapse; color: #859548d9 !important; } .dataframe th { border: 1px solid #55554a85; border-collapse: collapse; background-color: #010101 !important; color: #177 !important; } </style>"
      ],
      "text/plain": [
       "<IPython.core.display.HTML object>"
      ]
     },
     "metadata": {},
     "output_type": "display_data"
    }
   ],
   "source": [
    "import numpy as np\n",
    "import pandas as pd\n",
    "import qubx  # type: ignore\n",
    "from qubx.core.basics import DataType\n",
    "from pprint import pprint as prn\n",
    "\n",
    "%qubxd\n",
    "\n",
    "%load_ext autoreload\n",
    "%autoreload 2\n",
    "\n",
    "# - - - - - - - - - -\n",
    "from qubx.data.transformers import PandasFrame, TypedRecords, OHLCVSeries, TickSeries\n",
    "from qubx.data.storages.questdb import QuestDBStorage"
   ]
  },
  {
   "cell_type": "code",
   "execution_count": 2,
   "id": "c96297ff",
   "metadata": {},
   "outputs": [],
   "source": [
    "Q = QuestDBStorage(\"quantlab\", synthetic_ohlc_timeframes_types=True)"
   ]
  },
  {
   "cell_type": "code",
   "execution_count": null,
   "id": "e875ee29",
   "metadata": {},
   "outputs": [],
   "source": [
    "# dbm = Q._read_database_meta_structure()\n",
    "# dbm[\"BINANCE.UM\"][\"SWAP\"]"
   ]
  },
  {
   "cell_type": "code",
   "execution_count": 3,
   "id": "6865532b",
   "metadata": {},
   "outputs": [
    {
     "name": "stdout",
     "output_type": "stream",
     "text": [
      "['GATEIO',\n",
      " 'KRAKEN',\n",
      " 'BYBIT',\n",
      " 'HYPERLIQUID',\n",
      " 'BINANCE.UM',\n",
      " 'UNRAVEL',\n",
      " 'BINANCE',\n",
      " 'COINGECKO',\n",
      " 'BINANCE.PM']\n"
     ]
    }
   ],
   "source": [
    "prn(Q.get_exchanges())"
   ]
  },
  {
   "cell_type": "code",
   "execution_count": 4,
   "id": "976a5cfd",
   "metadata": {},
   "outputs": [
    {
     "name": "stdout",
     "output_type": "stream",
     "text": [
      "['UNIVERSE', 'FACTORS']\n"
     ]
    }
   ],
   "source": [
    "prn(Q.get_market_types(\"UNRAVEL\"))"
   ]
  },
  {
   "cell_type": "code",
   "execution_count": 5,
   "id": "b366b7f7",
   "metadata": {},
   "outputs": [],
   "source": [
    "r = Q.get_reader(\"UNRAVEL\", \"UNIVERSE\")"
   ]
  },
  {
   "cell_type": "code",
   "execution_count": null,
   "id": "eb392568",
   "metadata": {},
   "outputs": [],
   "source": [
    "r.get_data_id(\"universe\")"
   ]
  },
  {
   "cell_type": "code",
   "execution_count": 29,
   "id": "05bd044a",
   "metadata": {},
   "outputs": [],
   "source": [
    "r = Q.get_reader(\"BINANCE.UM\", \"SWAP\")"
   ]
  },
  {
   "cell_type": "code",
   "execution_count": 33,
   "id": "b921eff1",
   "metadata": {},
   "outputs": [
    {
     "data": {
      "text/plain": [
       "104"
      ]
     },
     "execution_count": 33,
     "metadata": {},
     "output_type": "execute_result"
    }
   ],
   "source": [
    "len(r._symbols_lookup[\"BTCUSDT\"]['orderbook'].data_ids)"
   ]
  },
  {
   "cell_type": "code",
   "execution_count": 35,
   "id": "4d3a060c",
   "metadata": {},
   "outputs": [
    {
     "data": {
      "text/plain": [
       "['1000000MOGUSDT',\n",
       " '1000BONKUSDT',\n",
       " '1000FLOKIUSDT',\n",
       " '1000PEPEUSDT',\n",
       " '1000SHIBUSDT',\n",
       " 'AAVEUSDT',\n",
       " 'ADAUSDT',\n",
       " 'AEROUSDT',\n",
       " 'ALGOUSDT',\n",
       " 'APEUSDT',\n",
       " 'APTUSDT',\n",
       " 'ARBUSDT',\n",
       " 'ARUSDT',\n",
       " 'ATOMUSDT',\n",
       " 'AUSDT',\n",
       " 'AVAXUSDT',\n",
       " 'BATUSDT',\n",
       " 'BCHUSDT',\n",
       " 'BNBUSDT',\n",
       " 'BRETTUSDT',\n",
       " 'BSVUSDT',\n",
       " 'BTCUSDT',\n",
       " 'BTCUSDT.20250926',\n",
       " 'BUSDT',\n",
       " 'CAKEUSDT',\n",
       " 'CFXUSDT',\n",
       " 'COMPUSDT',\n",
       " 'CRVUSDT',\n",
       " 'DEXEUSDT',\n",
       " 'DOGEUSDT',\n",
       " 'DOTUSDT',\n",
       " 'DYDXUSDT',\n",
       " 'ENAUSDT',\n",
       " 'ENSUSDT',\n",
       " 'ETCUSDT',\n",
       " 'ETHUSDT',\n",
       " 'FARTCOINUSDT',\n",
       " 'FETUSDT',\n",
       " 'FILUSDT',\n",
       " 'FLOWUSDT',\n",
       " 'GALAUSDT',\n",
       " 'GRTUSDT',\n",
       " 'HBARUSDT',\n",
       " 'HYPEUSDT',\n",
       " 'ICPUSDT',\n",
       " 'IMXUSDT',\n",
       " 'INJUSDT',\n",
       " 'IOTAUSDT',\n",
       " 'IPUSDT',\n",
       " 'JASMYUSDT',\n",
       " 'JTOUSDT',\n",
       " 'JUPUSDT',\n",
       " 'KAIAUSDT',\n",
       " 'KASUSDT',\n",
       " 'KAVAUSDT',\n",
       " 'LDOUSDT',\n",
       " 'LINKUSDT',\n",
       " 'LTCUSDT',\n",
       " 'MANAUSDT',\n",
       " 'MORPHOUSDT',\n",
       " 'NEARUSDT',\n",
       " 'NEOUSDT',\n",
       " 'OMUSDT',\n",
       " 'ONDOUSDT',\n",
       " 'OPUSDT',\n",
       " 'PAXGUSDT',\n",
       " 'PENDLEUSDT',\n",
       " 'PENGUUSDT',\n",
       " 'POLUSDT',\n",
       " 'PUMPUSDT',\n",
       " 'PYTHUSDT',\n",
       " 'QNTUSDT',\n",
       " 'RENDERUSDT',\n",
       " 'RSRUSDT',\n",
       " 'RUNEUSDT',\n",
       " 'SANDUSDT',\n",
       " 'SEIUSDT',\n",
       " 'SOLUSDT',\n",
       " 'SPXUSDT',\n",
       " 'STRKUSDT',\n",
       " 'STXUSDT',\n",
       " 'SUIUSDT',\n",
       " 'SUNUSDT',\n",
       " 'SUSDT',\n",
       " 'SYRUPUSDT',\n",
       " 'TAOUSDT',\n",
       " 'THETAUSDT',\n",
       " 'TIAUSDT',\n",
       " 'TONUSDT',\n",
       " 'TRUMPUSDT',\n",
       " 'TRXUSDT',\n",
       " 'UNIUSDT',\n",
       " 'USDCUSDT',\n",
       " 'VETUSDT',\n",
       " 'VIRTUALUSDT',\n",
       " 'WALUSDT',\n",
       " 'WIFUSDT',\n",
       " 'WLDUSDT',\n",
       " 'XCNUSDT',\n",
       " 'XLMUSDT',\n",
       " 'XMRUSDT',\n",
       " 'XRPUSDT',\n",
       " 'XTZUSDT',\n",
       " 'ZECUSDT']"
      ]
     },
     "execution_count": 35,
     "metadata": {},
     "output_type": "execute_result"
    }
   ],
   "source": [
    "r.get_data_id(\"orderbook\")"
   ]
  },
  {
   "cell_type": "code",
   "execution_count": 36,
   "id": "8b739942",
   "metadata": {},
   "outputs": [
    {
     "name": "stdout",
     "output_type": "stream",
     "text": [
      "[funding_rate,\n",
      " open_interest,\n",
      " funding_payment,\n",
      " 'ohlc(1min)',\n",
      " 'ohlc(2min)',\n",
      " 'ohlc(3min)',\n",
      " 'ohlc(5min)',\n",
      " 'ohlc(10min)',\n",
      " 'ohlc(15min)',\n",
      " 'ohlc(30min)',\n",
      " 'ohlc(1h)',\n",
      " 'ohlc(2h)',\n",
      " 'ohlc(3h)',\n",
      " 'ohlc(4h)',\n",
      " 'ohlc(6h)',\n",
      " 'ohlc(8h)',\n",
      " 'ohlc(12h)',\n",
      " 'ohlc(1d)',\n",
      " 'ohlc(1w)',\n",
      " orderbook,\n",
      " liquidation,\n",
      " 'metrics']\n"
     ]
    }
   ],
   "source": [
    "prn(r.get_data_types(\"BTCUSDT\"))"
   ]
  },
  {
   "cell_type": "code",
   "execution_count": 19,
   "id": "c56fb905",
   "metadata": {},
   "outputs": [
    {
     "name": "stdout",
     "output_type": "stream",
     "text": [
      "['0GUSDT', '1000000BOBUSDT', '1000000MOGUSDT', '1000BONKUSDT', '1000BTTCUSDT', '1000CATUSDT', '1000CHEEMSUSDT', '1000FLOKIUSDT', '1000LUNCUSDT', '1000PEPEUSDT', '1000RATSUSDT', '1000SATSUSDT', '1000SHIBUSDT', '1000WHYUSDT', '1000XECUSDT', '1000XUSDT', '1INCHUSDT', '1MBABYDOGEUSDT', '2ZUSDT', 'A2ZUSDT', 'AAVEUSDT', 'ACEUSDT', 'ACHUSDT', 'ACTUSDT', 'ACXUSDT', 'ADAUSDT', 'AERGOUSDT', 'AEROUSDT', 'AEVOUSDT', 'AGIXUSDT', 'AGLDUSDT', 'AGTUSDT', 'AI16ZUSDT', 'AIAUSDT', 'AINUSDT', 'AIOTUSDT', 'AIOUSDT', 'AIUSDT', 'AIXBTUSDT', 'AKEUSDT', 'AKROUSDT', 'AKTUSDT', 'ALCHUSDT', 'ALGOUSDT', 'ALICEUSDT', 'ALLUSDT', 'ALPACAUSDT', 'ALPHAUSDT', 'ALPINEUSDT', 'ALTUSDT', 'AMBUSDT', 'ANCUSDT', 'ANIMEUSDT', 'ANKRUSDT', 'ANTUSDT', 'APEUSDT', 'API3USDT', 'APTUSDT', 'ARBUSDT', 'ARCUSDT', 'ARIAUSDT', 'ARKMUSDT', 'ARKUSDT', 'ARPAUSDT', 'ARUSDT', 'ASRUSDT', 'ASTERUSDT', 'ASTRUSDT', 'ATAUSDT', 'ATHUSDT', 'ATOMUSDT', 'AUCTIONUSDT', 'AUDIOUSDT', 'AUSDT', 'AVAAIUSDT', 'AVAUSDT', 'AVAXUSDT', 'AVNTUSDT', 'AWEUSDT', 'AXLUSDT', 'AXSUSDT', 'B2USDT', 'B3USDT', 'BABYUSDT', 'BADGERUSDT', 'BAKEUSDT', 'BALUSDT', 'BANANAS31USDT', 'BANANAUSDT', 'BANDUSDT', 'BANKUSDT', 'BANUSDT', 'BARDUSDT', 'BASUSDT', 'BATUSDT', 'BBUSDT', 'BCHUSDT', 'BDXNUSDT', 'BEAMXUSDT', 'BELUSDT', 'BERAUSDT', 'BICOUSDT', 'BIDUSDT', 'BIGTIMEUSDT', 'BIOUSDT', 'BLESSUSDT', 'BLUEBIRDUSDT', 'BLURUSDT', 'BLZUSDT', 'BMTUSDT', 'BNBUSDT', 'BNTUSDT', 'BNXUSDT', 'BOMEUSDT', 'BONDUSDT', 'BRETTUSDT', 'BROCCOLI714USDT', 'BROCCOLIF3BUSDT', 'BRUSDT', 'BSVUSDT', 'BSWUSDT', 'BTCDOMUSDT', 'BTCSTUSDT', 'BTCUSDT', 'BTRUSDT', 'BTSUSDT', 'BTTUSDT', 'BULLAUSDT', 'BUSDT', 'BZRXUSDT', 'C98USDT', 'CAKEUSDT', 'CARVUSDT', 'CATIUSDT', 'CELOUSDT', 'CELRUSDT', 'CETUSUSDT', 'CFXUSDT', 'CGPTUSDT', 'CHESSUSDT', 'CHILLGUYUSDT', 'CHRUSDT', 'CHZUSDT', 'CKBUSDT', 'COAIUSDT', 'COCOSUSDT', 'COMBOUSDT', 'COMPUSDT', 'COOKIEUSDT', 'COSUSDT', 'COTIUSDT', 'COWUSDT', 'CROSSUSDT', 'CRVUSDT', 'CTKUSDT', 'CTSIUSDT', 'CUDISUSDT', 'CUSDT', 'CVCUSDT', 'CVXUSDT', 'CYBERUSDT', 'DAMUSDT', 'DARUSDT', 'DASHUSDT', 'DEEPUSDT', 'DEFIUSDT', 'DEGENUSDT', 'DEGOUSDT', 'DENTUSDT', 'DEXEUSDT', 'DFUSDT', 'DGBUSDT', 'DIAUSDT', 'DMCUSDT', 'DODOUSDT', 'DODOXUSDT', 'DOGEUSDT', 'DOGSUSDT', 'DOLOUSDT', 'DOODUSDT', 'DOTECOUSDT', 'DOTUSDT', 'DRIFTUSDT', 'DUSDT', 'DUSKUSDT', 'DYDXUSDT', 'DYMUSDT', 'EDENUSDT', 'EDUUSDT', 'EGLDUSDT', 'EIGENUSDT', 'ENAUSDT', 'ENJUSDT', 'ENSUSDT', 'EOSUSDT', 'EPICUSDT', 'EPTUSDT', 'ERAUSDT', 'ESPORTSUSDT', 'ETCUSDT', 'ETHFIUSDT', 'ETHUSDT', 'ETHWUSDT', 'FARTCOINUSDT', 'FETUSDT', 'FFUSDT', 'FHEUSDT', 'FIDAUSDT', 'FILUSDT', 'FIOUSDT', 'FISUSDT', 'FLMUSDT', 'FLOCKUSDT', 'FLOWUSDT', 'FLUIDUSDT', 'FLUXUSDT', 'FOOTBALLUSDT', 'FORMUSDT', 'FORTHUSDT', 'FRONTUSDT', 'FTMUSDT', 'FTTUSDT', 'FUNUSDT', 'FUSDT', 'FXSUSDT', 'GALAUSDT', 'GALUSDT', 'GASUSDT', 'GHSTUSDT', 'GLMRUSDT', 'GLMUSDT', 'GMTUSDT', 'GMXUSDT', 'GOATUSDT', 'GPSUSDT', 'GRASSUSDT', 'GRIFFAINUSDT', 'GRTUSDT', 'GTCUSDT', 'GUNUSDT', 'GUSDT', 'HAEDALUSDT', 'HANAUSDT', 'HBARUSDT', 'HEIUSDT', 'HEMIUSDT', 'HFTUSDT', 'HIFIUSDT', 'HIGHUSDT', 'HIPPOUSDT', 'HIVEUSDT', 'HMSTRUSDT', 'HNTUSDT', 'HOLOUSDT', 'HOMEUSDT', 'HOOKUSDT', 'HOTUSDT', 'HUMAUSDT', 'HUSDT', 'HYPERUSDT', 'HYPEUSDT', 'ICNTUSDT', 'ICPUSDT', 'ICXUSDT', 'IDEXUSDT', 'IDOLUSDT', 'IDUSDT', 'ILVUSDT', 'IMXUSDT', 'INITUSDT', 'INJUSDT', 'INUSDT', 'IOSTUSDT', 'IOTAUSDT', 'IOTXUSDT', 'IOUSDT', 'IPUSDT', 'JASMYUSDT', 'JELLYJELLYUSDT', 'JOEUSDT', 'JSTUSDT', 'JTOUSDT', 'JUPUSDT', 'KAIAUSDT', 'KAITOUSDT', 'KASUSDT', 'KAVAUSDT', 'KDAUSDT', 'KEEPUSDT', 'KERNELUSDT', 'KEYUSDT', 'KLAYUSDT', 'KMNOUSDT', 'KNCUSDT', 'KOMAUSDT', 'KSMUSDT', 'LAUSDT', 'LAYERUSDT', 'LDOUSDT', 'LENDUSDT', 'LEVERUSDT', 'LIGHTUSDT', 'LINAUSDT', 'LINEAUSDT', 'LINKUSDT', 'LISTAUSDT', 'LITUSDT', 'LOKAUSDT', 'LOOMUSDT', 'LPTUSDT', 'LQTYUSDT', 'LRCUSDT', 'LSKUSDT', 'LTCUSDT', 'LUMIAUSDT', 'LUNA2USDT', 'LUNAUSDT', 'MAGICUSDT', 'MANAUSDT', 'MANTAUSDT', 'MASKUSDT', 'MATICUSDT', 'MAVIAUSDT', 'MAVUSDT', 'MBLUSDT', 'MBOXUSDT', 'MDTUSDT', 'MELANIAUSDT', 'MEMEFIUSDT', 'MEMEUSDT', 'MERLUSDT', 'METISUSDT', 'MEUSDT', 'MEWUSDT', 'MILKUSDT', 'MINAUSDT', 'MIRAUSDT', 'MITOUSDT', 'MKRUSDT', 'MLNUSDT', 'MOCAUSDT', 'MOODENGUSDT', 'MORPHOUSDT', 'MOVEUSDT', 'MOVRUSDT', 'MTLUSDT', 'MUBARAKUSDT', 'MUSDT', 'MYROUSDT', 'MYXUSDT', 'NAORISUSDT', 'NEARUSDT', 'NEIROETHUSDT', 'NEIROUSDT', 'NEOUSDT', 'NEWTUSDT', 'NFPUSDT', 'NILUSDT', 'NKNUSDT', 'NMRUSDT', 'NOMUSDT', 'NOTUSDT', 'NTRNUSDT', 'NULSUSDT', 'NUUSDT', 'NXPCUSDT', 'OBOLUSDT', 'OCEANUSDT', 'OGNUSDT', 'OGUSDT', 'OLUSDT', 'OMGUSDT', 'OMNIUSDT', 'OMUSDT', 'ONDOUSDT', 'ONEUSDT', 'ONGUSDT', 'ONTUSDT', 'OPENUSDT', 'OPUSDT', 'ORBSUSDT', 'ORCAUSDT', 'ORDERUSDT', 'ORDIUSDT', 'OXTUSDT', 'PARTIUSDT', 'PAXGUSDT', 'PENDLEUSDT', 'PENGUUSDT', 'PEOPLEUSDT', 'PERPUSDT', 'PHAUSDT', 'PHBUSDT', 'PIPPINUSDT', 'PIXELUSDT', 'PLAYUSDT', 'PLUMEUSDT', 'PNUTUSDT', 'POLUSDT', 'POLYXUSDT', 'PONKEUSDT', 'POPCATUSDT', 'PORT3USDT', 'PORTALUSDT', 'POWRUSDT', 'PROMPTUSDT', 'PROMUSDT', 'PROVEUSDT', 'PTBUSDT', 'PUFFERUSDT', 'PUMPBTCUSDT', 'PUMPUSDT', 'PUNDIXUSDT', 'PYTHUSDT', 'QNTUSDT', 'QTUMUSDT', 'QUICKUSDT', 'QUSDT', 'RADUSDT', 'RAREUSDT', 'RAYSOLUSDT', 'RAYUSDT', 'RDNTUSDT', 'REDUSDT', 'REEFUSDT', 'REIUSDT', 'RENDERUSDT', 'RENUSDT', 'RESOLVUSDT', 'REZUSDT', 'RIFUSDT', 'RLCUSDT', 'RNDRUSDT', 'RONINUSDT', 'ROSEUSDT', 'RPLUSDT', 'RSRUSDT', 'RUNEUSDT', 'RVNUSDT', 'SAFEUSDT', 'SAGAUSDT', 'SAHARAUSDT', 'SANDUSDT', 'SANTOSUSDT', 'SAPIENUSDT', 'SCRTUSDT', 'SCRUSDT', 'SCUSDT', 'SEIUSDT', 'SFPUSDT', 'SHELLUSDT', 'SIGNUSDT', 'SIRENUSDT', 'SKATEUSDT', 'SKLUSDT', 'SKYAIUSDT', 'SKYUSDT', 'SLERFUSDT', 'SLPUSDT', 'SNTUSDT', 'SNXUSDT', 'SOLUSDT', 'SOLVUSDT', 'SOMIUSDT', 'SONICUSDT', 'SOONUSDT', 'SOPHUSDT', 'SPELLUSDT', 'SPKUSDT', 'SPXUSDT', 'SQDUSDT', 'SRMUSDT', 'SSVUSDT', 'STBLUSDT', 'STEEMUSDT', 'STGUSDT', 'STMXUSDT', 'STORJUSDT', 'STOUSDT', 'STPTUSDT', 'STRAXUSDT', 'STRKUSDT', 'STXUSDT', 'SUIUSDT', 'SUNUSDT', 'SUPERUSDT', 'SUSDT', 'SUSHIUSDT', 'SWARMSUSDT', 'SWELLUSDT', 'SXPUSDT', 'SXTUSDT', 'SYNUSDT', 'SYRUPUSDT', 'SYSUSDT', 'TACUSDT', 'TAGUSDT', 'TAIKOUSDT', 'TAKEUSDT', 'TANSSIUSDT', 'TAOUSDT', 'TAUSDT', 'THETAUSDT', 'THEUSDT', 'TIAUSDT', 'TLMUSDT', 'TNSRUSDT', 'TOKENUSDT', 'TOMOUSDT', 'TONUSDT', 'TOSHIUSDT', 'TOWNSUSDT', 'TRADOORUSDT', 'TRBUSDT', 'TREEUSDT', 'TROYUSDT', 'TRUMPUSDT', 'TRUTHUSDT', 'TRUUSDT', 'TRXUSDT', 'TSTUSDT', 'TURBOUSDT', 'TUSDT', 'TUTUSDT', 'TWTUSDT', 'UBUSDT', 'UMAUSDT', 'UNFIUSDT', 'UNIUSDT', 'USDCUSDT', 'USELESSUSDT', 'USTCUSDT', 'USUALUSDT', 'UXLINKUSDT', 'VANAUSDT', 'VANRYUSDT', 'VELODROMEUSDT', 'VELVETUSDT', 'VETUSDT', 'VFYUSDT', 'VICUSDT', 'VIDTUSDT', 'VINEUSDT', 'VIRTUALUSDT', 'VOXELUSDT', 'VTHOUSDT', 'VVVUSDT', 'WALUSDT', 'WAVESUSDT', 'WAXPUSDT', 'WCTUSDT', 'WIFUSDT', 'WLDUSDT', 'WLFIUSDT', 'WOOUSDT', 'WUSDT', 'XAIUSDT', 'XANUSDT', 'XCNUSDT', 'XEMUSDT', 'XLMUSDT', 'XMRUSDT', 'XNYUSDT', 'XPINUSDT', 'XPLUSDT', 'XRPUSDT', 'XTZUSDT', 'XVGUSDT', 'XVSUSDT', 'YALAUSDT', 'YFIIUSDT', 'YFIUSDT', 'YGGUSDT', 'ZECUSDT', 'ZENUSDT', 'ZEREBROUSDT', 'ZETAUSDT', 'ZILUSDT', 'ZKCUSDT', 'ZKJUSDT', 'ZKUSDT', 'ZORAUSDT', 'ZRCUSDT', 'ZROUSDT', 'ZRXUSDT']\n"
     ]
    }
   ],
   "source": [
    "r.read(r.get_data_id(\"ohlc(1h)\"), \"ohlc(1h)\", \"2024-01-01\", \"now\")"
   ]
  },
  {
   "cell_type": "code",
   "execution_count": null,
   "id": "742844ce",
   "metadata": {},
   "outputs": [],
   "source": []
  }
 ],
 "metadata": {
  "kernelspec": {
   "display_name": ".venv",
   "language": "python",
   "name": "python3"
  },
  "language_info": {
   "codemirror_mode": {
    "name": "ipython",
    "version": 3
   },
   "file_extension": ".py",
   "mimetype": "text/x-python",
   "name": "python",
   "nbconvert_exporter": "python",
   "pygments_lexer": "ipython3",
   "version": "3.11.9"
  }
 },
 "nbformat": 4,
 "nbformat_minor": 5
}
