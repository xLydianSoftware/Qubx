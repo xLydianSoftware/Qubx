{
 "cells": [
  {
   "cell_type": "code",
   "execution_count": 1,
   "metadata": {},
   "outputs": [
    {
     "name": "stdout",
     "output_type": "stream",
     "text": [
      "\n",
      "⠀⠀⡰⡖⠒⠒⢒⢦⠀⠀   \n",
      "⠀⢠⠃⠈⢆⣀⣎⣀⣱⡀  \u001b[31mQUBX\u001b[0m | \u001b[36mQuantitative Backtesting Environment\u001b[0m \n",
      "⠀⢳⠒⠒⡞⠚⡄⠀⡰⠁         (c) 2025, ver. \u001b[35m0.6.2\u001b[0m\n",
      "⠀⠀⠱⣜⣀⣀⣈⣦⠃⠀⠀⠀ \n",
      "        \n"
     ]
    },
    {
     "data": {
      "text/html": [
       "<style> .cell-output-ipywidget-background { background-color: transparent !important; } :root { --jp-widgets-color: var(--vscode-editor-foreground); --jp-widgets-font-size: var(--vscode-editor-font-size); } .widget-hprogress, .jupyter-widget-hprogress { height: 16px; align-self: center; kj} table.dataframe, .dataframe td, .dataframe tr { border: 1px solid #55554a85; border-collapse: collapse; color: #859548d9 !important; } .dataframe th { border: 1px solid #55554a85; border-collapse: collapse; background-color: #010101 !important; color: #177 !important; } </style>"
      ],
      "text/plain": [
       "<IPython.core.display.HTML object>"
      ]
     },
     "metadata": {},
     "output_type": "display_data"
    }
   ],
   "source": [
    "import sys, os, re; sys.path = ([\"../src/\", \"../\"] if re.match(r'^(\\w\\:\\\\)|(/)', os.getcwd()) else [])+ sys.path \n",
    "\n",
    "import qubx\n",
    "%qubxd\n",
    "\n",
    "%load_ext autoreload\n",
    "%autoreload 2\n",
    "\n",
    "from qubx.cli.misc import scan_py_classes_in_directory\n",
    "from qubx.cli.release import load_strategy_from_config, release_strategy"
   ]
  },
  {
   "cell_type": "code",
   "execution_count": null,
   "metadata": {},
   "outputs": [],
   "source": [
    "scan_py_classes_in_directory(\"~/projects/xincubator/models/nimble/\")"
   ]
  },
  {
   "cell_type": "code",
   "execution_count": 154,
   "metadata": {},
   "outputs": [],
   "source": [
    "si = load_strategy_from_config(\n",
    "    # '~/projects/xincubator/configs/nimble/nimble-composite-v1.yml',\n",
    "    '~/projects/xincubator/configs/momentix/momentix-v1.yml',\n",
    "    '~/projects/xincubator/models/'\n",
    ")"
   ]
  },
  {
   "cell_type": "code",
   "execution_count": 155,
   "metadata": {},
   "outputs": [
    {
     "data": {
      "text/plain": [
       "StrategyInfo(name='MomentixV1', classes=[PyClassInfo(name='MomentixV1', path='/home/quant0/projects/xincubator/models/portfolio/rls/momentix.py', docstring='Momentix V1 strategy: finds clusters of assets and trade winning cluster', parameters={'trigger_at': '6 0 * * *', 'fit_at': '5 0 * */1 L1', 'debug_data': False, 'tolerance': 10, 'top_capitalization_percentile': 10, 'capital_invested': 100000.0, 'weight_unit': None, 'n_top': 1, 'short_leg': True, 'cluster_norm_args': None, 'cluster_norm_method': 'minmax', 'clustering_method': 'h0', 'cluster_data_timeframe': '1d', 'cluster_fit_interval': '12w', 'timeframe': '1d'}, is_strategy=True)], config=StrategyConfig(strategy='xincubator.models.portfolio.rls.momentix.MomentixV1', parameters={'cluster_fit_interval': '8w', 'cluster_data_timeframe': '1d', 'clustering_method': 'k1', 'cluster_norm_method': 'roll_zscore', 'cluster_norm_args': [5], 'ranking_period_bars': 12, 'ranking_data_timeframe': '1h', 'ranker_min_passing_returns_threshold': -1, 'top_capitalization_percentile': 25, 'min_assets_per_cluster': 3, 'max_assets_per_cluster': 10, 'hierarchical_threshold': 0.75, 'short_leg': False, 'n_top': 1, 'tolerance': 10, 'exchange': 'BINANCE.UM', 'debug_data': True, 'capital_invested': 100000.0, 'timeframe': '1h', 'fit_at': '0 0 * */1 L1', 'trigger_at': '* * * * *'}, exchanges={'BINANCE.UM': ExchangeConfig(connector='ccxt', universe=['BTCUSDT'])}, logging=LoggingConfig(logger='CsvFileLogsWriter', position_interval='10Sec', portfolio_interval='5Min', heartbeat_interval='1m'), aux=ReaderConfig(reader='mqdb::nebula', args={}), exporters=None, restorer=None, warmup=None))"
      ]
     },
     "execution_count": 155,
     "metadata": {},
     "output_type": "execute_result"
    }
   ],
   "source": [
    "si"
   ]
  },
  {
   "cell_type": "code",
   "execution_count": 171,
   "metadata": {},
   "outputs": [
    {
     "name": "stdout",
     "output_type": "stream",
     "text": [
      "\u001b[32m2025-03-12 12:37:14.724\u001b[0m [ \u001b[1mℹ️\u001b[0m ] \u001b[36m(release)\u001b[0m \u001b[1mLoading strategy from config file: ~/projects/xincubator/configs/momentix/momentix-v1.yml\u001b[0m\n",
      "\u001b[32m2025-03-12 12:37:16.478\u001b[0m [ \u001b[1mℹ️\u001b[0m ] \u001b[36m(release)\u001b[0m \u001b[1m- Found 1 modified files in the repo:\u001b[0m\n",
      "\u001b[32m2025-03-12 12:37:16.479\u001b[0m [ \u001b[1mℹ️\u001b[0m ] \u001b[36m(release)\u001b[0m \u001b[1m\t\u001b[31mresearch/misc/1.0 Deploy Strategy.ipynb\u001b[0m\u001b[1m\u001b[0m\n",
      "\u001b[32m2025-03-12 12:37:16.491\u001b[0m [ \u001b[1mℹ️\u001b[0m ] \u001b[36m(release)\u001b[0m \u001b[1m\u001b[33mCommiting changes is skipped due to --skip-commit option\u001b[0m\u001b[1m\u001b[0m\n",
      "\u001b[32m2025-03-12 12:37:16.492\u001b[0m [ \u001b[1mℹ️\u001b[0m ] \u001b[36m(release)\u001b[0m \u001b[1m\u001b[33mCreating git tag is skipped due to --skip-tag option\u001b[0m\u001b[1m\u001b[0m\n",
      "\u001b[32m2025-03-12 12:37:16.492\u001b[0m [ \u001b[1mℹ️\u001b[0m ] \u001b[36m(release)\u001b[0m \u001b[1mCreating release pack for R_MomentixV1_20250312123716 ...\u001b[0m\n",
      "\u001b[32m2025-03-12 12:37:16.560\u001b[0m [ \u001b[33m\u001b[1m⚠️\u001b[0m ] \u001b[36m(release)\u001b[0m \u001b[36mqubx.cli.release\u001b[0m:\u001b[36m_generate_poetry_lock\u001b[0m:\u001b[36m592\u001b[0m - \u001b[33m\u001b[1mFailed to generate poetry.lock: [Errno 2] No such file or directory: 'poetry'\u001b[0m\n",
      "\u001b[32m2025-03-12 12:37:16.560\u001b[0m [ \u001b[31m\u001b[1m❌\u001b[0m ] \u001b[36m(release)\u001b[0m \u001b[31m\u001b[1m\u001b[31mError releasing strategy: [Errno 2] No such file or directory: 'poetry'\u001b[0m\u001b[31m\u001b[1m\u001b[0m\n"
     ]
    }
   ],
   "source": [
    "release_strategy(\n",
    "    # '~/projects/xincubator/',  'MomentixV1', None, None, False, '.release/'\n",
    "    '~/projects/xincubator/',  '~/projects/xincubator/configs/momentix/momentix-v1.yml', None, None, False, '.release/'\n",
    ")"
   ]
  },
  {
   "cell_type": "code",
   "execution_count": 34,
   "metadata": {},
   "outputs": [
    {
     "name": "stdout",
     "output_type": "stream",
     "text": [
      "\u001b[32m2025-03-12 14:13:07.922\u001b[0m [ \u001b[1mℹ️\u001b[0m ] \u001b[36m(release)\u001b[0m \u001b[1mLoading strategy from config file: ~/projects/xincubator/configs/nimble/nimble-composite-v1.yml\u001b[0m\n",
      "\u001b[32m2025-03-12 14:13:09.783\u001b[0m [ \u001b[1mℹ️\u001b[0m ] \u001b[36m(release)\u001b[0m \u001b[1m- Found 1 modified files in the repo:\u001b[0m\n",
      "\u001b[32m2025-03-12 14:13:09.784\u001b[0m [ \u001b[1mℹ️\u001b[0m ] \u001b[36m(release)\u001b[0m \u001b[1m\t\u001b[31mresearch/misc/1.0 Deploy Strategy.ipynb\u001b[0m\u001b[1m\u001b[0m\n",
      "\u001b[32m2025-03-12 14:13:09.796\u001b[0m [ \u001b[1mℹ️\u001b[0m ] \u001b[36m(release)\u001b[0m \u001b[1m\u001b[33mCommiting changes is skipped due to --skip-commit option\u001b[0m\u001b[1m\u001b[0m\n",
      "\u001b[32m2025-03-12 14:13:09.796\u001b[0m [ \u001b[1mℹ️\u001b[0m ] \u001b[36m(release)\u001b[0m \u001b[1m\u001b[33mCreating git tag is skipped due to --skip-tag option\u001b[0m\u001b[1m\u001b[0m\n",
      "\u001b[32m2025-03-12 14:13:09.797\u001b[0m [ \u001b[1mℹ️\u001b[0m ] \u001b[36m(release)\u001b[0m \u001b[1mCreating release pack for R_NimbleBasicGenerator_Jakorapi_20250312141309 ...\u001b[0m\n",
      "\u001b[32m2025-03-12 14:13:09.908\u001b[0m [ \u001b[33m\u001b[1m⚠️\u001b[0m ] \u001b[36m(release)\u001b[0m \u001b[36mqubx.cli.release\u001b[0m:\u001b[36m_generate_poetry_lock\u001b[0m:\u001b[36m612\u001b[0m - \u001b[33m\u001b[1mFailed to generate poetry.lock: [Errno 2] No such file or directory: 'poetry'\u001b[0m\n",
      "\u001b[32m2025-03-12 14:13:09.908\u001b[0m [ \u001b[31m\u001b[1m❌\u001b[0m ] \u001b[36m(release)\u001b[0m \u001b[31m\u001b[1m\u001b[31mError releasing strategy: [Errno 2] No such file or directory: 'poetry'\u001b[0m\u001b[31m\u001b[1m\u001b[0m\n"
     ]
    }
   ],
   "source": [
    "release_strategy(\n",
    "    '~/projects/xincubator/',  \n",
    "    '~/projects/xincubator/configs/nimble/nimble-composite-v1.yml', \n",
    "    None, None, False, '.release/'\n",
    ")"
   ]
  },
  {
   "cell_type": "code",
   "execution_count": 27,
   "metadata": {},
   "outputs": [
    {
     "ename": "ImportError",
     "evalue": "cannot import name 'version' from 'quantkit.utils' (/home/quant0/devs/quantkit/src/quantkit/utils/__init__.py)",
     "output_type": "error",
     "traceback": [
      "\u001b[0;31m---------------------------------------------------------------------------\u001b[0m",
      "\u001b[0;31mImportError\u001b[0m                               Traceback (most recent call last)",
      "Cell \u001b[0;32mIn[27], line 2\u001b[0m\n\u001b[1;32m      1\u001b[0m \u001b[38;5;28;01mfrom\u001b[39;00m\u001b[38;5;250m \u001b[39m\u001b[38;5;21;01mqubx\u001b[39;00m\u001b[38;5;21;01m.\u001b[39;00m\u001b[38;5;21;01mutils\u001b[39;00m\u001b[38;5;21;01m.\u001b[39;00m\u001b[38;5;21;01mmisc\u001b[39;00m\u001b[38;5;250m \u001b[39m\u001b[38;5;28;01mimport\u001b[39;00m version\n\u001b[0;32m----> 2\u001b[0m \u001b[38;5;28;01mfrom\u001b[39;00m\u001b[38;5;250m \u001b[39m\u001b[38;5;21;01mquantkit\u001b[39;00m\u001b[38;5;21;01m.\u001b[39;00m\u001b[38;5;21;01mutils\u001b[39;00m\u001b[38;5;250m \u001b[39m\u001b[38;5;28;01mimport\u001b[39;00m version\n\u001b[1;32m      3\u001b[0m version()\n",
      "\u001b[0;31mImportError\u001b[0m: cannot import name 'version' from 'quantkit.utils' (/home/quant0/devs/quantkit/src/quantkit/utils/__init__.py)"
     ]
    }
   ],
   "source": [
    "from qubx.utils.misc import version\n",
    "# from quantkit.utils. import version\n",
    "version()"
   ]
  },
  {
   "cell_type": "code",
   "execution_count": 30,
   "metadata": {},
   "outputs": [
    {
     "data": {
      "text/plain": [
       "'0.6.2'"
      ]
     },
     "execution_count": 30,
     "metadata": {},
     "output_type": "execute_result"
    }
   ],
   "source": [
    "# import pkg_resources\n",
    "from importlib.metadata import version\n",
    "version(\"quantkit\")\n",
    "version(\"qubx\")"
   ]
  },
  {
   "cell_type": "code",
   "execution_count": 35,
   "metadata": {},
   "outputs": [],
   "source": [
    "import os"
   ]
  },
  {
   "cell_type": "code",
   "execution_count": 42,
   "metadata": {},
   "outputs": [
    {
     "data": {
      "text/plain": [
       "('/home/quant0/projects', 'xincubator')"
      ]
     },
     "execution_count": 42,
     "metadata": {},
     "output_type": "execute_result"
    }
   ],
   "source": [
    "os.path.split(os.getcwd())"
   ]
  },
  {
   "cell_type": "code",
   "execution_count": null,
   "metadata": {},
   "outputs": [],
   "source": [
    "# os.chdir(\"projects/xincubator/\")"
   ]
  },
  {
   "cell_type": "code",
   "execution_count": 44,
   "metadata": {},
   "outputs": [
    {
     "data": {
      "text/plain": [
       "'xincubator'"
      ]
     },
     "execution_count": 44,
     "metadata": {},
     "output_type": "execute_result"
    }
   ],
   "source": [
    "os.path.basename(os.getcwd())"
   ]
  }
 ],
 "metadata": {
  "kernelspec": {
   "display_name": "QubxDev",
   "language": "python",
   "name": "qubxdev"
  },
  "language_info": {
   "codemirror_mode": {
    "name": "ipython",
    "version": 3
   },
   "file_extension": ".py",
   "mimetype": "text/x-python",
   "name": "python",
   "nbconvert_exporter": "python",
   "pygments_lexer": "ipython3",
   "version": "3.11.9"
  }
 },
 "nbformat": 4,
 "nbformat_minor": 2
}
