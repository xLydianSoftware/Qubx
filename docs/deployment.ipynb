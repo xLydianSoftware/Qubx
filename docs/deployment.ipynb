{
 "cells": [
  {
   "cell_type": "markdown",
   "metadata": {},
   "source": [
    "# Strategy deployment\n",
    "\n",
    "The strategy deployment cycle is explained based on an example of a simple\n",
    "macd crossover strategy located at `tests/strategies/macd_crossover`."
   ]
  },
  {
   "cell_type": "markdown",
   "metadata": {},
   "source": [
    "\n",
    "## 1. Simulation\n",
    "\n",
    "First let's make sure that the simulation works as expected."
   ]
  },
  {
   "cell_type": "code",
   "execution_count": 1,
   "metadata": {},
   "outputs": [
    {
     "name": "stdout",
     "output_type": "stream",
     "text": [
      "\n",
      "⠀⠀⡰⡖⠒⠒⢒⢦⠀⠀   \n",
      "⠀⢠⠃⠈⢆⣀⣎⣀⣱⡀  \u001b[31mQUBX\u001b[0m | \u001b[36mQuantitative Backtesting Environment\u001b[0m \n",
      "⠀⢳⠒⠒⡞⠚⡄⠀⡰⠁         (c) 2025, ver. \u001b[35m0.5.8\u001b[0m\n",
      "⠀⠀⠱⣜⣀⣀⣈⣦⠃⠀⠀⠀ \n",
      "        \n"
     ]
    },
    {
     "data": {
      "text/html": [
       "<style> .cell-output-ipywidget-background { background-color: transparent !important; } :root { --jp-widgets-color: var(--vscode-editor-foreground); --jp-widgets-font-size: var(--vscode-editor-font-size); } .widget-hprogress, .jupyter-widget-hprogress { height: 16px; align-self: center; kj} table.dataframe, .dataframe td, .dataframe tr { border: 1px solid #55554a85; border-collapse: collapse; color: #859548d9 !important; } .dataframe th { border: 1px solid #55554a85; border-collapse: collapse; background-color: #010101 !important; color: #177 !important; } </style>"
      ],
      "text/plain": [
       "<IPython.core.display.HTML object>"
      ]
     },
     "metadata": {},
     "output_type": "display_data"
    }
   ],
   "source": [
    "import qubx\n",
    "\n",
    "%qubxd\n",
    "\n",
    "import pandas as pd\n",
    "from qubx.utils import this_project_root, add_project_to_system_path\n",
    "from qubx.data.helpers import InMemoryCachedReader\n",
    "from qubx.backtester.simulator import simulate\n",
    "from qubx.data import loader\n",
    "from qubx.core.metrics import tearsheet, chart_signals"
   ]
  },
  {
   "cell_type": "markdown",
   "metadata": {},
   "source": [
    "Adding folder with test strategies to python path to be able to call the imports."
   ]
  },
  {
   "cell_type": "code",
   "execution_count": 2,
   "metadata": {},
   "outputs": [],
   "source": [
    "PROJECT_ROOT = this_project_root()\n",
    "assert PROJECT_ROOT is not None\n",
    "add_project_to_system_path(str(PROJECT_ROOT / \"tests/strategies\"))"
   ]
  },
  {
   "cell_type": "code",
   "execution_count": 3,
   "metadata": {},
   "outputs": [
    {
     "name": "stdout",
     "output_type": "stream",
     "text": [
      "\u001b[96m2023-06-01 00:00:00.000\u001b[0m [\u001b[1mℹ️\u001b[0m] \u001b[1mSimulatedDataProvider.binance.um is initialized\u001b[0m\n",
      "\u001b[96m2023-06-01 00:00:00.000\u001b[0m [\u001b[1mℹ️\u001b[0m] \u001b[1mSimulatedDataProvider ::: Simulation started at 2023-06-01 00:00:00 :::\u001b[0m\n"
     ]
    },
    {
     "data": {
      "application/vnd.jupyter.widget-view+json": {
       "model_id": "9183f895d26c40a8b24657c2e178f59b",
       "version_major": 2,
       "version_minor": 0
      },
      "text/plain": [
       "Simulating:   0%|          | 0/100 [00:00<?, ?%/s]"
      ]
     },
     "metadata": {},
     "output_type": "display_data"
    },
    {
     "name": "stdout",
     "output_type": "stream",
     "text": [
      "\u001b[96m2023-06-02 15:00:00.000\u001b[0m [\u001b[1mℹ️\u001b[0m] \u001b[1m\u001b[31mSELL signal for BTCUSDT at 26952.0\u001b[0m\u001b[1m\u001b[0m\n",
      "\u001b[96m2023-06-02 19:00:00.000\u001b[0m [\u001b[1mℹ️\u001b[0m] \u001b[1m\u001b[32mBUY signal for BTCUSDT at 27183.2\u001b[0m\u001b[1m\u001b[0m\n",
      "\u001b[96m2023-06-03 03:00:00.000\u001b[0m [\u001b[1mℹ️\u001b[0m] \u001b[1m\u001b[31mSELL signal for BTCUSDT at 27138.5\u001b[0m\u001b[1m\u001b[0m\n",
      "\u001b[96m2023-06-03 16:00:00.000\u001b[0m [\u001b[1mℹ️\u001b[0m] \u001b[1m\u001b[32mBUY signal for BTCUSDT at 27292.7\u001b[0m\u001b[1m\u001b[0m\n",
      "\u001b[96m2023-06-03 18:00:00.000\u001b[0m [\u001b[1mℹ️\u001b[0m] \u001b[1m\u001b[31mSELL signal for BTCUSDT at 27147.6\u001b[0m\u001b[1m\u001b[0m\n",
      "\u001b[96m2023-06-04 08:00:00.000\u001b[0m [\u001b[1mℹ️\u001b[0m] \u001b[1m\u001b[32mBUY signal for BTCUSDT at 27141.0\u001b[0m\u001b[1m\u001b[0m\n",
      "\u001b[96m2023-06-05 00:00:00.000\u001b[0m [\u001b[1mℹ️\u001b[0m] \u001b[1m\u001b[31mSELL signal for BTCUSDT at 27102.4\u001b[0m\u001b[1m\u001b[0m\n",
      "\u001b[96m2023-06-06 04:00:00.000\u001b[0m [\u001b[1mℹ️\u001b[0m] \u001b[1m\u001b[32mBUY signal for BTCUSDT at 25719.8\u001b[0m\u001b[1m\u001b[0m\n",
      "\u001b[96m2023-06-07 07:00:00.000\u001b[0m [\u001b[1mℹ️\u001b[0m] \u001b[1m\u001b[31mSELL signal for BTCUSDT at 26819.5\u001b[0m\u001b[1m\u001b[0m\n",
      "\u001b[96m2023-06-08 08:00:00.000\u001b[0m [\u001b[1mℹ️\u001b[0m] \u001b[1m\u001b[32mBUY signal for BTCUSDT at 26431.5\u001b[0m\u001b[1m\u001b[0m\n",
      "\u001b[96m2023-06-09 01:00:00.000\u001b[0m [\u001b[1mℹ️\u001b[0m] \u001b[1m\u001b[31mSELL signal for BTCUSDT at 26445.8\u001b[0m\u001b[1m\u001b[0m\n"
     ]
    },
    {
     "name": "stdout",
     "output_type": "stream",
     "text": [
      "\u001b[96m2023-06-09 09:00:00.000\u001b[0m [\u001b[1mℹ️\u001b[0m] \u001b[1m\u001b[32mBUY signal for BTCUSDT at 26632.5\u001b[0m\u001b[1m\u001b[0m\n",
      "\u001b[96m2023-06-09 16:00:00.000\u001b[0m [\u001b[1mℹ️\u001b[0m] \u001b[1m\u001b[31mSELL signal for BTCUSDT at 26465.1\u001b[0m\u001b[1m\u001b[0m\n",
      "\u001b[96m2023-06-10 00:59:55.000\u001b[0m [\u001b[1mℹ️\u001b[0m] \u001b[1mSimulatedDataProvider ::: Simulation finished at 2023-06-10 00:00:00 :::\u001b[0m\n"
     ]
    }
   ],
   "source": [
    "from macd_crossover.models.macd_crossover import MacdCrossoverStrategy\n",
    "\n",
    "ld: InMemoryCachedReader = loader(  # type: ignore\n",
    "    \"BINANCE.UM\", \"1h\", source=f\"csv::{PROJECT_ROOT}/tests/data/csv_1h/\", n_jobs=1\n",
    ")\n",
    "\n",
    "test0 = simulate(\n",
    "    strategies=(stg:=MacdCrossoverStrategy()),\n",
    "    data=ld,\n",
    "    capital=100_000,\n",
    "    instruments=[\"BINANCE.UM:BTCUSDT\"],\n",
    "    commissions=\"vip0_usdt\",\n",
    "    start=\"2023-06-01\",\n",
    "    stop=\"2023-06-10\",\n",
    "    debug=\"INFO\",\n",
    ")"
   ]
  },
  {
   "cell_type": "code",
   "execution_count": 4,
   "metadata": {},
   "outputs": [
    {
     "data": {
      "text/html": [
       "<div>\n",
       "<style scoped>\n",
       "    .dataframe tbody tr th:only-of-type {\n",
       "        vertical-align: middle;\n",
       "    }\n",
       "\n",
       "    .dataframe tbody tr th {\n",
       "        vertical-align: top;\n",
       "    }\n",
       "\n",
       "    .dataframe thead th {\n",
       "        text-align: right;\n",
       "    }\n",
       "</style>\n",
       "<table border=\"1\" class=\"dataframe\">\n",
       "  <thead>\n",
       "    <tr style=\"text-align: right;\">\n",
       "      <th></th>\n",
       "      <th>Gain</th>\n",
       "      <th>Cagr</th>\n",
       "      <th>Sharpe</th>\n",
       "      <th>Qr</th>\n",
       "      <th>Max dd pct</th>\n",
       "      <th>Mdd usd</th>\n",
       "      <th>Sortino</th>\n",
       "      <th>Calmar</th>\n",
       "      <th>Tail ratio</th>\n",
       "      <th>Stability</th>\n",
       "      <th>Var</th>\n",
       "      <th>Avg return</th>\n",
       "      <th>Fees</th>\n",
       "      <th>Execs</th>\n",
       "    </tr>\n",
       "  </thead>\n",
       "  <tbody>\n",
       "    <tr>\n",
       "      <th></th>\n",
       "      <td>6093.911</td>\n",
       "      <td>7.664</td>\n",
       "      <td>4.268</td>\n",
       "      <td>1.58</td>\n",
       "      <td>3.136</td>\n",
       "      <td>3424.373</td>\n",
       "      <td>18.49</td>\n",
       "      <td>252.275</td>\n",
       "      <td>4.011</td>\n",
       "      <td>0.609</td>\n",
       "      <td>3756.992</td>\n",
       "      <td>0.628</td>\n",
       "      <td>1271.419</td>\n",
       "      <td>13.0</td>\n",
       "    </tr>\n",
       "  </tbody>\n",
       "</table>\n",
       "</div>"
      ],
      "text/plain": [
       "      Gain   Cagr  Sharpe    Qr  Max dd pct   Mdd usd  Sortino   Calmar  \\\n",
       "  6093.911  7.664   4.268  1.58       3.136  3424.373    18.49  252.275   \n",
       "\n",
       "  Tail ratio  Stability       Var  Avg return      Fees  Execs  \n",
       "       4.011      0.609  3756.992       0.628  1271.419   13.0  "
      ]
     },
     "execution_count": 4,
     "metadata": {},
     "output_type": "execute_result"
    },
    {
     "data": {
      "image/png": "[encoded data removed]",
      "text/plain": [
       "<Figure size 960x400 with 3 Axes>"
      ]
     },
     "metadata": {},
     "output_type": "display_data"
    }
   ],
   "source": [
    "tearsheet(test0, plot_leverage=True)"
   ]
  },
  {
   "cell_type": "markdown",
   "metadata": {},
   "source": [
    "## 2. Release"
   ]
  },
  {
   "cell_type": "markdown",
   "metadata": {},
   "source": [
    "First check if the strategy can be found by the `qubx` CLI."
   ]
  },
  {
   "cell_type": "code",
   "execution_count": 5,
   "metadata": {},
   "outputs": [
    {
     "name": "stdout",
     "output_type": "stream",
     "text": [
      " - \u001b[35m/home/yuriy/devs/Qubx/tests/strategies/macd_crossover/models/macd_crossover.py\u001b[0m -\n",
      "\t\u001b[31m.--(\u001b[0m \u001b[37mMacdCrossoverStrategy\u001b[0m : \u001b[32mMACD Crossover Strategy.\u001b[0m \n",
      "\t\u001b[31m:\u001b[0m  \u001b[36msignal_period  \u001b[0m: \u001b[33m9\u001b[0m\n",
      "\t\u001b[31m:\u001b[0m  \u001b[36mslow_period    \u001b[0m: \u001b[33m26\u001b[0m\n",
      "\t\u001b[31m:\u001b[0m  \u001b[36mfast_period    \u001b[0m: \u001b[33m12\u001b[0m\n",
      "\t\u001b[31m:\u001b[0m  \u001b[36mleverage       \u001b[0m: \u001b[33m1.0\u001b[0m\n",
      "\t\u001b[31m:\u001b[0m  \u001b[36mtimeframe      \u001b[0m: \u001b[33m1h\u001b[0m\n",
      "\n",
      "\n"
     ]
    }
   ],
   "source": [
    "! poetry run qubx ls ../tests/strategies/macd_crossover"
   ]
  },
  {
   "cell_type": "markdown",
   "metadata": {},
   "source": [
    "We can package the strategy and all of its dependencies via `qubx release`. You can check the available options like this:"
   ]
  },
  {
   "cell_type": "code",
   "execution_count": 6,
   "metadata": {},
   "outputs": [
    {
     "name": "stdout",
     "output_type": "stream",
     "text": [
      "Usage: qubx release [OPTIONS] [DIRECTORY]\n",
      "\n",
      "  Releases the strategy to a zip file.\n",
      "\n",
      "  The strategy can be specified in two ways: 1. As a strategy name (class\n",
      "  name) - strategies are scanned in the given directory 2. As a path to a\n",
      "  config YAML file containing the strategy configuration in StrategyConfig\n",
      "  format\n",
      "\n",
      "  If a strategy name is provided, a default configuration will be generated\n",
      "  with: - The strategy parameters from the strategy class - Default exchange,\n",
      "  connector, and instruments from the command options - Standard logging\n",
      "  configuration\n",
      "\n",
      "  If a config file is provided, it must follow the StrategyConfig structure\n",
      "  with: - strategy: The strategy name or path - parameters: Dictionary of\n",
      "  strategy parameters - exchanges: Dictionary of exchange configurations -\n",
      "  aux: Auxiliary configuration - logging: Logging configuration\n",
      "\n",
      "  All of the dependencies are included in the zip file.\n",
      "\n",
      "Options:\n",
      "  -s, --strategy TEXT         Strategy name to release (should match the\n",
      "                              strategy class name) or path to a config YAML\n",
      "                              file  [required]\n",
      "  -o, --output-dir TEXT       Output directory to put zip file.  [default:\n",
      "                              releases]\n",
      "  -t, --tag TEXT              Additional tag for this release (e.g. 'v1.0.0')\n",
      "  -m, --message TEXT          Release message (added to the info yaml file).\n",
      "  -c, --commit                Commit changes and create tag in repo (default:\n",
      "                              False)\n",
      "  --default-exchange TEXT     Default exchange to use in the generated config.\n",
      "                              [default: BINANCE.UM]\n",
      "  --default-connector TEXT    Default connector to use in the generated\n",
      "                              config.  [default: ccxt]\n",
      "  --default-instruments TEXT  Default instruments to use in the generated\n",
      "                              config (comma-separated).  [default: BTCUSDT]\n",
      "  --help                      Show this message and exit.\n"
     ]
    }
   ],
   "source": [
    "! poetry run qubx release --help"
   ]
  },
  {
   "cell_type": "code",
   "execution_count": 11,
   "metadata": {},
   "outputs": [
    {
     "name": "stdout",
     "output_type": "stream",
     "text": [
      "\u001b[32m2025-02-26 14:27:25.461\u001b[0m [ \u001b[1mℹ️\u001b[0m ] \u001b[36m(release)\u001b[0m \u001b[1mFinding strategy by name: MacdCrossoverStrategy\u001b[0m\n",
      "\u001b[32m2025-02-26 14:27:25.479\u001b[0m [ \u001b[1mℹ️\u001b[0m ] \u001b[36m(release)\u001b[0m \u001b[1m - Modified files -\u001b[0m\n",
      "\u001b[32m2025-02-26 14:27:25.488\u001b[0m [ \u001b[33m\u001b[1m⚠️\u001b[0m ] \u001b[36m(release)\u001b[0m \u001b[36mqubx.cli.release\u001b[0m:\u001b[36mprocess_git_repo\u001b[0m:\u001b[36m687\u001b[0m - \u001b[33m\u001b[1m\u001b[31m >> Creating git tag is skipped due to --skip-tag option\u001b[0m\u001b[33m\u001b[1m\u001b[0m\n",
      "\u001b[32m2025-02-26 14:27:25.488\u001b[0m [ \u001b[1mℹ️\u001b[0m ] \u001b[36m(release)\u001b[0m \u001b[1mCreating release pack for R_MacdCrossoverStrategy_20250226142725 ...\u001b[0m\n",
      "\u001b[32m2025-02-26 14:27:26.303\u001b[0m [ \u001b[1mℹ️\u001b[0m ] \u001b[36m(release)\u001b[0m \u001b[1mGenerating poetry.lock file without creating virtual environment...\u001b[0m\n",
      "\u001b[32m2025-02-26 14:27:31.766\u001b[0m [ \u001b[1mℹ️\u001b[0m ] \u001b[36m(release)\u001b[0m \u001b[1mCreated release pack: ../releases/R_MacdCrossoverStrategy_20250226142725.zip\u001b[0m\n"
     ]
    }
   ],
   "source": [
    "! poetry run qubx release \\\n",
    "    -s MacdCrossoverStrategy \\\n",
    "    -o ../releases \\\n",
    "    -m \"Test release\" \\\n",
    "    ../tests/strategies/macd_crossover"
   ]
  },
  {
   "cell_type": "code",
   "execution_count": 2,
   "metadata": {},
   "outputs": [
    {
     "name": "stdout",
     "output_type": "stream",
     "text": [
      "\u001b[32m2025-02-26 14:32:16.284\u001b[0m [ \u001b[33m\u001b[1m⚠️\u001b[0m ] \u001b[36m(deploy)\u001b[0m \u001b[36mqubx.cli.deploy\u001b[0m:\u001b[36mprepare_output_directory\u001b[0m:\u001b[36m66\u001b[0m - \u001b[33m\u001b[1mRemoving existing directory /home/yuriy/devs/Qubx/releases/R_MacdCrossoverStrategy_20250226142725\u001b[0m\n",
      "\u001b[32m2025-02-26 14:32:17.290\u001b[0m [ \u001b[1mℹ️\u001b[0m ] \u001b[36m(deploy)\u001b[0m \u001b[1mUnpacking /home/yuriy/devs/Qubx/releases/R_MacdCrossoverStrategy_20250226142725.zip to /home/yuriy/devs/Qubx/releases/R_MacdCrossoverStrategy_20250226142725\u001b[0m\n",
      "\u001b[32m2025-02-26 14:32:17.294\u001b[0m [ \u001b[1mℹ️\u001b[0m ] \u001b[36m(deploy)\u001b[0m \u001b[1mCreating Poetry virtual environment\u001b[0m\n",
      "\u001b[32m2025-02-26 14:32:17.295\u001b[0m [ \u001b[1mℹ️\u001b[0m ] \u001b[36m(deploy)\u001b[0m \u001b[1mInstalling dependencies\u001b[0m\n",
      "\u001b[32m2025-02-26 14:32:33.052\u001b[0m [ \u001b[1mℹ️\u001b[0m ] \u001b[36m(deploy)\u001b[0m \u001b[1mStrategy deployed successfully to /home/yuriy/devs/Qubx/releases/R_MacdCrossoverStrategy_20250226142725\u001b[0m\n",
      "\u001b[32m2025-02-26 14:32:33.052\u001b[0m [ \u001b[1mℹ️\u001b[0m ] \u001b[36m(deploy)\u001b[0m \u001b[1mTo run the strategy (paper mode): \u001b[36mcd /home/yuriy/devs/Qubx/releases/R_MacdCrossoverStrategy_20250226142725 && poetry run qubx run config.yml --paper\u001b[0m\u001b[1m\u001b[0m\n"
     ]
    }
   ],
   "source": [
    "! poetry run qubx deploy --force ../releases/R_MacdCrossoverStrategy_20250226142725.zip"
   ]
  },
  {
   "cell_type": "code",
   "execution_count": 4,
   "metadata": {},
   "outputs": [
    {
     "name": "stdout",
     "output_type": "stream",
     "text": [
      "\n",
      "⠀⠀⡰⡖⠒⠒⢒⢦⠀⠀   \n",
      "⠀⢠⠃⠈⢆⣀⣎⣀⣱⡀  \u001b[31mQUBX\u001b[0m | \u001b[36mQuantitative Backtesting Environment\u001b[0m \n",
      "⠀⢳⠒⠒⡞⠚⡄⠀⡰⠁         (c) 2025, ver. \u001b[35m0.5.8\u001b[0m\n",
      "⠀⠀⠱⣜⣀⣀⣈⣦⠃⠀⠀⠀ \n",
      "        \n",
      "^C\n"
     ]
    }
   ],
   "source": [
    "! cd ../releases/R_MacdCrossoverStrategy_20250226142725 && poetry run qubx run config.yml --paper"
   ]
  },
  {
   "cell_type": "code",
   "execution_count": null,
   "metadata": {},
   "outputs": [],
   "source": []
  }
 ],
 "metadata": {
  "kernelspec": {
   "display_name": "qubx",
   "language": "python",
   "name": "qubx"
  },
  "language_info": {
   "codemirror_mode": {
    "name": "ipython",
    "version": 3
   },
   "file_extension": ".py",
   "mimetype": "text/x-python",
   "name": "python",
   "nbconvert_exporter": "python",
   "pygments_lexer": "ipython3",
   "version": "3.12.7"
  }
 },
 "nbformat": 4,
 "nbformat_minor": 2
}
